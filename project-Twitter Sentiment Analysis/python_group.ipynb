{
 "cells": [
  {
   "cell_type": "code",
   "execution_count": 15,
   "id": "dd3bee29",
   "metadata": {},
   "outputs": [
    {
     "name": "stdout",
     "output_type": "stream",
     "text": [
      "Requirement already satisfied: tweepy in /Users/yangning/opt/anaconda3/lib/python3.8/site-packages (4.8.0)\n",
      "Requirement already satisfied: requests<3,>=2.27.0 in /Users/yangning/opt/anaconda3/lib/python3.8/site-packages (from tweepy) (2.27.1)\n",
      "Requirement already satisfied: requests-oauthlib<2,>=1.2.0 in /Users/yangning/opt/anaconda3/lib/python3.8/site-packages (from tweepy) (1.3.1)\n",
      "Requirement already satisfied: oauthlib<4,>=3.2.0 in /Users/yangning/opt/anaconda3/lib/python3.8/site-packages (from tweepy) (3.2.0)\n",
      "Requirement already satisfied: urllib3<1.27,>=1.21.1 in /Users/yangning/opt/anaconda3/lib/python3.8/site-packages (from requests<3,>=2.27.0->tweepy) (1.26.4)\n",
      "Requirement already satisfied: idna<4,>=2.5 in /Users/yangning/opt/anaconda3/lib/python3.8/site-packages (from requests<3,>=2.27.0->tweepy) (2.10)\n",
      "Requirement already satisfied: charset-normalizer~=2.0.0 in /Users/yangning/opt/anaconda3/lib/python3.8/site-packages (from requests<3,>=2.27.0->tweepy) (2.0.12)\n",
      "Requirement already satisfied: certifi>=2017.4.17 in /Users/yangning/opt/anaconda3/lib/python3.8/site-packages (from requests<3,>=2.27.0->tweepy) (2021.10.8)\n",
      "Note: you may need to restart the kernel to use updated packages.\n"
     ]
    }
   ],
   "source": [
    "pip install tweepy"
   ]
  },
  {
   "cell_type": "code",
   "execution_count": 16,
   "id": "90a8aad7",
   "metadata": {},
   "outputs": [],
   "source": [
    "import tweepy\n",
    "consumer_key = \"QEol1Q74mM83pvTUU0T3y7Jz2\"\n",
    "consumer_secret = \"vmYNdrI3TU20btipbfvRmSTYp5LsaoUx9hMBt9Kh8VziZ7Lcgi\"\n",
    "access_token = \"1457441520143974401-0j6Pkm3HAXhm0eK7P0JozY3kURqKmL\"\n",
    "access_token_secret = \"V7rUOaA63i0RoMBTSDlV5092Wu2ZNOykVI6q6rtTFPxlm\""
   ]
  },
  {
   "cell_type": "code",
   "execution_count": 17,
   "id": "36d3a741",
   "metadata": {},
   "outputs": [],
   "source": [
    "auth = tweepy.OAuthHandler(consumer_key, consumer_secret)\n",
    "auth.set_access_token(access_token, access_token_secret)\n",
    "api = tweepy.API(auth)\n",
    "api = tweepy.API(auth, wait_on_rate_limit=True)"
   ]
  },
  {
   "cell_type": "code",
   "execution_count": 38,
   "id": "4aacf11d",
   "metadata": {},
   "outputs": [
    {
     "name": "stderr",
     "output_type": "stream",
     "text": [
      "Unexpected parameter: since\n",
      "Unexpected parameter: since\n"
     ]
    },
    {
     "name": "stdout",
     "output_type": "stream",
     "text": [
      "user_name: BoxOfficeFilms2 Time: 2022-04-23 23:59:58+00:00 Tweeted: The Oscar winning movie Platoon from director Oliver Stone was released in the UK on this day in 1987 - 35 years ag… https://t.co/wnT6gU5Rnd\n",
      "user_name: FeeltheBernAus Time: 2022-04-23 23:59:50+00:00 Tweeted: RT @DrBenjaminJones: @Peter_Fitz As Oscar Wilde put it (sort of), to offend one Australian of the Year may be regarded as a misfortune, to…\n",
      "user_name: Mattys123 Time: 2022-04-23 23:59:49+00:00 Tweeted: @jonmmck92__ All we need is one more average key forward to add next to Kreuger. Not a star. Our fans are obsessed… https://t.co/MvO1ejvq1X\n",
      "user_name: MiroRuzic Time: 2022-04-23 23:59:39+00:00 Tweeted: RT @JLEWFifty: Incredibly proud of Myles Straw, Oscar Mercado and the rest of these #Guardians players for composing themselves in these po…\n",
      "user_name: percysfilm Time: 2022-04-23 23:59:34+00:00 Tweeted: @parkersmiller IDK I DONT REALLY TALK ABOUT IT FOR SOME REASON but oscar isaac will always be famous\n",
      "user_name: AnastasiaDlTaco Time: 2022-04-23 23:59:33+00:00 Tweeted: RT @LanaGallery: she should’ve been handed her grammy and oscar IMMEDIATELY\n",
      "user_name: Viancasa1 Time: 2022-04-23 23:59:29+00:00 Tweeted: @Nellyego This violence is interesting it has to make it to the oscar\n",
      "user_name: scrlttw1tch Time: 2022-04-23 23:59:27+00:00 Tweeted: istg I've been on twitter for 5 minutes and I've already seen more of oscar isaac than i needed to see and now ever… https://t.co/dzcl5oFHIL\n",
      "user_name: RealJDDuran Time: 2022-04-23 23:59:20+00:00 Tweeted: RT @InSessionFilm: Leo 1000% deserved his Oscar https://t.co/LM9jPN6bib\n",
      "user_name: katrinakovell Time: 2022-04-23 23:59:15+00:00 Tweeted: RT @VitalVegas: Can we revisit Oscar Goodman's cutting off thumbs thing?\n",
      "user_name: EU_Ivan Time: 2022-04-23 23:59:09+00:00 Tweeted: RT @PopCrave: Oscar Isaac attended a viewing party for the season finale of RuPaul’s #DragRace at a gay bar in Brooklyn. https://t.co/8zjnb…\n",
      "user_name: msstacey22 Time: 2022-04-23 23:59:01+00:00 Tweeted: RT @JaimePrimak: Good morning to everyone who loves Oscar Isaac https://t.co/ujDw4Dbs9x\n",
      "user_name: Sarkastik_Pupil Time: 2022-04-23 23:58:58+00:00 Tweeted: RT @BallySportsCLE: Oscar Mercado describes what happened in the outfield at the end of the game and what caused the whole scene. \n",
      "\n",
      "#ForThe…\n",
      "user_name: hoynsie Time: 2022-04-23 23:58:53+00:00 Tweeted: Guardians’ Oscar Mercado, Myles Straw go toe-to-toe with Yankee Stadium’s Bleacher Creatures https://t.co/RxbSVbuJcJ\n",
      "user_name: skinnyanklesss Time: 2022-04-23 23:58:48+00:00 Tweeted: RT @as_artrat_: *Oscar Isaac in Moon Knight brainrot intensifies* but it's pixel fanart by me &lt;3 #MoonKnight @moonknight https://t.co/KBFwg…\n"
     ]
    },
    {
     "name": "stderr",
     "output_type": "stream",
     "text": [
      "Unexpected parameter: since\n"
     ]
    },
    {
     "name": "stdout",
     "output_type": "stream",
     "text": [
      "user_name: Beer_Notes Time: 2022-04-23 23:58:46+00:00 Tweeted: @nik__santana @youaremid55 @pamsson celebrating an injury or jeering at an injured player deserves a response like… https://t.co/VOuypGf47D\n",
      "user_name: ByronBunch3 Time: 2022-04-23 23:58:44+00:00 Tweeted: @Teri_Kanefield Oh, Ms. Kanefield. I, a born cynic, beg of you not to paint all cynics with the same broad brush. T… https://t.co/TrGf0LD8iv\n",
      "user_name: EmanuelLevyPhD Time: 2022-04-23 23:58:26+00:00 Tweeted: My life as festival juror, 1987-present. \n",
      "Cannes Film Fest 1958: Year 11–Paul Newman Wins Best Actor for Long Hot S… https://t.co/lF1CKpijfk\n",
      "user_name: CarolLa33432517 Time: 2022-04-23 23:58:17+00:00 Tweeted: @Phychedelic_nft Guys free mint is live @Camdahan @Oscar_bullish @Custro20 @_Whitewindow @Centrano9 @Ressey52… https://t.co/Av3ar1HEor\n",
      "user_name: nesleehan5 Time: 2022-04-23 23:58:10+00:00 Tweeted: RT @F1ToRuleThemAll: Ted Kravitz: “Will he stay in F1 and be doing this, even if he says he does find joy in not being on the podium or any…\n",
      "user_name: JmeKeller Time: 2022-04-23 23:58:01+00:00 Tweeted: #TheUnbearableWeightOfMassiveTalent was SO FUN! Give #niccage another #oscar and give one to @tomgormican and #kevinetten as well!\n",
      "user_name: theotherklaus Time: 2022-04-23 23:57:50+00:00 Tweeted: i've been called \"rlly chill\" by 5 different coworkers now and i just want my oscar bc they have no idea i go to th… https://t.co/FLDllVa7Jc\n",
      "user_name: solarprincessxo Time: 2022-04-23 23:57:47+00:00 Tweeted: RT @Keely_C1999: Every time I watch Rocketman (it’s been a lot) I am reminded that Taron Egerton did THAT and didn’t even get an Oscar nomi…\n",
      "user_name: terpine_invests Time: 2022-04-23 23:57:40+00:00 Tweeted: RT @lazulcapital: $JEWEL redemption arc will deserve an Oscar\n",
      "user_name: shonuffradio702 Time: 2022-04-23 23:57:30+00:00 Tweeted: Now playing Sun for Someone by Oscar Jerome!\n",
      "user_name: ChrisDavisEptx Time: 2022-04-23 23:57:20+00:00 Tweeted: Congratulations Oscar and my BA teammates we are just getting started more to come! https://t.co/fFDeepVAmU\n",
      "user_name: VitalVegas Time: 2022-04-23 23:57:20+00:00 Tweeted: Can we revisit Oscar Goodman's cutting off thumbs thing? https://t.co/uYFTNjkKkL\n",
      "user_name: Oscar_jr44 Time: 2022-04-23 23:57:10+00:00 Tweeted: RT @lindaikeji: Oh Wizkid...what a child! (my response ...hehe) https://t.co/V6UviP5DRh\n",
      "user_name: Scxred17 Time: 2022-04-23 23:57:05+00:00 Tweeted: RT @BallySportsCLE: Oscar Mercado describes what happened in the outfield at the end of the game and what caused the whole scene. \n",
      "\n",
      "#ForThe…\n",
      "user_name: detectivegreb Time: 2022-04-23 23:56:56+00:00 Tweeted: RT @RenGeekness: The Face/Off remake should be Pedro Pascal and Oscar Isaac.\n",
      "\n",
      "That's the tweet\n"
     ]
    },
    {
     "name": "stderr",
     "output_type": "stream",
     "text": [
      "Unexpected parameter: since\n"
     ]
    },
    {
     "name": "stdout",
     "output_type": "stream",
     "text": [
      "user_name: kevinamackenzie Time: 2022-04-23 23:56:56+00:00 Tweeted: \"Be yourself; everyone else is taken.\" - Oscar Wilde\n",
      "user_name: unhingedpepe Time: 2022-04-23 23:56:44+00:00 Tweeted: RT @FilmUpdates: Oscar Isaac attended a viewing party for the season finale of Rupaul’s Drag Race at a gay bar in Brooklyn. https://t.co/4e…\n",
      "user_name: percysfilm Time: 2022-04-23 23:56:35+00:00 Tweeted: @parkersmiller oscar isaac and also ive liked taika waititi ever since thor ragnarok because that was a masterpiece… https://t.co/EMT5b7bCog\n",
      "user_name: secularlecturer Time: 2022-04-23 23:56:35+00:00 Tweeted: RT @DOCTORATLARGE: Our judiciary is doing a brilliant job - of quoting Oscar Wilde and Shakespeare in its judgements\n",
      "user_name: ByClaytonDavis Time: 2022-04-23 23:56:34+00:00 Tweeted: @craigjorczak Sounds like the Emmy campaign was derailed by the Oscar one.\n",
      "user_name: Oscar_jp21 Time: 2022-04-23 23:56:29+00:00 Tweeted: RT @adorablemissy: Hanging with Oscar and my dad and they’re making me feel like a third wheel 😂 they’re besties\n",
      "user_name: Raliatx Time: 2022-04-23 23:56:24+00:00 Tweeted: RT @The_SmartMoney: 5. “Most people are other people. Their thoughts are someone else’s opinions, their lives a mimicry, their passions a q…\n",
      "user_name: Tucker_Flem16 Time: 2022-04-23 23:56:17+00:00 Tweeted: RT @Spenred: Tough scene here in New York, as Guardians RF Oscar Mercado’s vaccination card falls out of his back pocket and fans react in…\n",
      "user_name: jacuasay092600 Time: 2022-04-23 23:56:16+00:00 Tweeted: Absolutely uncalled for when the Yankees fans threw trash onto the field at Oscar Mercado, if your team gets a walk… https://t.co/YTdR5P3E2G\n",
      "user_name: SUGAngr Time: 2022-04-23 23:56:02+00:00 Tweeted: Beautiful Photos From Kemi Adetiba And Oscar Heman-Ackah’s Introduction And Civil Ceremony https://t.co/YBy3WxvZA7\n",
      "user_name: paquerettesys Time: 2022-04-23 23:56:01+00:00 Tweeted: @WillWoodFans people who like oscar langs music have my heart i love oscar langs music\n",
      "user_name: annettenack Time: 2022-04-23 23:56:01+00:00 Tweeted: RT @SeffSaid: \"The love in your heart wasn't put there to stay. Love isn't love 'til you give it away.\" - Oscar Hammerstein\n",
      "user_name: BenjaminSpearin Time: 2022-04-23 23:55:57+00:00 Tweeted: RT @cineweisz: oscar isaac fancam edit womanizer by britney spears ©️ jive records #MoonKnight https://t.co/bDC51eAZVQ\n",
      "user_name: Boston_203 Time: 2022-04-23 23:55:56+00:00 Tweeted: RT @MLBONFOX: Guardians outfielder Oscar Mercado describes what happened when Yankees fans started throwing trash at him on the field &amp; wha…\n",
      "user_name: ketoniclife Time: 2022-04-23 23:55:50+00:00 Tweeted: Selfishness is not living as one wishes to live but rather Selfishness is asking others to live as one wishes to live. Oscar Wild\n"
     ]
    },
    {
     "name": "stderr",
     "output_type": "stream",
     "text": [
      "Unexpected parameter: since\n"
     ]
    },
    {
     "name": "stdout",
     "output_type": "stream",
     "text": [
      "user_name: Robynwolson Time: 2022-04-23 23:55:50+00:00 Tweeted: RT @FilmUpdates: Oscar Isaac attended a viewing party for the season finale of Rupaul’s Drag Race at a gay bar in Brooklyn. https://t.co/4e…\n",
      "user_name: InSessionFilm Time: 2022-04-23 23:55:42+00:00 Tweeted: Leo 1000% deserved his Oscar https://t.co/l9uoOMoymJ https://t.co/LM9jPN6bib\n",
      "user_name: Oscar_madrid1 Time: 2022-04-23 23:55:42+00:00 Tweeted: RT @BleacherNation: Frank the Tank, Man of the People\n",
      "user_name: creepshowkat Time: 2022-04-23 23:55:41+00:00 Tweeted: Oscar Isaac is so fucking fine\n",
      "user_name: stalevodkamom Time: 2022-04-23 23:55:35+00:00 Tweeted: RT @lndeedee: i cannot believe weiss got sucked into that tube in the same episode that oscar became a chew toy\n",
      "user_name: DavisKl15 Time: 2022-04-23 23:55:32+00:00 Tweeted: Amazing day for Oscar Martinez WR/DB C/O 24 and Christopher Davis DB/WR C/O 24. Each Achieved PRs in the Long Jump… https://t.co/T5IGwmEbxg\n",
      "user_name: Kualy2014 Time: 2022-04-23 23:55:31+00:00 Tweeted: RT @MJWorldScoop1: #Zelensky goal is to GET #Oscar .\n",
      "user_name: WillWoodFans Time: 2022-04-23 23:55:30+00:00 Tweeted: Will Wood fan who loves Oscar Lang.\n",
      "user_name: PuzKazsii Time: 2022-04-23 23:55:27+00:00 Tweeted: RT @PopCrave: Oscar Isaac attended a viewing party for the season finale of RuPaul’s #DragRace at a gay bar in Brooklyn. https://t.co/8zjnb…\n",
      "user_name: justsunshinerey Time: 2022-04-23 23:55:22+00:00 Tweeted: king shit. daisy and oscar watching drag race together would have been too powerful https://t.co/ytaU6rlgHK\n",
      "user_name: dojakordei Time: 2022-04-23 23:55:21+00:00 Tweeted: RT @bestofsos: someone please call the academy to give them an oscar https://t.co/K8nmTSJRTS\n",
      "user_name: Oscar_Benz Time: 2022-04-23 23:55:18+00:00 Tweeted: @SafyHallanFarah A little amusement in my spare moments.\n",
      "user_name: Oscar_madrid1 Time: 2022-04-23 23:55:10+00:00 Tweeted: RT @barstoolchicago: 21-0 CUBS https://t.co/xc0OumqEjh\n",
      "user_name: FakeDdgrFan69 Time: 2022-04-23 23:55:09+00:00 Tweeted: Sexually attracted to Oscar Isaac’s fake British accent sorry 2 say\n",
      "user_name: Oscar_madrid1 Time: 2022-04-23 23:54:54+00:00 Tweeted: RT @barstoolsports: Trash throwing Trash  https://t.co/NWaGbrYGFJ\n"
     ]
    },
    {
     "name": "stderr",
     "output_type": "stream",
     "text": [
      "Unexpected parameter: since\n"
     ]
    },
    {
     "name": "stdout",
     "output_type": "stream",
     "text": [
      "user_name: rhodedrws Time: 2022-04-23 23:54:51+00:00 Tweeted: RT @jhbmoments: justin and hailey bieber with oscar https://t.co/KnKS1GJ3CZ\n",
      "user_name: SwaagggyyyyT Time: 2022-04-23 23:54:47+00:00 Tweeted: RT @MrsTylerKSR: Oscar Tshiebwe on Shaedon Sharpe testing the draft waters: “Shaedon decides to come back, phew, it will be a different lev…\n",
      "user_name: neuromuse Time: 2022-04-23 23:54:40+00:00 Tweeted: honestly, those oscar cans are good because they don't blow away when it's windy.\n",
      "user_name: Beer_Notes Time: 2022-04-23 23:54:40+00:00 Tweeted: RT @ZackMeisel: Myles Straw has no regrets. Oscar Mercado pleaded for consequences for unruly fan behavior. Josh Naylor wondered why anyone…\n",
      "user_name: Sewerman69 Time: 2022-04-23 23:54:37+00:00 Tweeted: RT @BallySportsCLE: Oscar Mercado describes what happened in the outfield at the end of the game and what caused the whole scene. \n",
      "\n",
      "#ForThe…\n",
      "user_name: oscar_rivera504 Time: 2022-04-23 23:54:37+00:00 Tweeted: RT @tonyvalormusic: your trauma is not your fault.\n",
      "user_name: Oscar_madrid1 Time: 2022-04-23 23:54:32+00:00 Tweeted: RT @MLB: Bears - 21 Steelers - 0 https://t.co/P7wfOc8enb\n",
      "user_name: Oscar_madrid1 Time: 2022-04-23 23:54:25+00:00 Tweeted: RT @Cubs: Cubs win!\n",
      "\n",
      "Final: #Cubs 21, Pirates 0. \n",
      "\n",
      "#ItsDifferentHere https://t.co/GmkFUGVREa\n",
      "user_name: neuromuse Time: 2022-04-23 23:54:24+00:00 Tweeted: the stairwell is oscar the grouch cans. you know it's about to get WEIRD AF\n",
      "user_name: Oscar_madrid1 Time: 2022-04-23 23:54:22+00:00 Tweeted: RT @WatchMarquee: The largest margin of victory in a @Cubs shutout all-time. https://t.co/jVTvG5pBf5\n",
      "user_name: spideyknightay Time: 2022-04-23 23:54:22+00:00 Tweeted: RT @ratarri: pictures of oscar isaac in no particular order; a 🧵\n",
      "user_name: ZakZevchik Time: 2022-04-23 23:54:12+00:00 Tweeted: RT @ZackMeisel: Oscar Mercado said a semi-full beer can nearly struck him in the face, but he snagged it in time. Myles Straw said Trevor S…\n",
      "user_name: realwolfgangr Time: 2022-04-23 23:54:11+00:00 Tweeted: Apparently Nicole Kidman was nominated for her role as Becca for an Oscar.\n",
      "user_name: Oscar_madrid1 Time: 2022-04-23 23:54:11+00:00 Tweeted: RT @Cubs: Bears? https://t.co/0RQA2Qq2fR\n",
      "user_name: imdanielkothe Time: 2022-04-23 23:53:58+00:00 Tweeted: RT @GageEHC: Remain a huge Josh Naylor fan. He sprinted his ass there from 1B to get Oscar Mercado out of there. https://t.co/uAOKGS6QSM\n"
     ]
    },
    {
     "name": "stderr",
     "output_type": "stream",
     "text": [
      "Unexpected parameter: since\n"
     ]
    },
    {
     "name": "stdout",
     "output_type": "stream",
     "text": [
      "user_name: p0ptropicastan Time: 2022-04-23 23:53:49+00:00 Tweeted: i deserve an oscar for pretending like i’m not lost in front of a ton of cars who are watching me\n",
      "user_name: alexisjasminee Time: 2022-04-23 23:53:41+00:00 Tweeted: RT @worklapresents: We are just about 2 weeks away until the return of Oscar Mulero and the Los Angeles Debut of Regal! \n",
      "\n",
      "Who will we see o…\n",
      "user_name: Loscompaes Time: 2022-04-23 23:53:34+00:00 Tweeted: I will go to hit Oscar and Chino with Marta and Jorge 👊🏼\n",
      "user_name: Playimposters Time: 2022-04-23 23:53:31+00:00 Tweeted: You've gained Access! @LongLe23557605 @atwhouse @Shelley22102053 @Ivan09737528888 @Aknft3 @Zhan789Zhan7891… https://t.co/Oeq1Vxm9yz\n",
      "user_name: sapphicyens Time: 2022-04-23 23:53:31+00:00 Tweeted: Your camera roll if Oscar Isaac was your boyfriend : a thread https://t.co/GEXL72O7bY\n",
      "user_name: artsmart69 Time: 2022-04-23 23:53:26+00:00 Tweeted: RT @Variety: \"To anybody who has ever questioned your identity or you find yourself living in the gray spaces...I promise you this: there i…\n",
      "user_name: sehwalxx Time: 2022-04-23 23:53:25+00:00 Tweeted: RT @Samuraigodzilla: If you tried Pachinko but couldn’t get into it, try episode 7, a self contained episode that takes place before the re…\n",
      "user_name: WickedWalnut Time: 2022-04-23 23:53:24+00:00 Tweeted: @draknok666 Matt in the shape of an Oscar. It’s nightmarishly disturbing.\n",
      "user_name: diabolicalplots Time: 2022-04-23 23:53:22+00:00 Tweeted: @TheJaxyShow Yes! TV, and movies as well.  The oscars in recent years have added some extra nominees that are often… https://t.co/qH67qrusT2\n",
      "user_name: Gogette20839474 Time: 2022-04-23 23:53:21+00:00 Tweeted: 🎥 Gorgeous and classy women joselyn and Sharon 🔥🔥Oscar and Kemi wedding #UndeniablyYours2022 https://t.co/vMCCmoZLsk\n",
      "user_name: ollliiivvve Time: 2022-04-23 23:53:16+00:00 Tweeted: @deestiv I’m 33 and would rather talk about Oscar Isaac than investing 😌\n",
      "user_name: babycorndogs Time: 2022-04-23 23:53:14+00:00 Tweeted: RT @FilmUpdates: Oscar Isaac attended a viewing party for the season finale of Rupaul’s Drag Race at a gay bar in Brooklyn. https://t.co/4e…\n",
      "user_name: itsauqiasuz Time: 2022-04-23 23:53:12+00:00 Tweeted: Texas more like Texass hahahahahahaha give me my Oscar\n",
      "user_name: Korupta1 Time: 2022-04-23 23:53:09+00:00 Tweeted: Maybe the fight was fixed...say that to Joseph Parker or Oscar Rivas\n",
      "user_name: CourtneyFHoward Time: 2022-04-23 23:52:59+00:00 Tweeted: @MoonGazer7413 @sifferz @WillieETCarver Lol, ok… and if you really think “no one remembers Oscar Wilde for his acco… https://t.co/MmPhlf6Ik9\n"
     ]
    },
    {
     "name": "stderr",
     "output_type": "stream",
     "text": [
      "Unexpected parameter: since\n"
     ]
    },
    {
     "name": "stdout",
     "output_type": "stream",
     "text": [
      "user_name: NYBulldawg Time: 2022-04-23 23:52:55+00:00 Tweeted: @londonstheory @Oscar__NBA @FreeMalikMonk Yeah. That doesnt seem too terrible\n",
      "user_name: BackCreekBoy1 Time: 2022-04-23 23:52:54+00:00 Tweeted: @SR71RETARD Many Oscar Wilde such cases.\n",
      "user_name: gozum_oscar Time: 2022-04-23 23:52:51+00:00 Tweeted: RT @AndersonPaak: BABY FUCKING KEEM\n",
      "user_name: BallparkTeddy Time: 2022-04-23 23:52:47+00:00 Tweeted: I've got some quibbles about 2022 Topps Heritage, but here's something great: the list of all-time batting leaders… https://t.co/b8LOGFW8WA\n",
      "user_name: bhstudios01 Time: 2022-04-23 23:52:25+00:00 Tweeted: Aaah! Disney leaving us hanging with the latest episode of The Proud Family!\n",
      "\n",
      "Poor Suga Mama! Ooof, NOT liking her… https://t.co/w7FBAMcH7a\n",
      "user_name: JolanJoestar Time: 2022-04-23 23:52:22+00:00 Tweeted: @Oscar__Bear Flops on top of you\n",
      "user_name: serpentorrez Time: 2022-04-23 23:52:11+00:00 Tweeted: POV: ur next to oscar isaac watching s14 finale https://t.co/vX31q8kQ04 https://t.co/xMAce4y2DD\n",
      "user_name: Cleveland7G Time: 2022-04-23 23:52:10+00:00 Tweeted: RT @GageEHC: Remain a huge Josh Naylor fan. He sprinted his ass there from 1B to get Oscar Mercado out of there. https://t.co/uAOKGS6QSM\n",
      "user_name: AngieLynch09 Time: 2022-04-23 23:51:54+00:00 Tweeted: RT @LisaDock84: Can you believe Johhny Depp has never won an oscar 😳😳 probably the most diverse Actor there is.. i guess its better to wond…\n",
      "user_name: Promusroyel3 Time: 2022-04-23 23:51:51+00:00 Tweeted: Jv               Lake Taylor vs Deep creek.           Maury vs Oscar Smith.      Phoebus vs Princess Ann.    All thursday\n",
      "user_name: sablud50 Time: 2022-04-23 23:51:50+00:00 Tweeted: RT @FilmUpdates: Oscar Isaac attended a viewing party for the season finale of Rupaul’s Drag Race at a gay bar in Brooklyn. https://t.co/4e…\n",
      "user_name: jeonalpha_ Time: 2022-04-23 23:51:45+00:00 Tweeted: @gaydreaming__ go my little oscar wilde 🥺 go write great, drunk things ❤️\n",
      "user_name: Nosocialize Time: 2022-04-23 23:51:39+00:00 Tweeted: New addition to the collection! Favorite #SpiderMan costume. Oscar Isaac in live-action when?! https://t.co/qajfrzcnqB\n",
      "user_name: Oscar__NBA Time: 2022-04-23 23:51:39+00:00 Tweeted: @londonstheory @NYBulldawg @FreeMalikMonk @NBA_Jeremy1 I hope we can still be friends when this inevitably happens\n",
      "user_name: Inkyy__ Time: 2022-04-23 23:51:26+00:00 Tweeted: RT @Variety: With 12 Oscar nominations, Jack Nicholson holds the record as the the most nominated male performer in Oscar history. https://…\n"
     ]
    },
    {
     "name": "stderr",
     "output_type": "stream",
     "text": [
      "Unexpected parameter: since\n"
     ]
    },
    {
     "name": "stdout",
     "output_type": "stream",
     "text": [
      "user_name: deancasIut Time: 2022-04-23 23:51:09+00:00 Tweeted: RT @falconsnat: oscar isaac opening scene rooftop tight jeans cinematic universe https://t.co/WcKhh07ibv\n",
      "user_name: minv_twt Time: 2022-04-23 23:51:08+00:00 Tweeted: RT @FilmUpdates: Oscar Isaac attended a viewing party for the season finale of Rupaul’s Drag Race at a gay bar in Brooklyn. https://t.co/4e…\n",
      "user_name: fucknbellamy Time: 2022-04-23 23:51:07+00:00 Tweeted: RT @h0edameron: oscar isaac          mads mikkelsen \n",
      "                      🤝 \n",
      "\n",
      "   being hot in every zoom calls https://t.co/EX5JRFhwQb\n",
      "user_name: Oscar_NgyesBoi Time: 2022-04-23 23:51:02+00:00 Tweeted: RT @im_zobby_: Green! 🐢\n",
      "Inspired by @honwowo 🍄💖\n",
      "#green https://t.co/X5yjCQHZ0i\n",
      "user_name: drumcartel2018 Time: 2022-04-23 23:50:50+00:00 Tweeted: RT @PopCrave: Oscar Isaac attended a viewing party for the season finale of RuPaul’s #DragRace at a gay bar in Brooklyn. https://t.co/8zjnb…\n",
      "user_name: planetsanrio Time: 2022-04-23 23:50:30+00:00 Tweeted: gonna binge all movies and shows oscar isaac acted in just because\n",
      "user_name: PhotoAerial Time: 2022-04-23 23:50:16+00:00 Tweeted: 1000 feet Above, by Oscar Garcia\n",
      "https://t.co/jpsk6BKBjh\n",
      "user_name: londonstheory Time: 2022-04-23 23:50:16+00:00 Tweeted: @NYBulldawg @Oscar__NBA @FreeMalikMonk fully expect something akin to this https://t.co/JkhNBqqzLT\n",
      "user_name: taesfatbussy Time: 2022-04-23 23:50:15+00:00 Tweeted: @dilsstar_ Can we just remember these are oscars fan vote moments/movies not an actual gold accepted Oscar award\n",
      "user_name: joeoiler Time: 2022-04-23 23:50:10+00:00 Tweeted: RT @OilerBry37: Where the fuck is Oscar Klefbom\n",
      "user_name: 4lterlife Time: 2022-04-23 23:49:55+00:00 Tweeted: when seungkwan hugged mingyu for 1 seconds i knew this movie was oscar worthy\n",
      "user_name: Herda36832930 Time: 2022-04-23 23:49:42+00:00 Tweeted: RT @SeffSaid: \"The love in your heart wasn't put there to stay. Love isn't love 'til you give it away.\" - Oscar Hammerstein\n",
      "user_name: Gogette20839474 Time: 2022-04-23 23:49:41+00:00 Tweeted: 🎥 Classy wedding Oscar and Kemi\n",
      "#UndeniablyYours2022 https://t.co/IPxNfQXiKj\n",
      "user_name: JuuuuustNick Time: 2022-04-23 23:49:39+00:00 Tweeted: RT @JLEWFifty: Incredibly proud of Myles Straw, Oscar Mercado and the rest of these #Guardians players for composing themselves in these po…\n",
      "user_name: mazi_Ud Time: 2022-04-23 23:49:36+00:00 Tweeted: @Oscar_Ohakwe @freshboygilen @favourdumnoi @ChukwukaPrecio6 @bolla_bello This is my only confirmation that u r scam… https://t.co/RwGeh1LZYD\n"
     ]
    },
    {
     "name": "stderr",
     "output_type": "stream",
     "text": [
      "Unexpected parameter: since\n"
     ]
    },
    {
     "name": "stdout",
     "output_type": "stream",
     "text": [
      "user_name: chipotLEORdie Time: 2022-04-23 23:49:35+00:00 Tweeted: *Narrator* “In a world where new york jackasses are constantly battling philadelphia jackasses for the title of wor… https://t.co/5HDZ9VAJIy\n",
      "user_name: Oscar_Herbst Time: 2022-04-23 23:49:34+00:00 Tweeted: Morning  @WarnieDT \n",
      "\n",
      "J.Hayes has 54.3% ownership, 29% on bench and 19% as emergency. \n",
      "\n",
      "Does this mean 29% have him… https://t.co/YSo4qc7bty\n",
      "user_name: edhunny Time: 2022-04-23 23:49:33+00:00 Tweeted: @THR Thats what I said. Most hate going its a snooze to sit through. They only go if nommed or have something to pr… https://t.co/hgm8PmF0XY\n",
      "user_name: UnionJLovers_ Time: 2022-04-23 23:49:23+00:00 Tweeted: RT @bestofsos: someone please call the academy to give them an oscar https://t.co/K8nmTSJRTS\n",
      "user_name: sortofscot Time: 2022-04-23 23:49:13+00:00 Tweeted: RT @RussInCheshire: Hitting adult men = bad\n",
      "Hitting adult women = bad\n",
      "Hitting dogs = bad\n",
      "Hitting Oscar hosts = bad\n",
      "\n",
      "Hitting children = good…\n",
      "user_name: Balleni71259237 Time: 2022-04-23 23:49:02+00:00 Tweeted: RT @bestofsos: someone please call the academy to give them an oscar https://t.co/K8nmTSJRTS\n",
      "user_name: OSCAR_23SALAS Time: 2022-04-23 23:49:00+00:00 Tweeted: RT @MLBONFOX: Guardians OF Myles Straw shared his thoughts after today's game against the Yankees. https://t.co/DJDjtiAUiW\n",
      "user_name: Oscar_NgyesBoi Time: 2022-04-23 23:48:45+00:00 Tweeted: RT @DreMeMoTo: Eggs &amp; Stones may Break my Bones ... 🥚🪨\n",
      "#SonicTheHedgehog #Sonic #Eggman #AgentStone https://t.co/Phxyeh8Cb0\n",
      "user_name: sebsproudson Time: 2022-04-23 23:48:37+00:00 Tweeted: RT @F1ToRuleThemAll: Ted Kravitz: “Will he stay in F1 and be doing this, even if he says he does find joy in not being on the podium or any…\n",
      "user_name: RPalkha Time: 2022-04-23 23:48:26+00:00 Tweeted: @PravinSawhney I think someone give you Oscar because you knew everything about anything ….., 🧐🧐🧐🧐🧐🧐what kind of rubbish you are…… 🤣🤣🤣🤣🤣\n",
      "user_name: skinnyanklesss Time: 2022-04-23 23:48:23+00:00 Tweeted: RT @RawbertBeef: Oscar Isaac, you are one hell of an actor. #MoonKnight https://t.co/bJnYuBbe1h\n",
      "user_name: BigDogMom3 Time: 2022-04-23 23:48:23+00:00 Tweeted: @RexChapman She's going for the Oscar with this performance.\n",
      "user_name: Oscar_SOG Time: 2022-04-23 23:48:22+00:00 Tweeted: @BBCNews Gay men being locked up with each-other, can’t of been that bad surly 😂\n",
      "user_name: sciameXL Time: 2022-04-23 23:48:20+00:00 Tweeted: RT @fuzzyfromyt: Some good perspective from Oscar Mercado. https://t.co/UvR3XmnHWT\n",
      "user_name: dayyaantheking Time: 2022-04-23 23:48:14+00:00 Tweeted: @OscarPr31751228 150k per year go get a life Oscar 💀 #daddysmoney https://t.co/DiZA6yLv9G\n"
     ]
    },
    {
     "name": "stderr",
     "output_type": "stream",
     "text": [
      "Unexpected parameter: since\n"
     ]
    },
    {
     "name": "stdout",
     "output_type": "stream",
     "text": [
      "user_name: henders60348231 Time: 2022-04-23 23:48:13+00:00 Tweeted: RT @EzuieQuotes: \"Be yourself; everyone else is taken.\" - Oscar Wilde\n",
      "user_name: CrumblingToes Time: 2022-04-23 23:48:10+00:00 Tweeted: @Lindsay_McGill Let’s give will smiths revoked Oscar to Johnny.  #istandwithjohnny\n",
      "user_name: Middy_Ayo Time: 2022-04-23 23:48:05+00:00 Tweeted: @Oscar_Mosh Let’s play\n",
      "user_name: Bonxkk Time: 2022-04-23 23:48:02+00:00 Tweeted: RT @RayoKasali: In case you're wondering who Kemi Adetiba's prince charming is...\n",
      "\n",
      "He is Oscar Herman-Acker the genius music maestro \"Oscar…\n",
      "user_name: AdrianaGG17 Time: 2022-04-23 23:48:01+00:00 Tweeted: Currently thinking of Oscar Isaac as Steven Grant https://t.co/zGTxMXaBaZ\n",
      "user_name: gel__c Time: 2022-04-23 23:47:58+00:00 Tweeted: RT @xylerscomet: This is so embarrassing, imagine losing an Oscar to someone 2x younger than you 😭 #Oscars https://t.co/RCATk4oJox\n",
      "user_name: Oscar__Bear Time: 2022-04-23 23:47:55+00:00 Tweeted: @JolanJoestar By cuddling 🫂🫂🫂\n",
      "user_name: JoeLeydon Time: 2022-04-23 23:47:54+00:00 Tweeted: RT @NotDBordwell: What with all the pearl clutching about the relationship in LICORICE PIZZA, TCM’s showing of #THELASTPICTURESHOW is an im…\n",
      "user_name: jooseokkyung_ Time: 2022-04-23 23:47:49+00:00 Tweeted: RT @LanaGallery: she should’ve been handed her grammy and oscar IMMEDIATELY\n",
      "user_name: rigagala Time: 2022-04-23 23:47:49+00:00 Tweeted: RT @pascalarchive: Pedro Pascal laughs at Oscar Isaac's response, who said that #MoonKnight would win a fight against The Mandalorian https…\n",
      "user_name: lndeedee Time: 2022-04-23 23:47:46+00:00 Tweeted: i cannot believe weiss got sucked into that tube in the same episode that oscar became a chew toy\n",
      "user_name: JimmyRTorres Time: 2022-04-23 23:47:45+00:00 Tweeted: @FatherStuMovie @markwahlberg Awesome movie! @markwahlberg for the #oscar! @TheAcademy #fatherstumovie\n",
      "user_name: jilley_justues Time: 2022-04-23 23:47:41+00:00 Tweeted: RT @Blou756: #JodieComer is a once in a lifetime talent. Seeing her live on stage in #PrimaFacie was incredible. To hold the audience throu…\n",
      "user_name: oscar_otherside Time: 2022-04-23 23:47:31+00:00 Tweeted: RT @JuliaDavisNews: This is never a good sign. Russia's Defense Ministry accuses the United States of \"staging provocations\" to accuse Russ…\n",
      "user_name: DimitriDeVita Time: 2022-04-23 23:47:23+00:00 Tweeted: RT @mariatontini1: I adore simple pleasures.\n",
      "\n",
      "They are the last refuge\n",
      "\n",
      "of the complex.\n",
      "\n",
      "-\n",
      "\n",
      "🖋Oscar Wilde\n",
      "🖼 Bouquet of Flowers \n",
      "2009\n",
      "🖌Gerhar…\n"
     ]
    },
    {
     "name": "stderr",
     "output_type": "stream",
     "text": [
      "Unexpected parameter: since\n"
     ]
    },
    {
     "name": "stdout",
     "output_type": "stream",
     "text": [
      "user_name: themffkknlord Time: 2022-04-23 23:47:22+00:00 Tweeted: Yall are really riding for me. 🤌🏾 🥷🏻Goodnight Oscar 🌬💤🤴🏾 https://t.co/xemfvgQgQv\n",
      "user_name: Aybabasala Time: 2022-04-23 23:47:22+00:00 Tweeted: RT @RayoKasali: In case you're wondering who Kemi Adetiba's prince charming is...\n",
      "\n",
      "He is Oscar Herman-Acker the genius music maestro \"Oscar…\n",
      "user_name: deancasIut Time: 2022-04-23 23:47:18+00:00 Tweeted: RT @vigilantesuit: nothing important just oscar isaac acting through his eyes https://t.co/ZRg1tJ9F32\n",
      "user_name: Chucho_Q Time: 2022-04-23 23:47:09+00:00 Tweeted: What’s an acting OSCAR win everyone hates that you love? \n",
      "\n",
      "(Sue me) https://t.co/7oEBwQ6LiW https://t.co/5BX5Aiz3Pp\n",
      "user_name: hollow_oscar Time: 2022-04-23 23:47:08+00:00 Tweeted: When a dog sees another dog, do they think “ohh it’s another dog” ??\n",
      "user_name: AlexMcMullen1 Time: 2022-04-23 23:47:05+00:00 Tweeted: RT @JLEWFifty: Incredibly proud of Myles Straw, Oscar Mercado and the rest of these #Guardians players for composing themselves in these po…\n",
      "user_name: Meldooox Time: 2022-04-23 23:47:01+00:00 Tweeted: Oscar Isaac as Marc and Steven is A+ acting. I can immediately tell, just by the look in his eyes, who of the two h… https://t.co/w2hSMs01VE\n",
      "user_name: domenicangela22 Time: 2022-04-23 23:46:52+00:00 Tweeted: RT @EzuieQuotes: \"Be yourself; everyone else is taken.\" - Oscar Wilde\n",
      "user_name: hyeongkon Time: 2022-04-23 23:46:39+00:00 Tweeted: RT @SirStevenGrant: \"ass or boobs\" oscar isaac has both so im good https://t.co/d23MzTOhAP\n",
      "user_name: LadyLakeMusic Time: 2022-04-23 23:46:37+00:00 Tweeted: RT @LivelyPride: We honored our AMAZING volunteers with an Oscar Celebration and a delicious meal from Olive Garden. Thank you SO much for…\n",
      "user_name: whoissabi Time: 2022-04-23 23:46:36+00:00 Tweeted: RT @jhbmoments: justin and hailey bieber with oscar https://t.co/KnKS1GJ3CZ\n",
      "user_name: marychesf Time: 2022-04-23 23:46:34+00:00 Tweeted: RT @TheAcademy: Marlee Matlin in 'Children of a Lesser God' where she played Sarah, a deaf custodian who develops a romantic relationship w…\n",
      "user_name: This_Is_Oscar Time: 2022-04-23 23:46:26+00:00 Tweeted: RT @OoCPokemon: vibe check https://t.co/hBgmQs81LF\n",
      "user_name: vincefalconi Time: 2022-04-23 23:46:09+00:00 Tweeted: @djschwin Listen I never said it was a GOOD origin story.\n",
      "\n",
      "This week’s episode was supposed to be all mind-bendy i… https://t.co/qediL2th9j\n",
      "user_name: bvvillelag Time: 2022-04-23 23:46:00+00:00 Tweeted: RT @bestofsos: someone please call the academy to give them an oscar https://t.co/K8nmTSJRTS\n"
     ]
    },
    {
     "name": "stderr",
     "output_type": "stream",
     "text": [
      "Unexpected parameter: since\n"
     ]
    },
    {
     "name": "stdout",
     "output_type": "stream",
     "text": [
      "user_name: rara_avis_0 Time: 2022-04-23 23:45:58+00:00 Tweeted: RT @RayoKasali: In case you're wondering who Kemi Adetiba's prince charming is...\n",
      "\n",
      "He is Oscar Herman-Acker the genius music maestro \"Oscar…\n",
      "user_name: brettg21 Time: 2022-04-23 23:45:45+00:00 Tweeted: And we present to you the winners of the “Go balls deep invite” - mason and Oscar https://t.co/8ZBAUEJg84\n",
      "user_name: TweetMOTIVATE_ Time: 2022-04-23 23:45:39+00:00 Tweeted: I have the simplest tastes. I am always satisfied with the best. — Oscar Wilde  #quotes\n",
      "user_name: Mari0_o_o Time: 2022-04-23 23:45:39+00:00 Tweeted: RT @oscarsarchive: oscar isaac                 also oscar isaac\n",
      "at 43 years old           at 43 years old https://t.co/RgcehrtQgF\n",
      "user_name: nightmeirewulf Time: 2022-04-23 23:45:35+00:00 Tweeted: RT @LisaDock84: Can you believe Johhny Depp has never won an oscar 😳😳 probably the most diverse Actor there is.. i guess its better to wond…\n",
      "user_name: Mari0_o_o Time: 2022-04-23 23:45:31+00:00 Tweeted: RT @SirStevenGrant: \"ass or boobs\" oscar isaac has both so im good https://t.co/d23MzTOhAP\n",
      "user_name: DavidCalo14 Time: 2022-04-23 23:45:29+00:00 Tweeted: RT @MrDeva005: This dog deserve Oscar for his acting performance 😂🤣\n",
      "https://t.co/hZTiXom11w\n",
      "user_name: garcia56_oscar Time: 2022-04-23 23:45:26+00:00 Tweeted: RT @Super70sSports: Let’s all watch Larry Bird fight the fucking Detroit Pistons for a minute …\n",
      "\n",
      " https://t.co/VQJwO6wwZO\n",
      "user_name: mrkalu_ Time: 2022-04-23 23:45:23+00:00 Tweeted: Kemi Adetiba ties the knot with Oscar Heman-Ackah #UndeniablyYours2022 https://t.co/EmZ2t9T5Tt\n",
      "user_name: ChrisKSim75 Time: 2022-04-23 23:45:16+00:00 Tweeted: RT @edbobgreen: @QuoteDigging @KFILE @kenjeong “Some cause happiness wherever they go;\n",
      "  others, whenever they go.”\n",
      "  ― Oscar Wilde\n",
      "user_name: sureboydavis Time: 2022-04-23 23:45:07+00:00 Tweeted: Kemi Adetiba ties the knot with Oscar Heman-Ackah #UndeniablyYours2022 https://t.co/6zdtzMD7qG\n",
      "user_name: JKovacx Time: 2022-04-23 23:45:03+00:00 Tweeted: RT @BrndnStrssng: I say this without any hyperbole and I generally hate talking about movies in oscar speak but Campbell should’ve won Best…\n",
      "user_name: RpDlJaJpDh Time: 2022-04-23 23:45:03+00:00 Tweeted: RT @oscartaika: oscar isaac and taika waititi with dogs send tweet https://t.co/RdygmrNnhf\n",
      "user_name: Victorpappy Time: 2022-04-23 23:45:01+00:00 Tweeted: Kemi Adetiba ties the knot with Oscar Heman-Ackah #UndeniablyYours2022 https://t.co/yVhkdWB01O\n",
      "user_name: Toyosi__A Time: 2022-04-23 23:44:57+00:00 Tweeted: RT @TheChalya: My girl got married!!!! 🥰❤️ @kemiadetiba gorgeousness!!!! “My wife” Oscar said, as he took a mesmerized glance at his new br…\n"
     ]
    },
    {
     "name": "stderr",
     "output_type": "stream",
     "text": [
      "Unexpected parameter: since\n"
     ]
    },
    {
     "name": "stdout",
     "output_type": "stream",
     "text": [
      "user_name: DaVinciBlog Time: 2022-04-23 23:44:56+00:00 Tweeted: Kemi Adetiba ties the knot with Oscar Heman-Ackah #UndeniablyYours2022 https://t.co/Ypt2eKbXkc\n",
      "user_name: ratarri Time: 2022-04-23 23:44:54+00:00 Tweeted: RT @ratarri: pictures of oscar isaac in no particular order; a 🧵\n",
      "user_name: zipdacrazy Time: 2022-04-23 23:44:46+00:00 Tweeted: RT @FilmUpdates: Oscar Isaac attended a viewing party for the season finale of Rupaul’s Drag Race at a gay bar in Brooklyn. https://t.co/4e…\n",
      "user_name: tiahope13 Time: 2022-04-23 23:44:45+00:00 Tweeted: RT @LisaDock84: Can you believe Johhny Depp has never won an oscar 😳😳 probably the most diverse Actor there is.. i guess its better to wond…\n",
      "user_name: dreamwasbakin Time: 2022-04-23 23:44:41+00:00 Tweeted: RT @ratarri: pictures of oscar isaac in no particular order; a 🧵\n",
      "user_name: Gogette20839474 Time: 2022-04-23 23:44:30+00:00 Tweeted: 🎥Alex is giving the vibes at Oscar and Kemi’s wedding #UndeniablyYours2022 https://t.co/eBwKH2M4Zh\n",
      "user_name: Bmish1218 Time: 2022-04-23 23:44:29+00:00 Tweeted: RT @bestofsos: someone please call the academy to give them an oscar https://t.co/K8nmTSJRTS\n",
      "user_name: vandaothanh Time: 2022-04-23 23:44:29+00:00 Tweeted: @Elrondice All are done.\n",
      "\n",
      "Thanks #Elrondice for giving a chance.\n",
      "\n",
      "@BenyGaidaci1 @ogre_ogreisking @RaizoRevel @sovi_oscar @Raj_hossen_\n",
      "user_name: mitamhappily Time: 2022-04-23 23:44:27+00:00 Tweeted: RT @bestofsos: someone please call the academy to give them an oscar https://t.co/K8nmTSJRTS\n",
      "user_name: TheReal_KDubb Time: 2022-04-23 23:44:23+00:00 Tweeted: Guardians' Oscar Mercado: Yankees Fans Must Be 'Held Accountable' After Throwing Cans https://t.co/59D3w297z7 #sports #feedly\n",
      "user_name: NJLatessa Time: 2022-04-23 23:44:16+00:00 Tweeted: RT @ZackMeisel: Myles Straw has no regrets. Oscar Mercado pleaded for consequences for unruly fan behavior. Josh Naylor wondered why anyone…\n",
      "user_name: abates04 Time: 2022-04-23 23:44:14+00:00 Tweeted: RT @MLBONFOX: Guardians outfielder Oscar Mercado describes what happened when Yankees fans started throwing trash at him on the field &amp; wha…\n",
      "user_name: hassangilani80 Time: 2022-04-23 23:44:08+00:00 Tweeted: RT @EzuieQuotes: \"Be yourself; everyone else is taken.\" - Oscar Wilde\n",
      "user_name: dejaflu Time: 2022-04-23 23:44:06+00:00 Tweeted: thread of Oscar tik toks because they’re more important than anything else on this website https://t.co/TuO0HsuNoh\n",
      "user_name: ItsWebberTv Time: 2022-04-23 23:44:04+00:00 Tweeted: RT @fuzzyfromyt: Some good perspective from Oscar Mercado. https://t.co/UvR3XmnHWT\n"
     ]
    },
    {
     "name": "stderr",
     "output_type": "stream",
     "text": [
      "Unexpected parameter: since\n"
     ]
    },
    {
     "name": "stdout",
     "output_type": "stream",
     "text": [
      "user_name: microsoft_oscar Time: 2022-04-23 23:44:01+00:00 Tweeted: RT @elonmusk: in case u need to lose a boner fast https://t.co/fcHiaXKCJi\n",
      "user_name: dez_schwartz Time: 2022-04-23 23:43:59+00:00 Tweeted: “There is no such thing as a moral or immoral book.” — Oscar Wilde https://t.co/7Gi42rUCx3\n",
      "user_name: Swizzy_Swartz Time: 2022-04-23 23:43:58+00:00 Tweeted: andddddddd the Oscar award goes to ….. @pskills43 🏆🤦🏻‍♂️🤡 https://t.co/SitvJYfF3j https://t.co/myU1BW8nDi\n",
      "user_name: darkieSZN Time: 2022-04-23 23:43:58+00:00 Tweeted: @Oscar_Mosh Do that 🤭\n",
      "user_name: lamiliani Time: 2022-04-23 23:43:58+00:00 Tweeted: So uh… Jake Johnson and Oscar Isaac movie when?\n",
      "user_name: angelicvybes Time: 2022-04-23 23:43:56+00:00 Tweeted: RT @FilmUpdates: Oscar Isaac attended a viewing party for the season finale of Rupaul’s Drag Race at a gay bar in Brooklyn. https://t.co/4e…\n",
      "user_name: randomr50912907 Time: 2022-04-23 23:43:45+00:00 Tweeted: Listening to Marlon Brando’s account of his rejection of Oscar on account of Indian rights made me reflect on the m… https://t.co/3chfJMj3Tr\n",
      "user_name: Oscar_perezz9 Time: 2022-04-23 23:43:35+00:00 Tweeted: RT @imovercryingIG: i go on twitter, talk to myself, then leave.\n",
      "user_name: cbt_11 Time: 2022-04-23 23:43:27+00:00 Tweeted: RT @dmansworld474: My respect for Myles and Oscar is through the roof. @CleGuardians\n",
      "user_name: kreywillwin_ Time: 2022-04-23 23:43:17+00:00 Tweeted: RT @EzuieQuotes: \"Be yourself; everyone else is taken.\" - Oscar Wilde\n",
      "user_name: o68uKDGXFQG3tL5 Time: 2022-04-23 23:43:11+00:00 Tweeted: RT @KanchanGupta: Quote wisely, not blindly from '100 Best Quotes' on Google.\n",
      "\"The only difference between the saint and the sinner is that…\n",
      "user_name: oscar_is_tired Time: 2022-04-23 23:43:07+00:00 Tweeted: @TeamLouisNews Is \"soon\" the new \"promise 😊\"?\n",
      "user_name: dahvedtoe Time: 2022-04-23 23:43:03+00:00 Tweeted: RT @PopCrave: Oscar Isaac attended a viewing party for the season finale of RuPaul’s #DragRace at a gay bar in Brooklyn. https://t.co/8zjnb…\n",
      "user_name: wildflowerlara Time: 2022-04-23 23:43:01+00:00 Tweeted: RT @bestofsos: someone please call the academy to give them an oscar https://t.co/K8nmTSJRTS\n",
      "user_name: fende2k Time: 2022-04-23 23:42:58+00:00 Tweeted: The way Christine plays victim she needs to get an Oscar #SellingSunset\n"
     ]
    },
    {
     "name": "stderr",
     "output_type": "stream",
     "text": [
      "Unexpected parameter: since\n"
     ]
    },
    {
     "name": "stdout",
     "output_type": "stream",
     "text": [
      "user_name: GENTLE_JENKINS Time: 2022-04-23 23:42:56+00:00 Tweeted: RT @OleleSalvador: BREAKING: Will Smith &amp; Jada might be getting a divorce after the Oscar slapping episode. The couple were already having…\n",
      "user_name: dreamwasbakin Time: 2022-04-23 23:42:53+00:00 Tweeted: RT @JackLaridian: #MoonKnight is incredible and I've never been more impressed by Oscar Isaac. The way he moves between the roles of Steven…\n",
      "user_name: sportsstans Time: 2022-04-23 23:42:52+00:00 Tweeted: RT @LandesBrock: And the Oscar Award goes to… https://t.co/kxhyrNGYBM\n",
      "user_name: Buddhoya Time: 2022-04-23 23:42:51+00:00 Tweeted: Oscar Isaac is an Elite Pick 💯💯 https://t.co/KJ2kQw61V4\n",
      "user_name: KittyLibFront Time: 2022-04-23 23:42:44+00:00 Tweeted: RT @langefoundation: We have a litter of kittens who will be available in two weeks! They are seven weeks old, super friendly and playful,…\n",
      "user_name: JamesZetlen Time: 2022-04-23 23:42:30+00:00 Tweeted: @seldo It’s dark and serious, but for an Oscar movie it’s pretty strange and interesting. You might like it\n",
      "user_name: ssc_zhith Time: 2022-04-23 23:42:28+00:00 Tweeted: @Oscar_Mosh THANK YOUUU!!!😭\n",
      "user_name: JolanJoestar Time: 2022-04-23 23:42:28+00:00 Tweeted: @Oscar__Bear How can we test it out?\n",
      "user_name: zlajoooo6 Time: 2022-04-23 23:42:27+00:00 Tweeted: RT @jason_worme: Have you checked out the @DinodawgKingdom solana?\n",
      "💎 Oscar award winning vx artist\n",
      "🔥2d and 3D art with loads of utility!\n",
      "👾…\n",
      "user_name: Emmanuel91hoy Time: 2022-04-23 23:42:24+00:00 Tweeted: RT @jhbmoments: justin and hailey bieber with oscar https://t.co/KnKS1GJ3CZ\n",
      "user_name: dreamwasbakin Time: 2022-04-23 23:42:22+00:00 Tweeted: RT @ironexpo: oscar isaac on getting advice from robert downey jr https://t.co/X1EkBEdTBL\n",
      "user_name: mattBernius Time: 2022-04-23 23:42:22+00:00 Tweeted: RT @kylebuchanan: I think you want to see just a little more of how excited Denzel and Samuel L. Jackson are now that the latter has his ho…\n",
      "user_name: EfleyEspinal Time: 2022-04-23 23:42:14+00:00 Tweeted: RT @fuzzyfromyt: Some good perspective from Oscar Mercado. https://t.co/UvR3XmnHWT\n",
      "user_name: DanEdwardsGoal Time: 2022-04-23 23:42:12+00:00 Tweeted: Spending the entirety of every game pumping over shit diagonals and crosses when you have Oscar Romero and Pol Fern… https://t.co/jIwIk8RExi\n",
      "user_name: CrumblingToes Time: 2022-04-23 23:42:10+00:00 Tweeted: So can we just give Will Smiths Oscar to Johnny Depp or what?! #JohnnyDepp #IStandWithJohnny\n"
     ]
    },
    {
     "name": "stderr",
     "output_type": "stream",
     "text": [
      "Unexpected parameter: since\n"
     ]
    },
    {
     "name": "stdout",
     "output_type": "stream",
     "text": [
      "user_name: swhless Time: 2022-04-23 23:42:08+00:00 Tweeted: RT @bestofsos: someone please call the academy to give them an oscar https://t.co/K8nmTSJRTS\n",
      "user_name: BigPapaFish35 Time: 2022-04-23 23:42:05+00:00 Tweeted: RT @fuzzyfromyt: Some good perspective from Oscar Mercado. https://t.co/UvR3XmnHWT\n",
      "user_name: daydadahlias Time: 2022-04-23 23:42:03+00:00 Tweeted: RT @bestofsos: someone please call the academy to give them an oscar https://t.co/K8nmTSJRTS\n",
      "user_name: vroomvroomveer Time: 2022-04-23 23:42:03+00:00 Tweeted: Learned that when you work in business with your spouse you need boundaries; you need to keep the bedroom the bedro… https://t.co/KhL6bu3sq4\n",
      "user_name: Dan_Landsman Time: 2022-04-23 23:41:58+00:00 Tweeted: @RossWBermanIV I haven’t seen Northman yet but I wouldn’t mind Jamie Lee Curtis taking home her first Oscar.\n",
      "user_name: aprilmoltok Time: 2022-04-23 23:41:54+00:00 Tweeted: RT @TheChalya: My girl got married!!!! 🥰❤️ @kemiadetiba gorgeousness!!!! “My wife” Oscar said, as he took a mesmerized glance at his new br…\n",
      "user_name: aloofdragons Time: 2022-04-23 23:41:52+00:00 Tweeted: @jordanfisher @OscarIsaacInfo Absolutely LOVING the show. My favorite MCU series by far and every episode (for me)… https://t.co/Yb5tNVKqRz\n",
      "user_name: ahhhchriss Time: 2022-04-23 23:41:48+00:00 Tweeted: RT @PopCrave: Oscar Isaac attended a viewing party for the season finale of RuPaul’s #DragRace at a gay bar in Brooklyn. https://t.co/8zjnb…\n",
      "user_name: _crfjuliana Time: 2022-04-23 23:41:46+00:00 Tweeted: RT @PopCrave: Oscar Isaac attended a viewing party for the season finale of RuPaul’s #DragRace at a gay bar in Brooklyn. https://t.co/8zjnb…\n",
      "user_name: RandomRandolph Time: 2022-04-23 23:41:43+00:00 Tweeted: RT @lazulcapital: $JEWEL redemption arc will deserve an Oscar\n",
      "user_name: TheOtherPeep Time: 2022-04-23 23:41:39+00:00 Tweeted: RT @MetroUK: Heartstopper has finally landed on Netflix and the secret is out: Nick Nelson’s mother is played by actual Oscar-winner and al…\n",
      "user_name: NYBulldawg Time: 2022-04-23 23:41:29+00:00 Tweeted: @londonstheory @Oscar__NBA @FreeMalikMonk I can see that being the deal in the end.\n",
      "user_name: twenty22tooo Time: 2022-04-23 23:41:20+00:00 Tweeted: RT @TheFigen: Dog deserves Oscar for his acting performance. ❤️😂😂\n",
      "https://t.co/5hB9zcZSAg\n",
      "user_name: blackdisney1 Time: 2022-04-23 23:41:18+00:00 Tweeted: @MikeKalinowski It's 6 episodes and probably seen more Oscar Isaac face than Moon Knight. Maybe seen total of 30 mi… https://t.co/OokUc3IgxU\n",
      "user_name: isaachastain Time: 2022-04-23 23:41:17+00:00 Tweeted: welcome!! here is a safe place for all jessica e oscar stans, i hope u enjoy &lt;3 https://t.co/SkiyXgtjmY\n"
     ]
    },
    {
     "name": "stderr",
     "output_type": "stream",
     "text": [
      "Unexpected parameter: since\n"
     ]
    },
    {
     "name": "stdout",
     "output_type": "stream",
     "text": [
      "user_name: Brendanrod25 Time: 2022-04-23 23:41:15+00:00 Tweeted: RT @fuzzyfromyt: Some good perspective from Oscar Mercado. https://t.co/UvR3XmnHWT\n",
      "user_name: Sask_BlueJays Time: 2022-04-23 23:41:00+00:00 Tweeted: RT @Spenred: Tough scene here in New York, as Guardians RF Oscar Mercado’s vaccination card falls out of his back pocket and fans react in…\n",
      "user_name: Oscar_jr44 Time: 2022-04-23 23:40:51+00:00 Tweeted: RT @PSG_English: 🎉 “Champions my brother!“\n",
      "\n",
      "The joy of the Parisians after the final whistle!\n",
      "\n",
      "🔴 #𝗖𝗛𝗔𝗠𝗣𝟭𝟬𝗡𝗦 🔵 https://t.co/Oe9w8jfM81\n",
      "user_name: whatajs Time: 2022-04-23 23:40:51+00:00 Tweeted: RT @LandesBrock: And the Oscar Award goes to… https://t.co/kxhyrNGYBM\n",
      "user_name: Yanks_Coverage Time: 2022-04-23 23:40:42+00:00 Tweeted: RT @HicksRBW: I trust Oscar Mercado's words\n",
      "user_name: JuuuuustNick Time: 2022-04-23 23:40:41+00:00 Tweeted: RT @MLBONFOX: Guardians outfielder Oscar Mercado describes what happened when Yankees fans started throwing trash at him on the field &amp; wha…\n",
      "user_name: londonstheory Time: 2022-04-23 23:40:38+00:00 Tweeted: @NYBulldawg @Oscar__NBA @FreeMalikMonk neither deuce or cam are doing anything — we’re better off keeping them \n",
      "\n",
      "gr… https://t.co/91kezy7y7C\n",
      "user_name: KTN12201 Time: 2022-04-23 23:40:33+00:00 Tweeted: RT @LisaDock84: Can you believe Johhny Depp has never won an oscar 😳😳 probably the most diverse Actor there is.. i guess its better to wond…\n",
      "user_name: 4youtoSmile Time: 2022-04-23 23:40:33+00:00 Tweeted: True friends stab you in the front.\n",
      "~ Oscar Wilde\n",
      "user_name: itsuhflower Time: 2022-04-23 23:40:31+00:00 Tweeted: RT @gwenoverflowers: Episode 7 of #Pachinko is a masterpiece of writing, filmmaking, cinematography and acting. I can’t even describe Lee M…\n",
      "user_name: TheMarkovOffice Time: 2022-04-23 23:40:28+00:00 Tweeted: DWIGHT: How are you late?\n",
      "OSCAR: I guess I'll take a genius to know what's wrong with that woman.\n",
      "user_name: pimdaow_xx Time: 2022-04-23 23:40:25+00:00 Tweeted: RT @CHUANG_Official: #CHUANG2021Final \n",
      "Flowers in full bloom🌸 \n",
      "Saying the best wishes to trainees \n",
      "Boys~ Please take it! ️\n",
      "\n",
      "#Oscar #BoYuan…\n",
      "user_name: tyson_kehler13 Time: 2022-04-23 23:40:25+00:00 Tweeted: RT @fuzzyfromyt: Some good perspective from Oscar Mercado. https://t.co/UvR3XmnHWT\n",
      "user_name: pimdaow_xx Time: 2022-04-23 23:40:23+00:00 Tweeted: RT @CHUANG_Official: #CHUANG2021Final \n",
      "Red Carpet Time \n",
      "Funny and interesting are our style 😎\n",
      "\n",
      "#Oscar #GanWangxing #Hiroto #RikiMaru #Santa…\n",
      "user_name: noslin4 Time: 2022-04-23 23:40:23+00:00 Tweeted: RT @ZackMeisel: Myles Straw has no regrets. Oscar Mercado pleaded for consequences for unruly fan behavior. Josh Naylor wondered why anyone…\n"
     ]
    },
    {
     "name": "stderr",
     "output_type": "stream",
     "text": [
      "Unexpected parameter: since\n"
     ]
    },
    {
     "name": "stdout",
     "output_type": "stream",
     "text": [
      "user_name: pimdaow_xx Time: 2022-04-23 23:40:19+00:00 Tweeted: RT @CHUANG_Official: #CHUANG2021Final \n",
      "&gt;&gt;We Are The Youth📸\n",
      "\n",
      "#Oscar #OscarWang #Nine #นายท่านกรชิต #NinexWeAreTheYouth #RikiMaru #RIKIMARUxW…\n",
      "user_name: opp_jake Time: 2022-04-23 23:40:19+00:00 Tweeted: @Marcbuffbagwell Oscar worthy performance\n",
      "user_name: oscar_barroso Time: 2022-04-23 23:40:10+00:00 Tweeted: Suit up ☘️\n",
      "user_name: ScottMoore0 Time: 2022-04-23 23:40:07+00:00 Tweeted: @DUPleader Like, if Ooops was able to be a battle rapper and at one point a state representative in the US, and hav… https://t.co/bBEzr4x34g\n",
      "user_name: BohoGypsyVibes Time: 2022-04-23 23:40:06+00:00 Tweeted: RT @TheAcademy: Marlee Matlin in 'Children of a Lesser God' where she played Sarah, a deaf custodian who develops a romantic relationship w…\n",
      "user_name: MaharshiMaganti Time: 2022-04-23 23:40:06+00:00 Tweeted: @ndtv Deserves Oscar for the quality of visual style and the documentary type feel. Excellent @ndtv guys 👏👏\n",
      "\n",
      "A full… https://t.co/Il0dA4HoSL\n",
      "user_name: LanceBolton_ Time: 2022-04-23 23:40:03+00:00 Tweeted: RT @fuzzyfromyt: Some good perspective from Oscar Mercado. https://t.co/UvR3XmnHWT\n",
      "user_name: whyclxra Time: 2022-04-23 23:40:01+00:00 Tweeted: RT @bestofsos: someone please call the academy to give them an oscar https://t.co/K8nmTSJRTS\n",
      "user_name: WLOS_13 Time: 2022-04-23 23:40:00+00:00 Tweeted: “Due to an oversight in preparation for lethal injection, the scheduled execution of Oscar Smith will not move forw… https://t.co/1ToIcC1zMj\n",
      "user_name: RyanMadera24 Time: 2022-04-23 23:39:59+00:00 Tweeted: RT @fuzzyfromyt: Some good perspective from Oscar Mercado. https://t.co/UvR3XmnHWT\n",
      "user_name: xje_n0 Time: 2022-04-23 23:39:46+00:00 Tweeted: RT @FafeDays: I should take Oscar for the way I’m acting these days😓\n",
      "user_name: THE__TIL___ Time: 2022-04-23 23:39:43+00:00 Tweeted: RT @ESPNStatsInfo: Through 6 pts Friday, Trae Young has 500 career postseason pts becoming the fastest &amp; youngest in Hawks postseason histo…\n",
      "user_name: Holly3Golightl1 Time: 2022-04-23 23:39:42+00:00 Tweeted: RT @mariatontini1: I adore simple pleasures.\n",
      "\n",
      "They are the last refuge\n",
      "\n",
      "of the complex.\n",
      "\n",
      "-\n",
      "\n",
      "🖋Oscar Wilde\n",
      "🖼 Bouquet of Flowers \n",
      "2009\n",
      "🖌Gerhar…\n",
      "user_name: mommyNancy212 Time: 2022-04-23 23:39:39+00:00 Tweeted: RT @NYBulldawg: @londonstheory @Oscar__NBA @FreeMalikMonk Thats the ticket imo. We can def put guys like QG/mcbride/cam in a deal and it wi…\n",
      "user_name: ElVerdugo5 Time: 2022-04-23 23:39:16+00:00 Tweeted: RT @fuzzyfromyt: Some good perspective from Oscar Mercado. https://t.co/UvR3XmnHWT\n"
     ]
    },
    {
     "name": "stderr",
     "output_type": "stream",
     "text": [
      "Unexpected parameter: since\n"
     ]
    },
    {
     "name": "stdout",
     "output_type": "stream",
     "text": [
      "user_name: YDandz Time: 2022-04-23 23:39:14+00:00 Tweeted: Feel like Oscar Isaac is slowly getting Ryan Reynolds status from fanboys\n",
      "user_name: yolly22 Time: 2022-04-23 23:39:09+00:00 Tweeted: RT @edbobgreen: @QuoteDigging @KFILE @kenjeong “Some cause happiness wherever they go;\n",
      "  others, whenever they go.”\n",
      "  ― Oscar Wilde\n",
      "user_name: matthew_peirson Time: 2022-04-23 23:39:05+00:00 Tweeted: RT @LandesBrock: And the Oscar Award goes to… https://t.co/kxhyrNGYBM\n",
      "user_name: editsdiff Time: 2022-04-23 23:39:04+00:00 Tweeted: RT @LandesBrock: And the Oscar Award goes to… https://t.co/kxhyrNGYBM\n",
      "user_name: WSpark98NZ2 Time: 2022-04-23 23:39:02+00:00 Tweeted: RT @poeskys: oh to be in a bar in new york with oscar isaac watching rupaul's drag race finale\n",
      "user_name: Luka9410 Time: 2022-04-23 23:38:57+00:00 Tweeted: @KaloneMarl 1.Magic 2.Isiah Thomas 3.Penny Hardaway 4.Oscar  Robertson 5.Chris Paul 6.John Stockton 7.Steph Curry (… https://t.co/vr0FB4C5Ll\n",
      "user_name: Oscar_jr44 Time: 2022-04-23 23:38:53+00:00 Tweeted: @Seniorszn_ Messi's Smile 🤭❤\n",
      "user_name: NYBulldawg Time: 2022-04-23 23:38:52+00:00 Tweeted: @londonstheory @Oscar__NBA @FreeMalikMonk Thats the ticket imo. We can def put guys like QG/mcbride/cam in a deal and it will tip the scales\n",
      "user_name: F19489996 Time: 2022-04-23 23:38:44+00:00 Tweeted: RT @IgathePollycarp: Alfred Keter tribulations in UDA should act as an eye opener to Kikuyus and other Kenyan tribes following William Ruto…\n",
      "user_name: npparikh Time: 2022-04-23 23:38:41+00:00 Tweeted: @golikehellmachi Oscar Wilde, “The Decay of Lying” https://t.co/GNkjLeHO4x\n",
      "user_name: enjoyment_zaddy Time: 2022-04-23 23:38:32+00:00 Tweeted: RT @OneJoblessBoy: The real wedding party! Congratulations Kemi Adetiba and Oscar 😍😍😍🫂 https://t.co/fCzYfiHoLf\n",
      "user_name: BarrelJumpist Time: 2022-04-23 23:38:31+00:00 Tweeted: Better acted scene than most Oscar noms\n",
      "user_name: bravostan_ Time: 2022-04-23 23:38:27+00:00 Tweeted: RT @ScarlettOBravo: @GossipInformer Erika is nothing but empty threats and Oscar performing deliveries. Like what you said in your tweet, p…\n",
      "user_name: DragginKnuckles Time: 2022-04-23 23:38:24+00:00 Tweeted: undoctored version of william smith killing christopher rock @ the Oscar https://t.co/hYfLC1bOlp\n",
      "user_name: pimdaow_xx Time: 2022-04-23 23:38:20+00:00 Tweeted: RT @CHUANG_Official: #CHUANG2021Final \n",
      "&gt;&gt;We Are The Youth\n",
      "\n",
      "#Oscar #OscarWang #Nine #นายท่านกรชิต #NinexWeAreTheYouth #RikiMaru #RIKIMARUxWe…\n"
     ]
    },
    {
     "name": "stderr",
     "output_type": "stream",
     "text": [
      "Unexpected parameter: since\n"
     ]
    },
    {
     "name": "stdout",
     "output_type": "stream",
     "text": [
      "user_name: Donuts4Dollars Time: 2022-04-23 23:38:18+00:00 Tweeted: RT @fox8news: “It’s almost like, it’s acts of violence. You can’t say stuff like that, especially when someone gets hurt,\" Oscar Mercado sa…\n",
      "user_name: RaTraci Time: 2022-04-23 23:38:16+00:00 Tweeted: RT @RenGeekness: The Face/Off remake should be Pedro Pascal and Oscar Isaac.\n",
      "\n",
      "That's the tweet\n",
      "user_name: _SamuelBreezy Time: 2022-04-23 23:38:11+00:00 Tweeted: @boyowa_samuel Same here...\n",
      "\n",
      "And it eventually won an Oscar\n",
      "user_name: Oscar_jr44 Time: 2022-04-23 23:38:08+00:00 Tweeted: RT @Seniorszn_: TALKING OF FRIENDSHIP GOALS MESSI × NEYMAR HAD A REAL ONE https://t.co/fCh2VUz6Ac\n",
      "user_name: 4youtoSmile Time: 2022-04-23 23:38:06+00:00 Tweeted: He has no enemies, but is intensely disliked by his friends.\n",
      "~ Oscar Wilde\n",
      "user_name: childgolden Time: 2022-04-23 23:37:59+00:00 Tweeted: RT @LanaMcKissack: And the Oscar goes to…\n",
      "\n",
      "BEAR https://t.co/ekrANHAiQs\n",
      "user_name: BrandenWehe Time: 2022-04-23 23:37:58+00:00 Tweeted: RT @ZackMeisel: Myles Straw has no regrets. Oscar Mercado pleaded for consequences for unruly fan behavior. Josh Naylor wondered why anyone…\n",
      "user_name: DavidRThomas3 Time: 2022-04-23 23:37:57+00:00 Tweeted: RT @BallySportsCLE: Oscar Mercado describes what happened in the outfield at the end of the game and what caused the whole scene. \n",
      "\n",
      "#ForThe…\n",
      "user_name: londonstheory Time: 2022-04-23 23:37:57+00:00 Tweeted: @NYBulldawg @Oscar__NBA @FreeMalikMonk cleveland doesn’t have 2 expendable young players and the knicks have the ab… https://t.co/UmAxZFOJCW\n",
      "user_name: joshdw3 Time: 2022-04-23 23:37:56+00:00 Tweeted: RT @JoeTrezz: In the Guardians clubhouse, Miles Straw and Oscar Mercado both said they reacted to fans taunting Steven Kwan after Kwan was…\n",
      "user_name: Caseylee47 Time: 2022-04-23 23:37:53+00:00 Tweeted: @Ernieclem He was a gangsta about it, Cleveland rides with him and Oscar regardless here on out\n",
      "user_name: dreamwasbakin Time: 2022-04-23 23:37:51+00:00 Tweeted: RT @hannahromanovah: Manifesting: Oscar Isaac deserves an Emmy Award  for playing multiple personalities https://t.co/V9ah9NaQPj\n",
      "user_name: preciii_b Time: 2022-04-23 23:37:50+00:00 Tweeted: @Oscar_Mosh no, material gworlllll\n",
      "user_name: __jordeezy Time: 2022-04-23 23:37:49+00:00 Tweeted: RT @fuzzyfromyt: Some good perspective from Oscar Mercado. https://t.co/UvR3XmnHWT\n",
      "user_name: ZeroRoyals Time: 2022-04-23 23:37:48+00:00 Tweeted: RT @chaoticmulaney: 2022 vanity fair oscar party 🖤 https://t.co/lYIFRlbbIA\n"
     ]
    },
    {
     "name": "stderr",
     "output_type": "stream",
     "text": [
      "Unexpected parameter: since\n"
     ]
    },
    {
     "name": "stdout",
     "output_type": "stream",
     "text": [
      "user_name: austin25butt Time: 2022-04-23 23:37:40+00:00 Tweeted: RT @KyleTucker_ATH: RETURNING\n",
      "Sahvir Wheeler\n",
      "CJ Fredrick (injured last year)\n",
      "Jacob Toppin\n",
      "Oscar Tshiebwe \n",
      "Daimion Collins\n",
      "Lance Ware\n",
      "(Keion…\n",
      "user_name: SamanthaPostman Time: 2022-04-23 23:37:34+00:00 Tweeted: RT @Philosophy_DQ: 15 Powerful Philosophy Quotes From \"Oscar Wilde\"\n",
      "\n",
      "| Thread https://t.co/vfAMKFwgte\n",
      "user_name: JGFoundSuccess Time: 2022-04-23 23:37:34+00:00 Tweeted: RT @fuzzyfromyt: Some good perspective from Oscar Mercado. https://t.co/UvR3XmnHWT\n",
      "user_name: dreamwasbakin Time: 2022-04-23 23:37:28+00:00 Tweeted: RT @marvelxkaz: head empty just oscar isaac's hair https://t.co/b6fgm4jxl4\n",
      "user_name: GryKngBlakState Time: 2022-04-23 23:37:18+00:00 Tweeted: This is what Oprah's couch, used to be for.. \n",
      "\n",
      "#WillSaidFxckThatRedTable ✈️ \n",
      "\n",
      "Smiling Will Smith is seen for the fi… https://t.co/h6GYNtqk1u\n",
      "user_name: NYBulldawg Time: 2022-04-23 23:37:17+00:00 Tweeted: @Oscar__NBA @FreeMalikMonk Yeah. Just a minor distinction on can. A little pedantic i know. Id still put money on dmitch being a knick\n",
      "user_name: thekenneth0 Time: 2022-04-23 23:37:16+00:00 Tweeted: RT @gmanetwork: Several Belo Babies just met \"Crazy Rich Asians\" author Kevin Kwan and Oscar-winning American film producer Lawrence Bender…\n",
      "user_name: dreamwasbakin Time: 2022-04-23 23:37:14+00:00 Tweeted: RT @Multiverse_KnDm: Oscar Isaac \"They can call me daddy if they want to\" 🤣 https://t.co/jAFMsHfWR9\n",
      "user_name: MSonic100 Time: 2022-04-23 23:37:12+00:00 Tweeted: RT @Domestic_Maid: The Oscars last night was something else. I can't help but imagine Oscar slapping Marty lol. https://t.co/wg4e9QV5wb\n",
      "user_name: DaniP2020 Time: 2022-04-23 23:37:12+00:00 Tweeted: @oscar_mayer11 Pretty sure everyone on this thread knows this well...just be sure to remember what ruined CA/NY/IL… https://t.co/oNJPIzDvwn\n",
      "user_name: TheRealHoarse Time: 2022-04-23 23:36:58+00:00 Tweeted: @ksorbs If they gave an Oscar for stupidity, you’d win every year.\n",
      "user_name: alltheroselouis Time: 2022-04-23 23:36:49+00:00 Tweeted: RT @bestofsos: someone please call the academy to give them an oscar https://t.co/K8nmTSJRTS\n",
      "user_name: SueTanMinoz Time: 2022-04-23 23:36:45+00:00 Tweeted: RT @Samuraigodzilla: If you tried Pachinko but couldn’t get into it, try episode 7, a self contained episode that takes place before the re…\n",
      "user_name: graf_nj Time: 2022-04-23 23:36:43+00:00 Tweeted: RT @MLBONFOX: Guardians outfielder Oscar Mercado describes what happened when Yankees fans started throwing trash at him on the field &amp; wha…\n",
      "user_name: jessica32678922 Time: 2022-04-23 23:36:43+00:00 Tweeted: RT @mariatontini1: I adore simple pleasures.\n",
      "\n",
      "They are the last refuge\n",
      "\n",
      "of the complex.\n",
      "\n",
      "-\n",
      "\n",
      "🖋Oscar Wilde\n",
      "🖼 Bouquet of Flowers \n",
      "2009\n",
      "🖌Gerhar…\n"
     ]
    },
    {
     "name": "stderr",
     "output_type": "stream",
     "text": [
      "Unexpected parameter: since\n"
     ]
    },
    {
     "name": "stdout",
     "output_type": "stream",
     "text": [
      "user_name: Oscar_jr44 Time: 2022-04-23 23:36:42+00:00 Tweeted: RT @ArtisteTag: Don't don't drop a song without HYPE.\n",
      "\n",
      "You're not wizkid.\n",
      "user_name: londonstheory Time: 2022-04-23 23:36:41+00:00 Tweeted: @NYBulldawg @Oscar__NBA @FreeMalikMonk they need depth more than draft picks\n",
      "user_name: Rue333_ Time: 2022-04-23 23:36:40+00:00 Tweeted: RT @hulme_steph: @FilmUpdates When RuPaul’s Secret Celebrity Drag Race returns. Could we please get Pedro Pascal and Oscar Isaac on it as c…\n",
      "user_name: savilapinilla Time: 2022-04-23 23:36:38+00:00 Tweeted: RT @PopCrave: Oscar Isaac attended a viewing party for the season finale of RuPaul’s #DragRace at a gay bar in Brooklyn. https://t.co/8zjnb…\n",
      "user_name: lexiiandria Time: 2022-04-23 23:36:38+00:00 Tweeted: RT @FilmUpdates: Oscar Isaac attended a viewing party for the season finale of Rupaul’s Drag Race at a gay bar in Brooklyn. https://t.co/4e…\n",
      "user_name: DeweniIolanda Time: 2022-04-23 23:36:32+00:00 Tweeted: Not the Oscar slap still being a topic of conversation?!?!\n",
      "user_name: DrWutt Time: 2022-04-23 23:36:31+00:00 Tweeted: I think @CleGuardians outfielder Oscar Mercado is absolutely correct. He's being rational and reasonable. I hope th… https://t.co/2MlLw6F1Uu\n",
      "user_name: amandak06 Time: 2022-04-23 23:36:29+00:00 Tweeted: RT @ZackMeisel: Myles Straw has no regrets. Oscar Mercado pleaded for consequences for unruly fan behavior. Josh Naylor wondered why anyone…\n",
      "user_name: Rae9684702 Time: 2022-04-23 23:36:27+00:00 Tweeted: there's literally nothing that keeps me going except oscar so he better live until 90 cuz im gone when he is 😂\n",
      "user_name: hradesi14 Time: 2022-04-23 23:36:26+00:00 Tweeted: Laughing at the thought of Oscar Isaac growing a mustache on command every time he switches personalities https://t.co/SCMqZiBDwg\n",
      "user_name: HPhoenixK Time: 2022-04-23 23:36:19+00:00 Tweeted: RT @catesdoormat: cate blanchett at the oscar and lucinda premier, 1997 https://t.co/5lqsks4bTW\n",
      "user_name: Oscar__NBA Time: 2022-04-23 23:36:18+00:00 Tweeted: @NYBulldawg @FreeMalikMonk oh well yeah obviously Knicks can't beat DG lol. I'm assuming they don't move him Mobley or Allen\n",
      "user_name: GregWildSmith Time: 2022-04-23 23:36:15+00:00 Tweeted: @seldo … are you seriously pretending he wasn’t a major, Oscar winning, actor…?\n",
      "user_name: Rue333_ Time: 2022-04-23 23:36:14+00:00 Tweeted: RT @FilmUpdates: Oscar Isaac attended a viewing party for the season finale of Rupaul’s Drag Race at a gay bar in Brooklyn. https://t.co/4e…\n",
      "user_name: altaftarar7 Time: 2022-04-23 23:36:14+00:00 Tweeted: RT @EzuieQuotes: \"Be yourself; everyone else is taken.\" - Oscar Wilde\n"
     ]
    },
    {
     "name": "stderr",
     "output_type": "stream",
     "text": [
      "Unexpected parameter: since\n"
     ]
    },
    {
     "name": "stdout",
     "output_type": "stream",
     "text": [
      "user_name: Muhamma61643684 Time: 2022-04-23 23:36:10+00:00 Tweeted: American CIA Produced only 1 Terror Drama 9/11 but Mata Agency RAW shud b given Oscar Award 4 Shooting of Parliamen… https://t.co/1zWlZoyE2I\n",
      "user_name: GRAYSQNS Time: 2022-04-23 23:36:09+00:00 Tweeted: RT @FilmUpdates: Oscar Isaac attended a viewing party for the season finale of Rupaul’s Drag Race at a gay bar in Brooklyn. https://t.co/4e…\n",
      "user_name: OreonShake Time: 2022-04-23 23:35:59+00:00 Tweeted: RT @FilmUpdates: Oscar Isaac attended a viewing party for the season finale of Rupaul’s Drag Race at a gay bar in Brooklyn. https://t.co/4e…\n",
      "user_name: alkerton Time: 2022-04-23 23:35:59+00:00 Tweeted: The King Tut sketch (in its entirety) is a great gag. So is Christmas Wishes. I can still quote his Oscar hosting g… https://t.co/1R8doFOKkE\n",
      "user_name: odin866 Time: 2022-04-23 23:35:57+00:00 Tweeted: RT @mariatontini1: I adore simple pleasures.\n",
      "\n",
      "They are the last refuge\n",
      "\n",
      "of the complex.\n",
      "\n",
      "-\n",
      "\n",
      "🖋Oscar Wilde\n",
      "🖼 Bouquet of Flowers \n",
      "2009\n",
      "🖌Gerhar…\n",
      "user_name: W_R_4 Time: 2022-04-23 23:35:48+00:00 Tweeted: When the haters won’t stop telling me there’s no way Nic Cage’s new movie can win an Oscar \n",
      "\n",
      " https://t.co/W7wnaGtlDY\n",
      "user_name: larus_lemara Time: 2022-04-23 23:35:26+00:00 Tweeted: RT @sabinachege01: Dear Kikuyus  open your eyes wide. Just look at the tribulations Alfred keter is going through, the dictator William Rut…\n",
      "user_name: kandanguero Time: 2022-04-23 23:35:23+00:00 Tweeted: RT @ZackMeisel: Myles Straw has no regrets. Oscar Mercado pleaded for consequences for unruly fan behavior. Josh Naylor wondered why anyone…\n",
      "user_name: NYBulldawg Time: 2022-04-23 23:35:15+00:00 Tweeted: @Oscar__NBA @FreeMalikMonk Cleveland “can” they just wont. Like, if they throw DG at em, theyll say yes. I think it… https://t.co/8RPyznLXzs\n",
      "user_name: surviving_anna Time: 2022-04-23 23:35:12+00:00 Tweeted: RT @TheChalya: My girl got married!!!! 🥰❤️ @kemiadetiba gorgeousness!!!! “My wife” Oscar said, as he took a mesmerized glance at his new br…\n",
      "user_name: gainer_josh Time: 2022-04-23 23:35:11+00:00 Tweeted: RT @BallySportsCLE: Oscar Mercado describes what happened in the outfield at the end of the game and what caused the whole scene. \n",
      "\n",
      "#ForThe…\n",
      "user_name: SlippyfopTV Time: 2022-04-23 23:35:06+00:00 Tweeted: RT @OPichelskiBooks: The final Oscar Pat book was meant to come out this month but it has been delayed and pushed back to \"2022\". Although,…\n",
      "user_name: brinacalm Time: 2022-04-23 23:35:03+00:00 Tweeted: RT @bestofsos: someone please call the academy to give them an oscar https://t.co/K8nmTSJRTS\n",
      "user_name: ma_schneiderr Time: 2022-04-23 23:35:03+00:00 Tweeted: RT @jhbmoments: justin and hailey bieber with oscar https://t.co/KnKS1GJ3CZ\n",
      "user_name: reflected_oscar Time: 2022-04-23 23:35:00+00:00 Tweeted: @iiifalcoiii we used to see it😗\n"
     ]
    },
    {
     "name": "stderr",
     "output_type": "stream",
     "text": [
      "Unexpected parameter: since\n"
     ]
    },
    {
     "name": "stdout",
     "output_type": "stream",
     "text": [
      "user_name: Oscar_jr44 Time: 2022-04-23 23:34:56+00:00 Tweeted: RT @mcphils_: This got to be the best real life GTA experience😂 https://t.co/fS1GTifwGz\n",
      "user_name: Mrs_Beauty17 Time: 2022-04-23 23:34:52+00:00 Tweeted: RT @EzuieQuotes: \"Be yourself; everyone else is taken.\" - Oscar Wilde\n",
      "user_name: Oscar__Bear Time: 2022-04-23 23:34:50+00:00 Tweeted: RT @RyanPlush: @chillybons I've been a huge fan of @Ichigodawashi's wonderful ferret art for a long time, so I am overjoyed that they drew…\n",
      "user_name: Partysquid427 Time: 2022-04-23 23:34:48+00:00 Tweeted: oscar isaac does not fit as timothy chalamet’s dad\n",
      "user_name: db111225 Time: 2022-04-23 23:34:44+00:00 Tweeted: RT @fuzzyfromyt: Some good perspective from Oscar Mercado. https://t.co/UvR3XmnHWT\n",
      "user_name: alxcake Time: 2022-04-23 23:34:44+00:00 Tweeted: RT @bestofsos: someone please call the academy to give them an oscar https://t.co/K8nmTSJRTS\n",
      "user_name: KabirChohan1 Time: 2022-04-23 23:34:42+00:00 Tweeted: RT @fuzzyfromyt: Some good perspective from Oscar Mercado. https://t.co/UvR3XmnHWT\n",
      "user_name: villqiin Time: 2022-04-23 23:34:40+00:00 Tweeted: RT @as_artrat_: *Oscar Isaac in Moon Knight brainrot intensifies* but it's pixel fanart by me &lt;3 #MoonKnight @moonknight https://t.co/KBFwg…\n",
      "user_name: albundynycity Time: 2022-04-23 23:34:36+00:00 Tweeted: @OscarPr31751228 This is what I do when I’m bored … Oscar get on my level .. these going for more than these dunks… https://t.co/Yw2Bj8UR8J\n",
      "user_name: Coach_Russell_K Time: 2022-04-23 23:34:35+00:00 Tweeted: Vancouver Community  6  (Batting: #7 Oscar Moy)\n",
      "Township Blue Sox  2  (Pitching: #10 Ethan Johnson)\n",
      "Top of 6th \n",
      "#iscore\n",
      "user_name: Oscar_9668 Time: 2022-04-23 23:34:32+00:00 Tweeted: All the traviesos and traviesas are out today 😈\n",
      "user_name: izzarelli Time: 2022-04-23 23:34:28+00:00 Tweeted: RT @BallySportsCLE: Oscar Mercado describes what happened in the outfield at the end of the game and what caused the whole scene. \n",
      "\n",
      "#ForThe…\n",
      "user_name: dounardbondo Time: 2022-04-23 23:34:26+00:00 Tweeted: RT @TheChalya: My girl got married!!!! 🥰❤️ @kemiadetiba gorgeousness!!!! “My wife” Oscar said, as he took a mesmerized glance at his new br…\n",
      "user_name: pauldanoishot Time: 2022-04-23 23:34:19+00:00 Tweeted: RT @jakeIockley: goodnight oscar isaac stans &lt;3 \n",
      "ur all so real\n",
      "user_name: taiwo_oduneye Time: 2022-04-23 23:34:12+00:00 Tweeted: RT @OneJoblessBoy: The real wedding party! Congratulations Kemi Adetiba and Oscar 😍😍😍🫂 https://t.co/fCzYfiHoLf\n"
     ]
    },
    {
     "name": "stderr",
     "output_type": "stream",
     "text": [
      "Unexpected parameter: since\n"
     ]
    },
    {
     "name": "stdout",
     "output_type": "stream",
     "text": [
      "user_name: DaniP2020 Time: 2022-04-23 23:34:07+00:00 Tweeted: @oscar_mayer11 Sold ours in 2021. Just bought a home in SC....escaping asap.\n",
      "user_name: wahootribe1 Time: 2022-04-23 23:34:06+00:00 Tweeted: @eileen548 @MLBONFOX No? But Myles straw and Oscar mercado were😂Myles said he listens to trash talk all day and mer… https://t.co/0q3bKg0Q77\n",
      "user_name: DevoneDer Time: 2022-04-23 23:34:05+00:00 Tweeted: RT @PopCrave: Oscar Isaac attended a viewing party for the season finale of RuPaul’s #DragRace at a gay bar in Brooklyn. https://t.co/8zjnb…\n",
      "user_name: Davryme Time: 2022-04-23 23:34:04+00:00 Tweeted: @RayoKasali Oscar you're the best.....\n",
      "user_name: _Pink_Freud__ Time: 2022-04-23 23:33:59+00:00 Tweeted: RT @fuzzyfromyt: Some good perspective from Oscar Mercado. https://t.co/UvR3XmnHWT\n",
      "user_name: BigBastie Time: 2022-04-23 23:33:52+00:00 Tweeted: @Oscar_NightT @8evanjames You look like a slug mate\n",
      "user_name: oscar_otherside Time: 2022-04-23 23:33:51+00:00 Tweeted: RT @IuliiaMendel: Mother, daughter and granny. All three killed today in Odesa. Happy Easter, Mr.putin. The Heaven will never accept you. h…\n",
      "user_name: RayPierreClown Time: 2022-04-23 23:33:45+00:00 Tweeted: @TheRealirisu @zentreya AHAHAHHAH I should get an oscar for that\n",
      "user_name: Sakthi95736345 Time: 2022-04-23 23:33:41+00:00 Tweeted: RT @loki_edit: Kamal sir don't deserve oscar .Oscar deserves kamal sir.💥God of indian cinema 🙏 waiting for Vikram 💥🥁 https://t.co/wk4puZ0aGW\n",
      "user_name: WausonJason Time: 2022-04-23 23:33:38+00:00 Tweeted: @realOscarRamos1 Hey Oscar anything wrong with mm on the defi wallet mine won't load anything ?\n",
      "user_name: adorebhadid Time: 2022-04-23 23:33:37+00:00 Tweeted: RT @bestofsos: someone please call the academy to give them an oscar https://t.co/K8nmTSJRTS\n",
      "user_name: family_inmate Time: 2022-04-23 23:33:32+00:00 Tweeted: RT @tim_fargo: Be yourself; everyone else is already taken. - Oscar Wilde #quote\n",
      "#WeekendWisdom https://t.co/SCovn9Vcwj\n",
      "user_name: gutterpunk4life Time: 2022-04-23 23:33:27+00:00 Tweeted: @ThatEricAlper Ever? That's tough. There's no denying the power of Freddie Mercury, or Steven Tyler, but we can't o… https://t.co/DsNEJeNY3s\n",
      "user_name: Oscar_jr44 Time: 2022-04-23 23:33:26+00:00 Tweeted: RT @ESPNFC: Just a casual title-winning goal for Lionel Messi tonight 🐐 https://t.co/gHhNCbmNe3\n",
      "user_name: kicourtney26 Time: 2022-04-23 23:33:23+00:00 Tweeted: i can jump and play the trumpet at the same time. where’s MY oscar!\n"
     ]
    },
    {
     "name": "stderr",
     "output_type": "stream",
     "text": [
      "Unexpected parameter: since\n"
     ]
    },
    {
     "name": "stdout",
     "output_type": "stream",
     "text": [
      "user_name: ChadSchimke Time: 2022-04-23 23:33:22+00:00 Tweeted: Framed Oscar Wilde on my blog https://t.co/Quhe5LiO6f https://t.co/zPjLXgcm8J\n",
      "user_name: Oscar_jr44 Time: 2022-04-23 23:33:21+00:00 Tweeted: RT @FCBarcelona: Ansuuuuuuuuuuuu!!!!!!! https://t.co/lx8ElU5gS6\n",
      "user_name: CalvinJude_ Time: 2022-04-23 23:33:12+00:00 Tweeted: RT @fuzzyfromyt: Some good perspective from Oscar Mercado. https://t.co/UvR3XmnHWT\n",
      "user_name: FredChristian10 Time: 2022-04-23 23:33:05+00:00 Tweeted: @DWapenveld Agree With All You Said Except He Articulates Like The Oscar Meyer Song ..... A Whiny Little Man\n",
      "user_name: AmberKe11y Time: 2022-04-23 23:32:45+00:00 Tweeted: @EmmaCha52509953 I know right? i was already crushed that Andrew wasn't winning the big awards and probably wasn't… https://t.co/mCpEtLzEK8\n",
      "user_name: Oscar_NightT Time: 2022-04-23 23:32:38+00:00 Tweeted: @8evanjames L take\n",
      "user_name: ReznicekBrennen Time: 2022-04-23 23:32:36+00:00 Tweeted: RT @MLBONFOX: Guardians outfielder Oscar Mercado describes what happened when Yankees fans started throwing trash at him on the field &amp; wha…\n",
      "user_name: darkieSZN Time: 2022-04-23 23:32:35+00:00 Tweeted: @Oscar_Mosh Material gworlll https://t.co/P3SiLoHLvA\n",
      "user_name: Airysv Time: 2022-04-23 23:32:33+00:00 Tweeted: RT @AnimationMentor: In honor of award season, we're highlighting this comedic performance from Ana Fabiani!\n",
      "\n",
      "Don't let anyone tell you wha…\n",
      "user_name: jaks_nutt Time: 2022-04-23 23:32:31+00:00 Tweeted: RT @MLBONFOX: Guardians outfielder Oscar Mercado describes what happened when Yankees fans started throwing trash at him on the field &amp; wha…\n",
      "user_name: NovaQuinn_3375 Time: 2022-04-23 23:32:27+00:00 Tweeted: RT @ZienaLove: @fvaraorta @TheAcademy @JLo I really get sad, frustrated and all the feels over again, knowing that Jennifer Lopez were snub…\n",
      "user_name: moulinswift Time: 2022-04-23 23:32:25+00:00 Tweeted: RT @FilmUpdates: Oscar Isaac attended a viewing party for the season finale of Rupaul’s Drag Race at a gay bar in Brooklyn. https://t.co/4e…\n",
      "user_name: Oscar_rv20 Time: 2022-04-23 23:32:21+00:00 Tweeted: And I wonder if you know\n",
      "What it means, what it means\n",
      "user_name: Oscar__NBA Time: 2022-04-23 23:32:18+00:00 Tweeted: @FreeMalikMonk Also I don't think Cleveland can make a better offer than the Knicks\n",
      "user_name: BksClark Time: 2022-04-23 23:32:14+00:00 Tweeted: RT @ESPNStatsInfo: Through 6 pts Friday, Trae Young has 500 career postseason pts becoming the fastest &amp; youngest in Hawks postseason histo…\n"
     ]
    },
    {
     "name": "stderr",
     "output_type": "stream",
     "text": [
      "Unexpected parameter: since\n"
     ]
    },
    {
     "name": "stdout",
     "output_type": "stream",
     "text": [
      "user_name: The_black_Otaku Time: 2022-04-23 23:32:13+00:00 Tweeted: RT @fuzzyfromyt: Some good perspective from Oscar Mercado. https://t.co/UvR3XmnHWT\n",
      "user_name: Egypttheconquer Time: 2022-04-23 23:32:02+00:00 Tweeted: RT @crystalwillseeu: I know she won the Oscar so this is a bit obvious, but Jessica Chastain in The Eyes of Tammy Faye is truly one of the…\n",
      "user_name: JollyMets Time: 2022-04-23 23:31:57+00:00 Tweeted: RT @MLBONFOX: Guardians outfielder Oscar Mercado describes what happened when Yankees fans started throwing trash at him on the field &amp; wha…\n",
      "user_name: Oscar__NBA Time: 2022-04-23 23:31:55+00:00 Tweeted: @FreeMalikMonk Spida is in the tier where he isn't going to location that isn't approved, and there's a much much m… https://t.co/MxusQ8Pi7M\n",
      "user_name: Lito_grimes Time: 2022-04-23 23:31:50+00:00 Tweeted: RT @fuzzyfromyt: Some good perspective from Oscar Mercado. https://t.co/UvR3XmnHWT\n",
      "user_name: axwildflower Time: 2022-04-23 23:31:40+00:00 Tweeted: RT @bestofsos: someone please call the academy to give them an oscar https://t.co/K8nmTSJRTS\n",
      "user_name: dacohenjunocom2 Time: 2022-04-23 23:31:39+00:00 Tweeted: @1__phoebe__1 I'm getting 2022 Oscar vibes when Will Smith slapped Chris Rock.😂😂😂\n",
      "user_name: bluejadeblue Time: 2022-04-23 23:31:39+00:00 Tweeted: RT @chaoticmulaney: 2022 vanity fair oscar party 🖤 https://t.co/lYIFRlbbIA\n",
      "user_name: OPichelskiBooks Time: 2022-04-23 23:31:36+00:00 Tweeted: The final Oscar Pat book was meant to come out this month but it has been delayed and pushed back to \"2022\". Althou… https://t.co/D7NeCYfuV1\n",
      "user_name: ElaineHemingwa6 Time: 2022-04-23 23:31:28+00:00 Tweeted: RT @WindsorDora: Having won the Oscar with a slap on the gold price, but after all Chirs was the winner, cos his talk show has sold out due…\n",
      "user_name: JGMT786 Time: 2022-04-23 23:31:26+00:00 Tweeted: @LiveLaughLamp @Charlesrane57 @abdi3lito @dambrose_k @ForeverSquadDC @wbd It much worse, because they've slainted e… https://t.co/MEPNemnSHP\n",
      "user_name: AE_icon Time: 2022-04-23 23:31:25+00:00 Tweeted: RT @RayoKasali: In case you're wondering who Kemi Adetiba's prince charming is...\n",
      "\n",
      "He is Oscar Herman-Acker the genius music maestro \"Oscar…\n",
      "user_name: reviewngnetwork Time: 2022-04-23 23:31:18+00:00 Tweeted: Mark Rylance in Bridge Of Spies, everybody wanted Sylvester Stallone to finally get that Oscar but if anybody else… https://t.co/uHRDf3xPU5\n",
      "user_name: Cleveland7G Time: 2022-04-23 23:31:07+00:00 Tweeted: RT @fuzzyfromyt: Some good perspective from Oscar Mercado. https://t.co/UvR3XmnHWT\n",
      "user_name: fattcxck Time: 2022-04-23 23:31:05+00:00 Tweeted: @egggbear Oscar is4ac is shaking https://t.co/M0dc9pX7KL\n"
     ]
    },
    {
     "name": "stderr",
     "output_type": "stream",
     "text": [
      "Unexpected parameter: since\n"
     ]
    },
    {
     "name": "stdout",
     "output_type": "stream",
     "text": [
      "user_name: captrex_ Time: 2022-04-23 23:31:05+00:00 Tweeted: Me a couple hours ago: I’m gonna watch dune cause I love Oscar Isaac and Jason Momoa.\n",
      "\n",
      "Me now: https://t.co/DPl9xPf5Cz\n",
      "user_name: Oscar_jr44 Time: 2022-04-23 23:31:02+00:00 Tweeted: RT @JolaOluDare: Aboki go charge you #100 from where Messi score that goal🐐\n",
      "user_name: CRockinter Time: 2022-04-23 23:30:57+00:00 Tweeted: RT @littlxwomen: jessica chastain and oscar isaac being the hottest duo \n",
      "https://t.co/FWaQLGFB94\n",
      "user_name: BronwynFranci Time: 2022-04-23 23:30:52+00:00 Tweeted: RT @EzuieQuotes: \"Be yourself; everyone else is taken.\" - Oscar Wilde\n",
      "user_name: thenaijalumia_ Time: 2022-04-23 23:30:46+00:00 Tweeted: #UndeniablyYours2022: The Guests at Kemi Adetiba &amp; Oscar Heman-Ackah’s Wedding Showed Up ‘Flamboyantly African’ https://t.co/oz3hz3KW47\n",
      "user_name: tatumtotter Time: 2022-04-23 23:30:46+00:00 Tweeted: @DemocraticDaisy @ksorbs Sorbet is jealous b/c he got nominated in a different category… Best canceled actor Oscar… https://t.co/cstl8Cz7I4\n",
      "user_name: 4youtoSmile Time: 2022-04-23 23:30:44+00:00 Tweeted: Hard work is simply the refuge of people who have nothing whatever to do.\n",
      "~ Oscar Wilde\n",
      "user_name: irwinxfineline Time: 2022-04-23 23:30:44+00:00 Tweeted: RT @bestofsos: someone please call the academy to give them an oscar https://t.co/K8nmTSJRTS\n",
      "user_name: dreals85 Time: 2022-04-23 23:30:43+00:00 Tweeted: RT @fuzzyfromyt: Some good perspective from Oscar Mercado. https://t.co/UvR3XmnHWT\n",
      "user_name: FreeMalikMonk Time: 2022-04-23 23:30:40+00:00 Tweeted: @Oscar__NBA Don’t make me slander the young Knicks\n",
      "user_name: _MemphisBrown_ Time: 2022-04-23 23:30:39+00:00 Tweeted: RT @bestofsos: someone please call the academy to give them an oscar https://t.co/K8nmTSJRTS\n",
      "user_name: oscar_mac_03 Time: 2022-04-23 23:30:36+00:00 Tweeted: RT @TheSportsman: 🔵©️ James Tavernier's record for Rangers is ridiculous... \n",
      "\n",
      "@thisisibrox | @ibroxrocks\n",
      "user_name: Burke_Franklin_ Time: 2022-04-23 23:30:28+00:00 Tweeted: Oscar is ready for Stapleton at Kroger Field 😆 https://t.co/KTay92MTaf\n",
      "user_name: AhoyBricks Time: 2022-04-23 23:30:23+00:00 Tweeted: RT @BrickheadzX: If I had a nickel for every time Oscar Issac played a Marvel character with ties to ancient Egypt, I'd have two nickels. W…\n",
      "user_name: mikey_ferro Time: 2022-04-23 23:30:18+00:00 Tweeted: RT @fuzzyfromyt: Some good perspective from Oscar Mercado. https://t.co/UvR3XmnHWT\n"
     ]
    },
    {
     "name": "stderr",
     "output_type": "stream",
     "text": [
      "Unexpected parameter: since\n"
     ]
    },
    {
     "name": "stdout",
     "output_type": "stream",
     "text": [
      "user_name: junecaldwell Time: 2022-04-23 23:30:14+00:00 Tweeted: @DavidCollard1 @STomaselli They are original artwork of our national horny icon Sheela na Gig (Silé) but given a mo… https://t.co/ixRTZylSXc\n",
      "user_name: 3boxesofsighs Time: 2022-04-23 23:30:13+00:00 Tweeted: RT @mariatontini1: I adore simple pleasures.\n",
      "\n",
      "They are the last refuge\n",
      "\n",
      "of the complex.\n",
      "\n",
      "-\n",
      "\n",
      "🖋Oscar Wilde\n",
      "🖼 Bouquet of Flowers \n",
      "2009\n",
      "🖌Gerhar…\n",
      "user_name: domenicatav Time: 2022-04-23 23:30:11+00:00 Tweeted: Nah marvel owe me reparations for the ick I just got off Oscar Isaac saying clarted\n",
      "user_name: teamredrry Time: 2022-04-23 23:30:08+00:00 Tweeted: RT @FilmUpdates: Oscar Isaac attended a viewing party for the season finale of Rupaul’s Drag Race at a gay bar in Brooklyn. https://t.co/4e…\n",
      "user_name: HiThereIzziHere Time: 2022-04-23 23:30:06+00:00 Tweeted: Oscar Isaac will say things in interviews that make me want to slap him and then immediately blow him, and honestly that’s my type.\n",
      "user_name: freshboygilen Time: 2022-04-23 23:30:00+00:00 Tweeted: @kunlelo @Oscar_Ohakwe @favourdumnoi @ChukwukaPrecio6 @bolla_bello No mind d frustrated low life wey dey look for who to suck...\n",
      "user_name: Zara_Cheema_ Time: 2022-04-23 23:29:51+00:00 Tweeted: RT @biggrenade: This man deserve an oscar 😂😂😂😂\n",
      "user_name: Icassidycharles Time: 2022-04-23 23:29:48+00:00 Tweeted: @oscar_guerra21 It be like that sometimes with your tweets and subtweets\n",
      "user_name: Kudge5 Time: 2022-04-23 23:29:39+00:00 Tweeted: RT @KyleTucker_ATH: RETURNING\n",
      "Sahvir Wheeler\n",
      "CJ Fredrick (injured last year)\n",
      "Jacob Toppin\n",
      "Oscar Tshiebwe \n",
      "Daimion Collins\n",
      "Lance Ware\n",
      "(Keion…\n",
      "user_name: aleroart Time: 2022-04-23 23:29:38+00:00 Tweeted: RT @sesamestreet: The weekend is finally here! Time to stay home and do nothing (at least according to Oscar). https://t.co/AE4L15BgBH\n",
      "user_name: StephOnyenwe Time: 2022-04-23 23:29:37+00:00 Tweeted: RT @StephOnyenwe: @Oscar_Mosh Queen of Archery 🏹, and I’m not even capping. Bring your best, would send them home as losers 😂\n",
      "user_name: itsdanibrown Time: 2022-04-23 23:29:31+00:00 Tweeted: Got to go for a cruise on the PS Oscar W for the first time yesterday! It was a special cruise held as part of the… https://t.co/YRplpI1kBb\n",
      "user_name: LorenzoForreal Time: 2022-04-23 23:29:26+00:00 Tweeted: Oscar Isaac gotta wear these in season 2 https://t.co/xDnjgMgxAp\n",
      "user_name: backcheckjesus Time: 2022-04-23 23:29:21+00:00 Tweeted: RT @RenGeekness: The Face/Off remake should be Pedro Pascal and Oscar Isaac.\n",
      "\n",
      "That's the tweet\n",
      "user_name: kathym329 Time: 2022-04-23 23:29:21+00:00 Tweeted: @VTMikeO @TomfooleryTM @caroljsroth I agree about Eddie Murphy in this role(s). He should have been nominated. \n",
      "Com… https://t.co/yT8vJdPlLo\n"
     ]
    },
    {
     "name": "stderr",
     "output_type": "stream",
     "text": [
      "Unexpected parameter: since\n"
     ]
    },
    {
     "name": "stdout",
     "output_type": "stream",
     "text": [
      "user_name: palwasha_f Time: 2022-04-23 23:29:18+00:00 Tweeted: RT @EzuieQuotes: \"Be yourself; everyone else is taken.\" - Oscar Wilde\n",
      "user_name: 4youtoSmile Time: 2022-04-23 23:28:54+00:00 Tweeted: Between men and women there is no friendship possible. There is passion, enmity, worship, love, but no friendship.\n",
      "~ Oscar Wilde\n",
      "user_name: 323KD_ Time: 2022-04-23 23:28:53+00:00 Tweeted: @Spider_Culture yea its best for him to go the oscar route movies instead of a main spider-man movie\n",
      "user_name: xtinatucker Time: 2022-04-23 23:28:48+00:00 Tweeted: @BudrykZack they should give walk hard a retroactive best picture oscar honestly\n",
      "user_name: MrsGilbertGrape Time: 2022-04-23 23:28:40+00:00 Tweeted: @Loveamira_ don’t forget her Oscar award winning role in pineapple express. ☺️😅\n",
      "user_name: EliNxshame Time: 2022-04-23 23:28:36+00:00 Tweeted: RT @bestofsos: someone please call the academy to give them an oscar https://t.co/K8nmTSJRTS\n",
      "user_name: NYBulldawg Time: 2022-04-23 23:28:28+00:00 Tweeted: @Oscar__NBA @FreeMalikMonk Id rather throw in another young play to reduce the draft capital hit\n",
      "user_name: ITZ_H0PE Time: 2022-04-23 23:28:28+00:00 Tweeted: WDYM JOHNNY DEPP NEVER WON AN OSCAR??\n",
      "user_name: LylykStephen Time: 2022-04-23 23:28:20+00:00 Tweeted: @Oscar__NBA @FreeMalikMonk You guys would be desperate enough for a big offer yeah\n",
      "user_name: 222prettyyy Time: 2022-04-23 23:28:19+00:00 Tweeted: @Oscar_Mosh they're the best\n",
      "user_name: brettg21 Time: 2022-04-23 23:28:16+00:00 Tweeted: The final begins. If team Mason y oscar win, they win it all. Tantric sex working to ruin their day. Go balls deep. https://t.co/K5NjIn8X1t\n",
      "user_name: StephOnyenwe Time: 2022-04-23 23:28:13+00:00 Tweeted: @Oscar_Mosh Queen of Archery 🏹, and I’m not even capping. Bring your best, would send them home as losers 😂\n",
      "user_name: ErudeKavaji Time: 2022-04-23 23:28:08+00:00 Tweeted: RT @IgathePollycarp: Alfred Keter tribulations in UDA should act as an eye opener to Kikuyus and other Kenyan tribes following William Ruto…\n",
      "user_name: djsuperonline Time: 2022-04-23 23:28:01+00:00 Tweeted: We'll buy up all the belts Oscar De La Hoya style..\n",
      "\n",
      "World Boxing Championship (WBC)\n",
      "user_name: julesrprecious Time: 2022-04-23 23:27:55+00:00 Tweeted: \"Be yourself; everyone else is taken.\" - Oscar Wilde\n"
     ]
    },
    {
     "name": "stderr",
     "output_type": "stream",
     "text": [
      "Unexpected parameter: since\n"
     ]
    },
    {
     "name": "stdout",
     "output_type": "stream",
     "text": [
      "user_name: WHronis Time: 2022-04-23 23:27:49+00:00 Tweeted: RT @MLBONFOX: Guardians outfielder Oscar Mercado describes what happened when Yankees fans started throwing trash at him on the field &amp; wha…\n",
      "user_name: Chris39446350 Time: 2022-04-23 23:27:48+00:00 Tweeted: @oscar_mayer11 @Grove_PLS I moved out of commiefornia 2021. I had too. I couldnt afford anything, so I packed up an… https://t.co/aiVWVWfEAK\n",
      "user_name: Oscar_jr44 Time: 2022-04-23 23:27:43+00:00 Tweeted: RT @ObongRoviel: He should do it outside Barcelona has won Ligue 1 \n",
      "\n",
      "Ajala the traveller is traveling to Damascus next season\n",
      "user_name: Gogette20839474 Time: 2022-04-23 23:27:35+00:00 Tweeted: Omoooo x1000 Kemi and Oscar traditional is 🔥 the whole industry is there!…\n",
      "user_name: BrideandGroomNG Time: 2022-04-23 23:27:31+00:00 Tweeted: RT @africaenttv: Love is beautiful 😍😍\n",
      "\n",
      "Kemi Adetiba and her husband Oscar having a dance off as they rock their 3rd outfit look for the day…\n",
      "user_name: Oscar__NBA Time: 2022-04-23 23:27:26+00:00 Tweeted: @FreeMalikMonk IQ + all the picks is wiping this offer sadly\n",
      "user_name: DavidRThomas3 Time: 2022-04-23 23:27:20+00:00 Tweeted: RT @JLEWFifty: Incredibly proud of Myles Straw, Oscar Mercado and the rest of these #Guardians players for composing themselves in these po…\n",
      "user_name: _BRO0KLYN_BABY_ Time: 2022-04-23 23:27:12+00:00 Tweeted: RT @bestofsos: someone please call the academy to give them an oscar https://t.co/K8nmTSJRTS\n",
      "user_name: slipaway_lt91 Time: 2022-04-23 23:27:11+00:00 Tweeted: RT @bestofsos: someone please call the academy to give them an oscar https://t.co/K8nmTSJRTS\n",
      "user_name: GamesMazing Time: 2022-04-23 23:27:05+00:00 Tweeted: RT @MLBONFOX: Guardians outfielder Oscar Mercado describes what happened when Yankees fans started throwing trash at him on the field &amp; wha…\n",
      "user_name: Cnacks_ Time: 2022-04-23 23:27:04+00:00 Tweeted: @HarishMoment Idk what kind of romance drama your putting blue through rn but it’s Oscar worthy\n",
      "user_name: oscar_madeit Time: 2022-04-23 23:27:00+00:00 Tweeted: RT @oscos: tyler the creator made around $32,600,000 from his tour and dj khaled was saying his music was ‘mysterious’\n",
      "user_name: Samuri_mike Time: 2022-04-23 23:27:00+00:00 Tweeted: Honestly, the best part of this whole Johnny Depp testimony is his pattern of speech. The dude is from Owensboro Ke… https://t.co/oMLibgHTj0\n",
      "user_name: soundgallery_j Time: 2022-04-23 23:26:57+00:00 Tweeted: The Days Of Wine And Roses   Oscar Peterson Piano Transcription④ Last Theme \n",
      "\n",
      "https://t.co/XeHxjUGkC0 \n",
      "YouTube\n",
      "より\n",
      "user_name: av0irdupoisunit Time: 2022-04-23 23:26:54+00:00 Tweeted: RT @jposhaughnessy: \"Disobedience was man's Original Virtue\"\n",
      "~Oscar Wilde https://t.co/sZvsyNFGEB\n"
     ]
    },
    {
     "name": "stderr",
     "output_type": "stream",
     "text": [
      "Unexpected parameter: since\n"
     ]
    },
    {
     "name": "stdout",
     "output_type": "stream",
     "text": [
      "user_name: IB3RIB3 Time: 2022-04-23 23:26:53+00:00 Tweeted: RT @bestofsos: someone please call the academy to give them an oscar https://t.co/K8nmTSJRTS\n",
      "user_name: shestillwins Time: 2022-04-23 23:26:48+00:00 Tweeted: RT @RayoKasali: In case you're wondering who Kemi Adetiba's prince charming is...\n",
      "\n",
      "He is Oscar Herman-Acker the genius music maestro \"Oscar…\n",
      "user_name: OfficialMNasir Time: 2022-04-23 23:26:37+00:00 Tweeted: RT @tim_fargo: Be yourself; everyone else is already taken. - Oscar Wilde #quote\n",
      "#WeekendWisdom https://t.co/SCovn9Vcwj\n",
      "user_name: hiresurvivors Time: 2022-04-23 23:26:33+00:00 Tweeted: Oscar-nominated actor #FrankLangella has been fired from his role as the lead in the #Netflix miniseries \"The Fall… https://t.co/LSyrBen4MT\n",
      "user_name: mjanes80 Time: 2022-04-23 23:26:29+00:00 Tweeted: RT @ZackMeisel: Oscar Mercado, on Yankees fans throwing beer cans at players at the end of the game: https://t.co/gNC6yeaDer\n",
      "user_name: hashtagsliving Time: 2022-04-23 23:26:26+00:00 Tweeted: how does one greet oscar in real life like what is the etiquette there\n",
      "user_name: LilBastardJess Time: 2022-04-23 23:26:20+00:00 Tweeted: RT @bestofsos: someone please call the academy to give them an oscar https://t.co/K8nmTSJRTS\n",
      "user_name: ThatsLizaaaa Time: 2022-04-23 23:26:16+00:00 Tweeted: RT @bestofsos: someone please call the academy to give them an oscar https://t.co/K8nmTSJRTS\n",
      "user_name: phuket_web Time: 2022-04-23 23:26:02+00:00 Tweeted: RT @GoogleExpertUK: @ThePeoplesHubUK @EthicalDavid @rainbowz08 @AndyBurnhamGM @handy_oscar @EndRapeCampaign @MinoguePat @PeteJacksonGMP @Wh…\n",
      "user_name: EyesOnHou Time: 2022-04-23 23:25:59+00:00 Tweeted: RT @BenVerlander: Guardians outfielder Oscar Mercado speaks about the postgame beer throwing. \n",
      "\n",
      "“It’s ridiculous. Say whatever you wanna sa…\n",
      "user_name: sogetsu1970 Time: 2022-04-23 23:25:58+00:00 Tweeted: RT @NewRockstars: Oscar Isaac tried to warn us #MoonKnight https://t.co/TcWLwttbzD\n",
      "user_name: comeonlonely Time: 2022-04-23 23:25:39+00:00 Tweeted: RT @bestofsos: someone please call the academy to give them an oscar https://t.co/K8nmTSJRTS\n",
      "user_name: akschaaf Time: 2022-04-23 23:25:38+00:00 Tweeted: @RDTopp @bergstein24 Oh yeah, Oscar Meyer storage or something? This one appears to be a residence, really hope no one was home\n",
      "user_name: Lovegrove19 Time: 2022-04-23 23:25:32+00:00 Tweeted: RT @ZackMeisel: Oscar Mercado, on Yankees fans throwing beer cans at players at the end of the game: https://t.co/gNC6yeaDer\n",
      "user_name: zwerran Time: 2022-04-23 23:25:32+00:00 Tweeted: in the midst of a brutal war, people needed to thoroughly discuss will smiths behavior at the oscar’s, because, act… https://t.co/oMZOtQ5kEv\n"
     ]
    },
    {
     "name": "stderr",
     "output_type": "stream",
     "text": [
      "Unexpected parameter: since\n"
     ]
    },
    {
     "name": "stdout",
     "output_type": "stream",
     "text": [
      "user_name: seungcherry95 Time: 2022-04-23 23:25:31+00:00 Tweeted: RT @bestofsos: someone please call the academy to give them an oscar https://t.co/K8nmTSJRTS\n",
      "user_name: StuartGrist Time: 2022-04-23 23:25:29+00:00 Tweeted: a much deserved Oscar nominated song for sure for Randy Newman. classic \"you got a friend in me.\" #StewARama\n",
      "user_name: CrossJc1704340 Time: 2022-04-23 23:25:26+00:00 Tweeted: @Sesamill @xxJaggedxx @RayJack97010720 Sorry but I am a old dude from the old school where that A side didn't mean… https://t.co/B5P1W6qjwp\n",
      "user_name: iampelga Time: 2022-04-23 23:25:16+00:00 Tweeted: RT @TheChalya: My girl got married!!!! 🥰❤️ @kemiadetiba gorgeousness!!!! “My wife” Oscar said, as he took a mesmerized glance at his new br…\n",
      "user_name: wa2pyq Time: 2022-04-23 23:25:11+00:00 Tweeted: @bennyjohnson They should have Oscar's for Best BS artist. Jen would win Best Actress all day long!\n",
      "user_name: AlysiaWoods11 Time: 2022-04-23 23:25:08+00:00 Tweeted: @oscar_mayer11 @Grove_PLS Sounds wonderful! Best of luck! Native Californian and never thought I'd leave but it's v… https://t.co/d0ivJOOysh\n",
      "user_name: KillasRink81 Time: 2022-04-23 23:25:08+00:00 Tweeted: RT @BenVerlander: Guardians outfielder Oscar Mercado speaks about the postgame beer throwing. \n",
      "\n",
      "“It’s ridiculous. Say whatever you wanna sa…\n",
      "user_name: geebers_ Time: 2022-04-23 23:24:53+00:00 Tweeted: No thoughts, just Oscar Isaac saying “girlie”\n",
      "user_name: Pichaisiri13 Time: 2022-04-23 23:24:52+00:00 Tweeted: RT @MattPassantino: What’s an acting OSCAR win everyone hates that you love? \n",
      "\n",
      "Mine: https://t.co/I4e4K4PXF4\n",
      "user_name: punyparker Time: 2022-04-23 23:24:50+00:00 Tweeted: RT @biwhore_: YUMMY OSCAR https://t.co/xpwMeCK9s0\n",
      "user_name: 36NGcom Time: 2022-04-23 23:24:38+00:00 Tweeted: #UndeniablyYours2022: The Guests at Kemi Adetiba &amp; Oscar Heman-Ackah’s Wedding Showed Up ‘Flamboyantly African’ https://t.co/Dtt5xrqqZq\n",
      "user_name: Oscar_Fulton Time: 2022-04-23 23:24:21+00:00 Tweeted: @FunkyDiabetic1 Dwight Powell is the chosen one\n",
      "user_name: EJKhryst Time: 2022-04-23 23:24:16+00:00 Tweeted: @TheFlemishSeth Even the power Oscar Isaac seemingly has over Twitter can't push it through, so wild\n",
      "user_name: CSGazetteSports Time: 2022-04-23 23:24:02+00:00 Tweeted: If George Paton ever wins an Oscar he’ll recite the longest thank-you list in Academy Awards history before being d… https://t.co/4GpDhtswo0\n",
      "user_name: angiepoosays Time: 2022-04-23 23:23:59+00:00 Tweeted: RT @FilmUpdates: Oscar Isaac attended a viewing party for the season finale of Rupaul’s Drag Race at a gay bar in Brooklyn. https://t.co/4e…\n"
     ]
    },
    {
     "name": "stderr",
     "output_type": "stream",
     "text": [
      "Unexpected parameter: since\n"
     ]
    },
    {
     "name": "stdout",
     "output_type": "stream",
     "text": [
      "user_name: 5AUG3 Time: 2022-04-23 23:23:55+00:00 Tweeted: RT @BallySportsCLE: Oscar Mercado describes what happened in the outfield at the end of the game and what caused the whole scene. \n",
      "\n",
      "#ForThe…\n",
      "user_name: ULovish Time: 2022-04-23 23:23:54+00:00 Tweeted: RT @SeffSaid: \"The love in your heart wasn't put there to stay. Love isn't love 'til you give it away.\" - Oscar Hammerstein\n",
      "user_name: Regan4447 Time: 2022-04-23 23:23:46+00:00 Tweeted: RT @fuzzyfromyt: Some good perspective from Oscar Mercado. https://t.co/UvR3XmnHWT\n",
      "user_name: FerriniAurora Time: 2022-04-23 23:23:38+00:00 Tweeted: RT @bestofsos: someone please call the academy to give them an oscar https://t.co/K8nmTSJRTS\n",
      "user_name: Oscar_OB1 Time: 2022-04-23 23:23:36+00:00 Tweeted: @GoldenKnights Not sure.  We might need a press release to let us know.\n",
      "user_name: ProfTheMeister Time: 2022-04-23 23:23:32+00:00 Tweeted: RT @Dro2H: @CassanovaHefner Y’all see the reaction all these folks had in the place. That’s the reaction y’all should of had at the Oscar.…\n",
      "user_name: MyHappyCocoon Time: 2022-04-23 23:23:28+00:00 Tweeted: Oscar worthy but very fake #AmberHeardIsAnAbuser #JohnnyDepp https://t.co/U9MzX2VbQp\n",
      "user_name: Khallison94 Time: 2022-04-23 23:23:13+00:00 Tweeted: @MattPassantino Twitter really tried to pretend like Laura Dern was the Oscar season villain for Marriage Story, bu… https://t.co/BkoHeGv2gh\n",
      "user_name: Zeeshan_f1 Time: 2022-04-23 23:23:07+00:00 Tweeted: RT @Jebelz_UAE: Save 539.85 AED when you buy Nuova Simonelli Oscar II with https://t.co/sKZznuSLh8 this Ramadan 🌙\n",
      "Best prices and fast home…\n",
      "user_name: KonaduRose Time: 2022-04-23 23:23:05+00:00 Tweeted: RT @RayoKasali: In case you're wondering who Kemi Adetiba's prince charming is...\n",
      "\n",
      "He is Oscar Herman-Acker the genius music maestro \"Oscar…\n",
      "user_name: tjwoody3310 Time: 2022-04-23 23:23:04+00:00 Tweeted: RT @fuzzyfromyt: Some good perspective from Oscar Mercado. https://t.co/UvR3XmnHWT\n",
      "user_name: Lee_Is_Good Time: 2022-04-23 23:23:03+00:00 Tweeted: @Geniusbastard I watch everything Oscar Isaac is in so I’m enjoying him but I feel the same way you do.\n",
      "user_name: oscar_mayer11 Time: 2022-04-23 23:23:01+00:00 Tweeted: @Simone16147889 Nobody fleeing CA right now is interested in the bullshit we've been living through\n",
      "user_name: dojelaaa Time: 2022-04-23 23:22:45+00:00 Tweeted: RT @bellanaija: OBA! #SolaSobowale was all out for @kemiadetiba and Oscar today.\n",
      "\n",
      "#UndeniablyYours2022 https://t.co/aAmq7rbsCh\n",
      "user_name: Zexyz Time: 2022-04-23 23:22:44+00:00 Tweeted: RT @pattonoswalt: That was an AMAZING EVENING. Michelle and Ke Huy deserve Oscar noms for the stellar work they did -- as does the always a…\n"
     ]
    },
    {
     "name": "stderr",
     "output_type": "stream",
     "text": [
      "Unexpected parameter: since\n"
     ]
    },
    {
     "name": "stdout",
     "output_type": "stream",
     "text": [
      "user_name: Jime_133 Time: 2022-04-23 23:22:41+00:00 Tweeted: RT @bestofsos: someone please call the academy to give them an oscar https://t.co/K8nmTSJRTS\n",
      "user_name: HeadrickBradley Time: 2022-04-23 23:22:39+00:00 Tweeted: @Oscar_Fulton Hit a free throw man!\n",
      "user_name: oscar_BAEcerra Time: 2022-04-23 23:22:32+00:00 Tweeted: RT @Trellevison: That \"You Can Go\" Moment https://t.co/K0lwqxo6ZD\n",
      "user_name: lVINZYl Time: 2022-04-23 23:22:26+00:00 Tweeted: RT @fuzzyfromyt: Some good perspective from Oscar Mercado. https://t.co/UvR3XmnHWT\n",
      "user_name: DTyson15 Time: 2022-04-23 23:22:19+00:00 Tweeted: RT @BallySportsCLE: Oscar Mercado describes what happened in the outfield at the end of the game and what caused the whole scene. \n",
      "\n",
      "#ForThe…\n",
      "user_name: DannyDa27021564 Time: 2022-04-23 23:22:19+00:00 Tweeted: RT @KyleTucker_ATH: RETURNING\n",
      "Sahvir Wheeler\n",
      "CJ Fredrick (injured last year)\n",
      "Jacob Toppin\n",
      "Oscar Tshiebwe \n",
      "Daimion Collins\n",
      "Lance Ware\n",
      "(Keion…\n",
      "user_name: TalithaReginee Time: 2022-04-23 23:22:08+00:00 Tweeted: RT @kingbealestreet: Oscar nominated off of 11 mins of screen time, who is doing it like her!!\n",
      "user_name: timsteph Time: 2022-04-23 23:22:07+00:00 Tweeted: If u are following at home KY has 4/5 starting positions filled already for next season. Wheeler, Cason, ?, Livings… https://t.co/vRLyEkwiaT\n",
      "user_name: cthIftv Time: 2022-04-23 23:22:07+00:00 Tweeted: RT @bestofsos: someone please call the academy to give them an oscar https://t.co/K8nmTSJRTS\n",
      "user_name: Oscar_Fulton Time: 2022-04-23 23:22:02+00:00 Tweeted: @HeadrickBradley That loss is on Dwight Powell\n",
      "user_name: carlm919 Time: 2022-04-23 23:22:02+00:00 Tweeted: Oscar Wilde Quotes https://t.co/P1UDXkxZlK via @BitChute    #WeThePeople #Liberals #Democrats #Socialist #Leftists… https://t.co/JmIkGDj1Fv\n",
      "user_name: lewieb99test Time: 2022-04-23 23:22:02+00:00 Tweeted: RT @OscarJetson: Boxer Dog Wall Art Print, Dog Owner Gift, Boxer Mom Art, Abstract Colorful Boxer Dog Memorial Decor Choice Of Sizes Hand S…\n",
      "user_name: RedRobot96 Time: 2022-04-23 23:22:00+00:00 Tweeted: RT @BrickheadzX: If I had a nickel for every time Oscar Issac played a Marvel character with ties to ancient Egypt, I'd have two nickels. W…\n",
      "user_name: marvelouslukek1 Time: 2022-04-23 23:21:57+00:00 Tweeted: RT @TheGiovanniLago: For sure my four #Emmy wishes this season, assuming both Zendaya and Oscar Issac are nominated in there respected cate…\n",
      "user_name: bremer_dillon Time: 2022-04-23 23:21:52+00:00 Tweeted: RT @NinerNick_22: The #49ers haven't won a Super Bowl in my lifetime....\n",
      "\n",
      "But they've won back-to-back offseason Oscar awards for their sto…\n"
     ]
    },
    {
     "name": "stderr",
     "output_type": "stream",
     "text": [
      "Unexpected parameter: since\n"
     ]
    },
    {
     "name": "stdout",
     "output_type": "stream",
     "text": [
      "user_name: OscarJetson Time: 2022-04-23 23:21:47+00:00 Tweeted: Boxer Dog Wall Art Print, Dog Owner Gift, Boxer Mom Art, Abstract Colorful Boxer Dog Memorial Decor Choice Of Sizes… https://t.co/9fewypkp0D\n",
      "user_name: deryn_fluo Time: 2022-04-23 23:21:39+00:00 Tweeted: @Oscar_Mosh I hope darts cuddles you tonight🙏\n",
      "user_name: Kylefitz2006 Time: 2022-04-23 23:21:37+00:00 Tweeted: Shark Tale\n",
      "Everybody builds Oscar’s lie like the movie portrays it as okay even tho the movie actually portrays it… https://t.co/ZaXozujnJg\n",
      "user_name: NickZararis Time: 2022-04-23 23:21:27+00:00 Tweeted: RT @ZackMeisel: Myles Straw has no regrets. Oscar Mercado pleaded for consequences for unruly fan behavior. Josh Naylor wondered why anyone…\n",
      "user_name: migueldeynes Time: 2022-04-23 23:21:23+00:00 Tweeted: RT @BenVerlander: Guardians outfielder Oscar Mercado speaks about the postgame beer throwing. \n",
      "\n",
      "“It’s ridiculous. Say whatever you wanna sa…\n",
      "user_name: bestiedefsos Time: 2022-04-23 23:21:20+00:00 Tweeted: RT @bestofsos: someone please call the academy to give them an oscar https://t.co/K8nmTSJRTS\n",
      "user_name: hobachaery Time: 2022-04-23 23:21:09+00:00 Tweeted: johnny depp never won an OSCAR?? https://t.co/Df9RBUAuQL\n",
      "user_name: lesbiankermiggy Time: 2022-04-23 23:20:54+00:00 Tweeted: also it’s always so funny to me because people always assume u r either a Film Fan or a Marvel Fan and i’m here to… https://t.co/v3lFeCekg2\n",
      "user_name: ikeioustweets Time: 2022-04-23 23:20:48+00:00 Tweeted: RT @OleleSalvador: BREAKING: Will Smith &amp; Jada might be getting a divorce after the Oscar slapping episode. The couple were already having…\n",
      "user_name: Oscar__Bear Time: 2022-04-23 23:20:37+00:00 Tweeted: Got myself a new pair of earrings! ✨🐻‍❄️✨\n",
      "user_name: CEOOfGeno Time: 2022-04-23 23:20:37+00:00 Tweeted: @yeah_its_oscar @ianchimaru That is a child https://t.co/Y4U9UXYVVT\n",
      "user_name: __ToooNiice Time: 2022-04-23 23:20:27+00:00 Tweeted: RT @KyleTucker_ATH: RETURNING\n",
      "Sahvir Wheeler\n",
      "CJ Fredrick (injured last year)\n",
      "Jacob Toppin\n",
      "Oscar Tshiebwe \n",
      "Daimion Collins\n",
      "Lance Ware\n",
      "(Keion…\n",
      "user_name: enjoying_movies Time: 2022-04-23 23:20:18+00:00 Tweeted: RT @FilmUpdates: Oscar Isaac attended a viewing party for the season finale of Rupaul’s Drag Race at a gay bar in Brooklyn. https://t.co/4e…\n",
      "user_name: sex_abuse_news Time: 2022-04-23 23:20:15+00:00 Tweeted: Oscar De La Hoya accused of sexually assaulting woman twice in 2020 - ESPN https://t.co/HPdNnbKPF5\n",
      "user_name: latinadopascal Time: 2022-04-23 23:20:13+00:00 Tweeted: RT @FilmUpdates: Oscar Isaac attended a viewing party for the season finale of Rupaul’s Drag Race at a gay bar in Brooklyn. https://t.co/4e…\n"
     ]
    },
    {
     "name": "stderr",
     "output_type": "stream",
     "text": [
      "Unexpected parameter: since\n"
     ]
    },
    {
     "name": "stdout",
     "output_type": "stream",
     "text": [
      "user_name: DetournementArc Time: 2022-04-23 23:19:57+00:00 Tweeted: RT @BrickheadzX: If I had a nickel for every time Oscar Issac played a Marvel character with ties to ancient Egypt, I'd have two nickels. W…\n",
      "user_name: KingAs81310701 Time: 2022-04-23 23:19:57+00:00 Tweeted: RT @loki_edit: Kamal sir don't deserve oscar .Oscar deserves kamal sir.💥God of indian cinema 🙏 waiting for Vikram 💥🥁 https://t.co/wk4puZ0aGW\n",
      "user_name: Sean_Flanery Time: 2022-04-23 23:19:53+00:00 Tweeted: RT @ZackMeisel: The Yankees walk it off against the Guardians, and Yankees fans are showering Oscar Mercado with trash. He threw down his g…\n",
      "user_name: JoshEnakarhire Time: 2022-04-23 23:19:53+00:00 Tweeted: RT @RayoKasali: In case you're wondering who Kemi Adetiba's prince charming is...\n",
      "\n",
      "He is Oscar Herman-Acker the genius music maestro \"Oscar…\n",
      "user_name: TeenyArt Time: 2022-04-23 23:19:44+00:00 Tweeted: OSCAR ISAAC IS SO HOT\n",
      "user_name: victoriancrows Time: 2022-04-23 23:19:43+00:00 Tweeted: RT @FilmUpdates: Oscar Isaac attended a viewing party for the season finale of Rupaul’s Drag Race at a gay bar in Brooklyn. https://t.co/4e…\n",
      "user_name: osevany21 Time: 2022-04-23 23:19:42+00:00 Tweeted: RT @fuzzyfromyt: Some good perspective from Oscar Mercado. https://t.co/UvR3XmnHWT\n",
      "user_name: Jade5SOS Time: 2022-04-23 23:19:41+00:00 Tweeted: RT @bestofsos: someone please call the academy to give them an oscar https://t.co/K8nmTSJRTS\n",
      "user_name: Oscar__Bear Time: 2022-04-23 23:19:41+00:00 Tweeted: @JolanJoestar Looks like we should test that one out then\n",
      "user_name: sorrysellout Time: 2022-04-23 23:19:38+00:00 Tweeted: RT @FilmUpdates: Oscar Isaac attended a viewing party for the season finale of Rupaul’s Drag Race at a gay bar in Brooklyn. https://t.co/4e…\n",
      "user_name: Jordan__Steward Time: 2022-04-23 23:19:38+00:00 Tweeted: RT @BenVerlander: Guardians outfielder Oscar Mercado speaks about the postgame beer throwing. \n",
      "\n",
      "“It’s ridiculous. Say whatever you wanna sa…\n",
      "user_name: mikecokere Time: 2022-04-23 23:19:37+00:00 Tweeted: RT @TheChalya: My girl got married!!!! 🥰❤️ @kemiadetiba gorgeousness!!!! “My wife” Oscar said, as he took a mesmerized glance at his new br…\n",
      "user_name: ForceWitU2 Time: 2022-04-23 23:19:36+00:00 Tweeted: RT @ZackMeisel: Myles Straw has no regrets. Oscar Mercado pleaded for consequences for unruly fan behavior. Josh Naylor wondered why anyone…\n",
      "user_name: MwendaDennis19 Time: 2022-04-23 23:19:25+00:00 Tweeted: RT @SeffSaid: \"The love in your heart wasn't put there to stay. Love isn't love 'til you give it away.\" - Oscar Hammerstein\n",
      "user_name: oscar_rivera504 Time: 2022-04-23 23:19:24+00:00 Tweeted: @MiniKaidoSama Preciate it Ryan, she’ll be a week on Monday but yessir you know it’s all about family❤️\n"
     ]
    },
    {
     "name": "stderr",
     "output_type": "stream",
     "text": [
      "Unexpected parameter: since\n"
     ]
    },
    {
     "name": "stdout",
     "output_type": "stream",
     "text": [
      "user_name: lankrc Time: 2022-04-23 23:19:14+00:00 Tweeted: @WFKARS Same.\n",
      "But I still love Oscar Isaac.\n",
      "user_name: Nagakamal5 Time: 2022-04-23 23:19:09+00:00 Tweeted: RT @ulaganayagan1: Kamal sir don't deserve oscar .#Oscar deserves #KamalHaasan sir.💥God of indian cinema 🙏 waiting for #Vikram @ikamalhaasa…\n",
      "user_name: corbyncheto Time: 2022-04-23 23:19:08+00:00 Tweeted: RT @bestofsos: someone please call the academy to give them an oscar https://t.co/K8nmTSJRTS\n",
      "user_name: notpessimistic_ Time: 2022-04-23 23:19:07+00:00 Tweeted: RT @FilmUpdates: Oscar Isaac attended a viewing party for the season finale of Rupaul’s Drag Race at a gay bar in Brooklyn. https://t.co/4e…\n",
      "user_name: maries7912 Time: 2022-04-23 23:19:04+00:00 Tweeted: RT @ZackMeisel: Oscar Mercado said a semi-full beer can nearly struck him in the face, but he snagged it in time. Myles Straw said Trevor S…\n",
      "user_name: ahab99 Time: 2022-04-23 23:18:48+00:00 Tweeted: RT @pearwaldorf: Can confirm, Oscar Isaac has an ass that is begging to be clad in leather for a gay pirate show\n",
      "\n",
      "https://t.co/zGBBrQE7aN\n",
      "user_name: Jordan__Steward Time: 2022-04-23 23:18:46+00:00 Tweeted: RT @MLBONFOX: Guardians outfielder Oscar Mercado describes what happened when Yankees fans started throwing trash at him on the field &amp; wha…\n",
      "user_name: belieber_s10 Time: 2022-04-23 23:18:43+00:00 Tweeted: RT @jhbmoments: justin and hailey bieber with oscar https://t.co/KnKS1GJ3CZ\n",
      "user_name: Emeks_P Time: 2022-04-23 23:18:35+00:00 Tweeted: RT @OleleSalvador: BREAKING: Will Smith &amp; Jada might be getting a divorce after the Oscar slapping episode. The couple were already having…\n",
      "user_name: MazzyNinja Time: 2022-04-23 23:18:27+00:00 Tweeted: RT @Blou756: #JodieComer is a once in a lifetime talent. Seeing her live on stage in #PrimaFacie was incredible. To hold the audience throu…\n",
      "user_name: ronkyco Time: 2022-04-23 23:18:25+00:00 Tweeted: I really love that the people who Oscar has produced music for came out for him today and OBA was just super amazin… https://t.co/iXJTGLDKrL\n",
      "user_name: stephanyres Time: 2022-04-23 23:18:22+00:00 Tweeted: RT @WatcherGuru: JUST IN: Oscar-nominated filmmaker Ridley Scott is set to produce a movie about the #Ethereum network.\n",
      "user_name: WILDFLWRMARAIS Time: 2022-04-23 23:18:22+00:00 Tweeted: RT @bestofsos: someone please call the academy to give them an oscar https://t.co/K8nmTSJRTS\n",
      "user_name: adetoun_seriki Time: 2022-04-23 23:18:21+00:00 Tweeted: RT @TheChalya: My girl got married!!!! 🥰❤️ @kemiadetiba gorgeousness!!!! “My wife” Oscar said, as he took a mesmerized glance at his new br…\n",
      "user_name: JoeBaiaBot Time: 2022-04-23 23:18:12+00:00 Tweeted: I need the Best Actor oscar because of this stunning lovely italian beer - and I'm wearing the 1996 Italy away shirt.\n"
     ]
    },
    {
     "name": "stderr",
     "output_type": "stream",
     "text": [
      "Unexpected parameter: since\n"
     ]
    },
    {
     "name": "stdout",
     "output_type": "stream",
     "text": [
      "user_name: CarlosCyclone14 Time: 2022-04-23 23:18:09+00:00 Tweeted: RT @fuzzyfromyt: Some good perspective from Oscar Mercado. https://t.co/UvR3XmnHWT\n",
      "user_name: jodiespublicist Time: 2022-04-23 23:18:05+00:00 Tweeted: RT @Blou756: #JodieComer is a once in a lifetime talent. Seeing her live on stage in #PrimaFacie was incredible. To hold the audience throu…\n",
      "user_name: AnnMB48 Time: 2022-04-23 23:17:49+00:00 Tweeted: RT @AdoptionsUk: URGENT please retweet to help Oscar (Sausage) find a home #MANCHESTER #ENGLAND \n",
      "\n",
      "Aged 14!! Poor Oscar was a stray that no…\n",
      "user_name: mundinhocharlie Time: 2022-04-23 23:17:39+00:00 Tweeted: RT @bestofsos: someone please call the academy to give them an oscar https://t.co/K8nmTSJRTS\n",
      "user_name: Bob_H_47 Time: 2022-04-23 23:17:36+00:00 Tweeted: RT @BenVerlander: Guardians outfielder Oscar Mercado speaks about the postgame beer throwing. \n",
      "\n",
      "“It’s ridiculous. Say whatever you wanna sa…\n",
      "user_name: TheedeeDaFoodie Time: 2022-04-23 23:17:34+00:00 Tweeted: RT @TheChalya: My girl got married!!!! 🥰❤️ @kemiadetiba gorgeousness!!!! “My wife” Oscar said, as he took a mesmerized glance at his new br…\n",
      "user_name: PhilARemonie Time: 2022-04-23 23:17:32+00:00 Tweeted: @Milady_Oscar The Thriller ! 🤩\n",
      "user_name: markdmroz Time: 2022-04-23 23:17:29+00:00 Tweeted: RT @ZackMeisel: Oscar Mercado said a semi-full beer can nearly struck him in the face, but he snagged it in time. Myles Straw said Trevor S…\n",
      "user_name: AshtonMyLife_ Time: 2022-04-23 23:17:26+00:00 Tweeted: RT @bestofsos: someone please call the academy to give them an oscar https://t.co/K8nmTSJRTS\n",
      "user_name: Bex_Oscar Time: 2022-04-23 23:17:25+00:00 Tweeted: RT @RachaelAtWork: Reference Vs. Art https://t.co/YJAaciTXVI\n",
      "user_name: timchodz Time: 2022-04-23 23:17:23+00:00 Tweeted: RT @ZackMeisel: Myles Straw has no regrets. Oscar Mercado pleaded for consequences for unruly fan behavior. Josh Naylor wondered why anyone…\n",
      "user_name: gbpackersgal Time: 2022-04-23 23:17:20+00:00 Tweeted: RT @BallySportsCLE: Oscar Mercado describes what happened in the outfield at the end of the game and what caused the whole scene. \n",
      "\n",
      "#ForThe…\n",
      "user_name: sabo_8 Time: 2022-04-23 23:17:03+00:00 Tweeted: RT @wojta_lis: This project requires all the attention!\n",
      "Best community on the Solana blockchain and I'm sure not only there. You can not fi…\n",
      "user_name: alyxryder Time: 2022-04-23 23:17:00+00:00 Tweeted: @T_Vfilmluver17 @FilmUpdates @mavericksmovies I know that's right, bestie! I'm waiting to watch, when Michelle Yeoh… https://t.co/Cxd6lEDNkm\n",
      "user_name: SunmboAdeoye Time: 2022-04-23 23:16:57+00:00 Tweeted: Pictures and videos from #UndeniablyYours2022 making me smile. \n",
      "\n",
      "Love is a beautiful thing ❤️\n",
      "\n",
      "Congratulations… https://t.co/PfwnlF62mu\n"
     ]
    },
    {
     "name": "stderr",
     "output_type": "stream",
     "text": [
      "Unexpected parameter: since\n"
     ]
    },
    {
     "name": "stdout",
     "output_type": "stream",
     "text": [
      "user_name: cfbranm Time: 2022-04-23 23:16:56+00:00 Tweeted: @MonicaLewinsky Did you hear Amy Schummer's comments about the death threats received after takin the seat at the O… https://t.co/vIOaGswzXD\n",
      "user_name: die_hard_cubbie Time: 2022-04-23 23:16:53+00:00 Tweeted: RT @MustBTV: 🎥  It's time for some must see tv right now at https://t.co/nFIixPc5fV where you can call me Oscar, because its clear that my…\n",
      "user_name: AlyssaKehoe88 Time: 2022-04-23 23:16:53+00:00 Tweeted: RT @FilmUpdates: Oscar Isaac attended a viewing party for the season finale of Rupaul’s Drag Race at a gay bar in Brooklyn. https://t.co/4e…\n",
      "user_name: MSLEEG9331 Time: 2022-04-23 23:16:52+00:00 Tweeted: RT @iamgeenrique: Hello @IMDb I am trying so very hard to not have the name I use associated with my deadname on the site and it seems like…\n",
      "user_name: CocoNoctem Time: 2022-04-23 23:16:48+00:00 Tweeted: Shoutout to Oscar Isaac for being such a Floridian/New Yorker that when he played Joseph in that one nativity movie… https://t.co/csN3RI8ezx\n",
      "user_name: TheJosephBarnes Time: 2022-04-23 23:16:44+00:00 Tweeted: RT @ZackMeisel: Oscar Mercado, on Yankees fans throwing beer cans at players at the end of the game: https://t.co/gNC6yeaDer\n",
      "user_name: JolanJoestar Time: 2022-04-23 23:16:43+00:00 Tweeted: @Oscar__Bear yeah well YOU ARE CUTER and probably COMFIER\n",
      "user_name: LheoMenz2 Time: 2022-04-23 23:16:40+00:00 Tweeted: RT @EzuieQuotes: \"Be yourself; everyone else is taken.\" - Oscar Wilde\n",
      "user_name: AB05541771 Time: 2022-04-23 23:16:40+00:00 Tweeted: RT @prisonfellowshp: Drugs and gang life led to trouble with the law for Oscar. But while incarcerated, he became part of our biblically ba…\n",
      "user_name: WeSeeYouRob Time: 2022-04-23 23:16:38+00:00 Tweeted: RT @LandesBrock: And the Oscar Award goes to… https://t.co/kxhyrNGYBM\n",
      "user_name: modsnapradio Time: 2022-04-23 23:16:34+00:00 Tweeted: Oscar and the Wolf - Fever\n",
      "user_name: oscar_ftls Time: 2022-04-23 23:16:30+00:00 Tweeted: RT @FoxedItUp: Oh hey it's Mr. Wolf from his hit movie The Bad Guys !! https://t.co/C0FYJEMEe0\n",
      "user_name: PRqoSJdyofN1yLj Time: 2022-04-23 23:16:30+00:00 Tweeted: RT @tim_fargo: Be yourself; everyone else is already taken. - Oscar Wilde #quote\n",
      "#WeekendWisdom https://t.co/SCovn9Vcwj\n",
      "user_name: Jordan__Steward Time: 2022-04-23 23:16:26+00:00 Tweeted: RT @BallySportsCLE: Oscar Mercado describes what happened in the outfield at the end of the game and what caused the whole scene. \n",
      "\n",
      "#ForThe…\n",
      "user_name: CaliFonia_ Time: 2022-04-23 23:16:26+00:00 Tweeted: RT @SeffSaid: \"The love in your heart wasn't put there to stay. Love isn't love 'til you give it away.\" - Oscar Hammerstein\n"
     ]
    },
    {
     "name": "stderr",
     "output_type": "stream",
     "text": [
      "Unexpected parameter: since\n"
     ]
    },
    {
     "name": "stdout",
     "output_type": "stream",
     "text": [
      "user_name: taeliketea Time: 2022-04-23 23:16:21+00:00 Tweeted: RT @bestofsos: someone please call the academy to give them an oscar https://t.co/K8nmTSJRTS\n",
      "user_name: buar_elvis Time: 2022-04-23 23:16:14+00:00 Tweeted: RT @Jacemandaspace2: Whether they are a real Oscar or not they are FAN voted awards. The consumers. And that means something positive. #Res…\n",
      "user_name: MeshugahTazz Time: 2022-04-23 23:16:11+00:00 Tweeted: Anthony Hopkins, 84, becomes the oldest UK actor in a lead movie role: Oscar winner to play the 'British Schindler'… https://t.co/yYxCsaKh7W\n",
      "user_name: lilaczinnia Time: 2022-04-23 23:16:09+00:00 Tweeted: RT @mats122343: @nelsonsprjng *oscar winner olivia colman signing up for those five scenes in heartstopper* https://t.co/Pum2ruu2nD\n",
      "user_name: LCannon88 Time: 2022-04-23 23:16:04+00:00 Tweeted: RT @BallySportsCLE: Oscar Mercado describes what happened in the outfield at the end of the game and what caused the whole scene. \n",
      "\n",
      "#ForThe…\n",
      "user_name: BigMuscleTHill1 Time: 2022-04-23 23:16:02+00:00 Tweeted: @ffcyevrah @oscar_ffc Nah he’s doing well for Napoli now apparently so he is obviously pretty good at the sport but… https://t.co/owA409HA5E\n",
      "user_name: oscar_benavi Time: 2022-04-23 23:15:54+00:00 Tweeted: RT @ProgIntl: BREAKING: The Commander of the Colombian Army has issued direct attack against leading candidate Gustavo Petro, violating the…\n",
      "user_name: brigid_madden Time: 2022-04-23 23:15:54+00:00 Tweeted: RT @BrickheadzX: If I had a nickel for every time Oscar Issac played a Marvel character with ties to ancient Egypt, I'd have two nickels. W…\n",
      "user_name: CozzieCozy Time: 2022-04-23 23:15:52+00:00 Tweeted: RT @fuzzyfromyt: Some good perspective from Oscar Mercado. https://t.co/UvR3XmnHWT\n",
      "user_name: kungfupussy Time: 2022-04-23 23:15:50+00:00 Tweeted: I made a new friend! Now I need to go find Oscar\n",
      "user_name: lowbudgetdemon Time: 2022-04-23 23:15:46+00:00 Tweeted: RT @Schaffrillas: Got some amazing gifts from my PO Box, thanks so much to the fans who sent me these! I can't wait to stare at Oscar every…\n",
      "user_name: mattiiu Time: 2022-04-23 23:15:40+00:00 Tweeted: Oscar Isaac’s acting is great tho\n",
      "user_name: JWodeshick Time: 2022-04-23 23:15:39+00:00 Tweeted: Gwyneth totally deserved her Oscar and she should've been nominated for Emma, The Talented Mr Ripley and The Royal Tenenbaums ty\n",
      "user_name: ejlazar Time: 2022-04-23 23:15:36+00:00 Tweeted: RT @tim_fargo: Be yourself; everyone else is already taken. - Oscar Wilde #quote\n",
      "#WeekendWisdom https://t.co/SCovn9Vcwj\n",
      "user_name: vistagrl Time: 2022-04-23 23:15:36+00:00 Tweeted: is that not oscar isaac… https://t.co/krgugDMwzV\n"
     ]
    },
    {
     "name": "stderr",
     "output_type": "stream",
     "text": [
      "Unexpected parameter: since\n"
     ]
    },
    {
     "name": "stdout",
     "output_type": "stream",
     "text": [
      "user_name: BryceTorneden Time: 2022-04-23 23:15:31+00:00 Tweeted: check this out! @Gui_Schmidtke @ihcnoiL @oscar_pagnoux @kr1pto_jd @edgar_ameka @SlametR30392170 @Jessica79393084… https://t.co/G1BJTxgEHI\n",
      "user_name: jacobzolman Time: 2022-04-23 23:15:27+00:00 Tweeted: RT @BenVerlander: Guardians outfielder Oscar Mercado speaks about the postgame beer throwing. \n",
      "\n",
      "“It’s ridiculous. Say whatever you wanna sa…\n",
      "user_name: adry_a_n Time: 2022-04-23 23:15:26+00:00 Tweeted: RT @FilmUpdates: Oscar Isaac attended a viewing party for the season finale of Rupaul’s Drag Race at a gay bar in Brooklyn. https://t.co/4e…\n",
      "user_name: tim_fargo Time: 2022-04-23 23:15:21+00:00 Tweeted: Be yourself; everyone else is already taken. - Oscar Wilde #quote\n",
      "#WeekendWisdom https://t.co/SCovn9Vcwj\n",
      "user_name: shomsaa Time: 2022-04-23 23:15:20+00:00 Tweeted: RT @ognjen_rakic21: \"And the Oscar goes to... Mina!\" 👏👏👏 #Oscars2022 \n",
      "#SurvivorSrbija #SurvivorHrvatska https://t.co/3Vo6r0Xpmy\n",
      "user_name: Really63518597 Time: 2022-04-23 23:15:14+00:00 Tweeted: RT @solomongeorgio: A reminder that Kevin Spacey has an Oscar for Best Actor\n",
      "user_name: benrezzy Time: 2022-04-23 23:15:13+00:00 Tweeted: RT @TheChalya: My girl got married!!!! 🥰❤️ @kemiadetiba gorgeousness!!!! “My wife” Oscar said, as he took a mesmerized glance at his new br…\n",
      "user_name: nsfwcryptid Time: 2022-04-23 23:15:06+00:00 Tweeted: falling to my knees. devastated that oscar isaac will never get an opportunity to top me\n",
      "user_name: ffcyevrah Time: 2022-04-23 23:15:00+00:00 Tweeted: @oscar_ffc @BigMuscleTHill1 Im sticking your point https://t.co/if1VuiucAN\n",
      "user_name: niraama Time: 2022-04-23 23:14:52+00:00 Tweeted: Another thing Oscar and Andy friendship, I really liked that on the ep that they go to Canada\n",
      "user_name: ZackMeisel Time: 2022-04-23 23:14:50+00:00 Tweeted: Myles Straw has no regrets. Oscar Mercado pleaded for consequences for unruly fan behavior. Josh Naylor wondered wh… https://t.co/2RYYcFEXqc\n",
      "user_name: bcab8790 Time: 2022-04-23 23:14:49+00:00 Tweeted: Did you know, the movie Parasite was the first foreign-language film to win best picture during the 92nd Oscar’s? I… https://t.co/QiE4aWLAS8\n",
      "user_name: _OriginalPower Time: 2022-04-23 23:14:44+00:00 Tweeted: RT @BallySportsCLE: Oscar Mercado describes what happened in the outfield at the end of the game and what caused the whole scene. \n",
      "\n",
      "#ForThe…\n",
      "user_name: Oscar_Juarez Time: 2022-04-23 23:14:42+00:00 Tweeted: RT @Schnitzel63: Paul Simonon,  in the back Topper https://t.co/4taL33APhF\n",
      "user_name: oscar_ffc Time: 2022-04-23 23:14:41+00:00 Tweeted: @ffcyevrah @BigMuscleTHill1 oh shi it’s zambo prop ignore that\n"
     ]
    },
    {
     "name": "stderr",
     "output_type": "stream",
     "text": [
      "Unexpected parameter: since\n"
     ]
    },
    {
     "name": "stdout",
     "output_type": "stream",
     "text": [
      "user_name: IngersollSy Time: 2022-04-23 23:14:40+00:00 Tweeted: RT @dmansworld474: My respect for Myles and Oscar is through the roof. @CleGuardians\n",
      "user_name: NoWayDudez Time: 2022-04-23 23:14:40+00:00 Tweeted: @HPbasketball Been looking at a lot of Oscar Robertson tapes lately, and Luka feels like an evolution of that arche… https://t.co/ohuVy8Hl7v\n",
      "user_name: edgren_oscar Time: 2022-04-23 23:14:38+00:00 Tweeted: @INeverTweetHere @djr1775 @zerohedge I'm Swedish. Finns and Swedes will always have each others backs! We don't nee… https://t.co/CaZly9hDb2\n",
      "user_name: bjerasmus81 Time: 2022-04-23 23:14:31+00:00 Tweeted: RT @wojta_lis: This project requires all the attention!\n",
      "Best community on the Solana blockchain and I'm sure not only there. You can not fi…\n",
      "user_name: nsfwcryptid Time: 2022-04-23 23:14:30+00:00 Tweeted: sorry thinking about how fucking how oscar isaac is holy shit that dude is so god damn fine\n",
      "user_name: Oscar__Bear Time: 2022-04-23 23:14:28+00:00 Tweeted: @JolanJoestar This looks so cute and comfy!!\n",
      "user_name: NoCannoli Time: 2022-04-23 23:14:12+00:00 Tweeted: @icedlattesis I just love when Oscar Isaac says... Isn't 8 inches enough for you.\n",
      "user_name: EugeniaLappies Time: 2022-04-23 23:14:06+00:00 Tweeted: @uzuriartonline MoonKnight and Oscar phase https://t.co/oMTDWEGjhj\n",
      "user_name: DanielBeauty10 Time: 2022-04-23 23:14:03+00:00 Tweeted: RT @TheChalya: My girl got married!!!! 🥰❤️ @kemiadetiba gorgeousness!!!! “My wife” Oscar said, as he took a mesmerized glance at his new br…\n",
      "user_name: TimJimLaughlin Time: 2022-04-23 23:14:01+00:00 Tweeted: @pdubinkc @mctait Maybe currently top for sole source deal, I don’t know, but Oscar Tshiebwe is returning for 2 Mil… https://t.co/VxEtBDlJ20\n",
      "user_name: JuanOnly12 Time: 2022-04-23 23:13:56+00:00 Tweeted: RT @PopCrave: Oscar Isaac attended a viewing party for the season finale of RuPaul’s #DragRace at a gay bar in Brooklyn. https://t.co/8zjnb…\n",
      "user_name: ffcyevrah Time: 2022-04-23 23:13:55+00:00 Tweeted: @BigMuscleTHill1 @oscar_ffc Zambo is a brilliant player, unless we hold in the prem and establish our selves to be… https://t.co/qb8DlAq39Q\n",
      "user_name: AndreWaters20 Time: 2022-04-23 23:13:53+00:00 Tweeted: RT @LandesBrock: And the Oscar Award goes to… https://t.co/kxhyrNGYBM\n",
      "user_name: dTHATguyV Time: 2022-04-23 23:13:49+00:00 Tweeted: RT @JLEWFifty: Incredibly proud of Myles Straw, Oscar Mercado and the rest of these #Guardians players for composing themselves in these po…\n",
      "user_name: luvasdeborracha Time: 2022-04-23 23:13:41+00:00 Tweeted: RT @FilmUpdates: Oscar Isaac attended a viewing party for the season finale of Rupaul’s Drag Race at a gay bar in Brooklyn. https://t.co/4e…\n"
     ]
    },
    {
     "name": "stderr",
     "output_type": "stream",
     "text": [
      "Unexpected parameter: since\n"
     ]
    },
    {
     "name": "stdout",
     "output_type": "stream",
     "text": [
      "user_name: isabellalftv Time: 2022-04-23 23:13:38+00:00 Tweeted: RT @bestofsos: someone please call the academy to give them an oscar https://t.co/K8nmTSJRTS\n",
      "user_name: oscar_kta Time: 2022-04-23 23:13:36+00:00 Tweeted: @Sling just screwed me over on this Mavs game 😡\n",
      "user_name: BerkleyBearNews Time: 2022-04-23 23:13:33+00:00 Tweeted: ‘There have to be consequences’: Myles Straw, Oscar Mercado and a Yankee Stadium ‘beer parade’ https://t.co/np65zBTHSb\n",
      "user_name: idvdrippykevin Time: 2022-04-23 23:13:31+00:00 Tweeted: RT @sanfranIovers: [idv, oc] im never making references again good god !!! anyways i finally decided on how i wanted Bear (originally calle…\n",
      "user_name: Jay_Paul254 Time: 2022-04-23 23:13:29+00:00 Tweeted: @JKNjenga So now that he's leaning towards kenya kwanza will he stand working with Oscar sudi?? Stupid thinking...… https://t.co/7qbFZm5CXS\n",
      "user_name: besidelrhx Time: 2022-04-23 23:13:20+00:00 Tweeted: RT @bestofsos: someone please call the academy to give them an oscar https://t.co/K8nmTSJRTS\n",
      "user_name: shim_ek94 Time: 2022-04-23 23:13:18+00:00 Tweeted: and there's other comment about how her performance in Miss Granny was an Oscar worthy 😢 \n",
      "\n",
      "true ....\n",
      "user_name: bronxfanatic Time: 2022-04-23 23:13:17+00:00 Tweeted: RT @BallySportsCLE: Oscar Mercado describes what happened in the outfield at the end of the game and what caused the whole scene. \n",
      "\n",
      "#ForThe…\n",
      "user_name: TheColdHardOne Time: 2022-04-23 23:13:15+00:00 Tweeted: @Rorycordialeer @hadariolothario @london_mlb @MIGHTYMaxBOXING One day a kid is gonn tell you Floyd Mayweather only… https://t.co/dk7Fsbne2H\n",
      "user_name: MrIncognito_J Time: 2022-04-23 23:13:14+00:00 Tweeted: RT @fuzzyfromyt: Some good perspective from Oscar Mercado. https://t.co/UvR3XmnHWT\n",
      "user_name: _oke_d Time: 2022-04-23 23:13:14+00:00 Tweeted: @Oscar_Mosh Someone sent it as dm you’re tweeting it , you want to marry everybody ni\n",
      "user_name: oscar_ffc Time: 2022-04-23 23:13:12+00:00 Tweeted: glad mikki got a shag after his poor performance at rock city https://t.co/s1x4zxlBAI\n",
      "user_name: FrancisUTD_ Time: 2022-04-23 23:13:03+00:00 Tweeted: @Oscar_Utd_ Early kick off bro we were always losing\n",
      "user_name: FoodScorn Time: 2022-04-23 23:13:00+00:00 Tweeted: RT @BallySportsCLE: Oscar Mercado describes what happened in the outfield at the end of the game and what caused the whole scene. \n",
      "\n",
      "#ForThe…\n",
      "user_name: F1ToRuleThemAll Time: 2022-04-23 23:12:52+00:00 Tweeted: Ted Kravitz: “Will he stay in F1 and be doing this, even if he says he does find joy in not being on the podium or… https://t.co/ta52QWSyMi\n"
     ]
    },
    {
     "name": "stderr",
     "output_type": "stream",
     "text": [
      "Unexpected parameter: since\n"
     ]
    },
    {
     "name": "stdout",
     "output_type": "stream",
     "text": [
      "user_name: shaparak57 Time: 2022-04-23 23:12:47+00:00 Tweeted: RT @OleleSalvador: BREAKING: Will Smith &amp; Jada might be getting a divorce after the Oscar slapping episode. The couple were already having…\n",
      "user_name: chocoroka Time: 2022-04-23 23:12:46+00:00 Tweeted: RT @wwwquotespics: I am not young enough to know everything. - Oscar Wilde #Sarcasm #Age \n",
      "\n",
      "https://t.co/7hbYtN3tD6 https://t.co/FkBU8Ka07k\n",
      "user_name: mikeghebre321 Time: 2022-04-23 23:12:45+00:00 Tweeted: @RaggedTP I absolutely agree with Oscar Wilde's quote, capitalism is an insane social system.\n",
      "user_name: WhiteSoxCenter Time: 2022-04-23 23:12:44+00:00 Tweeted: RT @fuzzyfromyt: Some good perspective from Oscar Mercado. https://t.co/UvR3XmnHWT\n",
      "user_name: veryupsetfan Time: 2022-04-23 23:12:37+00:00 Tweeted: RT @BallySportsCLE: Oscar Mercado describes what happened in the outfield at the end of the game and what caused the whole scene. \n",
      "\n",
      "#ForThe…\n",
      "user_name: CarlosCyclone14 Time: 2022-04-23 23:12:23+00:00 Tweeted: RT @GageEHC: Remain a huge Josh Naylor fan. He sprinted his ass there from 1B to get Oscar Mercado out of there. https://t.co/uAOKGS6QSM\n",
      "user_name: TrellWatkins Time: 2022-04-23 23:12:22+00:00 Tweeted: @wvfootballgoat Oscar quit on Huggs because he didn't want to be there. Attitude determines altitude. By the way, f… https://t.co/P0dvJ70AZV\n",
      "user_name: wwylmmore Time: 2022-04-23 23:12:18+00:00 Tweeted: RT @bestofsos: someone please call the academy to give them an oscar https://t.co/K8nmTSJRTS\n",
      "user_name: alostgirlmisato Time: 2022-04-23 23:12:17+00:00 Tweeted: @LegacyZelaya Mandatory oh my God Oscar your dust comment 🤣\n",
      "user_name: MVPSantander25 Time: 2022-04-23 23:12:08+00:00 Tweeted: RT @fuzzyfromyt: Some good perspective from Oscar Mercado. https://t.co/UvR3XmnHWT\n",
      "user_name: fairieisland Time: 2022-04-23 23:12:00+00:00 Tweeted: RT @sanfranIovers: [idv, oc] im never making references again good god !!! anyways i finally decided on how i wanted Bear (originally calle…\n",
      "user_name: johnpaulcusick Time: 2022-04-23 23:11:58+00:00 Tweeted: @StevenPG71 @KateEMcCann Yes , what I find shocking is the bitchiest comments about looks and what women are wearin… https://t.co/e02SLTCbqi\n",
      "user_name: CWSLalo16 Time: 2022-04-23 23:11:48+00:00 Tweeted: RT @fuzzyfromyt: Some good perspective from Oscar Mercado. https://t.co/UvR3XmnHWT\n",
      "user_name: irl_hoe Time: 2022-04-23 23:11:45+00:00 Tweeted: RT @PopCrave: Oscar Isaac attended a viewing party for the season finale of RuPaul’s #DragRace at a gay bar in Brooklyn. https://t.co/8zjnb…\n",
      "user_name: vagab6ondia Time: 2022-04-23 23:11:44+00:00 Tweeted: RT @bestofsos: someone please call the academy to give them an oscar https://t.co/K8nmTSJRTS\n"
     ]
    },
    {
     "name": "stderr",
     "output_type": "stream",
     "text": [
      "Unexpected parameter: since\n"
     ]
    },
    {
     "name": "stdout",
     "output_type": "stream",
     "text": [
      "user_name: fulcibaby Time: 2022-04-23 23:11:40+00:00 Tweeted: RT @BrndnStrssng: I say this without any hyperbole and I generally hate talking about movies in oscar speak but Campbell should’ve won Best…\n",
      "user_name: z3b23 Time: 2022-04-23 23:11:36+00:00 Tweeted: @reflected_oscar nicee\n",
      "user_name: oscar_ffc Time: 2022-04-23 23:11:35+00:00 Tweeted: @BigMuscleTHill1 i love the bloke\n",
      "user_name: Hicks_Stirling Time: 2022-04-23 23:11:31+00:00 Tweeted: Nah. Moon Knight. Easy.\n",
      "Daredevil just tends to me me depressed, and watching Oscar Isaac threaten to thrown himsel… https://t.co/hpBMpiR5At\n",
      "user_name: lupitaloves1d Time: 2022-04-23 23:11:30+00:00 Tweeted: RT @bestofsos: someone please call the academy to give them an oscar https://t.co/K8nmTSJRTS\n",
      "user_name: ColinTheRoo Time: 2022-04-23 23:11:28+00:00 Tweeted: RT @MattPassantino: What’s an acting OSCAR win everyone hates that you love? \n",
      "\n",
      "Mine: https://t.co/I4e4K4PXF4\n",
      "user_name: HeyMrNeat Time: 2022-04-23 23:11:26+00:00 Tweeted: @IGN Netflix doesn’t care about ratings/Oscar nominations. They care about views. They are not some prestige art ho… https://t.co/iRTQXHpiFn\n",
      "user_name: mekus102 Time: 2022-04-23 23:11:23+00:00 Tweeted: RT @TheChalya: My girl got married!!!! 🥰❤️ @kemiadetiba gorgeousness!!!! “My wife” Oscar said, as he took a mesmerized glance at his new br…\n",
      "user_name: PHoeyOfficial Time: 2022-04-23 23:11:23+00:00 Tweeted: RT @BallySportsCLE: Oscar Mercado describes what happened in the outfield at the end of the game and what caused the whole scene. \n",
      "\n",
      "#ForThe…\n",
      "user_name: BigMuscleTHill1 Time: 2022-04-23 23:11:21+00:00 Tweeted: @oscar_ffc You rate Zambo? Crush ruined.\n",
      "user_name: sunshinevol_lou Time: 2022-04-23 23:11:17+00:00 Tweeted: RT @bestofsos: someone please call the academy to give them an oscar https://t.co/K8nmTSJRTS\n",
      "user_name: LoDdaDon Time: 2022-04-23 23:11:17+00:00 Tweeted: RT @TheChalya: My girl got married!!!! 🥰❤️ @kemiadetiba gorgeousness!!!! “My wife” Oscar said, as he took a mesmerized glance at his new br…\n",
      "user_name: kbaileyjava2 Time: 2022-04-23 23:11:17+00:00 Tweeted: RT @OscarRunnerUp: These were the Oscar nominees for Best Director in 1957. Rank the nominees in order of personal preference.\n",
      "\n",
      "And as a bo…\n",
      "user_name: madisonf5 Time: 2022-04-23 23:11:16+00:00 Tweeted: RT @FilmUpdates: Oscar Isaac attended a viewing party for the season finale of Rupaul’s Drag Race at a gay bar in Brooklyn. https://t.co/4e…\n",
      "user_name: ilovclifford Time: 2022-04-23 23:11:15+00:00 Tweeted: RT @bestofsos: someone please call the academy to give them an oscar https://t.co/K8nmTSJRTS\n"
     ]
    },
    {
     "name": "stderr",
     "output_type": "stream",
     "text": [
      "Unexpected parameter: since\n"
     ]
    },
    {
     "name": "stdout",
     "output_type": "stream",
     "text": [
      "user_name: eko_daddy Time: 2022-04-23 23:11:05+00:00 Tweeted: @Oscar_Mosh it’s jist sunday nothing serious 😪\n",
      "user_name: pizcisgirl Time: 2022-04-23 23:11:04+00:00 Tweeted: RT @bestofsos: someone please call the academy to give them an oscar https://t.co/K8nmTSJRTS\n",
      "user_name: The_SmartMoney Time: 2022-04-23 23:10:58+00:00 Tweeted: RT @The_SmartMoney: 8. “Be yourself, everybody else is already taken.” \n",
      "\n",
      "– Oscar Wilde\n",
      "user_name: Avercamilo Time: 2022-04-23 23:10:57+00:00 Tweeted: @MattPassantino This was Chastain’s year, a too early Oscar por Jennifer Lawrence. https://t.co/ToF7jcfUnw\n",
      "user_name: GCRTtravelers Time: 2022-04-23 23:10:53+00:00 Tweeted: RT @fuzzyfromyt: Some good perspective from Oscar Mercado. https://t.co/UvR3XmnHWT\n",
      "user_name: b3nni3boon Time: 2022-04-23 23:10:53+00:00 Tweeted: RT @AGarfieldisSad: Day 28: A picture a day of Andrew Garfield till he wins an Oscar, unless I forget. https://t.co/ciFgxcsAj4\n",
      "user_name: sanquines Time: 2022-04-23 23:10:46+00:00 Tweeted: @rose_kg0 but then from a lgbtq standpoint, there's obvious queer coding going on with emet-selch — with a lot of a… https://t.co/hNYue0AI0a\n",
      "user_name: otbthirlwall Time: 2022-04-23 23:10:45+00:00 Tweeted: “have you ever made love to an Oscar winner?” https://t.co/uOzxJZb6eG\n",
      "user_name: DennisTalksToo Time: 2022-04-23 23:10:44+00:00 Tweeted: RT @RenGeekness: The Face/Off remake should be Pedro Pascal and Oscar Isaac.\n",
      "\n",
      "That's the tweet\n",
      "user_name: pauldanoishot Time: 2022-04-23 23:10:43+00:00 Tweeted: RT @h0edameron: oscar isaac          mads mikkelsen \n",
      "                      🤝 \n",
      "\n",
      "   being hot in every zoom calls https://t.co/EX5JRFhwQb\n",
      "user_name: warriorscore Time: 2022-04-23 23:10:39+00:00 Tweeted: @GameInjuryDoc Cp3 and Oscar over curry LMAOOOO\n",
      "user_name: KTGWRITER Time: 2022-04-23 23:10:25+00:00 Tweeted: Oscar Mercado offers a measured account of what happened in the 9th inning at Yankee Stadium today. I think his wor… https://t.co/zJpee6q8mK\n",
      "user_name: Rahmaaa_i Time: 2022-04-23 23:10:14+00:00 Tweeted: RT @TheChalya: My girl got married!!!! 🥰❤️ @kemiadetiba gorgeousness!!!! “My wife” Oscar said, as he took a mesmerized glance at his new br…\n",
      "user_name: Miu_tiny Time: 2022-04-23 23:10:13+00:00 Tweeted: Men always want to be a woman’s first love. Women like to be a man’s last romance.\n",
      "\n",
      "Oscar Wilde\n",
      "user_name: BrokenHalo1979 Time: 2022-04-23 23:10:11+00:00 Tweeted: RT @MLBONFOX: Guardians outfielder Oscar Mercado describes what happened when Yankees fans started throwing trash at him on the field &amp; wha…\n"
     ]
    },
    {
     "name": "stderr",
     "output_type": "stream",
     "text": [
      "Unexpected parameter: since\n"
     ]
    },
    {
     "name": "stdout",
     "output_type": "stream",
     "text": [
      "user_name: ChiTownnSports Time: 2022-04-23 23:10:11+00:00 Tweeted: RT @fuzzyfromyt: Some good perspective from Oscar Mercado. https://t.co/UvR3XmnHWT\n",
      "user_name: lndra__ Time: 2022-04-23 23:09:57+00:00 Tweeted: @FilmUpdates Could’ve been Daniel Day Lewis 5th Oscar.\n",
      "user_name: InternetFount Time: 2022-04-23 23:09:35+00:00 Tweeted: The imagination imitates. It is the critical spirit that creates. - Oscar Wilde #QotD #QuoteOfTheDay\n",
      "user_name: Oscar_Juarez Time: 2022-04-23 23:09:35+00:00 Tweeted: @EldelosTrenes71 @Gonzalo7movicio En Amazon ?\n",
      "user_name: oscar_ffc Time: 2022-04-23 23:09:26+00:00 Tweeted: @BigMuscleTHill1 don’t call zambo average.\n",
      "user_name: Emmasma62326297 Time: 2022-04-23 23:09:23+00:00 Tweeted: RT @TheChalya: My girl got married!!!! 🥰❤️ @kemiadetiba gorgeousness!!!! “My wife” Oscar said, as he took a mesmerized glance at his new br…\n",
      "user_name: BigMuscleTHill1 Time: 2022-04-23 23:09:04+00:00 Tweeted: @oscar_ffc He didn’t even have Seri, Lemina Lookman Zambo all average at best and Mitro was unfit\n",
      "user_name: meggyh98 Time: 2022-04-23 23:09:04+00:00 Tweeted: RT @murdockdilf: oscar isaac im begging you https://t.co/VYvxhi36bR\n",
      "user_name: mma_munkie Time: 2022-04-23 23:09:03+00:00 Tweeted: I’m calling it. Mike should get an Oscar. A real kick in the nuts and you can’t breath never mind talk smack. And h… https://t.co/9ndHSQrzaz\n",
      "user_name: sayitmaya Time: 2022-04-23 23:09:00+00:00 Tweeted: RT @bestofsos: someone please call the academy to give them an oscar https://t.co/K8nmTSJRTS\n",
      "user_name: alisonrae22 Time: 2022-04-23 23:09:00+00:00 Tweeted: RT @JLEWFifty: Incredibly proud of Myles Straw, Oscar Mercado and the rest of these #Guardians players for composing themselves in these po…\n",
      "user_name: COMFYS1LENCE Time: 2022-04-23 23:08:54+00:00 Tweeted: RT @bestofsos: someone please call the academy to give them an oscar https://t.co/K8nmTSJRTS\n",
      "user_name: arcticIuvrr Time: 2022-04-23 23:08:53+00:00 Tweeted: man.. why is oscar isaac so PRETTY goddamn\n",
      "user_name: midss_ Time: 2022-04-23 23:08:53+00:00 Tweeted: @eko_daddy @Oscar_Mosh @LFC -yup, absolutely\n",
      "user_name: LA_Broadus Time: 2022-04-23 23:08:45+00:00 Tweeted: RT @BallySportsCLE: Oscar Mercado describes what happened in the outfield at the end of the game and what caused the whole scene. \n",
      "\n",
      "#ForThe…\n"
     ]
    },
    {
     "name": "stderr",
     "output_type": "stream",
     "text": [
      "Unexpected parameter: since\n"
     ]
    },
    {
     "name": "stdout",
     "output_type": "stream",
     "text": [
      "user_name: bmma0707 Time: 2022-04-23 23:08:36+00:00 Tweeted: RT @bestofsos: someone please call the academy to give them an oscar https://t.co/K8nmTSJRTS\n",
      "user_name: jpotterstriplet Time: 2022-04-23 23:08:32+00:00 Tweeted: @chewingstars you said isaac and also oscar so im confused\n",
      "user_name: creatorthomas24 Time: 2022-04-23 23:08:28+00:00 Tweeted: If you had to power rank #NBA players most likely to win an Oscar is Luka #1? 🤔\n",
      "user_name: Mclaniyi Time: 2022-04-23 23:08:14+00:00 Tweeted: RT @bellanaija: OBA! #SolaSobowale was all out for @kemiadetiba and Oscar today.\n",
      "\n",
      "#UndeniablyYours2022 https://t.co/aAmq7rbsCh\n",
      "user_name: EffingKoo Time: 2022-04-23 23:08:11+00:00 Tweeted: RT @JLEWFifty: Incredibly proud of Myles Straw, Oscar Mercado and the rest of these #Guardians players for composing themselves in these po…\n",
      "user_name: empresssssss_ Time: 2022-04-23 23:08:11+00:00 Tweeted: RT @TheChalya: My girl got married!!!! 🥰❤️ @kemiadetiba gorgeousness!!!! “My wife” Oscar said, as he took a mesmerized glance at his new br…\n",
      "user_name: osaye_e Time: 2022-04-23 23:08:10+00:00 Tweeted: Amazing how Marvel’s turned Oscar nominated actors into series regulars.\n",
      "user_name: therealsteeeve Time: 2022-04-23 23:08:07+00:00 Tweeted: RT @OleleSalvador: BREAKING: Will Smith &amp; Jada might be getting a divorce after the Oscar slapping episode. The couple were already having…\n",
      "user_name: sjaustex Time: 2022-04-23 23:08:05+00:00 Tweeted: RT @LiftingHumanity: @ozthegoatguy Thank you for your kindness Marko, and Mike. Take care 🐐\n",
      "Well, Oscar was not able to scratch through to…\n",
      "user_name: tightpantshyboy Time: 2022-04-23 23:08:03+00:00 Tweeted: the editing in the buzzfeed puppy interview is god tier. the pause and joon's FACE after jin says he likes his hand… https://t.co/YkMQug0KSd\n",
      "user_name: CharledFI Time: 2022-04-23 23:07:56+00:00 Tweeted: @RaptorBreath @Milady_Oscar With giant scissors trying to attack Pacman... 😁\n",
      "user_name: leemac57 Time: 2022-04-23 23:07:56+00:00 Tweeted: RT @KyleTucker_ATH: RETURNING\n",
      "Sahvir Wheeler\n",
      "CJ Fredrick (injured last year)\n",
      "Jacob Toppin\n",
      "Oscar Tshiebwe \n",
      "Daimion Collins\n",
      "Lance Ware\n",
      "(Keion…\n",
      "user_name: deadrabbitgroup Time: 2022-04-23 23:07:56+00:00 Tweeted: RT @siconnellymusic: Thanks so much to @billysloanshow @BBCRadioScot for debuting my track. Can’t wait to join Simon &amp; Oscar on the road. A…\n",
      "user_name: cakefacelinda Time: 2022-04-23 23:07:38+00:00 Tweeted: RT @melerives: https://t.co/36UkEOyOyc anything helps, even just a simple rt 🤍\n",
      "user_name: Jani_Lene Time: 2022-04-23 23:07:32+00:00 Tweeted: RT @SteveRustad1: Remember them all . . .\n",
      "\n",
      "George Floyd\n",
      "\n",
      "Daunte Wright\n",
      "\n",
      "Adam Toledo\n",
      "\n",
      "Elijah McClain\n",
      "\n",
      "Ahmoud Arbery\n",
      "\n",
      "Rayshard Brooks\n",
      "\n",
      "Breonn…\n"
     ]
    },
    {
     "name": "stderr",
     "output_type": "stream",
     "text": [
      "Unexpected parameter: since\n"
     ]
    },
    {
     "name": "stdout",
     "output_type": "stream",
     "text": [
      "user_name: dilfhive Time: 2022-04-23 23:07:28+00:00 Tweeted: @b4ttinson i heard moon knight is good or maybe that oscar looks sexy in it tomato tomatoe\n",
      "user_name: 2l3DnUXTnARw1OK Time: 2022-04-23 23:07:25+00:00 Tweeted: When I was young I thought that money was the most important thing in life; now that I am old I know that it is. Oscar Wilde\n",
      "user_name: offbrandnikolai Time: 2022-04-23 23:07:24+00:00 Tweeted: RT @bestofsos: someone please call the academy to give them an oscar https://t.co/K8nmTSJRTS\n",
      "user_name: naththings Time: 2022-04-23 23:07:23+00:00 Tweeted: RT @FilmUpdates: Oscar Isaac attended a viewing party for the season finale of Rupaul’s Drag Race at a gay bar in Brooklyn. https://t.co/4e…\n",
      "user_name: giveuwhatuwantx Time: 2022-04-23 23:07:22+00:00 Tweeted: RT @bestofsos: someone please call the academy to give them an oscar https://t.co/K8nmTSJRTS\n",
      "user_name: eko_daddy Time: 2022-04-23 23:07:19+00:00 Tweeted: @midss_ @Oscar_Mosh @LFC so Liverpool is my babe? 😪\n",
      "user_name: RICOVI_B Time: 2022-04-23 23:07:11+00:00 Tweeted: RT @bellanaija: OBA! #SolaSobowale was all out for @kemiadetiba and Oscar today.\n",
      "\n",
      "#UndeniablyYours2022 https://t.co/aAmq7rbsCh\n",
      "user_name: dustbuster10 Time: 2022-04-23 23:07:08+00:00 Tweeted: RT @BallySportsCLE: Oscar Mercado describes what happened in the outfield at the end of the game and what caused the whole scene. \n",
      "\n",
      "#ForThe…\n",
      "user_name: matiassssse Time: 2022-04-23 23:07:06+00:00 Tweeted: RT @FilmUpdates: Oscar Isaac attended a viewing party for the season finale of Rupaul’s Drag Race at a gay bar in Brooklyn. https://t.co/4e…\n",
      "user_name: ZaysInvitar Time: 2022-04-23 23:07:04+00:00 Tweeted: RT @OneJoblessBoy: The real wedding party! Congratulations Kemi Adetiba and Oscar 😍😍😍🫂 https://t.co/fCzYfiHoLf\n",
      "user_name: mviefnatic Time: 2022-04-23 23:06:54+00:00 Tweeted: “i’m trying to sleep and the only thing going through my head is oscar isaac singing a song about a hippopotamus” -… https://t.co/RDXdJYxy4t\n",
      "user_name: 99DoubleB Time: 2022-04-23 23:06:52+00:00 Tweeted: RT @dmansworld474: My respect for Myles and Oscar is through the roof. @CleGuardians\n",
      "user_name: salmonpieberry Time: 2022-04-23 23:06:40+00:00 Tweeted: RT @EzuieQuotes: \"Be yourself; everyone else is taken.\" - Oscar Wilde\n",
      "user_name: Jsounds2154L Time: 2022-04-23 23:06:40+00:00 Tweeted: RT @LandesBrock: And the Oscar Award goes to… https://t.co/kxhyrNGYBM\n",
      "user_name: lazulcapital Time: 2022-04-23 23:06:36+00:00 Tweeted: $JEWEL redemption arc will deserve an Oscar https://t.co/WH6RjTzJgr\n"
     ]
    },
    {
     "name": "stderr",
     "output_type": "stream",
     "text": [
      "Unexpected parameter: since\n"
     ]
    },
    {
     "name": "stdout",
     "output_type": "stream",
     "text": [
      "user_name: ChaseFegert Time: 2022-04-23 23:06:33+00:00 Tweeted: RT @IamMikeCannon: An oscar is pretty cool but have you ever given yourself a pat on the back?\n",
      "user_name: loaded_bladder Time: 2022-04-23 23:06:25+00:00 Tweeted: RT @brettsbbqshop: S A T U R D A Y   \n",
      "🔥Achiote Pork Plate Lunch\n",
      "1/2lb Smoked Achiote Pork, 8oz Housemade Refried Beans, 8oz Housemade Mexic…\n",
      "user_name: midss_ Time: 2022-04-23 23:06:22+00:00 Tweeted: @eko_daddy @Oscar_Mosh @LFC -he’s not lying tho\n",
      "user_name: riskandgrace Time: 2022-04-23 23:06:16+00:00 Tweeted: @oscar_almighti @Drealstp1 @instablog9ja I’m not a frog 🐸\n",
      "user_name: kingqu33f Time: 2022-04-23 23:06:12+00:00 Tweeted: RT @PopCrave: Oscar Isaac attended a viewing party for the season finale of RuPaul’s #DragRace at a gay bar in Brooklyn. https://t.co/8zjnb…\n",
      "user_name: davidkoren Time: 2022-04-23 23:06:04+00:00 Tweeted: \"The trouble with socialism is that it takes up too many evenings.\" -- Oscar Wilde (It's probably not him:… https://t.co/sFSNqkddk0\n",
      "user_name: BaseJacobD Time: 2022-04-23 23:05:59+00:00 Tweeted: Luka sucks, the man is a cocky trash player. Go get your Oscar on the way out. #Trash #NBAPlayoffs2022\n",
      "user_name: Gmatheson85 Time: 2022-04-23 23:05:59+00:00 Tweeted: RT @ZackMeisel: Oscar Mercado said a semi-full beer can nearly struck him in the face, but he snagged it in time. Myles Straw said Trevor S…\n",
      "user_name: JJonTwirra Time: 2022-04-23 23:05:55+00:00 Tweeted: @_FutboIOscar @StokeyyG2 @UtdJack22 Oscar the streets won't forget those predictions you made at the start of the s… https://t.co/w1FzAJxMpi\n",
      "user_name: diluabieber Time: 2022-04-23 23:05:52+00:00 Tweeted: RT @jhbmoments: justin and hailey bieber with oscar https://t.co/KnKS1GJ3CZ\n",
      "user_name: DudsonWarren Time: 2022-04-23 23:05:46+00:00 Tweeted: @liesandarbor Any relation to Oscar ??? Asking for a friend\n",
      "user_name: taechweita Time: 2022-04-23 23:05:45+00:00 Tweeted: so this was the most incredible movie on my life. it needs an oscar 🏆 https://t.co/Tuxly4bjBd\n",
      "user_name: FulhamThomas_ Time: 2022-04-23 23:05:43+00:00 Tweeted: @oscar_ffc People forget how unfit Mitro was last season and I can guarantee all of these lot loved him after we beat Liverpool\n",
      "user_name: Epistle_of_Don Time: 2022-04-23 23:05:43+00:00 Tweeted: RT @OleleSalvador: BREAKING: Will Smith &amp; Jada might be getting a divorce after the Oscar slapping episode. The couple were already having…\n",
      "user_name: DanielMMayeda Time: 2022-04-23 23:05:42+00:00 Tweeted: You know what's even sweeter? EEAAO has now surpassed the domestic box office of Oscar-non-winner LICORICE PIZZA https://t.co/3X15CQJVzC\n"
     ]
    },
    {
     "name": "stderr",
     "output_type": "stream",
     "text": [
      "Unexpected parameter: since\n"
     ]
    },
    {
     "name": "stdout",
     "output_type": "stream",
     "text": [
      "user_name: JurassicJoe12 Time: 2022-04-23 23:05:39+00:00 Tweeted: RT @fuzzyfromyt: Some good perspective from Oscar Mercado. https://t.co/UvR3XmnHWT\n",
      "user_name: NatureUncut Time: 2022-04-23 23:05:39+00:00 Tweeted: RT @OleleSalvador: BREAKING: Will Smith &amp; Jada might be getting a divorce after the Oscar slapping episode. The couple were already having…\n",
      "user_name: wonuolaaaa Time: 2022-04-23 23:05:32+00:00 Tweeted: @Oscar_Mosh no i don’t\n",
      "user_name: TNJeffro Time: 2022-04-23 23:05:29+00:00 Tweeted: RT @BallySportsCLE: Oscar Mercado describes what happened in the outfield at the end of the game and what caused the whole scene. \n",
      "\n",
      "#ForThe…\n",
      "user_name: WFKARS Time: 2022-04-23 23:05:22+00:00 Tweeted: @jgownder I mean, I would look at Oscar Isaac for just about any reason, but this is just leaden and joyless.\n",
      "user_name: keh_miii Time: 2022-04-23 23:05:21+00:00 Tweeted: RT @TheChalya: My girl got married!!!! 🥰❤️ @kemiadetiba gorgeousness!!!! “My wife” Oscar said, as he took a mesmerized glance at his new br…\n",
      "user_name: Howna Time: 2022-04-23 23:05:15+00:00 Tweeted: RT @TheChalya: My girl got married!!!! 🥰❤️ @kemiadetiba gorgeousness!!!! “My wife” Oscar said, as he took a mesmerized glance at his new br…\n",
      "user_name: fox8news Time: 2022-04-23 23:05:10+00:00 Tweeted: “It’s almost like, it’s acts of violence. You can’t say stuff like that, especially when someone gets hurt,\" Oscar… https://t.co/to6tbhS7vm\n",
      "user_name: FABRAYSNIALL Time: 2022-04-23 23:05:09+00:00 Tweeted: RT @bestofsos: someone please call the academy to give them an oscar https://t.co/K8nmTSJRTS\n",
      "user_name: hrts4luke Time: 2022-04-23 23:05:06+00:00 Tweeted: deserves an oscar guys best acting i have seen https://t.co/hbGLE0aWcX\n",
      "user_name: SimonMu43041656 Time: 2022-04-23 23:05:02+00:00 Tweeted: RT @sabinachege01: Dear Kikuyus  open your eyes wide. Just look at the tribulations Alfred keter is going through, the dictator William Rut…\n",
      "user_name: WeScreenplay Time: 2022-04-23 23:05:00+00:00 Tweeted: Sian Heder’s CODA has made a huge impact in the film industry, from its premiere at the 2021 Sundance Film Festival… https://t.co/gqvXJkWyEf\n",
      "user_name: anheplay Time: 2022-04-23 23:05:00+00:00 Tweeted: RT @bestofsos: someone please call the academy to give them an oscar https://t.co/K8nmTSJRTS\n",
      "user_name: Shattianathan1 Time: 2022-04-23 23:04:54+00:00 Tweeted: RT @loki_edit: Kamal sir don't deserve oscar .Oscar deserves kamal sir.💥God of indian cinema 🙏 waiting for Vikram 💥🥁 https://t.co/wk4puZ0aGW\n",
      "user_name: lukesmeadows Time: 2022-04-23 23:04:54+00:00 Tweeted: RT @bestofsos: someone please call the academy to give them an oscar https://t.co/K8nmTSJRTS\n"
     ]
    },
    {
     "name": "stderr",
     "output_type": "stream",
     "text": [
      "Unexpected parameter: since\n"
     ]
    },
    {
     "name": "stdout",
     "output_type": "stream",
     "text": [
      "user_name: Godswarrior1993 Time: 2022-04-23 23:04:52+00:00 Tweeted: RT @GageEHC: Remain a huge Josh Naylor fan. He sprinted his ass there from 1B to get Oscar Mercado out of there. https://t.co/uAOKGS6QSM\n",
      "user_name: Estefani_M22 Time: 2022-04-23 23:04:51+00:00 Tweeted: @Violento_99 Don Oscar 😘\n",
      "user_name: BaseJacobD Time: 2022-04-23 23:04:41+00:00 Tweeted: And the Oscar goes to Luka #TakeNote\n",
      "user_name: BrianSimpsonKY Time: 2022-04-23 23:04:41+00:00 Tweeted: RT @andypottsBRG: Thank you Coach Oscar for coaching @addison_potts3 last game in SWFL before heading to @PurdueWBB! Thanks @FSWBucs and Co…\n",
      "user_name: DavidMpopo01 Time: 2022-04-23 23:04:37+00:00 Tweeted: RT @RayoKasali: In case you're wondering who Kemi Adetiba's prince charming is...\n",
      "\n",
      "He is Oscar Herman-Acker the genius music maestro \"Oscar…\n",
      "user_name: Oscar_ToFresh Time: 2022-04-23 23:04:36+00:00 Tweeted: RT @kirawontmiss: “Happy Earth Day!!💙🌏🌳”\n",
      "\n",
      "The Earth: https://t.co/58WC3N4ifv\n",
      "user_name: jgownder Time: 2022-04-23 23:04:29+00:00 Tweeted: @WFKARS Plot and pacing are off. Oscar Isaac is really good, but it's not entertaining.\n",
      "user_name: VxbesWithIzzy Time: 2022-04-23 23:04:27+00:00 Tweeted: @Oscar_Mosh facts tho but fxck it we ball mentality &gt;&gt;&gt;\n",
      "user_name: jack_althen Time: 2022-04-23 23:04:26+00:00 Tweeted: RT @BallySportsCLE: Oscar Mercado describes what happened in the outfield at the end of the game and what caused the whole scene. \n",
      "\n",
      "#ForThe…\n",
      "user_name: Omowonuola141 Time: 2022-04-23 23:04:23+00:00 Tweeted: RT @TheChalya: My girl got married!!!! 🥰❤️ @kemiadetiba gorgeousness!!!! “My wife” Oscar said, as he took a mesmerized glance at his new br…\n",
      "user_name: peace2uuu Time: 2022-04-23 23:04:11+00:00 Tweeted: RT @GageEHC: Remain a huge Josh Naylor fan. He sprinted his ass there from 1B to get Oscar Mercado out of there. https://t.co/uAOKGS6QSM\n",
      "user_name: calumsredhat Time: 2022-04-23 23:04:01+00:00 Tweeted: RT @bestofsos: someone please call the academy to give them an oscar https://t.co/K8nmTSJRTS\n",
      "user_name: jalmonte2130 Time: 2022-04-23 23:03:59+00:00 Tweeted: RT @MLBONFOX: Guardians outfielder Oscar Mercado describes what happened when Yankees fans started throwing trash at him on the field &amp; wha…\n",
      "user_name: PereReader Time: 2022-04-23 23:03:52+00:00 Tweeted: RT @LisaDock84: Can you believe Johhny Depp has never won an oscar 😳😳 probably the most diverse Actor there is.. i guess its better to wond…\n",
      "user_name: lakeruci Time: 2022-04-23 23:03:50+00:00 Tweeted: RT @BallySportsCLE: Oscar Mercado describes what happened in the outfield at the end of the game and what caused the whole scene. \n",
      "\n",
      "#ForThe…\n"
     ]
    },
    {
     "name": "stderr",
     "output_type": "stream",
     "text": [
      "Unexpected parameter: since\n"
     ]
    },
    {
     "name": "stdout",
     "output_type": "stream",
     "text": [
      "user_name: iQraSarfraz6 Time: 2022-04-23 23:03:48+00:00 Tweeted: RT @SeffSaid: \"The love in your heart wasn't put there to stay. Love isn't love 'til you give it away.\" - Oscar Hammerstein\n",
      "user_name: theyazman300 Time: 2022-04-23 23:03:47+00:00 Tweeted: @PleaseBexcited @KindaFunnyVids Instead of Kevin tweeting you Why, it would be Oscar Isaac instead\n",
      "user_name: kendoll______ Time: 2022-04-23 23:03:33+00:00 Tweeted: RT @TheChalya: My girl got married!!!! 🥰❤️ @kemiadetiba gorgeousness!!!! “My wife” Oscar said, as he took a mesmerized glance at his new br…\n",
      "user_name: sugartint Time: 2022-04-23 23:03:32+00:00 Tweeted: RT @FilmUpdates: Oscar Isaac attended a viewing party for the season finale of Rupaul’s Drag Race at a gay bar in Brooklyn. https://t.co/4e…\n",
      "user_name: SueTanChan Time: 2022-04-23 23:03:30+00:00 Tweeted: RT @SeffSaid: \"The love in your heart wasn't put there to stay. Love isn't love 'til you give it away.\" - Oscar Hammerstein\n",
      "user_name: n0uisprincess Time: 2022-04-23 23:03:30+00:00 Tweeted: RT @bestofsos: someone please call the academy to give them an oscar https://t.co/K8nmTSJRTS\n",
      "user_name: sadmark11 Time: 2022-04-23 23:03:30+00:00 Tweeted: RT @RussInCheshire: Hitting adult men = bad\n",
      "Hitting adult women = bad\n",
      "Hitting dogs = bad\n",
      "Hitting Oscar hosts = bad\n",
      "\n",
      "Hitting children = good…\n",
      "user_name: LinaRpoD Time: 2022-04-23 23:03:18+00:00 Tweeted: @OConchaa Don Oscar... https://t.co/q1YufsbgMX\n",
      "user_name: funky_man Time: 2022-04-23 23:03:16+00:00 Tweeted: RT @OleleSalvador: BREAKING: Will Smith &amp; Jada might be getting a divorce after the Oscar slapping episode. The couple were already having…\n",
      "user_name: wonuolaaaa Time: 2022-04-23 23:03:15+00:00 Tweeted: @Oscar_Mosh and you don’t want to?\n",
      "user_name: bryceinTO Time: 2022-04-23 23:02:58+00:00 Tweeted: @__marinade__ @crystalwillseeu I feel like the enthusiasm I was seeing for Gaga mostly moved to Stewart after she l… https://t.co/q0A6CmuXA8\n",
      "user_name: radioflavia Time: 2022-04-23 23:02:57+00:00 Tweeted: RT @bestofsos: someone please call the academy to give them an oscar https://t.co/K8nmTSJRTS\n",
      "user_name: Razerpops Time: 2022-04-23 23:02:51+00:00 Tweeted: @oscar_landshark I need more checks now 😆\n",
      "user_name: teazingonijm Time: 2022-04-23 23:02:50+00:00 Tweeted: RT @bestofsos: someone please call the academy to give them an oscar https://t.co/K8nmTSJRTS\n",
      "user_name: GothMathCommie Time: 2022-04-23 23:02:48+00:00 Tweeted: The warring sides of Oscar https://t.co/8K6UJW4sdh\n"
     ]
    },
    {
     "name": "stderr",
     "output_type": "stream",
     "text": [
      "Unexpected parameter: since\n"
     ]
    },
    {
     "name": "stdout",
     "output_type": "stream",
     "text": [
      "user_name: punkrckashxx Time: 2022-04-23 23:02:46+00:00 Tweeted: RT @bestofsos: someone please call the academy to give them an oscar https://t.co/K8nmTSJRTS\n",
      "user_name: oscar_ffc Time: 2022-04-23 23:02:45+00:00 Tweeted: hope he sees this bro https://t.co/VhR3O1xgJu\n",
      "user_name: loverofminelive Time: 2022-04-23 23:02:45+00:00 Tweeted: RT @bestofsos: someone please call the academy to give them an oscar https://t.co/K8nmTSJRTS\n",
      "user_name: kude_son Time: 2022-04-23 23:02:43+00:00 Tweeted: RT @TobyStephensInV: Enjoying #MoonKnight . It’s a lot of fun. Oscar Isaac 👍.\n",
      "user_name: 96bbyhood Time: 2022-04-23 23:02:40+00:00 Tweeted: RT @bestofsos: someone please call the academy to give them an oscar https://t.co/K8nmTSJRTS\n",
      "user_name: Hortonimo Time: 2022-04-23 23:02:39+00:00 Tweeted: oscar mercado catching one of the beer cans should not go unnoticed that shit was badass https://t.co/a6aq3JcXDw\n",
      "user_name: lukexcherry Time: 2022-04-23 23:02:36+00:00 Tweeted: RT @bestofsos: someone please call the academy to give them an oscar https://t.co/K8nmTSJRTS\n",
      "user_name: reputari Time: 2022-04-23 23:02:32+00:00 Tweeted: @bestofsos @Luke5SOS @Calum5SOS they don’t need an oscar, oscars need them\n",
      "user_name: samanth_trejo Time: 2022-04-23 23:02:23+00:00 Tweeted: RT @bestofsos: someone please call the academy to give them an oscar https://t.co/K8nmTSJRTS\n",
      "user_name: z34_oscar Time: 2022-04-23 23:02:22+00:00 Tweeted: RT @Galindo__9: All show no go 😮‍💨 https://t.co/mb6Mb3r6p9\n",
      "user_name: PattyMcCaffrey Time: 2022-04-23 23:02:21+00:00 Tweeted: RT @ZackMeisel: Oscar Mercado said a semi-full beer can nearly struck him in the face, but he snagged it in time. Myles Straw said Trevor S…\n",
      "user_name: PattyMcCaffrey Time: 2022-04-23 23:02:19+00:00 Tweeted: RT @ZackMeisel: The Yankees walk it off against the Guardians, and Yankees fans are showering Oscar Mercado with trash. He threw down his g…\n",
      "user_name: SteveSisto Time: 2022-04-23 23:02:17+00:00 Tweeted: RT @MLBONFOX: Guardians outfielder Oscar Mercado describes what happened when Yankees fans started throwing trash at him on the field &amp; wha…\n",
      "user_name: nramirezhandall Time: 2022-04-23 23:02:17+00:00 Tweeted: RT @bestofsos: someone please call the academy to give them an oscar https://t.co/K8nmTSJRTS\n",
      "user_name: douglaschongys Time: 2022-04-23 23:02:17+00:00 Tweeted: RT @FreddieRoach: Thank you, Lt. Oscar Barragan of the Los Angeles County Sheriff’s Department Special Enforcement Bureau (SEB), for this a…\n"
     ]
    },
    {
     "name": "stderr",
     "output_type": "stream",
     "text": [
      "Unexpected parameter: since\n"
     ]
    },
    {
     "name": "stdout",
     "output_type": "stream",
     "text": [
      "user_name: fxxflower Time: 2022-04-23 23:02:17+00:00 Tweeted: RT @FilmUpdates: Oscar Isaac attended a viewing party for the season finale of Rupaul’s Drag Race at a gay bar in Brooklyn. https://t.co/4e…\n",
      "user_name: willbondspeare Time: 2022-04-23 23:02:15+00:00 Tweeted: RT @chaoticmulaney: 2022 vanity fair oscar party 🖤 https://t.co/lYIFRlbbIA\n",
      "user_name: jim_russell_18 Time: 2022-04-23 23:02:13+00:00 Tweeted: @J__D__S @2926Zion @Billy_McKenna2 @UnfortunateMLB Lol I watched every Cleveland game this season. The mayhem start… https://t.co/meCkuDYfa7\n",
      "user_name: reputari Time: 2022-04-23 23:02:10+00:00 Tweeted: RT @bestofsos: someone please call the academy to give them an oscar https://t.co/K8nmTSJRTS\n",
      "user_name: lukessglitterr Time: 2022-04-23 23:02:05+00:00 Tweeted: RT @bestofsos: someone please call the academy to give them an oscar https://t.co/K8nmTSJRTS\n",
      "user_name: wonuolaaaa Time: 2022-04-23 23:02:02+00:00 Tweeted: @Oscar_Mosh let’s play\n",
      "user_name: Iluke96s Time: 2022-04-23 23:02:01+00:00 Tweeted: RT @bestofsos: someone please call the academy to give them an oscar https://t.co/K8nmTSJRTS\n",
      "user_name: PoetOnTheLake Time: 2022-04-23 23:01:51+00:00 Tweeted: RT @BallySportsCLE: Oscar Mercado describes what happened in the outfield at the end of the game and what caused the whole scene. \n",
      "\n",
      "#ForThe…\n",
      "user_name: RebelKingSnow Time: 2022-04-23 23:01:49+00:00 Tweeted: @solacecinema Another Oscar nomination\n",
      "user_name: ifoundluke Time: 2022-04-23 23:01:48+00:00 Tweeted: RT @bestofsos: someone please call the academy to give them an oscar https://t.co/K8nmTSJRTS\n",
      "user_name: itsgeorgieboi Time: 2022-04-23 23:01:48+00:00 Tweeted: RT @LanaGallery: she should’ve been handed her grammy and oscar IMMEDIATELY\n",
      "user_name: Oscar_ayala22 Time: 2022-04-23 23:01:44+00:00 Tweeted: RT @saorikiyomi: which pokemon or anime character do i remind you of? ☺️ https://t.co/LbpZiM4gPf\n",
      "user_name: paramqres Time: 2022-04-23 23:01:41+00:00 Tweeted: RT @bestofsos: someone please call the academy to give them an oscar https://t.co/K8nmTSJRTS\n",
      "user_name: Bex_Oscar Time: 2022-04-23 23:01:39+00:00 Tweeted: RT @Juicysteak117: autistic people trying to flirt be like: https://t.co/4ZY1SS4MFQ\n",
      "user_name: fasol_cia Time: 2022-04-23 23:01:34+00:00 Tweeted: RT @bestofsos: someone please call the academy to give them an oscar https://t.co/K8nmTSJRTS\n"
     ]
    },
    {
     "name": "stderr",
     "output_type": "stream",
     "text": [
      "Unexpected parameter: since\n"
     ]
    },
    {
     "name": "stdout",
     "output_type": "stream",
     "text": [
      "user_name: jayspartan20 Time: 2022-04-23 23:01:33+00:00 Tweeted: @TheNBACentral @TheAthletic Or Oscar as a matter of fact\n",
      "user_name: mastyun Time: 2022-04-23 23:01:32+00:00 Tweeted: RT @bestofsos: someone please call the academy to give them an oscar https://t.co/K8nmTSJRTS\n",
      "user_name: munroe_gerry Time: 2022-04-23 23:01:32+00:00 Tweeted: RT @TheFigen: Dog deserves Oscar for his acting performance. ❤️😂😂\n",
      "https://t.co/5hB9zcZSAg\n",
      "user_name: MustBTV Time: 2022-04-23 23:01:24+00:00 Tweeted: 🎥  It's time for some must see tv right now at https://t.co/nFIixPc5fV where you can call me Oscar, because its cle… https://t.co/qBcOHCTeYl\n",
      "user_name: racerxmas Time: 2022-04-23 23:01:23+00:00 Tweeted: RT @crystalwillseeu: I know she won the Oscar so this is a bit obvious, but Jessica Chastain in The Eyes of Tammy Faye is truly one of the…\n",
      "user_name: SpectrumLightR1 Time: 2022-04-23 23:01:19+00:00 Tweeted: RT @CallMeKatFOX: We've never seen Oscar be this cold. 🥶 #CallMeKat https://t.co/xojX7WgfPQ\n",
      "user_name: bestofsos Time: 2022-04-23 23:01:11+00:00 Tweeted: someone please call the academy to give them an oscar https://t.co/K8nmTSJRTS\n",
      "user_name: MotunrayoMuhee1 Time: 2022-04-23 23:01:08+00:00 Tweeted: RT @TheChalya: My girl got married!!!! 🥰❤️ @kemiadetiba gorgeousness!!!! “My wife” Oscar said, as he took a mesmerized glance at his new br…\n",
      "user_name: CardAristocrats Time: 2022-04-23 23:01:01+00:00 Tweeted: RT @fuzzyfromyt: Some good perspective from Oscar Mercado. https://t.co/UvR3XmnHWT\n",
      "user_name: Milady_Oscar Time: 2022-04-23 23:00:56+00:00 Tweeted: RT @RaptorBreath: this spot reserved for ppl that twerk at babies https://t.co/hOhZ2sK3Ak\n",
      "user_name: _manlikemarcel Time: 2022-04-23 23:00:56+00:00 Tweeted: RT @OneJoblessBoy: The real wedding party! Congratulations Kemi Adetiba and Oscar 😍😍😍🫂 https://t.co/fCzYfiHoLf\n",
      "user_name: tauqir_ahmad78 Time: 2022-04-23 23:00:51+00:00 Tweeted: RT @EzuieQuotes: \"Be yourself; everyone else is taken.\" - Oscar Wilde\n",
      "user_name: funky_man Time: 2022-04-23 23:00:48+00:00 Tweeted: What the hell is Will Smith doin in India right now? Seeking spiritual forgiveness for his Oscar 2021 slap incident… https://t.co/hq5BFywWwn\n",
      "user_name: woody1196 Time: 2022-04-23 23:00:46+00:00 Tweeted: RT @BallySportsCLE: Oscar Mercado describes what happened in the outfield at the end of the game and what caused the whole scene. \n",
      "\n",
      "#ForThe…\n",
      "user_name: awardsformovies Time: 2022-04-23 23:00:45+00:00 Tweeted: RT @MediumSizeMeech: I think it’s so funny how Oscar Isaac can be a SMOLDERING HOT red carpet sensation, and also just some dude on the cou…\n"
     ]
    },
    {
     "name": "stderr",
     "output_type": "stream",
     "text": [
      "Unexpected parameter: since\n"
     ]
    },
    {
     "name": "stdout",
     "output_type": "stream",
     "text": [
      "user_name: AkebajeO Time: 2022-04-23 23:00:19+00:00 Tweeted: RT @bellanaija: OBA! #SolaSobowale was all out for @kemiadetiba and Oscar today.\n",
      "\n",
      "#UndeniablyYours2022 https://t.co/aAmq7rbsCh\n",
      "user_name: Oscar_rv20 Time: 2022-04-23 23:00:17+00:00 Tweeted: What would I have to do to call you mine\n",
      "Someone like you is so hard to find\n",
      "user_name: JudgeARobertso4 Time: 2022-04-23 23:00:16+00:00 Tweeted: FACTS: ITS OSCAR NIGHT “YOUR” WIFE OR HUSBAND IS AT THE SHOW.  ITS NATIONAL TELEVISED.  A JOKESTER CHRIS ROCK.  CHA… https://t.co/xF6TxKyjSq\n",
      "user_name: Damian0358 Time: 2022-04-23 23:00:13+00:00 Tweeted: RT @Schaffrillas: Got some amazing gifts from my PO Box, thanks so much to the fans who sent me these! I can't wait to stare at Oscar every…\n",
      "user_name: evanempdx Time: 2022-04-23 23:00:09+00:00 Tweeted: Jae Crowder had a few Oscar worthy moments last night. https://t.co/22GhIJoNa4\n",
      "user_name: DTrainMLB Time: 2022-04-23 23:00:05+00:00 Tweeted: RT @MLBONFOX: Guardians outfielder Oscar Mercado describes what happened when Yankees fans started throwing trash at him on the field &amp; wha…\n",
      "user_name: _manlikemarcel Time: 2022-04-23 23:00:01+00:00 Tweeted: RT @RayoKasali: In case you're wondering who Kemi Adetiba's prince charming is...\n",
      "\n",
      "He is Oscar Herman-Acker the genius music maestro \"Oscar…\n",
      "user_name: Bex_Oscar Time: 2022-04-23 22:59:53+00:00 Tweeted: RT @teansprite: my fav part about the latest episodes is genuinely anne being so goddamn LOYAL to anyone she'd ever have a connection to no…\n",
      "user_name: alrolamo Time: 2022-04-23 22:59:49+00:00 Tweeted: RT @alrolamo: The Metro UK stated  “The movies is frequently regarded as one of the greatest in the history of cinema. Winning the Oscar fo…\n",
      "user_name: frances_schulte Time: 2022-04-23 22:59:43+00:00 Tweeted: RT @EzuieQuotes: \"Be yourself; everyone else is taken.\" - Oscar Wilde\n",
      "user_name: NandoFJG Time: 2022-04-23 22:59:42+00:00 Tweeted: When Johnny Depp says \"bless you\" from the stand to someone who sneezes in the public, is the best thing I've seen… https://t.co/zTKLvGFyYx\n",
      "user_name: Arianahugs96x Time: 2022-04-23 22:59:40+00:00 Tweeted: RT @jhbmoments: justin and hailey bieber with oscar https://t.co/KnKS1GJ3CZ\n",
      "user_name: Milady_Oscar Time: 2022-04-23 22:59:31+00:00 Tweeted: @pibouls Enjoy!\n",
      "user_name: Bridget__Walsh Time: 2022-04-23 22:59:28+00:00 Tweeted: RT @GageEHC: Remain a huge Josh Naylor fan. He sprinted his ass there from 1B to get Oscar Mercado out of there. https://t.co/uAOKGS6QSM\n",
      "user_name: caariv_ Time: 2022-04-23 22:59:23+00:00 Tweeted: Oscar Isaac is attractive af lol\n"
     ]
    },
    {
     "name": "stderr",
     "output_type": "stream",
     "text": [
      "Unexpected parameter: since\n"
     ]
    },
    {
     "name": "stdout",
     "output_type": "stream",
     "text": [
      "user_name: adetoun_seriki Time: 2022-04-23 22:59:17+00:00 Tweeted: RT @bellanaija: OBA! #SolaSobowale was all out for @kemiadetiba and Oscar today.\n",
      "\n",
      "#UndeniablyYours2022 https://t.co/aAmq7rbsCh\n",
      "user_name: joelcxrrillo Time: 2022-04-23 22:59:08+00:00 Tweeted: RT @fuzzyfromyt: Some good perspective from Oscar Mercado. https://t.co/UvR3XmnHWT\n",
      "user_name: sentineltribune Time: 2022-04-23 22:59:04+00:00 Tweeted: NEW YORK (AP) — The only catch Cleveland right fielder Oscar Mercado was able to make in the ninth inning was a bee… https://t.co/GOMPDlMI30\n",
      "user_name: oldstyle_guy Time: 2022-04-23 22:59:02+00:00 Tweeted: RT @fuzzyfromyt: Some good perspective from Oscar Mercado. https://t.co/UvR3XmnHWT\n",
      "user_name: FooweeFoowee Time: 2022-04-23 22:58:57+00:00 Tweeted: Oscar the grouch in this movie negs 90% of the entire Naruto verse in terms of power scaling\n",
      "user_name: oscar_soria Time: 2022-04-23 22:58:56+00:00 Tweeted: An honor to share activism with our @JubileeUSA, @AFLCIO and @MklGlobalConcer friends @Eric_LeCompte,… https://t.co/WjIO7dw9j8\n",
      "user_name: BigTin26 Time: 2022-04-23 22:58:47+00:00 Tweeted: RT @MLBONFOX: Guardians outfielder Oscar Mercado describes what happened when Yankees fans started throwing trash at him on the field &amp; wha…\n",
      "user_name: ray_lazer Time: 2022-04-23 22:58:45+00:00 Tweeted: RT @OleleSalvador: BREAKING: Will Smith &amp; Jada might be getting a divorce after the Oscar slapping episode. The couple were already having…\n",
      "user_name: soulianan Time: 2022-04-23 22:58:45+00:00 Tweeted: RT @EzuieQuotes: \"Be yourself; everyone else is taken.\" - Oscar Wilde\n",
      "user_name: jpkmets Time: 2022-04-23 22:58:37+00:00 Tweeted: @VancityReynolds got jobbed out of an Oscar for Smokin’ Aces. It’s in the esteemed #TangoAndCash tier of rewatchable movies.\n",
      "user_name: that_hurteded Time: 2022-04-23 22:58:33+00:00 Tweeted: Shut the hell up. Oscar Issac isn’t from Moonknight, HE IS POE DAMERON\n",
      "user_name: Oscar_Flores13 Time: 2022-04-23 22:58:30+00:00 Tweeted: RT @CassanovaHefner: This Slap better than the Oscars. HANDS DOWN! 😮‍💨 https://t.co/VorceYAWmg\n",
      "user_name: onigracey Time: 2022-04-23 22:58:28+00:00 Tweeted: RT @TheChalya: My girl got married!!!! 🥰❤️ @kemiadetiba gorgeousness!!!! “My wife” Oscar said, as he took a mesmerized glance at his new br…\n",
      "user_name: Coach_Russell_K Time: 2022-04-23 22:58:27+00:00 Tweeted: Vancouver Community  5  (Batting: #7 Oscar Moy)\n",
      "Township Blue Sox  1  (Pitching: #10 Ethan Johnson)\n",
      "Top of 3rd 0 Out, Man on first\n",
      "#iscore\n",
      "user_name: DWG_CHECK Time: 2022-04-23 22:58:27+00:00 Tweeted: RT @DanGraca: Guardians OF, Oscar Mercado said the beer cans being thrown at him were still full. Find those clowns and ban them from the s…\n"
     ]
    },
    {
     "name": "stderr",
     "output_type": "stream",
     "text": [
      "Unexpected parameter: since\n"
     ]
    },
    {
     "name": "stdout",
     "output_type": "stream",
     "text": [
      "user_name: onioluu Time: 2022-04-23 22:58:26+00:00 Tweeted: RT @OneJoblessBoy: The real wedding party! Congratulations Kemi Adetiba and Oscar 😍😍😍🫂 https://t.co/fCzYfiHoLf\n",
      "user_name: eztap89 Time: 2022-04-23 22:58:23+00:00 Tweeted: RT @LivelyPride: We honored our AMAZING volunteers with an Oscar Celebration and a delicious meal from Olive Garden. Thank you SO much for…\n",
      "user_name: Wingnutty56571 Time: 2022-04-23 22:58:21+00:00 Tweeted: @oscar_mayer11 Best feeling EVER was crossing into Arizona from Commiefornia on December 2nd, 2019. We made it 10 m… https://t.co/UDnnqmdh6c\n",
      "user_name: Jebelz_UAE Time: 2022-04-23 22:58:19+00:00 Tweeted: Save 539.85 AED when you buy Nuova Simonelli Oscar II with https://t.co/sKZznuSLh8 this Ramadan 🌙\n",
      "Best prices and f… https://t.co/oiROaDLzfr\n",
      "user_name: MaxFromQuebec Time: 2022-04-23 22:58:15+00:00 Tweeted: already prepping RRR's oscar campaign as we speak https://t.co/mRzCpxQoBY\n",
      "user_name: osatomercytf Time: 2022-04-23 22:58:03+00:00 Tweeted: @Oscar_Mosh should i step in?\n",
      "user_name: mjanes80 Time: 2022-04-23 22:57:56+00:00 Tweeted: RT @BallySportsCLE: Oscar Mercado describes what happened in the outfield at the end of the game and what caused the whole scene. \n",
      "\n",
      "#ForThe…\n",
      "user_name: stuartlee1971 Time: 2022-04-23 22:57:53+00:00 Tweeted: @Noirchick1 Loved her in the Clint films and was amazed she was an Oscar winner. Great in Columbo obviously! 😀\n",
      "user_name: PattyMcCaffrey Time: 2022-04-23 22:57:51+00:00 Tweeted: RT @BallySportsCLE: Oscar Mercado describes what happened in the outfield at the end of the game and what caused the whole scene. \n",
      "\n",
      "#ForThe…\n",
      "user_name: Tacoma_Goon Time: 2022-04-23 22:57:45+00:00 Tweeted: RT @MLBONFOX: Guardians outfielder Oscar Mercado describes what happened when Yankees fans started throwing trash at him on the field &amp; wha…\n",
      "user_name: gpmiami Time: 2022-04-23 22:57:44+00:00 Tweeted: RT @BallySportsCLE: Oscar Mercado describes what happened in the outfield at the end of the game and what caused the whole scene. \n",
      "\n",
      "#ForThe…\n",
      "user_name: cupkaykie Time: 2022-04-23 22:57:43+00:00 Tweeted: @JoshwaM @KrisWall84 He’s not wrong. Oscar Isaac is indeed fine 🥵\n",
      "user_name: brghoops Time: 2022-04-23 22:57:42+00:00 Tweeted: RT @andypottsBRG: Thank you Coach Oscar for coaching @addison_potts3 last game in SWFL before heading to @PurdueWBB! Thanks @FSWBucs and Co…\n",
      "user_name: KCDave85 Time: 2022-04-23 22:57:38+00:00 Tweeted: RT @DanGraca: Guardians OF, Oscar Mercado said the beer cans being thrown at him were still full. Find those clowns and ban them from the s…\n",
      "user_name: jenxpaige Time: 2022-04-23 22:57:34+00:00 Tweeted: RT @BallySportsCLE: Oscar Mercado describes what happened in the outfield at the end of the game and what caused the whole scene. \n",
      "\n",
      "#ForThe…\n"
     ]
    },
    {
     "name": "stderr",
     "output_type": "stream",
     "text": [
      "Unexpected parameter: since\n"
     ]
    },
    {
     "name": "stdout",
     "output_type": "stream",
     "text": [
      "user_name: TheHazelBerry Time: 2022-04-23 22:57:33+00:00 Tweeted: RT @PopCrave: Oscar Isaac attended a viewing party for the season finale of RuPaul’s #DragRace at a gay bar in Brooklyn. https://t.co/8zjnb…\n",
      "user_name: pumchalakapum Time: 2022-04-23 22:57:26+00:00 Tweeted: @mysticwrites @highreevees @murdockdilf Mystic YOU are one of the many causes for my new found Oscar Isaac obsession like GOD 🥵\n",
      "user_name: khaadeejahhh Time: 2022-04-23 22:57:22+00:00 Tweeted: RT @TheChalya: My girl got married!!!! 🥰❤️ @kemiadetiba gorgeousness!!!! “My wife” Oscar said, as he took a mesmerized glance at his new br…\n",
      "user_name: dashiellsilva Time: 2022-04-23 22:57:19+00:00 Tweeted: We're planning on watching all 12 of Katharine Hepburn's Oscar-nominated performances but after we watch her first… https://t.co/aqfiYJcDMY\n",
      "user_name: James_Nnyamah Time: 2022-04-23 22:57:14+00:00 Tweeted: @Oscar_Mosh Abet send me game\n",
      "user_name: Blou756 Time: 2022-04-23 22:57:10+00:00 Tweeted: #JodieComer is a once in a lifetime talent. Seeing her live on stage in #PrimaFacie was incredible. To hold the aud… https://t.co/XdmQzhm4o7\n",
      "user_name: LivelyPride Time: 2022-04-23 22:57:10+00:00 Tweeted: We honored our AMAZING volunteers with an Oscar Celebration and a delicious meal from Olive Garden. Thank you SO mu… https://t.co/JY9d9JL2tn\n",
      "user_name: Nekoiarou Time: 2022-04-23 22:57:00+00:00 Tweeted: RT @chromatic_souls: 🎉#ChromaticSoulsAFKRaid Twitter 10,000 Followers🎉\n",
      "\n",
      "We always make everything together. Oscar is really lucky to meet a…\n",
      "user_name: pattibokowski Time: 2022-04-23 22:56:56+00:00 Tweeted: Oscar de la Renta / Cape Back Landscape Cocktail Dress / Stunning Spring Look / #fashion / #spring2022 / #nyc 🌱🌷🌱🌷🌱… https://t.co/PTVPYY4WR7\n",
      "user_name: DAYANDKNIIGHT Time: 2022-04-23 22:56:49+00:00 Tweeted: // I have plans to flip Marc to Jake. So I’ll still be Moon Knight and I’ll still use Oscar as the FC. But I’m only… https://t.co/jyaDJb1ZZS\n",
      "user_name: wvfootballgoat Time: 2022-04-23 22:56:48+00:00 Tweeted: @TrellWatkins Oscar wasn’t doing shit for us and went on to win player of the year the next year for a different program.🤷🏻‍♂️\n",
      "user_name: quintrell_oscar Time: 2022-04-23 22:56:45+00:00 Tweeted: RT @Culturecams: Whyte throwing shots like hes outside Morleys. Please brother.\n",
      "user_name: KellyRe87599159 Time: 2022-04-23 22:56:45+00:00 Tweeted: @Jjconvey For once I enjoyed my Oscar being a man utd fan 😂🤣\n",
      "user_name: Oscar_Chavira Time: 2022-04-23 22:56:44+00:00 Tweeted: Los fans de Man Men dicen “hold my beer”. https://t.co/wdZk5C1rlH\n",
      "user_name: thepoorchef10 Time: 2022-04-23 22:56:43+00:00 Tweeted: RT @CryptoSham: 21/25\n",
      "\n",
      "Oscar Guindzberg the DOGE-ETH bridge developer mentioned on live stream that Truebit $TRU was part of the dogethereu…\n"
     ]
    },
    {
     "name": "stderr",
     "output_type": "stream",
     "text": [
      "Unexpected parameter: since\n"
     ]
    },
    {
     "name": "stdout",
     "output_type": "stream",
     "text": [
      "user_name: Jonel_theboss19 Time: 2022-04-23 22:56:42+00:00 Tweeted: RT @LandesBrock: And the Oscar Award goes to… https://t.co/kxhyrNGYBM\n",
      "user_name: ChideraDieli Time: 2022-04-23 22:56:24+00:00 Tweeted: RT @RayoKasali: In case you're wondering who Kemi Adetiba's prince charming is...\n",
      "\n",
      "He is Oscar Herman-Acker the genius music maestro \"Oscar…\n",
      "user_name: iamthiagho Time: 2022-04-23 22:56:19+00:00 Tweeted: @sharooon__ Not Oscar ?\n",
      "user_name: darasimi_1 Time: 2022-04-23 22:56:15+00:00 Tweeted: @Middy_Ayo @Oscar_Mosh Iwo ke🙄 melo lara eh ,you nor play our last game finish o\n",
      "user_name: SethGoTribe Time: 2022-04-23 22:56:09+00:00 Tweeted: RT @DanGraca: Guardians OF, Oscar Mercado said the beer cans being thrown at him were still full. Find those clowns and ban them from the s…\n",
      "user_name: votekamala Time: 2022-04-23 22:56:07+00:00 Tweeted: @hillzmyprez EXACTLYYYY we need to spread this gospel because i will only accept every single oscar available for t… https://t.co/DQYCfjSuRD\n",
      "user_name: CoachHarris_ Time: 2022-04-23 22:56:05+00:00 Tweeted: RT @andypottsBRG: Thank you Coach Oscar for coaching @addison_potts3 last game in SWFL before heading to @PurdueWBB! Thanks @FSWBucs and Co…\n",
      "user_name: WomensPowerCen Time: 2022-04-23 22:56:02+00:00 Tweeted: #religionmedia #HellYesDM #death World's knowledge in 1 hand site: Go to #Heaven for climate #Hell for company-Twain https://t.co/f70QW8Wxjd\n",
      "user_name: coquichi3 Time: 2022-04-23 22:55:57+00:00 Tweeted: RT @Spenred: Tough scene here in New York, as Guardians RF Oscar Mercado’s vaccination card falls out of his back pocket and fans react in…\n",
      "user_name: Maionegg Time: 2022-04-23 22:55:50+00:00 Tweeted: Flippen Oscar Isaac bare chested with a chain putting a white t shirt on #MoonKnight #MaiBait https://t.co/HkuxdvkVBl\n",
      "user_name: manny_garcia__ Time: 2022-04-23 22:55:47+00:00 Tweeted: RT @JESSEANDCELlNE: The Oscar’s and fellow actors watching michelle yeoh’s performance in everything everywhere all at once: https://t.co/B…\n",
      "user_name: yusbabs_kola Time: 2022-04-23 22:55:42+00:00 Tweeted: RT @TheChalya: My girl got married!!!! 🥰❤️ @kemiadetiba gorgeousness!!!! “My wife” Oscar said, as he took a mesmerized glance at his new br…\n",
      "user_name: sxymlbgy Time: 2022-04-23 22:55:42+00:00 Tweeted: RT @PopCrave: Oscar Isaac attended a viewing party for the season finale of RuPaul’s #DragRace at a gay bar in Brooklyn. https://t.co/8zjnb…\n",
      "user_name: RubSan5 Time: 2022-04-23 22:55:41+00:00 Tweeted: RT @PopCrave: Oscar Isaac attended a viewing party for the season finale of RuPaul’s #DragRace at a gay bar in Brooklyn. https://t.co/8zjnb…\n",
      "user_name: tripdarlyn Time: 2022-04-23 22:55:40+00:00 Tweeted: RT @OneJoblessBoy: The real wedding party! Congratulations Kemi Adetiba and Oscar 😍😍😍🫂 https://t.co/fCzYfiHoLf\n"
     ]
    },
    {
     "name": "stderr",
     "output_type": "stream",
     "text": [
      "Unexpected parameter: since\n"
     ]
    },
    {
     "name": "stdout",
     "output_type": "stream",
     "text": [
      "user_name: Bex_Oscar Time: 2022-04-23 22:55:37+00:00 Tweeted: RT @Steph_I_Will: Starting June 7th 🦁✨ https://t.co/jIHpnpslpn\n",
      "user_name: justolubambo Time: 2022-04-23 22:55:37+00:00 Tweeted: RT @TheChalya: My girl got married!!!! 🥰❤️ @kemiadetiba gorgeousness!!!! “My wife” Oscar said, as he took a mesmerized glance at his new br…\n",
      "user_name: stqrace Time: 2022-04-23 22:55:28+00:00 Tweeted: Only half way through the last ep but scenes from a marriage wasnt amazing. Or as good as I thought it’d be. It did… https://t.co/wErn7ec4cr\n",
      "user_name: Bex_Oscar Time: 2022-04-23 22:55:23+00:00 Tweeted: RT @Most: heartstopper day mood https://t.co/ZlCfbNXrA5\n",
      "user_name: siconnellymusic Time: 2022-04-23 22:55:21+00:00 Tweeted: Thanks so much to @billysloanshow @BBCRadioScot for debuting my track. Can’t wait to join Simon &amp; Oscar on the road… https://t.co/irdFrUzNCb\n",
      "user_name: veronicaotgc Time: 2022-04-23 22:55:17+00:00 Tweeted: Oscar Isaac como Moon Knight. ✅️\n",
      "user_name: franward1783 Time: 2022-04-23 22:55:07+00:00 Tweeted: @ladbible All genuinely great but Jack Nicholson takes the Oscar\n",
      "user_name: Oscar_Coyh Time: 2022-04-23 22:54:59+00:00 Tweeted: Grande #ManuelPellegrini #Betis #CopaDelRey https://t.co/zD90rFYkiP\n",
      "user_name: stoner_rylen Time: 2022-04-23 22:54:55+00:00 Tweeted: RT @BallySportsCLE: Oscar Mercado describes what happened in the outfield at the end of the game and what caused the whole scene. \n",
      "\n",
      "#ForThe…\n",
      "user_name: CardAristocrats Time: 2022-04-23 22:54:55+00:00 Tweeted: RT @BallySportsCLE: Oscar Mercado describes what happened in the outfield at the end of the game and what caused the whole scene. \n",
      "\n",
      "#ForThe…\n",
      "user_name: _akani__ Time: 2022-04-23 22:54:54+00:00 Tweeted: @Oscar_Mosh Can't wait for you guys to recreate😯💨\n",
      "user_name: Blessed_JessD Time: 2022-04-23 22:54:48+00:00 Tweeted: RT @LandesBrock: And the Oscar Award goes to… https://t.co/kxhyrNGYBM\n",
      "user_name: moneyumyumki Time: 2022-04-23 22:54:47+00:00 Tweeted: RT @OleleSalvador: BREAKING: Will Smith &amp; Jada might be getting a divorce after the Oscar slapping episode. The couple were already having…\n",
      "user_name: 14tucci Time: 2022-04-23 22:54:33+00:00 Tweeted: RT @BallySportsCLE: Oscar Mercado describes what happened in the outfield at the end of the game and what caused the whole scene. \n",
      "\n",
      "#ForThe…\n",
      "user_name: lyledal Time: 2022-04-23 22:54:29+00:00 Tweeted: @UrbanAstroNYC Feels like Oscar has his human well trained. 🤣\n"
     ]
    },
    {
     "name": "stderr",
     "output_type": "stream",
     "text": [
      "Unexpected parameter: since\n"
     ]
    },
    {
     "name": "stdout",
     "output_type": "stream",
     "text": [
      "user_name: ReadeReiter Time: 2022-04-23 22:54:26+00:00 Tweeted: RT @fuzzyfromyt: Some good perspective from Oscar Mercado. https://t.co/UvR3XmnHWT\n",
      "user_name: edamaeda Time: 2022-04-23 22:54:26+00:00 Tweeted: RT @DinodawgKingdom: It's official - Dinodawgs 3D launch date confirmed for Sunday May 15th on @MagicEden launchpad! Set the date, order so…\n",
      "user_name: MJJJJEEEE Time: 2022-04-23 22:54:21+00:00 Tweeted: RT @SlyStu2012: @JLew1050 The Oscar goes to.... https://t.co/L4fzDcjuav\n",
      "user_name: SweetJowls Time: 2022-04-23 22:54:20+00:00 Tweeted: @ATJ_AllThatJaz Probably a lot of recentcy bias but.. \n",
      "https://t.co/hg7fphIkZt\n",
      "2.bosh \n",
      "3.Giddy… https://t.co/HT09xgtWYD\n",
      "user_name: _NOTtres Time: 2022-04-23 22:54:16+00:00 Tweeted: RT @MediumSizeMeech: I want to see a film about this benefactor and his niece who plans to screw him over but it turns out not only is he b…\n",
      "user_name: SamCody14 Time: 2022-04-23 22:54:15+00:00 Tweeted: @MBC0801 @TVDeets Yes and the Oscar party\n",
      "user_name: m_gallagher18 Time: 2022-04-23 22:54:04+00:00 Tweeted: RT @MLBONFOX: Guardians outfielder Oscar Mercado describes what happened when Yankees fans started throwing trash at him on the field &amp; wha…\n",
      "user_name: Bex_Oscar Time: 2022-04-23 22:54:03+00:00 Tweeted: RT @DocShaner: pssst… (Shazam) https://t.co/2WtOk3Km9S\n",
      "user_name: RoseFan Time: 2022-04-23 22:54:02+00:00 Tweeted: RT @TheFigen: Dog deserves Oscar for his acting performance. ❤️😂😂\n",
      "https://t.co/5hB9zcZSAg\n",
      "user_name: Larrythacarter Time: 2022-04-23 22:53:56+00:00 Tweeted: RT @OleleSalvador: BREAKING: Will Smith &amp; Jada might be getting a divorce after the Oscar slapping episode. The couple were already having…\n",
      "user_name: jbernata Time: 2022-04-23 22:53:48+00:00 Tweeted: @ada_fontAda @PereDempeus @Oscar_Guardia @annaguife Exactament 🤣\n",
      "user_name: gomshuggy Time: 2022-04-23 22:53:47+00:00 Tweeted: RT @FilmUpdates: Oscar Isaac attended a viewing party for the season finale of Rupaul’s Drag Race at a gay bar in Brooklyn. https://t.co/4e…\n",
      "user_name: ozmabot Time: 2022-04-23 22:53:47+00:00 Tweeted: Me, looking at Oscar: What breed is he?\n",
      "The God of Light: Just a little boy.\n",
      "user_name: morillonis Time: 2022-04-23 22:53:45+00:00 Tweeted: @Oscar_NFTs 0xC0806C1D08B7eAC6bb1Cce794584156CBDa1416a\n",
      "user_name: ariweiss10 Time: 2022-04-23 22:53:44+00:00 Tweeted: RT @BallySportsCLE: Oscar Mercado describes what happened in the outfield at the end of the game and what caused the whole scene. \n",
      "\n",
      "#ForThe…\n"
     ]
    },
    {
     "name": "stderr",
     "output_type": "stream",
     "text": [
      "Unexpected parameter: since\n"
     ]
    },
    {
     "name": "stdout",
     "output_type": "stream",
     "text": [
      "user_name: DoctahTwelfth Time: 2022-04-23 22:53:44+00:00 Tweeted: I laughed out loud at this. Oscar Isaac is fantastic in this. https://t.co/hiAM36rnY4\n",
      "user_name: SlimSportsCBB Time: 2022-04-23 22:53:43+00:00 Tweeted: RT @andypottsBRG: Thank you Coach Oscar for coaching @addison_potts3 last game in SWFL before heading to @PurdueWBB! Thanks @FSWBucs and Co…\n",
      "user_name: OG_Dreamville Time: 2022-04-23 22:53:40+00:00 Tweeted: RT @OleleSalvador: BREAKING: Will Smith &amp; Jada might be getting a divorce after the Oscar slapping episode. The couple were already having…\n",
      "user_name: Zeee_zaa Time: 2022-04-23 22:53:38+00:00 Tweeted: RT @bellanaija: OBA! #SolaSobowale was all out for @kemiadetiba and Oscar today.\n",
      "\n",
      "#UndeniablyYours2022 https://t.co/aAmq7rbsCh\n",
      "user_name: RVRBEE Time: 2022-04-23 22:53:37+00:00 Tweeted: RT @LisaDock84: Can you believe Johhny Depp has never won an oscar 😳😳 probably the most diverse Actor there is.. i guess its better to wond…\n",
      "user_name: mjanes80 Time: 2022-04-23 22:53:34+00:00 Tweeted: RT @JLEWFifty: Incredibly proud of Myles Straw, Oscar Mercado and the rest of these #Guardians players for composing themselves in these po…\n",
      "user_name: SteveLuttner Time: 2022-04-23 22:53:26+00:00 Tweeted: @twithersAP Yes Oscar!  Yes.\n",
      "user_name: HappyKonina Time: 2022-04-23 22:53:24+00:00 Tweeted: RT @SeffSaid: \"The love in your heart wasn't put there to stay. Love isn't love 'til you give it away.\" - Oscar Hammerstein\n",
      "user_name: jloza330 Time: 2022-04-23 22:53:19+00:00 Tweeted: RT @fuzzyfromyt: Some good perspective from Oscar Mercado. https://t.co/UvR3XmnHWT\n",
      "user_name: bianca_log Time: 2022-04-23 22:53:19+00:00 Tweeted: RT @castledjarin: oscar isaac and pedro pascal both being rupaul’s drag race fans makes my heart happy https://t.co/0QZWZ6sze5\n",
      "user_name: oscar_almighti Time: 2022-04-23 22:53:16+00:00 Tweeted: @riskandgrace @Drealstp1 @instablog9ja Yet your location is unknown 🤡\n",
      "user_name: vinny_lil_purp Time: 2022-04-23 22:53:13+00:00 Tweeted: RT @BallySportsCLE: Oscar Mercado describes what happened in the outfield at the end of the game and what caused the whole scene. \n",
      "\n",
      "#ForThe…\n",
      "user_name: daknls2006 Time: 2022-04-23 22:52:57+00:00 Tweeted: RT @MLBONFOX: Guardians outfielder Oscar Mercado describes what happened when Yankees fans started throwing trash at him on the field &amp; wha…\n",
      "user_name: FafeDays Time: 2022-04-23 22:52:48+00:00 Tweeted: I should take Oscar for the way I’m acting these days😓\n",
      "user_name: Oscar_mdb Time: 2022-04-23 22:52:43+00:00 Tweeted: @rob_williamsIII do it for a 🇪🇸 supporter today!!! 3-0 come on Celtics!!! https://t.co/10wKfVLyq8\n"
     ]
    },
    {
     "name": "stderr",
     "output_type": "stream",
     "text": [
      "Unexpected parameter: since\n"
     ]
    },
    {
     "name": "stdout",
     "output_type": "stream",
     "text": [
      "user_name: stqrace Time: 2022-04-23 22:52:41+00:00 Tweeted: RT @chastainscenes: jessica chastain and oscar isaac in scenes from a marriage &lt;3 https://t.co/tyP7V1y9Ys\n",
      "user_name: Blou756 Time: 2022-04-23 22:52:29+00:00 Tweeted: @SuzieMillerWrtr I saw her in tonight's performance. I feel so lucky to have witnessed it live. She is a once in a… https://t.co/Y2CKmmTpzP\n",
      "user_name: JunoFraud Time: 2022-04-23 22:52:27+00:00 Tweeted: @notisavc God dammit, Oscar.\n",
      "user_name: DevynLopez77 Time: 2022-04-23 22:52:08+00:00 Tweeted: RT @fuzzyfromyt: Some good perspective from Oscar Mercado. https://t.co/UvR3XmnHWT\n",
      "user_name: SHS_Athletics Time: 2022-04-23 22:52:04+00:00 Tweeted: RT @AnnexNst: Ding @oscar_pegg @BaseballLaker @SHS_Athletics @newera545 @Jason19129932 @NOVUSSTRENGTH https://t.co/es5VkSrhLX\n",
      "user_name: icreatedchaoss Time: 2022-04-23 22:52:02+00:00 Tweeted: RT @nightwaynes: The Batman deserves an Oscar for the makeup on Penguin ALONE because I’m still blown away that this is Colin Farrell https…\n",
      "user_name: RichardT1D Time: 2022-04-23 22:52:01+00:00 Tweeted: RT @MLBONFOX: Guardians outfielder Oscar Mercado describes what happened when Yankees fans started throwing trash at him on the field &amp; wha…\n",
      "user_name: ConbonNFL Time: 2022-04-23 22:51:57+00:00 Tweeted: I doubt it’ll happen but Oscar Tschiebwe has a COVID year he can use\n",
      "user_name: justihailey Time: 2022-04-23 22:51:56+00:00 Tweeted: RT @jhbmoments: justin and hailey bieber with oscar https://t.co/KnKS1GJ3CZ\n",
      "user_name: OneJoblessBoy Time: 2022-04-23 22:51:47+00:00 Tweeted: The real wedding party! Congratulations Kemi Adetiba and Oscar 😍😍😍🫂 https://t.co/fCzYfiHoLf\n",
      "user_name: JETobal Time: 2022-04-23 22:51:43+00:00 Tweeted: Just saw The Northman. Interesting film from Robert Eggers. Gorgeous cinematography and Nicole Kidman is gonna get… https://t.co/guhJIHzbHk\n",
      "user_name: bellanaija Time: 2022-04-23 22:51:40+00:00 Tweeted: OBA! #SolaSobowale was all out for @kemiadetiba and Oscar today.\n",
      "\n",
      "#UndeniablyYours2022 https://t.co/aAmq7rbsCh\n",
      "user_name: Ownsmoke Time: 2022-04-23 22:51:37+00:00 Tweeted: \"The truth is rarely pure and never simple.\"\n",
      "\n",
      "Oscar Wilde, The Importance of Being Earnest\n",
      "user_name: obsidianhues Time: 2022-04-23 22:51:22+00:00 Tweeted: RT @TitoTitoq85: Oscar Isaac is such a great actor that show doesn’t deserve him.\n",
      "user_name: agardunno Time: 2022-04-23 22:51:22+00:00 Tweeted: RT @verklcmpt: did we really need that shot of oscar isaac in his underwear drunk in egypt? no we didn't but we got it anyway and for that…\n"
     ]
    },
    {
     "name": "stderr",
     "output_type": "stream",
     "text": [
      "Unexpected parameter: since\n"
     ]
    },
    {
     "name": "stdout",
     "output_type": "stream",
     "text": [
      "user_name: daffnegs Time: 2022-04-23 22:51:08+00:00 Tweeted: RT @here4marina: While not forgetting, there’s 3 episodes left including a big Carina one, Dani shadowed for Kevin, they went to an Oscar p…\n",
      "user_name: AshQuinzeI Time: 2022-04-23 22:51:06+00:00 Tweeted: i just cried while listening to oscar sing the hippo song and i’m actually embarrassed\n",
      "user_name: quintas_90 Time: 2022-04-23 22:50:58+00:00 Tweeted: RT @LandesBrock: And the Oscar Award goes to… https://t.co/kxhyrNGYBM\n",
      "user_name: isfierce Time: 2022-04-23 22:50:52+00:00 Tweeted: RT @FilmUpdates: Oscar Isaac attended a viewing party for the season finale of Rupaul’s Drag Race at a gay bar in Brooklyn. https://t.co/4e…\n",
      "user_name: kalebdickey22 Time: 2022-04-23 22:50:52+00:00 Tweeted: RT @fuzzyfromyt: Some good perspective from Oscar Mercado. https://t.co/UvR3XmnHWT\n",
      "user_name: swrightster Time: 2022-04-23 22:50:48+00:00 Tweeted: RT @clevelanddotcom: Oscar Mercado did not take kindly to the actions of Yankees fans on Saturday afternoon, saying they crossed a line. Ph…\n",
      "user_name: Dan6erousDawg84 Time: 2022-04-23 22:50:47+00:00 Tweeted: RT @ZackMeisel: Oscar Mercado said a semi-full beer can nearly struck him in the face, but he snagged it in time. Myles Straw said Trevor S…\n",
      "user_name: AnaniBX Time: 2022-04-23 22:50:46+00:00 Tweeted: LMFAOOOO you deserve an Oscar for this 😂 https://t.co/AsJaEQhgkw\n",
      "user_name: wiggyyJ Time: 2022-04-23 22:50:46+00:00 Tweeted: @natfluential Who would you have him over out of Steph, magic, cp3, nash, Stockton, Kidd, Oscar?  And then why woul… https://t.co/R5ggsSnZLv\n",
      "user_name: keithdaguio Time: 2022-04-23 22:50:39+00:00 Tweeted: MLB: Yankees fans throw items at Guardians players at end of game after clashes with Myles Straw and Oscar Mercado https://t.co/5m2yBDjA39\n",
      "user_name: WitchesHammer Time: 2022-04-23 22:50:36+00:00 Tweeted: Smiling Will Smith is seen for the first time since the Oscar's slap https://t.co/q8DsJic4Bz via @MailOnline\n",
      "user_name: GOSS58 Time: 2022-04-23 22:50:30+00:00 Tweeted: RT @Verizon: @GOSS58 you’re on the list for Oscar the #Oscars. Now that you’ve joined the party 🥳, you’ll get a reminder when we go live.…\n",
      "user_name: wojta_lis Time: 2022-04-23 22:50:26+00:00 Tweeted: This project requires all the attention!\n",
      "Best community on the Solana blockchain and I'm sure not only there. You c… https://t.co/zkxfVaLHvk\n",
      "user_name: T_bell111 Time: 2022-04-23 22:50:24+00:00 Tweeted: RT @MLBONFOX: Guardians outfielder Oscar Mercado describes what happened when Yankees fans started throwing trash at him on the field &amp; wha…\n",
      "user_name: AvenueAsha Time: 2022-04-23 22:50:24+00:00 Tweeted: RT @MediumSizeMeech: Okay so truly fuck this movie. This man has MOUNTING sexual harassment allegations and he literally never stopped work…\n"
     ]
    },
    {
     "name": "stderr",
     "output_type": "stream",
     "text": [
      "Unexpected parameter: since\n"
     ]
    },
    {
     "name": "stdout",
     "output_type": "stream",
     "text": [
      "user_name: cranttila Time: 2022-04-23 22:50:23+00:00 Tweeted: RT @ZackMeisel: Oscar Mercado said a semi-full beer can nearly struck him in the face, but he snagged it in time. Myles Straw said Trevor S…\n",
      "user_name: B4stiF4ntasti Time: 2022-04-23 22:50:22+00:00 Tweeted: RT @FilmUpdates: Oscar Isaac attended a viewing party for the season finale of Rupaul’s Drag Race at a gay bar in Brooklyn. https://t.co/4e…\n",
      "user_name: spicey_xx Time: 2022-04-23 22:50:13+00:00 Tweeted: @Oscar_Mosh Lol Oscar pls\n",
      "user_name: emmastonedotcom Time: 2022-04-23 22:50:10+00:00 Tweeted: you know how some ppl have a rule to never date coworkers? oscar isaac has a rule to date every coworker https://t.co/IvkUdxZ9Bi\n",
      "user_name: oscar_on_fire Time: 2022-04-23 22:50:10+00:00 Tweeted: RT @IanWright0: Not letting Ronaldo take it??? https://t.co/Y4hoR1n60H\n",
      "user_name: Ghost0nee Time: 2022-04-23 22:50:04+00:00 Tweeted: @Unknownman5671 @Sialaterfolks @kumpulkeboy Obviously not. It’s clearly marvels attempt at an Oscar film.\n",
      "user_name: WomensPowerBook Time: 2022-04-23 22:50:01+00:00 Tweeted: #valuechain #chiefs 1 book knowledge of 150 sub site: Try not to become a man of success but a man of value Einstein https://t.co/4HgeQxlPor\n",
      "user_name: LaCriatura_ Time: 2022-04-23 22:49:58+00:00 Tweeted: @reflected_oscar have fun!\n",
      "user_name: ShingiClayton Time: 2022-04-23 22:49:56+00:00 Tweeted: RT @SeffSaid: \"The love in your heart wasn't put there to stay. Love isn't love 'til you give it away.\" - Oscar Hammerstein\n",
      "user_name: michaelparks11 Time: 2022-04-23 22:49:55+00:00 Tweeted: RT @fuzzyfromyt: Some good perspective from Oscar Mercado. https://t.co/UvR3XmnHWT\n",
      "user_name: Lamaj15 Time: 2022-04-23 22:49:53+00:00 Tweeted: RT @FilmUpdates: Oscar Isaac attended a viewing party for the season finale of Rupaul’s Drag Race at a gay bar in Brooklyn. https://t.co/4e…\n",
      "user_name: vuintrieri Time: 2022-04-23 22:49:48+00:00 Tweeted: RT @FilmUpdates: Oscar Isaac attended a viewing party for the season finale of Rupaul’s Drag Race at a gay bar in Brooklyn. https://t.co/4e…\n",
      "user_name: Milady_Oscar Time: 2022-04-23 22:49:46+00:00 Tweeted: @pibouls Go for it!\n",
      "user_name: TheTrashGirl_ Time: 2022-04-23 22:49:38+00:00 Tweeted: RT @PopCrave: Oscar Isaac attended a viewing party for the season finale of RuPaul’s #DragRace at a gay bar in Brooklyn. https://t.co/8zjnb…\n",
      "user_name: AnneAnd59185576 Time: 2022-04-23 22:49:34+00:00 Tweeted: @TilghmanWill What breed is he\n",
      "Kinda reminds me of my dog Oscar I had 13 half years of when he was a pup\n"
     ]
    },
    {
     "name": "stderr",
     "output_type": "stream",
     "text": [
      "Unexpected parameter: since\n"
     ]
    },
    {
     "name": "stdout",
     "output_type": "stream",
     "text": [
      "user_name: celestialeres Time: 2022-04-23 22:49:24+00:00 Tweeted: @meeksfiIm the two in the first photo have no room to talk like i didn’t forget what you said oscar night user filmgal\n",
      "user_name: dyadmight Time: 2022-04-23 22:49:18+00:00 Tweeted: RT @chaoticmulaney: 2022 vanity fair oscar party 🖤 https://t.co/lYIFRlbbIA\n",
      "user_name: ToriFells Time: 2022-04-23 22:49:12+00:00 Tweeted: RT @FilmUpdates: Oscar Isaac attended a viewing party for the season finale of Rupaul’s Drag Race at a gay bar in Brooklyn. https://t.co/4e…\n",
      "user_name: ZoroJanai Time: 2022-04-23 22:49:01+00:00 Tweeted: @jaetaros The character, yeah! But I meant acting wise, they used Oscar’s brother as a stand in\n",
      "user_name: Dammylarry12 Time: 2022-04-23 22:48:54+00:00 Tweeted: @Oscar_Mosh Like damn\n",
      "user_name: giygir Time: 2022-04-23 22:48:54+00:00 Tweeted: RT @FilmUpdates: Oscar Isaac attended a viewing party for the season finale of Rupaul’s Drag Race at a gay bar in Brooklyn. https://t.co/4e…\n",
      "user_name: JoelysOpinion Time: 2022-04-23 22:48:54+00:00 Tweeted: RT @PopCrave: Oscar Isaac attended a viewing party for the season finale of RuPaul’s #DragRace at a gay bar in Brooklyn. https://t.co/8zjnb…\n",
      "user_name: OlawoleOyesakin Time: 2022-04-23 22:48:50+00:00 Tweeted: RT @africaenttv: Love is beautiful 😍😍\n",
      "\n",
      "Kemi Adetiba and her husband Oscar having a dance off as they rock their 3rd outfit look for the day…\n",
      "user_name: JackGriffiths44 Time: 2022-04-23 22:48:49+00:00 Tweeted: Phoenix deserved an Oscar for his performance https://t.co/xlT6D8NOo6\n",
      "user_name: TitoTitoq85 Time: 2022-04-23 22:48:49+00:00 Tweeted: Oscar Isaac is such a great actor that show doesn’t deserve him.\n",
      "user_name: justinposton85 Time: 2022-04-23 22:48:47+00:00 Tweeted: RT @fuzzyfromyt: Some good perspective from Oscar Mercado. https://t.co/UvR3XmnHWT\n",
      "user_name: wesley_walter Time: 2022-04-23 22:48:38+00:00 Tweeted: RT @BallySportsCLE: Oscar Mercado describes what happened in the outfield at the end of the game and what caused the whole scene. \n",
      "\n",
      "#ForThe…\n",
      "user_name: baddeacon Time: 2022-04-23 22:48:34+00:00 Tweeted: RT @BrickheadzX: If I had a nickel for every time Oscar Issac played a Marvel character with ties to ancient Egypt, I'd have two nickels. W…\n",
      "user_name: BarbersChairNet Time: 2022-04-23 22:48:34+00:00 Tweeted: RT @MLBONFOX: Guardians outfielder Oscar Mercado describes what happened when Yankees fans started throwing trash at him on the field &amp; wha…\n",
      "user_name: AmerlingAlice Time: 2022-04-23 22:48:34+00:00 Tweeted: RT @Variety: With 12 Oscar nominations, Jack Nicholson holds the record as the the most nominated male performer in Oscar history. https://…\n"
     ]
    },
    {
     "name": "stderr",
     "output_type": "stream",
     "text": [
      "Unexpected parameter: since\n"
     ]
    },
    {
     "name": "stdout",
     "output_type": "stream",
     "text": [
      "user_name: Oscar_hMorris Time: 2022-04-23 22:48:33+00:00 Tweeted: RT @UniqueBuilding5: Brand new housing tower in Amsterdam, Netherlands https://t.co/yv4Xcfb3Up\n",
      "user_name: Alimasin Time: 2022-04-23 22:48:32+00:00 Tweeted: @WFKARS If my only interest in this show is based on Oscar Isaac's hotness (it's a pretty strong interest), how wor… https://t.co/Us5IsQuWMz\n",
      "user_name: WorldOfWonder Time: 2022-04-23 22:48:27+00:00 Tweeted: RT @crystalwillseeu: I know she won the Oscar so this is a bit obvious, but Jessica Chastain in The Eyes of Tammy Faye is truly one of the…\n",
      "user_name: AustinPlanet Time: 2022-04-23 22:48:27+00:00 Tweeted: RT @ESPNStatsInfo: Through 6 pts Friday, Trae Young has 500 career postseason pts becoming the fastest &amp; youngest in Hawks postseason histo…\n",
      "user_name: Mildr_ed Time: 2022-04-23 22:48:22+00:00 Tweeted: RT @TheChalya: My girl got married!!!! 🥰❤️ @kemiadetiba gorgeousness!!!! “My wife” Oscar said, as he took a mesmerized glance at his new br…\n",
      "user_name: bakacs21 Time: 2022-04-23 22:48:21+00:00 Tweeted: RT @fuzzyfromyt: Some good perspective from Oscar Mercado. https://t.co/UvR3XmnHWT\n",
      "user_name: FrogBrotha Time: 2022-04-23 22:48:14+00:00 Tweeted: RT @BallySportsCLE: Oscar Mercado describes what happened in the outfield at the end of the game and what caused the whole scene. \n",
      "\n",
      "#ForThe…\n",
      "user_name: Iaurentrack2 Time: 2022-04-23 22:48:12+00:00 Tweeted: what losing an oscar to gary oldman does to a mf\n",
      "user_name: MajinJerms Time: 2022-04-23 22:48:12+00:00 Tweeted: RT @MLBONFOX: Guardians outfielder Oscar Mercado describes what happened when Yankees fans started throwing trash at him on the field &amp; wha…\n",
      "user_name: AU_TrackXC Time: 2022-04-23 22:48:09+00:00 Tweeted: Bucknell Team Challenge | Men's 1500m\n",
      "\n",
      "3. Aidan Caggiano, 3:52.22 - 🆕 PR!\n",
      "9. Oscar Counsell, 3:55.74\n",
      "11. Alex Murph… https://t.co/l578KMURS2\n",
      "user_name: Margot10 Time: 2022-04-23 22:48:00+00:00 Tweeted: Do you know a child who is DIFFERENT?\n",
      " *Different religion?  *Different country?  *Different looking?  *Or just Fee… https://t.co/l2YQ1tyuzy\n",
      "user_name: JMarieBG Time: 2022-04-23 22:47:56+00:00 Tweeted: RT @MLBONFOX: Guardians outfielder Oscar Mercado describes what happened when Yankees fans started throwing trash at him on the field &amp; wha…\n",
      "user_name: MRJORDAN7414 Time: 2022-04-23 22:47:56+00:00 Tweeted: RT @BallySportsCLE: Oscar Mercado describes what happened in the outfield at the end of the game and what caused the whole scene. \n",
      "\n",
      "#ForThe…\n",
      "user_name: m1chanamb Time: 2022-04-23 22:47:56+00:00 Tweeted: Oscar Isaac has had a hold on me ever since Moon Knight came out. I was so careless and blind before. That man is so hot 😍\n",
      "user_name: nickwaka24 Time: 2022-04-23 22:47:50+00:00 Tweeted: RT @FilmUpdates: Oscar Isaac attended a viewing party for the season finale of Rupaul’s Drag Race at a gay bar in Brooklyn. https://t.co/4e…\n"
     ]
    },
    {
     "name": "stderr",
     "output_type": "stream",
     "text": [
      "Unexpected parameter: since\n"
     ]
    },
    {
     "name": "stdout",
     "output_type": "stream",
     "text": [
      "user_name: etherealspike Time: 2022-04-23 22:47:45+00:00 Tweeted: bestiesss… not me most likely seeing Oscar Isaac on Seth Meyers this Tuesday?!? Dkfkgkhkd\n",
      "user_name: Ur_asimpleton Time: 2022-04-23 22:47:34+00:00 Tweeted: RT @FilmUpdates: Oscar Isaac attended a viewing party for the season finale of Rupaul’s Drag Race at a gay bar in Brooklyn. https://t.co/4e…\n",
      "user_name: nastydefault Time: 2022-04-23 22:47:21+00:00 Tweeted: oscar isaac and pedro pascal as guest judges for next season of drag race breathe if you agree\n",
      "user_name: oscar_morton Time: 2022-04-23 22:47:20+00:00 Tweeted: RT @CBSNews: Firefighters in Odesa rescued residents from a building hit by a missile strike. Ukrainian officials say a 3-month-old baby wa…\n",
      "user_name: Bex_Oscar Time: 2022-04-23 22:47:20+00:00 Tweeted: RT @wikivictorian: Portrait of a group of women in suits having a smoke. Photographed in 1896. https://t.co/m4QzsaboAF\n",
      "user_name: smiffywba1978 Time: 2022-04-23 22:47:14+00:00 Tweeted: @Martin_Gethin @RealCFrampton Just watching oscar de la hoya v pernel wihttaker what a fight\n",
      "user_name: twino_oscar Time: 2022-04-23 22:47:11+00:00 Tweeted: RT @OneJoblessBoy: Here’s how Wizkid reacted to Samklef calling him out. \n",
      "\n",
      "2014.\n",
      "\n",
      " https://t.co/Zk4oSkC8if\n",
      "user_name: Tope_boi10 Time: 2022-04-23 22:47:07+00:00 Tweeted: RT @TheChalya: My girl got married!!!! 🥰❤️ @kemiadetiba gorgeousness!!!! “My wife” Oscar said, as he took a mesmerized glance at his new br…\n",
      "user_name: BillyDees Time: 2022-04-23 22:47:06+00:00 Tweeted: RT @WEWS: 'That's classless': Guardians OF Oscar Mercado calls out Yankees fans who threw trash, cheered injury https://t.co/l5LZ4d4KnF\n",
      "user_name: onefamil1 Time: 2022-04-23 22:47:06+00:00 Tweeted: RT @SeffSaid: \"The love in your heart wasn't put there to stay. Love isn't love 'til you give it away.\" - Oscar Hammerstein\n",
      "user_name: Toharran7 Time: 2022-04-23 22:46:57+00:00 Tweeted: RT @fuzzyfromyt: Some good perspective from Oscar Mercado. https://t.co/UvR3XmnHWT\n",
      "user_name: TalesOfTanner Time: 2022-04-23 22:46:57+00:00 Tweeted: RT @ZackMeisel: Oscar Mercado, on Yankees fans throwing beer cans at players at the end of the game: https://t.co/gNC6yeaDer\n",
      "user_name: olhowling_husky Time: 2022-04-23 22:46:46+00:00 Tweeted: RT @JLEWFifty: Incredibly proud of Myles Straw, Oscar Mercado and the rest of these #Guardians players for composing themselves in these po…\n",
      "user_name: sorrofulflower Time: 2022-04-23 22:46:42+00:00 Tweeted: RT @gwetersurvivor: Moon knight oscar isaac edit https://t.co/kGw6fDCaH7\n",
      "user_name: takenusername85 Time: 2022-04-23 22:46:30+00:00 Tweeted: RT @BrickheadzX: If I had a nickel for every time Oscar Issac played a Marvel character with ties to ancient Egypt, I'd have two nickels. W…\n"
     ]
    },
    {
     "name": "stderr",
     "output_type": "stream",
     "text": [
      "Unexpected parameter: since\n"
     ]
    },
    {
     "name": "stdout",
     "output_type": "stream",
     "text": [
      "user_name: maquinadomundo Time: 2022-04-23 22:46:30+00:00 Tweeted: RT @__femb0t: &gt; 1969 plan to build a second, nuke-proof Manhattan below New York City Oscar Newman\n",
      "\n",
      "GeoFront in Neon Genesis Evangelion htt…\n",
      "user_name: Basketb14442569 Time: 2022-04-23 22:46:25+00:00 Tweeted: RT @andypottsBRG: Thank you Coach Oscar for coaching @addison_potts3 last game in SWFL before heading to @PurdueWBB! Thanks @FSWBucs and Co…\n",
      "user_name: swrightster Time: 2022-04-23 22:46:23+00:00 Tweeted: RT @WEWS: 'That's classless': Guardians OF Oscar Mercado calls out Yankees fans who threw trash, cheered injury https://t.co/l5LZ4d4KnF\n",
      "user_name: nadjasbbyturkey Time: 2022-04-23 22:46:22+00:00 Tweeted: RT @FilmUpdates: Oscar Isaac attended a viewing party for the season finale of Rupaul’s Drag Race at a gay bar in Brooklyn. https://t.co/4e…\n",
      "user_name: TundeGoldstein Time: 2022-04-23 22:46:20+00:00 Tweeted: RT @SeffSaid: \"The love in your heart wasn't put there to stay. Love isn't love 'til you give it away.\" - Oscar Hammerstein\n",
      "user_name: juliaparktracey Time: 2022-04-23 22:46:03+00:00 Tweeted: We watched King Richard last night and I would not say that was the best (Oscar-worthy) acting I've ever seen. I wo… https://t.co/VYbLtFHVCd\n",
      "user_name: sorrofulflower Time: 2022-04-23 22:46:01+00:00 Tweeted: RT @LOKFLC: moon knight steven grant marc spector oscar isaac mcu marvel edit fancam  fc #MoonKnight     #MrKnight   #CavaleiroDaLua  #Layl…\n",
      "user_name: dazzer877 Time: 2022-04-23 22:45:56+00:00 Tweeted: @btsportfootball I wonder if neymar as ever herd the saying What's good for the goose is good for the gander becous… https://t.co/2Dnxb4ePcN\n",
      "user_name: haynesnell1963 Time: 2022-04-23 22:45:45+00:00 Tweeted: RT @AdoptionsUk: URGENT please retweet to help Oscar (Sausage) find a home #MANCHESTER #ENGLAND \n",
      "\n",
      "Aged 14!! Poor Oscar was a stray that no…\n",
      "user_name: guerogee_19 Time: 2022-04-23 22:45:43+00:00 Tweeted: @ShakurStevenson To lose ? Lol cus you aren’t beating Oscar Valdez\n",
      "user_name: stuartg917 Time: 2022-04-23 22:45:27+00:00 Tweeted: @Nicola_Hume Oscar would like to be let in. https://t.co/xExhk1ZjRS\n",
      "user_name: sj300man Time: 2022-04-23 22:45:15+00:00 Tweeted: RT @LandesBrock: And the Oscar Award goes to… https://t.co/kxhyrNGYBM\n",
      "user_name: mariahknox1833 Time: 2022-04-23 22:45:13+00:00 Tweeted: RT @andypottsBRG: Thank you Coach Oscar for coaching @addison_potts3 last game in SWFL before heading to @PurdueWBB! Thanks @FSWBucs and Co…\n",
      "user_name: MJoseFigueiredo Time: 2022-04-23 22:45:10+00:00 Tweeted: @atrupar The political Oscar of the year!!! Great script...unfinished.\n",
      "user_name: Blockbustargirl Time: 2022-04-23 22:45:06+00:00 Tweeted: RT @crystalwillseeu: I know she won the Oscar so this is a bit obvious, but Jessica Chastain in The Eyes of Tammy Faye is truly one of the…\n"
     ]
    },
    {
     "name": "stderr",
     "output_type": "stream",
     "text": [
      "Unexpected parameter: since\n"
     ]
    },
    {
     "name": "stdout",
     "output_type": "stream",
     "text": [
      "user_name: SatyagrahAlba Time: 2022-04-23 22:45:05+00:00 Tweeted: RT @RussInCheshire: Hitting adult men = bad\n",
      "Hitting adult women = bad\n",
      "Hitting dogs = bad\n",
      "Hitting Oscar hosts = bad\n",
      "\n",
      "Hitting children = good…\n",
      "user_name: HngNguy01836914 Time: 2022-04-23 22:44:56+00:00 Tweeted: RT @NewRockstars: Oscar Isaac tried to warn us #MoonKnight https://t.co/TcWLwttbzD\n",
      "user_name: ZachBaseball5 Time: 2022-04-23 22:44:53+00:00 Tweeted: RT @BenVerlander: Guardians outfielder Oscar Mercado speaks about the postgame beer throwing. \n",
      "\n",
      "“It’s ridiculous. Say whatever you wanna sa…\n",
      "user_name: AudioJoad Time: 2022-04-23 22:44:49+00:00 Tweeted: RT @fuzzyfromyt: Some good perspective from Oscar Mercado. https://t.co/UvR3XmnHWT\n",
      "user_name: Dan6erousDawg84 Time: 2022-04-23 22:44:47+00:00 Tweeted: RT @BallySportsCLE: Oscar Mercado describes what happened in the outfield at the end of the game and what caused the whole scene. \n",
      "\n",
      "#ForThe…\n",
      "user_name: spac3manchuck Time: 2022-04-23 22:44:45+00:00 Tweeted: RT @BrndnStrssng: I say this without any hyperbole and I generally hate talking about movies in oscar speak but Campbell should’ve won Best…\n",
      "user_name: markbrac5 Time: 2022-04-23 22:44:44+00:00 Tweeted: @David_Johnson41 @AndrewYang Severance, The After Party, Ted Lasso, The Morning Show, Pachinko, and others. Plus go… https://t.co/HWARaniTS5\n",
      "user_name: Ms_KatW Time: 2022-04-23 22:44:39+00:00 Tweeted: RT @clevelanddotcom: Oscar Mercado did not take kindly to the actions of Yankees fans on Saturday afternoon, saying they crossed a line. Ph…\n",
      "user_name: BrianMercerNKC Time: 2022-04-23 22:44:36+00:00 Tweeted: RT @NKCSDNorthstars: Oscar bringing the BLING home!!  @NKCSchools @SOMissouri https://t.co/xCrT1Iw4aE\n",
      "user_name: ShowMus83508092 Time: 2022-04-23 22:44:32+00:00 Tweeted: RT @MattPassantino: What’s an acting OSCAR win everyone hates that you love? \n",
      "\n",
      "Mine: https://t.co/I4e4K4PXF4\n",
      "user_name: Oscar_Cruz44 Time: 2022-04-23 22:44:32+00:00 Tweeted: RT @briantheruller: mfs who played football in high school need to let that shit go\n",
      "user_name: andypottsBRG Time: 2022-04-23 22:44:30+00:00 Tweeted: Thank you Coach Oscar for coaching @addison_potts3 last game in SWFL before heading to @PurdueWBB! Thanks @FSWBucs… https://t.co/VlkGEsvrLF\n",
      "user_name: Bilalshykh123 Time: 2022-04-23 22:44:27+00:00 Tweeted: @AlphaAccess777 @ThievesNFTs @Esi8095 \n",
      "@SophieB30618380 \n",
      "@PosySignal \n",
      "@alex_verley2 \n",
      "@ErinaNFTQueen \n",
      "@_the_creepers… https://t.co/gMtAD0uS4m\n",
      "user_name: cainshmain Time: 2022-04-23 22:44:19+00:00 Tweeted: RT @TheFigen: Dog deserves Oscar for his acting performance. ❤️😂😂\n",
      "https://t.co/5hB9zcZSAg\n",
      "user_name: ayooobeeee Time: 2022-04-23 22:44:17+00:00 Tweeted: RT @EzuieQuotes: \"Be yourself; everyone else is taken.\" - Oscar Wilde\n"
     ]
    },
    {
     "name": "stderr",
     "output_type": "stream",
     "text": [
      "Unexpected parameter: since\n"
     ]
    },
    {
     "name": "stdout",
     "output_type": "stream",
     "text": [
      "user_name: EGODIMKPA Time: 2022-04-23 22:44:13+00:00 Tweeted: RT @TheChalya: My girl got married!!!! 🥰❤️ @kemiadetiba gorgeousness!!!! “My wife” Oscar said, as he took a mesmerized glance at his new br…\n",
      "user_name: ChrisRivera217 Time: 2022-04-23 22:44:00+00:00 Tweeted: RT @MLBONFOX: Guardians outfielder Oscar Mercado describes what happened when Yankees fans started throwing trash at him on the field &amp; wha…\n",
      "user_name: Oscar_Cruz44 Time: 2022-04-23 22:44:00+00:00 Tweeted: RT @McKennAnalysis: The Patriots aren't in the mix yet with WR Kadarius Toney, per a source. But don't count them out. He has been on the m…\n",
      "user_name: LoventimeMaria Time: 2022-04-23 22:43:59+00:00 Tweeted: RT @ZackMeisel: Oscar Mercado said a semi-full beer can nearly struck him in the face, but he snagged it in time. Myles Straw said Trevor S…\n",
      "user_name: victor_nach Time: 2022-04-23 22:43:59+00:00 Tweeted: RT @OleleSalvador: BREAKING: Will Smith &amp; Jada might be getting a divorce after the Oscar slapping episode. The couple were already having…\n",
      "user_name: tortillamilly Time: 2022-04-23 22:43:52+00:00 Tweeted: RT @FilmUpdates: Oscar Isaac attended a viewing party for the season finale of Rupaul’s Drag Race at a gay bar in Brooklyn. https://t.co/4e…\n",
      "user_name: Bex_Oscar Time: 2022-04-23 22:43:45+00:00 Tweeted: RT @TheComicBurrito: I’m trying https://t.co/QEUcvyNA0x\n",
      "user_name: Oscar_Cruz44 Time: 2022-04-23 22:43:43+00:00 Tweeted: RT @KaiZenKDP: Netflix: *heavily increases subscription price*\n",
      "\n",
      "Users: *unsubscribe*\n",
      "\n",
      "Netflix: \"Ah I see, it was animation that was the pro…\n",
      "user_name: sarahhlucas Time: 2022-04-23 22:43:39+00:00 Tweeted: RT @DanGraca: Guardians OF, Oscar Mercado said the beer cans being thrown at him were still full. Find those clowns and ban them from the s…\n",
      "user_name: TonyaJ Time: 2022-04-23 22:43:38+00:00 Tweeted: @BiehnReal Oscar Wilde praised it, so I'm in the right place.\n",
      "user_name: KimWendel Time: 2022-04-23 22:43:37+00:00 Tweeted: RT @WEWS: 'That's classless': Guardians OF Oscar Mercado calls out Yankees fans who threw trash, cheered injury https://t.co/l5LZ4d4KnF\n",
      "user_name: AndyOuriel Time: 2022-04-23 22:43:37+00:00 Tweeted: RT @clevelanddotcom: Oscar Mercado did not take kindly to the actions of Yankees fans on Saturday afternoon, saying they crossed a line. Ph…\n",
      "user_name: JohnWest_JAWS Time: 2022-04-23 22:43:36+00:00 Tweeted: @kiasazand I think that may actually refer to his brain being made entirely of Oscar Meier Wieners.\n",
      "user_name: deaconrayne Time: 2022-04-23 22:43:31+00:00 Tweeted: RT @euphoriadaredvl: oscar isaac with carrie fisher and mark hamill on the set of star wars https://t.co/21QB2d0jIG\n",
      "user_name: maravasconpi Time: 2022-04-23 22:43:28+00:00 Tweeted: @maiconsulivanbr @emanuellygome18 O Oscar vai para Bolsonaro 2️⃣2️⃣\n"
     ]
    },
    {
     "name": "stderr",
     "output_type": "stream",
     "text": [
      "Unexpected parameter: since\n"
     ]
    },
    {
     "name": "stdout",
     "output_type": "stream",
     "text": [
      "user_name: bussysword Time: 2022-04-23 22:43:27+00:00 Tweeted: I find it funny  how I name my years by whatever fandom I was in lmaooo \n",
      "\n",
      "2013 was my SPN year \n",
      "2014 was my FOB yea… https://t.co/zsJ21xW3wO\n",
      "user_name: buhle991 Time: 2022-04-23 22:43:17+00:00 Tweeted: This is an Oscar Isaac stan account\n",
      "user_name: Oscar_O_Neill Time: 2022-04-23 22:43:15+00:00 Tweeted: @Knockadoo Sorry for your loss. I couldn’t dare think of the day that we ever have to say goodbye to our little lad https://t.co/phujrGapHS\n",
      "user_name: lexkeeling Time: 2022-04-23 22:43:11+00:00 Tweeted: RT @ZackMeisel: Oscar Mercado, on Yankees fans throwing beer cans at players at the end of the game: https://t.co/gNC6yeaDer\n",
      "user_name: speck_oscar Time: 2022-04-23 22:43:10+00:00 Tweeted: RT @danamalt: aaron connolly has had by far the most minutes of any boro striker since january and has one (heavily deflected) goal to show…\n",
      "user_name: essossa_ Time: 2022-04-23 22:43:05+00:00 Tweeted: RT @TheChalya: My girl got married!!!! 🥰❤️ @kemiadetiba gorgeousness!!!! “My wife” Oscar said, as he took a mesmerized glance at his new br…\n",
      "user_name: lexkeeling Time: 2022-04-23 22:43:01+00:00 Tweeted: RT @JLEWFifty: Incredibly proud of Myles Straw, Oscar Mercado and the rest of these #Guardians players for composing themselves in these po…\n",
      "user_name: Florenceoddity Time: 2022-04-23 22:43:01+00:00 Tweeted: RT @FilmUpdates: Oscar Isaac attended a viewing party for the season finale of Rupaul’s Drag Race at a gay bar in Brooklyn. https://t.co/4e…\n",
      "user_name: keegan_shea_19 Time: 2022-04-23 22:42:52+00:00 Tweeted: RT @FilmUpdates: Oscar Isaac attended a viewing party for the season finale of Rupaul’s Drag Race at a gay bar in Brooklyn. https://t.co/4e…\n",
      "user_name: OnikaDaBawws Time: 2022-04-23 22:42:51+00:00 Tweeted: RT @NICKIMINAJ: Zoo just said he can tell I’m really a dope fkn actor cuz I just imitated my own mother &amp; my own father &amp; did it mad good.…\n",
      "user_name: Dan6erousDawg84 Time: 2022-04-23 22:42:51+00:00 Tweeted: RT @DanGraca: Guardians OF, Oscar Mercado said the beer cans being thrown at him were still full. Find those clowns and ban them from the s…\n",
      "user_name: lightperson10th Time: 2022-04-23 22:42:47+00:00 Tweeted: RT @tobysnews: “I now understand that pity is the greatest, the most beautiful thing that there is in the world…”\n",
      "– Oscar Wilde\n",
      "\n",
      "#TobySteph…\n",
      "user_name: tedd_descardes Time: 2022-04-23 22:42:46+00:00 Tweeted: RT @PopCrave: Oscar Isaac attended a viewing party for the season finale of RuPaul’s #DragRace at a gay bar in Brooklyn. https://t.co/8zjnb…\n",
      "user_name: handsomesemite Time: 2022-04-23 22:42:43+00:00 Tweeted: RT @fuzzyfromyt: Some good perspective from Oscar Mercado. https://t.co/UvR3XmnHWT\n",
      "user_name: LaCapsula_BOS Time: 2022-04-23 22:42:33+00:00 Tweeted: RT @BallySportsCLE: Oscar Mercado describes what happened in the outfield at the end of the game and what caused the whole scene. \n",
      "\n",
      "#ForThe…\n"
     ]
    },
    {
     "name": "stderr",
     "output_type": "stream",
     "text": [
      "Unexpected parameter: since\n"
     ]
    },
    {
     "name": "stdout",
     "output_type": "stream",
     "text": [
      "user_name: ehhwhazupp Time: 2022-04-23 22:42:18+00:00 Tweeted: RT @BallySportsCLE: Oscar Mercado describes what happened in the outfield at the end of the game and what caused the whole scene. \n",
      "\n",
      "#ForThe…\n",
      "user_name: Bex_Oscar Time: 2022-04-23 22:42:12+00:00 Tweeted: RT @hanavbara: team rocket’s blasting off again 🧨📸💥 https://t.co/lKJdgVgDox\n",
      "user_name: MattHunter8_ Time: 2022-04-23 22:42:08+00:00 Tweeted: RT @fuzzyfromyt: Some good perspective from Oscar Mercado. https://t.co/UvR3XmnHWT\n",
      "user_name: Estherrrrrrr_ Time: 2022-04-23 22:42:07+00:00 Tweeted: RT @TheChalya: My girl got married!!!! 🥰❤️ @kemiadetiba gorgeousness!!!! “My wife” Oscar said, as he took a mesmerized glance at his new br…\n",
      "user_name: achilleanlitbot Time: 2022-04-23 22:42:03+00:00 Tweeted: I’m an unspeakable of the Oscar Wilde sort.\n",
      "\n",
      "E. M. Forster, Maurice\n",
      "user_name: NYDailyNews Time: 2022-04-23 22:41:59+00:00 Tweeted: RT @snydenydn: Third time wasn’t the charm for Sean Penn.\n",
      "\n",
      "The Oscar winner’s divorce from Leila George, 32 years his junior, was finalized…\n",
      "user_name: oscar_dabrowski Time: 2022-04-23 22:41:52+00:00 Tweeted: RT @GloomersNFT: Gloomers Love @CosmicCats_ \n",
      "\n",
      "We are joining Cosmic Cats for #CosmicTakeOver 🚀\n",
      "\n",
      "WE HAVE 1 COSMIC CAT TO GIVEAWAY! Just ❤️,…\n",
      "user_name: Bex_Oscar Time: 2022-04-23 22:41:52+00:00 Tweeted: RT @Kimbolt_Prime: One Piece but make them furries (I was gonna call them minks but some of them don’t fall under that category). https://t…\n",
      "user_name: oscar_almighti Time: 2022-04-23 22:41:52+00:00 Tweeted: mjolnir is for the street , everyone seem to be lifting it .. https://t.co/v4ithW3k2a\n",
      "user_name: HarrisonDee Time: 2022-04-23 22:41:48+00:00 Tweeted: RT @FINALLEVEL: When OSCAR WINNER @Questlove flips your boxes! The shit’s OFFICIAL! 👊🏽👊🏽👊🏽👊🏽👊🏽\n",
      "user_name: nahirsalmansosa Time: 2022-04-23 22:41:47+00:00 Tweeted: RT @PopCrave: Oscar Isaac attended a viewing party for the season finale of RuPaul’s #DragRace at a gay bar in Brooklyn. https://t.co/8zjnb…\n",
      "user_name: Bex_Oscar Time: 2022-04-23 22:41:44+00:00 Tweeted: RT @fourkinz: real life conversation i had with my girlfriend while unconscious https://t.co/SP4AW2aogB\n",
      "user_name: SamWhite_2020 Time: 2022-04-23 22:41:44+00:00 Tweeted: RT @BallySportsCLE: Oscar Mercado describes what happened in the outfield at the end of the game and what caused the whole scene. \n",
      "\n",
      "#ForThe…\n",
      "user_name: onelifebieberss Time: 2022-04-23 22:41:40+00:00 Tweeted: RT @jhbmoments: justin and hailey bieber with oscar https://t.co/KnKS1GJ3CZ\n",
      "user_name: krisbian234 Time: 2022-04-23 22:41:38+00:00 Tweeted: RT @sykurmola: @jillllllllll LOL it's an Oscar nomination in a very strong year. \n",
      "\n",
      "Regardless, did you know what she did win? She made hist…\n"
     ]
    },
    {
     "name": "stderr",
     "output_type": "stream",
     "text": [
      "Unexpected parameter: since\n"
     ]
    },
    {
     "name": "stdout",
     "output_type": "stream",
     "text": [
      "user_name: puttypants Time: 2022-04-23 22:41:34+00:00 Tweeted: @NigheanMo @KristinDSantos they did it to get more gossip for themselves snd the Oscar show because it’s become so… https://t.co/JSF3xe8rCg\n",
      "user_name: Bex_Oscar Time: 2022-04-23 22:41:30+00:00 Tweeted: RT @_sn_n: A FaceApp morph of all 50 Republican Senators. https://t.co/dVq1U9gFP6\n",
      "user_name: BlueJaysEnjoyer Time: 2022-04-23 22:41:29+00:00 Tweeted: RT @fuzzyfromyt: Some good perspective from Oscar Mercado. https://t.co/UvR3XmnHWT\n",
      "user_name: MattDeBlasi Time: 2022-04-23 22:41:23+00:00 Tweeted: RT @fuzzyfromyt: Some good perspective from Oscar Mercado. https://t.co/UvR3XmnHWT\n",
      "user_name: Trillestmillz__ Time: 2022-04-23 22:41:21+00:00 Tweeted: RT @OleleSalvador: BREAKING: Will Smith &amp; Jada might be getting a divorce after the Oscar slapping episode. The couple were already having…\n",
      "user_name: JackYonkovski Time: 2022-04-23 22:41:18+00:00 Tweeted: @cap_al @barstoolsports There is no acceptable context for this. Lucky Oscar didn't kick the shit outta the right field bleachers\n",
      "user_name: kesokoji Time: 2022-04-23 22:41:06+00:00 Tweeted: RT @DrBenjaminJones: @Peter_Fitz As Oscar Wilde put it (sort of), to offend one Australian of the Year may be regarded as a misfortune, to…\n",
      "user_name: MannkibaatRajiv Time: 2022-04-23 22:41:06+00:00 Tweeted: @ani_digital @ANI India is the epicentre of foreign visits that even Will Smith (remember Oscar controversy?) is on India visit🤣 @sidhant\n",
      "user_name: adunlea Time: 2022-04-23 22:40:59+00:00 Tweeted: RT @EzuieQuotes: \"Be yourself; everyone else is taken.\" - Oscar Wilde\n",
      "user_name: escsunal Time: 2022-04-23 22:40:57+00:00 Tweeted: want oscar isaac and pedro pascal to fuck my brains out\n",
      "user_name: AkuaBoabeng Time: 2022-04-23 22:40:56+00:00 Tweeted: RT @TheChalya: My girl got married!!!! 🥰❤️ @kemiadetiba gorgeousness!!!! “My wife” Oscar said, as he took a mesmerized glance at his new br…\n",
      "user_name: SamLindauer Time: 2022-04-23 22:40:49+00:00 Tweeted: RT @vulture: Oscar Isaac has never been shy about his love for RuPaul's Drag Race https://t.co/yzqDYAS3GR\n",
      "user_name: douxark Time: 2022-04-23 22:40:44+00:00 Tweeted: oscar emmy every award ever https://t.co/sHsByztRBn\n",
      "user_name: Micha26324997 Time: 2022-04-23 22:40:41+00:00 Tweeted: @Ragazza_Bella_ @melnicksergio And the Oscar goes to....\n",
      "user_name: wiIIhrondale Time: 2022-04-23 22:40:37+00:00 Tweeted: 33. the picture of dorian gray by oscar wilde \n",
      "\n",
      "✩✩✩✩✩\n",
      "\n",
      "— instantly a new all time favourite https://t.co/DGu3jqI5V1\n"
     ]
    },
    {
     "name": "stderr",
     "output_type": "stream",
     "text": [
      "Unexpected parameter: since\n"
     ]
    },
    {
     "name": "stdout",
     "output_type": "stream",
     "text": [
      "user_name: themffkknlord Time: 2022-04-23 22:40:35+00:00 Tweeted: U know what, Oscar … bye! 🤣 This what be having me standing in front the fridge drinking almond milk. 🥛🤣 https://t.co/hEDWs7pgoL\n",
      "user_name: HngNguy01836914 Time: 2022-04-23 22:40:35+00:00 Tweeted: RT @houseofeIektra: oh i literally cannot wait because the way we're gonna get 3 fucking oscar isaacs on screen together oh my god #MoonKni…\n",
      "user_name: 67Chris887 Time: 2022-04-23 22:40:33+00:00 Tweeted: RT @DanGraca: Guardians OF, Oscar Mercado said the beer cans being thrown at him were still full. Find those clowns and ban them from the s…\n",
      "user_name: 139rmj Time: 2022-04-23 22:40:28+00:00 Tweeted: RT @EzuieQuotes: \"Be yourself; everyone else is taken.\" - Oscar Wilde\n",
      "user_name: filmgotham Time: 2022-04-23 22:40:21+00:00 Tweeted: i have to do it  (google oscar isaac’s height)\n",
      "user_name: Matthewwilding7 Time: 2022-04-23 22:40:16+00:00 Tweeted: RT @RussInCheshire: Hitting adult men = bad\n",
      "Hitting adult women = bad\n",
      "Hitting dogs = bad\n",
      "Hitting Oscar hosts = bad\n",
      "\n",
      "Hitting children = good…\n",
      "user_name: ArbitraryMovies Time: 2022-04-23 22:40:07+00:00 Tweeted: The Oscar (1966)\n",
      " this political documentary film has a forbidding gaffer that does not plan the film's best person… https://t.co/KKtAc4y7uC\n",
      "user_name: Tracy1453 Time: 2022-04-23 22:39:54+00:00 Tweeted: RT @RayoKasali: In case you're wondering who Kemi Adetiba's prince charming is...\n",
      "\n",
      "He is Oscar Herman-Acker the genius music maestro \"Oscar…\n",
      "user_name: 2010indiemovie Time: 2022-04-23 22:39:54+00:00 Tweeted: RT @FilmUpdates: Oscar Isaac attended a viewing party for the season finale of Rupaul’s Drag Race at a gay bar in Brooklyn. https://t.co/4e…\n",
      "user_name: osiddhar1a Time: 2022-04-23 22:39:50+00:00 Tweeted: #Scorsese’s moving, romantic-drama THE AGE OF INNOCENCE is beautiful in every way. Sure, it’s a play for the Best D… https://t.co/ZelliYfgno\n",
      "user_name: DatDudeAG Time: 2022-04-23 22:39:49+00:00 Tweeted: RT @MLBONFOX: Guardians outfielder Oscar Mercado describes what happened when Yankees fans started throwing trash at him on the field &amp; wha…\n",
      "user_name: Violettepromoo Time: 2022-04-23 22:39:46+00:00 Tweeted: RT @SeffSaid: \"The love in your heart wasn't put there to stay. Love isn't love 'til you give it away.\" - Oscar Hammerstein\n",
      "user_name: EdwardsAndrew31 Time: 2022-04-23 22:39:43+00:00 Tweeted: RT @ASPoliceHorses: Mendip and Oscar have both been out and about in Clevedon today #localpatrols #goodboys https://t.co/EPEhWMAeLR\n",
      "user_name: JenJen_33 Time: 2022-04-23 22:39:36+00:00 Tweeted: Like Oscar said. At the end of the day players are human beings too. They don’t deserve objects thrown at them. https://t.co/Ip55oy4vaT\n",
      "user_name: SportsbookBTC Time: 2022-04-23 22:39:35+00:00 Tweeted: Chris Rock's Mom makes strong comments on Will Smith's Oscar fiasco https://t.co/4fjj2zlfSu ⚽️⚽️  📲 Bet now via ⟶… https://t.co/2IQLkWr7hV\n"
     ]
    },
    {
     "name": "stderr",
     "output_type": "stream",
     "text": [
      "Unexpected parameter: since\n"
     ]
    },
    {
     "name": "stdout",
     "output_type": "stream",
     "text": [
      "user_name: fiendformojitos Time: 2022-04-23 22:39:34+00:00 Tweeted: RT @BrndnStrssng: I say this without any hyperbole and I generally hate talking about movies in oscar speak but Campbell should’ve won Best…\n",
      "user_name: jeff_ostach Time: 2022-04-23 22:39:31+00:00 Tweeted: RT @BallySportsCLE: Oscar Mercado describes what happened in the outfield at the end of the game and what caused the whole scene. \n",
      "\n",
      "#ForThe…\n",
      "user_name: __DearBeauty Time: 2022-04-23 22:39:25+00:00 Tweeted: RT @TheChalya: My girl got married!!!! 🥰❤️ @kemiadetiba gorgeousness!!!! “My wife” Oscar said, as he took a mesmerized glance at his new br…\n",
      "user_name: oscar_aragon1 Time: 2022-04-23 22:39:24+00:00 Tweeted: RT @iLLite_Gaming: Good Times @Amari_MillerWWE \n",
      "\n",
      "#WWE2K22 https://t.co/mydTqo49yw\n",
      "user_name: oscar_morton Time: 2022-04-23 22:39:18+00:00 Tweeted: RT @Osinttechnical: Russian Kalibr cruise missile spotted over Odessa today, most likely launched from the Black Sea. https://t.co/7kAOJeDT…\n",
      "user_name: sorbetnorbet Time: 2022-04-23 22:39:03+00:00 Tweeted: My brother is going to win an Oscar for Best Director / Visual Effects Supervisor / Short Film Animation.\n",
      "user_name: CityOfLasVegas Time: 2022-04-23 22:39:03+00:00 Tweeted: The story behind this iconic martini glass neon sign on Fremont East🍸✨👇\n",
      "\n",
      "The design was all a nod to former mayor O… https://t.co/PGJv4dhyCI\n",
      "user_name: ravbutterflies Time: 2022-04-23 22:39:03+00:00 Tweeted: “Books are the quietest and most constant of friends; they are the most accessible and wisest of counselors, and th… https://t.co/hVO0W7OGl7\n",
      "user_name: JoshyFlowMusic Time: 2022-04-23 22:38:45+00:00 Tweeted: @Oscar_Mosh Stop running..face me https://t.co/PBOn83HRUd\n",
      "user_name: WESTSIDEWYLIE Time: 2022-04-23 22:38:43+00:00 Tweeted: RT @nastydefault: GUYS GUYS GUYS @WESTSIDEWYLIE IS STARTING TO THINK OSCAR ISAAC IS HOT BC OF ME IM DOING MY JOB RIGHT\n",
      "user_name: dj_hall59 Time: 2022-04-23 22:38:16+00:00 Tweeted: RT @CatsCoverage_: Oscar Tshiebwe sends out an official warning to all of college basketball next year. 👀 https://t.co/owGZAiCt6O\n",
      "user_name: StephenDHill Time: 2022-04-23 22:38:05+00:00 Tweeted: RT @ZackMeisel: Oscar Mercado, on Yankees fans throwing beer cans at players at the end of the game: https://t.co/gNC6yeaDer\n",
      "user_name: _akani__ Time: 2022-04-23 22:38:01+00:00 Tweeted: @Oscar_Mosh Nothing for you 😂\n",
      "user_name: JordanBellamy Time: 2022-04-23 22:38:01+00:00 Tweeted: RT @KyleTucker_ATH: RETURNING\n",
      "Sahvir Wheeler\n",
      "CJ Fredrick (injured last year)\n",
      "Jacob Toppin\n",
      "Oscar Tshiebwe \n",
      "Daimion Collins\n",
      "Lance Ware\n",
      "(Keion…\n",
      "user_name: msfeliciarenee Time: 2022-04-23 22:37:57+00:00 Tweeted: I still smile when I see the Oscar Meyer Wiener mobile\n"
     ]
    },
    {
     "name": "stderr",
     "output_type": "stream",
     "text": [
      "Unexpected parameter: since\n"
     ]
    },
    {
     "name": "stdout",
     "output_type": "stream",
     "text": [
      "user_name: TripleCx3 Time: 2022-04-23 22:37:50+00:00 Tweeted: @FictionRumble Marty, he will be fighting Oscar from Shark Tale https://t.co/lzEGPIMbUa\n",
      "user_name: BrettCase84 Time: 2022-04-23 22:37:41+00:00 Tweeted: RT @MLBONFOX: Guardians outfielder Oscar Mercado describes what happened when Yankees fans started throwing trash at him on the field &amp; wha…\n",
      "user_name: oscar_ftls Time: 2022-04-23 22:37:36+00:00 Tweeted: RT @tekfox: He’s really a good guy at heart. ❤️🐾❤️ https://t.co/tJRdD5RNEU\n",
      "user_name: _BCrt Time: 2022-04-23 22:37:34+00:00 Tweeted: RT @ZORAlDEALE: Oscar-winning performance 🙁 #BCSpoilers https://t.co/xRyEDQEEeu\n",
      "user_name: DebraLoveGoff1 Time: 2022-04-23 22:37:32+00:00 Tweeted: RT @OscarJetson: Happy Basset Hound in the Ocean Art Print, Abstract Expressive Basset Hound Mom Wall Art Print, Doggy Decor, Wall hanging…\n",
      "user_name: hitokilling Time: 2022-04-23 22:37:29+00:00 Tweeted: \"i'll fill your stomach in more ways than one\" in the lady oscar movie script... amazing\n",
      "user_name: manjiroi_ Time: 2022-04-23 22:37:22+00:00 Tweeted: RT @oscarsites: even more oscar and keyu photos from chuang\n",
      "\n",
      "#OscarWang #奥斯卡 #keyu https://t.co/WkbbECak3X\n",
      "user_name: plickkick Time: 2022-04-23 22:37:21+00:00 Tweeted: #Peacemaker star #JohnCena just turned 45 today. #HartofDixie star #JaimeKing turned 43. #Oscar nominee #DevPatel t… https://t.co/Ldx8e8Jd0D\n",
      "user_name: faheypatrica1 Time: 2022-04-23 22:37:21+00:00 Tweeted: RT @TimeMachineHQ: #CaryGrant and #JeanSimmons were presenters at the 1958 Academy Awards holding the #Oscar awarded to #AlecGuinness for h…\n",
      "user_name: SandyFitterer Time: 2022-04-23 22:37:19+00:00 Tweeted: Easy to see why Good Night, Oscar starring @SeanHayes is selling out in Chicago. Saw it Thursday. His acting and mu… https://t.co/9fafOkAB0I\n",
      "user_name: chaeyummie Time: 2022-04-23 22:37:16+00:00 Tweeted: RT @FilmUpdates: Oscar Isaac attended a viewing party for the season finale of Rupaul’s Drag Race at a gay bar in Brooklyn. https://t.co/4e…\n",
      "user_name: SabettaMichael Time: 2022-04-23 22:36:56+00:00 Tweeted: @BallySportsCLE Well said Oscar, your a class act Oscar Mercado!\n",
      "user_name: AndrewDRimby Time: 2022-04-23 22:36:53+00:00 Tweeted: I got a spray tan, and I am loving it! Yes this is a decadent and indulgent tweet but hey, it boosted my confidence… https://t.co/q0Mhb0MaZy\n",
      "user_name: gaviwhy Time: 2022-04-23 22:36:41+00:00 Tweeted: RT @FilmUpdates: Oscar Isaac attended a viewing party for the season finale of Rupaul’s Drag Race at a gay bar in Brooklyn. https://t.co/4e…\n",
      "user_name: jamelian4real Time: 2022-04-23 22:36:41+00:00 Tweeted: RT @OleleSalvador: BREAKING: Will Smith &amp; Jada might be getting a divorce after the Oscar slapping episode. The couple were already having…\n"
     ]
    },
    {
     "name": "stderr",
     "output_type": "stream",
     "text": [
      "Unexpected parameter: since\n"
     ]
    },
    {
     "name": "stdout",
     "output_type": "stream",
     "text": [
      "user_name: bellodxb Time: 2022-04-23 22:36:40+00:00 Tweeted: @Oscar_Mosh @babygirlfay_ whenever you’re ready send game\n",
      "user_name: SkinzerHTTR Time: 2022-04-23 22:36:37+00:00 Tweeted: RT @fuzzyfromyt: Some good perspective from Oscar Mercado. https://t.co/UvR3XmnHWT\n",
      "user_name: Chuckdub85 Time: 2022-04-23 22:36:15+00:00 Tweeted: RT @ChrisFisher247: In Oscar Tshiebwe ALONE, Kentucky now returns: \n",
      "\n",
      "21.8% of its points\n",
      "37.8% of its rebounds\n",
      "38.2% of its blocks\n",
      "25.9% of…\n",
      "user_name: Oscar_Cruz44 Time: 2022-04-23 22:36:12+00:00 Tweeted: RT @viewtiful_joe__: Officially ~20 days shy of becoming a doctor so now I can say, with my entire chest, that there was absolutely no reas…\n",
      "user_name: KristelBERINGER Time: 2022-04-23 22:36:11+00:00 Tweeted: RT @WildeOscarCat: SOS!!  #SHELTERPLEA \n",
      "Darling Kitty Shortstop can live for years like Oscar did after being unblocked as long as is saved…\n",
      "user_name: oscarxsaac Time: 2022-04-23 22:36:10+00:00 Tweeted: it's oscar isaac we're talking about, what did you guys expected?\n",
      "user_name: ronniehowlett3 Time: 2022-04-23 22:36:08+00:00 Tweeted: RT @OscarRunnerUp: These were the Oscar nominees for Best Director in 1957. Rank the nominees in order of personal preference.\n",
      "\n",
      "And as a bo…\n",
      "user_name: jzazmko Time: 2022-04-23 22:36:04+00:00 Tweeted: @Oscar_NFTs 0x0756A4ce2D56Bf9Bcfed2808D5B2482d5279045A\n",
      "user_name: Chuckdub85 Time: 2022-04-23 22:36:00+00:00 Tweeted: RT @DraftExpress: Oscar Tshiebwe, the No. 44 prospect in the ESPN 100, will return to Kentucky for his senior year, he announced on Sportsc…\n",
      "user_name: nastydefault Time: 2022-04-23 22:35:58+00:00 Tweeted: @ircnspiderling @tomshoodie NO SHES MY BEST FRIEND THE PEDRO TO MY OSCAR SHES ON MY SIDE https://t.co/qyaRKtINxV\n",
      "user_name: A_Rios08 Time: 2022-04-23 22:35:56+00:00 Tweeted: RT @MLBONFOX: Guardians outfielder Oscar Mercado describes what happened when Yankees fans started throwing trash at him on the field &amp; wha…\n",
      "user_name: 2017WSCHAMPIONS Time: 2022-04-23 22:35:53+00:00 Tweeted: RT @MLBONFOX: Guardians outfielder Oscar Mercado describes what happened when Yankees fans started throwing trash at him on the field &amp; wha…\n",
      "user_name: CWalker2021 Time: 2022-04-23 22:35:49+00:00 Tweeted: Agreed, low class assholes, should be an automatic forfeit during or after the game!\n",
      " https://t.co/doABd5syhG\n",
      "user_name: jtres15 Time: 2022-04-23 22:35:46+00:00 Tweeted: RT @JLEWFifty: Incredibly proud of Myles Straw, Oscar Mercado and the rest of these #Guardians players for composing themselves in these po…\n",
      "user_name: aminagasser Time: 2022-04-23 22:35:46+00:00 Tweeted: rika dash getting slapped by oscar isaac is one thing i never thought i’d see\n"
     ]
    },
    {
     "name": "stderr",
     "output_type": "stream",
     "text": [
      "Unexpected parameter: since\n"
     ]
    },
    {
     "name": "stdout",
     "output_type": "stream",
     "text": [
      "user_name: edo9k Time: 2022-04-23 22:35:43+00:00 Tweeted: RT @__femb0t: &gt; 1969 plan to build a second, nuke-proof Manhattan below New York City Oscar Newman\n",
      "\n",
      "GeoFront in Neon Genesis Evangelion htt…\n",
      "user_name: znalnasser Time: 2022-04-23 22:35:42+00:00 Tweeted: RT @SeffSaid: \"The love in your heart wasn't put there to stay. Love isn't love 'til you give it away.\" - Oscar Hammerstein\n",
      "user_name: ShahLatona Time: 2022-04-23 22:35:39+00:00 Tweeted: RT @FilmUpdates: Oscar Isaac attended a viewing party for the season finale of Rupaul’s Drag Race at a gay bar in Brooklyn. https://t.co/4e…\n",
      "user_name: Violettepromoo Time: 2022-04-23 22:35:37+00:00 Tweeted: @Oscar_Mosh E no go work 😂😂\n",
      "user_name: trophymom5 Time: 2022-04-23 22:35:33+00:00 Tweeted: RT @MLBONFOX: Guardians outfielder Oscar Mercado describes what happened when Yankees fans started throwing trash at him on the field &amp; wha…\n",
      "user_name: Owenamy Time: 2022-04-23 22:35:32+00:00 Tweeted: In 1996, a documentary about Weissmann Klein won an Oscar. Taking the stage with the director, she addressed a glob… https://t.co/9bHP9TUOiN\n",
      "user_name: Oscar_Oscerlot Time: 2022-04-23 22:35:29+00:00 Tweeted: RT @scrunchedcats: Cada has been sminched!!!\n",
      "\n",
      "@CadaTheCat https://t.co/PnQw9PgX01\n",
      "user_name: KhaaliyahWebb Time: 2022-04-23 22:35:28+00:00 Tweeted: RT @LisaDock84: Can you believe Johhny Depp has never won an oscar 😳😳 probably the most diverse Actor there is.. i guess its better to wond…\n",
      "user_name: ee_oba Time: 2022-04-23 22:35:27+00:00 Tweeted: @Oscar_Mosh Wo, who I go tell I like her face,😩\n",
      "user_name: Coopdog_101 Time: 2022-04-23 22:35:24+00:00 Tweeted: Me when I see a tweet fancasting Oscar Isaac as Harvey Dent https://t.co/fSMsnufTVi\n",
      "user_name: M_isah221 Time: 2022-04-23 22:35:22+00:00 Tweeted: RT @SeffSaid: \"The love in your heart wasn't put there to stay. Love isn't love 'til you give it away.\" - Oscar Hammerstein\n",
      "user_name: iam_tpoj Time: 2022-04-23 22:35:17+00:00 Tweeted: RT @TheChalya: My girl got married!!!! 🥰❤️ @kemiadetiba gorgeousness!!!! “My wife” Oscar said, as he took a mesmerized glance at his new br…\n",
      "user_name: TSquare73 Time: 2022-04-23 22:35:11+00:00 Tweeted: RT @fuzzyfromyt: Some good perspective from Oscar Mercado. https://t.co/UvR3XmnHWT\n",
      "user_name: thatgirlhayley_ Time: 2022-04-23 22:35:02+00:00 Tweeted: RT @jhbmoments: justin and hailey bieber with oscar https://t.co/KnKS1GJ3CZ\n",
      "user_name: WEWS Time: 2022-04-23 22:35:01+00:00 Tweeted: 'That's classless': Guardians OF Oscar Mercado calls out Yankees fans who threw trash, cheered injury https://t.co/l5LZ4d4KnF\n"
     ]
    },
    {
     "name": "stderr",
     "output_type": "stream",
     "text": [
      "Unexpected parameter: since\n"
     ]
    },
    {
     "name": "stdout",
     "output_type": "stream",
     "text": [
      "user_name: twentyfou_ Time: 2022-04-23 22:35:01+00:00 Tweeted: RT @SeffSaid: \"The love in your heart wasn't put there to stay. Love isn't love 'til you give it away.\" - Oscar Hammerstein\n",
      "user_name: sscramkidd Time: 2022-04-23 22:34:57+00:00 Tweeted: RT @FilmUpdates: Oscar Isaac attended a viewing party for the season finale of Rupaul’s Drag Race at a gay bar in Brooklyn. https://t.co/4e…\n",
      "user_name: Rickle65 Time: 2022-04-23 22:34:43+00:00 Tweeted: RT @LiftingHumanity: @ozthegoatguy Thank you for your kindness Marko, and Mike. Take care 🐐\n",
      "Well, Oscar was not able to scratch through to…\n",
      "user_name: calebnoble08 Time: 2022-04-23 22:34:25+00:00 Tweeted: RT @fuzzyfromyt: Some good perspective from Oscar Mercado. https://t.co/UvR3XmnHWT\n",
      "user_name: UrbanAstroNYC Time: 2022-04-23 22:34:23+00:00 Tweeted: Oscar and I have this thing when he’s working on a big chewing treat (No-Hide, Yeti Chew, etc) and I don’t want him… https://t.co/oXgbSM9xIM\n",
      "user_name: BlazeBrandMan Time: 2022-04-23 22:34:13+00:00 Tweeted: RT @BallySportsCLE: Oscar Mercado describes what happened in the outfield at the end of the game and what caused the whole scene. \n",
      "\n",
      "#ForThe…\n",
      "user_name: SpencerTodd19 Time: 2022-04-23 22:34:11+00:00 Tweeted: RT @BallySportsCLE: Oscar Mercado describes what happened in the outfield at the end of the game and what caused the whole scene. \n",
      "\n",
      "#ForThe…\n",
      "user_name: xssiram Time: 2022-04-23 22:34:09+00:00 Tweeted: RT @murdockdilf: oscar isaac im begging you https://t.co/VYvxhi36bR\n",
      "user_name: Ismail__az Time: 2022-04-23 22:34:02+00:00 Tweeted: RT @TheChalya: My girl got married!!!! 🥰❤️ @kemiadetiba gorgeousness!!!! “My wife” Oscar said, as he took a mesmerized glance at his new br…\n",
      "user_name: xssiram Time: 2022-04-23 22:34:01+00:00 Tweeted: RT @lgbtgarfield: oscar isaac is a different kind of hot idk they don't make a lot of men like that\n",
      "user_name: nalanvirumbi1 Time: 2022-04-23 22:33:56+00:00 Tweeted: RT @loki_edit: Kamal sir don't deserve oscar .Oscar deserves kamal sir.💥God of indian cinema 🙏 waiting for Vikram 💥🥁 https://t.co/wk4puZ0aGW\n",
      "user_name: randomguy11233 Time: 2022-04-23 22:33:53+00:00 Tweeted: RT @DanGraca: Guardians OF, Oscar Mercado said the beer cans being thrown at him were still full. Find those clowns and ban them from the s…\n",
      "user_name: Oscar_PLlamas Time: 2022-04-23 22:33:52+00:00 Tweeted: RT @iampareza: We need wrs, Ronela and Chanel in the final. Just imagine the atmosphere and the iconic content we would get from backstage…\n",
      "user_name: Loscompaes Time: 2022-04-23 22:33:38+00:00 Tweeted: I will go to study Biology🧬 with Oscar\n",
      "user_name: astrobassball Time: 2022-04-23 22:33:36+00:00 Tweeted: RT @camijustice: \"Don't be an a-hole about it and definitely don't bring violence into it.\"\n",
      "\n",
      "'That's classless': Guardians OF Oscar Mercado…\n"
     ]
    },
    {
     "name": "stderr",
     "output_type": "stream",
     "text": [
      "Unexpected parameter: since\n"
     ]
    },
    {
     "name": "stdout",
     "output_type": "stream",
     "text": [
      "user_name: oscar_ffc Time: 2022-04-23 22:33:30+00:00 Tweeted: RT @Pu55yMan_Dan: Willian and Nico Rosberg after he crashed his car https://t.co/b6IfbexGLt\n",
      "user_name: oscar_ffc Time: 2022-04-23 22:33:27+00:00 Tweeted: @ad_1879 how has this happened 😭😭😭\n",
      "user_name: Jijybear Time: 2022-04-23 22:33:19+00:00 Tweeted: Had a dream about Mr Oscar isaac where he looked gorgeous and I still rejected him ( THE AUDACITY of me) and id lik… https://t.co/2reYW7JWvb\n",
      "user_name: PedroMexquitic Time: 2022-04-23 22:33:10+00:00 Tweeted: The #Oscar goes to: @ivanalejo7 😂😂🤡🤡🤡🤡 https://t.co/GOr8ugVjDg\n",
      "user_name: africaenttv Time: 2022-04-23 22:33:07+00:00 Tweeted: Love is beautiful 😍😍\n",
      "\n",
      "Kemi Adetiba and her husband Oscar having a dance off as they rock their 3rd outfit look for… https://t.co/EmNZY3PYdR\n",
      "user_name: cawkhq Time: 2022-04-23 22:33:07+00:00 Tweeted: give this the same attention you gave the oscar’s. https://t.co/o5HOCMDkJ7\n",
      "user_name: GuardiansTalk Time: 2022-04-23 22:33:06+00:00 Tweeted: Oscar Mercado did not take kindly to the actions of Yankees fans on Saturday afternoon, saying they crossed a line.… https://t.co/rzWM86fEsL\n",
      "user_name: clevelanddotcom Time: 2022-04-23 22:33:06+00:00 Tweeted: Oscar Mercado did not take kindly to the actions of Yankees fans on Saturday afternoon, saying they crossed a line.… https://t.co/DPc9PGB3xV\n",
      "user_name: PariahSickKid Time: 2022-04-23 22:33:02+00:00 Tweeted: RT @Viking_Tower: @RonFilipkowski Uranus is in retrograde so the moon is made of milk chocolate. Once you understand that it's easy to see…\n",
      "user_name: Coach_RSalinas Time: 2022-04-23 22:32:54+00:00 Tweeted: RT @CoachRoiz: Congratulations Mavs ⚾️ Great Team Win 👊🏼 Great pitching performance by Roly Jimenez 🔥 Closer of the game: Oscar Cavazos 🔥 H…\n",
      "user_name: mamichampu__ Time: 2022-04-23 22:32:47+00:00 Tweeted: RT @FilmUpdates: Oscar Isaac attended a viewing party for the season finale of Rupaul’s Drag Race at a gay bar in Brooklyn. https://t.co/4e…\n",
      "user_name: rigdoctormark Time: 2022-04-23 22:32:45+00:00 Tweeted: RT @BallySportsCLE: Oscar Mercado describes what happened in the outfield at the end of the game and what caused the whole scene. \n",
      "\n",
      "#ForThe…\n",
      "user_name: _ramirez587 Time: 2022-04-23 22:32:45+00:00 Tweeted: one thing I can always count on is Oscar being the best fucking friend I could ever ask for.\n",
      "user_name: mariacelestetp Time: 2022-04-23 22:32:45+00:00 Tweeted: if he wins an Oscar for playing himself in a movie based on him, that’s iconic if you ask me\n",
      "user_name: lindatongo Time: 2022-04-23 22:32:32+00:00 Tweeted: Congratulations to you Kemi Adetiba and Oscar. God bless your marriage.❤️❤️❤️🥳🥳🥳🥳🥳 https://t.co/eS9S9HGh9T\n"
     ]
    },
    {
     "name": "stderr",
     "output_type": "stream",
     "text": [
      "Unexpected parameter: since\n"
     ]
    },
    {
     "name": "stdout",
     "output_type": "stream",
     "text": [
      "user_name: BooneFollow187 Time: 2022-04-23 22:32:26+00:00 Tweeted: Oscar Colas\n",
      "Yoleqi Cespedes \n",
      "Micker Adolpho\n",
      "\n",
      "You have all been promoted\n",
      "user_name: JacobTufts Time: 2022-04-23 22:32:13+00:00 Tweeted: RT @KyleTucker_ATH: RETURNING\n",
      "Sahvir Wheeler\n",
      "CJ Fredrick (injured last year)\n",
      "Jacob Toppin\n",
      "Oscar Tshiebwe \n",
      "Daimion Collins\n",
      "Lance Ware\n",
      "(Keion…\n",
      "user_name: CarlKrieger2 Time: 2022-04-23 22:31:46+00:00 Tweeted: RT @MLBONFOX: Guardians outfielder Oscar Mercado describes what happened when Yankees fans started throwing trash at him on the field &amp; wha…\n",
      "user_name: EOverload Time: 2022-04-23 22:31:45+00:00 Tweeted: RT @FilmUpdates: Oscar Isaac attended a viewing party for the season finale of Rupaul’s Drag Race at a gay bar in Brooklyn. https://t.co/4e…\n",
      "user_name: BridgetteRobles Time: 2022-04-23 22:31:36+00:00 Tweeted: Oscar for sure thinks he’s Dog Park Royalty. 😂 https://t.co/R4CI8FPSzK\n",
      "user_name: Shamar_1023 Time: 2022-04-23 22:31:34+00:00 Tweeted: RT @SeffSaid: \"The love in your heart wasn't put there to stay. Love isn't love 'til you give it away.\" - Oscar Hammerstein\n",
      "user_name: Bex_Oscar Time: 2022-04-23 22:31:34+00:00 Tweeted: RT @erinyah_: Let’s free A. Julie from the psych ward! \n",
      "\n",
      "https://t.co/wnGJkir3Td\n",
      "user_name: ManhunterIsGood Time: 2022-04-23 22:31:21+00:00 Tweeted: RT @BrndnStrssng: I say this without any hyperbole and I generally hate talking about movies in oscar speak but Campbell should’ve won Best…\n",
      "user_name: jengrimes8 Time: 2022-04-23 22:31:21+00:00 Tweeted: RT @CityofChampsIE: Yankee fans being themselves get called “classless” by Cleveland OF Oscar Mercado. Many kids out there don’t know this…\n",
      "user_name: bvisebreee Time: 2022-04-23 22:31:21+00:00 Tweeted: RT @SeffSaid: \"The love in your heart wasn't put there to stay. Love isn't love 'til you give it away.\" - Oscar Hammerstein\n",
      "user_name: Otyjonah Time: 2022-04-23 22:31:15+00:00 Tweeted: @shololaDamilol1 But you're not Kemi and all the Oscar's in Nigerian are married already. Any Oscar that's still si… https://t.co/fPxb46JpLU\n",
      "user_name: Oscar_PLlamas Time: 2022-04-23 22:31:14+00:00 Tweeted: Top 10 en Odds\n",
      "\n",
      "#Eurovision #ESC2022 https://t.co/VXurytwPH3\n",
      "user_name: glkrose Time: 2022-04-23 22:31:14+00:00 Tweeted: RT @RenGeekness: The Face/Off remake should be Pedro Pascal and Oscar Isaac.\n",
      "\n",
      "That's the tweet\n",
      "user_name: darasimi_1 Time: 2022-04-23 22:31:07+00:00 Tweeted: @Jesu_tomiisin @Oscar_Mosh Yeah it most definitely does but when you meet your boss, you just gotta acknowledge.\n",
      "user_name: By_Spampisavre Time: 2022-04-23 22:31:00+00:00 Tweeted: RT @here4marina: While not forgetting, there’s 3 episodes left including a big Carina one, Dani shadowed for Kevin, they went to an Oscar p…\n"
     ]
    },
    {
     "name": "stderr",
     "output_type": "stream",
     "text": [
      "Unexpected parameter: since\n"
     ]
    },
    {
     "name": "stdout",
     "output_type": "stream",
     "text": [
      "user_name: Liam71381136 Time: 2022-04-23 22:31:00+00:00 Tweeted: RT @NeesonAddict65: How does this man not have an Oscar yet?! #liamneeson https://t.co/g9PWWsfZfQ\n",
      "user_name: narnabumbarna Time: 2022-04-23 22:30:55+00:00 Tweeted: RT @gaycomminity: me every wednesday when oscar isaac becomes real https://t.co/4Fi01fyUQI\n",
      "user_name: kjungxoxx_ Time: 2022-04-23 22:30:52+00:00 Tweeted: “Be yourself; everyone else is already taken.”\n",
      "― Oscar Wilde\n",
      "user_name: 2ohB_manuel Time: 2022-04-23 22:30:48+00:00 Tweeted: RT @RayoKasali: In case you're wondering who Kemi Adetiba's prince charming is...\n",
      "\n",
      "He is Oscar Herman-Acker the genius music maestro \"Oscar…\n",
      "user_name: RobLives4Love Time: 2022-04-23 22:30:47+00:00 Tweeted: Billie Eilish really got an Oscar, though! like, good for her!!\n",
      "user_name: SteelerNation92 Time: 2022-04-23 22:30:46+00:00 Tweeted: RT @JLEWFifty: Incredibly proud of Myles Straw, Oscar Mercado and the rest of these #Guardians players for composing themselves in these po…\n",
      "user_name: Ethan_Norof Time: 2022-04-23 22:30:41+00:00 Tweeted: RT @MLBONFOX: Guardians outfielder Oscar Mercado describes what happened when Yankees fans started throwing trash at him on the field &amp; wha…\n",
      "user_name: barak_alubarika Time: 2022-04-23 22:30:39+00:00 Tweeted: @ItsOnlyIfe @Twittaphobic @gideon4christ05 @instablog9ja A whole will Smith \n",
      "Abi that guy think say to win oscar be like headies\n",
      "user_name: IniqueVirus Time: 2022-04-23 22:30:36+00:00 Tweeted: RT @OleleSalvador: BREAKING: Will Smith &amp; Jada might be getting a divorce after the Oscar slapping episode. The couple were already having…\n",
      "user_name: biwhore_ Time: 2022-04-23 22:30:35+00:00 Tweeted: @L0KlSTRANGE OMG YES BESTIE I COULDNT DECIDE 😭😭 i went with steven bc he’s also autistic (confirmed by oscar himsel… https://t.co/D6rFWiAzhT\n",
      "user_name: oscar_gbz Time: 2022-04-23 22:30:29+00:00 Tweeted: Tavares is Maguire in disguise\n",
      "user_name: stateyorkofc Time: 2022-04-23 22:30:18+00:00 Tweeted: Chris Rock Brother Wants Will Smith Oscar Removed https://t.co/rrCcGX1eLJ\n",
      "user_name: A2209H Time: 2022-04-23 22:30:18+00:00 Tweeted: RT @Wick014: Episode 4 of #MoonKnight literally didn’t feature even a single second of Moon Knight &amp; yet it was still an incredible episode…\n",
      "user_name: Speeedy_Sloth Time: 2022-04-23 22:30:16+00:00 Tweeted: Yoooo hey so I commentated the first major I’ve ever attended, commentated a shit ton of other online events and I’… https://t.co/WCyZ4rvoZY\n",
      "user_name: Beckalways Time: 2022-04-23 22:30:12+00:00 Tweeted: RT @SeffSaid: \"The love in your heart wasn't put there to stay. Love isn't love 'til you give it away.\" - Oscar Hammerstein\n"
     ]
    },
    {
     "name": "stderr",
     "output_type": "stream",
     "text": [
      "Unexpected parameter: since\n"
     ]
    },
    {
     "name": "stdout",
     "output_type": "stream",
     "text": [
      "user_name: Marevamae Time: 2022-04-23 22:30:10+00:00 Tweeted: RT @FilmUpdates: Oscar Isaac attended a viewing party for the season finale of Rupaul’s Drag Race at a gay bar in Brooklyn. https://t.co/4e…\n",
      "user_name: KiarakRejass Time: 2022-04-23 22:30:10+00:00 Tweeted: RT @rbrecto: @TheNorthmanFilm I just watched #TheNorthman today, what a absolute epic, a sure Oscar contender, Viking and even Russian hist…\n",
      "user_name: pattinsonsback Time: 2022-04-23 22:30:09+00:00 Tweeted: @willowhalliwell I dont doubt that bc Denzel is one of the best ever, but its so hard for an actor to win an Oscar… https://t.co/1CYceU0NEz\n",
      "user_name: JackBuschur Time: 2022-04-23 22:30:07+00:00 Tweeted: RT @BallySportsCLE: Oscar Mercado describes what happened in the outfield at the end of the game and what caused the whole scene. \n",
      "\n",
      "#ForThe…\n",
      "user_name: BassoHannah Time: 2022-04-23 22:30:06+00:00 Tweeted: RT @blakeruane: According to Oscar Mercado, there was one Yankees fan in left field \"who was celebrating [Steven] Kwan getting hurt\"\n",
      "user_name: wordworkin Time: 2022-04-23 22:30:06+00:00 Tweeted: RT @OscarJetson: West Highland Terrier / Cairn Print Abstract Dog Lover Gift for Her Him, Choice of size 8x10, A4 A3 Wall Art Decor Signed…\n",
      "user_name: Queens801 Time: 2022-04-23 22:30:03+00:00 Tweeted: @NickAdamsinUSA Ron Howard is an Oscar-winning director. You are a two-bit literary hack whose books wouldn't sell… https://t.co/r3bVwGfdbl\n",
      "user_name: bussysword Time: 2022-04-23 22:29:49+00:00 Tweeted: @villanarei I FOUND MY OLD FOLDER OF OSCAR VIDEOS ANS IM DYING\n",
      "user_name: yldmiamor Time: 2022-04-23 22:29:48+00:00 Tweeted: RT @FreeWalt3r: We gotta get @Mariska an Oscar for performance as Olivia Benson. I know we don’t do Oscars for TV but she deserves it. #Law…\n",
      "user_name: blueday245 Time: 2022-04-23 22:29:45+00:00 Tweeted: RT @MLBONFOX: Guardians outfielder Oscar Mercado describes what happened when Yankees fans started throwing trash at him on the field &amp; wha…\n",
      "user_name: BrndnStrssng Time: 2022-04-23 22:29:42+00:00 Tweeted: I say this without any hyperbole and I generally hate talking about movies in oscar speak but Campbell should’ve wo… https://t.co/lMOgV1oF9j\n",
      "user_name: Iuvfiles Time: 2022-04-23 22:29:42+00:00 Tweeted: @wizspo I'm obsessing over oscar isaac you should be fine\n",
      "user_name: Wick014 Time: 2022-04-23 22:29:38+00:00 Tweeted: Episode 4 of #MoonKnight literally didn’t feature even a single second of Moon Knight &amp; yet it was still an incredi… https://t.co/db97V9c7Mc\n",
      "user_name: Dee_Bebegirl Time: 2022-04-23 22:29:35+00:00 Tweeted: @Oscar_Mosh What hummingbird?\n",
      "user_name: CrasFelix Time: 2022-04-23 22:29:33+00:00 Tweeted: RT @babavash: @asemota Or give him a \"mask\". \"Man is least himself when he talks in his own person. Give him a mask, and he will tell you t…\n"
     ]
    },
    {
     "name": "stderr",
     "output_type": "stream",
     "text": [
      "Unexpected parameter: since\n"
     ]
    },
    {
     "name": "stdout",
     "output_type": "stream",
     "text": [
      "user_name: MeantToBeWeems Time: 2022-04-23 22:29:27+00:00 Tweeted: RT @LandesBrock: And the Oscar Award goes to… https://t.co/kxhyrNGYBM\n",
      "user_name: AdFawwad Time: 2022-04-23 22:29:23+00:00 Tweeted: @nathanmarzion Problem is most games they do get the calls so the refs need to be coached and instead award the Osc… https://t.co/i46oZMfkBG\n",
      "user_name: FightTheCovid Time: 2022-04-23 22:29:22+00:00 Tweeted: RT @CardiffAnimFest: Catch up now!\n",
      "\n",
      "Head to our website now to watch the live events from the in-person festival now, including the Q&amp;A wit…\n",
      "user_name: myway2896 Time: 2022-04-23 22:29:19+00:00 Tweeted: Id like someone to explain how the JFK Profile's in Courage Award is different than the Oscar awards? Are they not… https://t.co/fbLjkkjxRx\n",
      "user_name: Jesu_tomiisin Time: 2022-04-23 22:29:16+00:00 Tweeted: @darasimi_1 @Oscar_Mosh Practice makes perfect I guess 😏\n",
      "user_name: RileyRobson_ Time: 2022-04-23 22:29:07+00:00 Tweeted: RT @MLBONFOX: Guardians outfielder Oscar Mercado describes what happened when Yankees fans started throwing trash at him on the field &amp; wha…\n",
      "user_name: 1IK_AKOI Time: 2022-04-23 22:29:05+00:00 Tweeted: @gyaigyimii Challeyy it's painful but not the first Lampard leff, Remires, Oscar, Matic, Juan Mata n co but we alwa… https://t.co/dqtThNhtbI\n",
      "user_name: nastydefault Time: 2022-04-23 22:29:04+00:00 Tweeted: RT @vulture: Oscar Isaac has never been shy about his love for RuPaul's Drag Race https://t.co/yzqDYAS3GR\n",
      "user_name: Smousali1974 Time: 2022-04-23 22:29:03+00:00 Tweeted: RT @SeffSaid: \"The love in your heart wasn't put there to stay. Love isn't love 'til you give it away.\" - Oscar Hammerstein\n",
      "user_name: Sportnewsbuzz Time: 2022-04-23 22:29:02+00:00 Tweeted: Guardians' Oscar Mercado: Yankees Fans Must Be 'Held Accountable' After Throwing Cans https://t.co/lNfnEVD18I #Baseball #MLB #NewYorkYankees\n",
      "user_name: esqatty Time: 2022-04-23 22:29:01+00:00 Tweeted: RT @ZackMeisel: Oscar Mercado, on Yankees fans throwing beer cans at players at the end of the game: https://t.co/gNC6yeaDer\n",
      "user_name: femaIehysterias Time: 2022-04-23 22:29:00+00:00 Tweeted: @kendallhosseini fourth oscar. instantly.\n",
      "user_name: gala_tweets Time: 2022-04-23 22:28:44+00:00 Tweeted: @EddieBrezzy @Evidence_Shongw This point here is the reason why I support a gun free RSA. We aren't psychologically… https://t.co/lH8tdqGa9w\n",
      "user_name: oscar_o_peixe Time: 2022-04-23 22:28:39+00:00 Tweeted: RT @AliAbunimah: None of the US/NATO/EU Ukrainiacs will be sharing this scene of resistance and bravery in the face of barbarity\n",
      "user_name: Larry__Jordan Time: 2022-04-23 22:28:37+00:00 Tweeted: RT @MrsTylerKSR: Oscar Tshiebwe on Shaedon Sharpe testing the draft waters: “Shaedon decides to come back, phew, it will be a different lev…\n"
     ]
    },
    {
     "name": "stderr",
     "output_type": "stream",
     "text": [
      "Unexpected parameter: since\n"
     ]
    },
    {
     "name": "stdout",
     "output_type": "stream",
     "text": [
      "user_name: MVPSantander25 Time: 2022-04-23 22:28:36+00:00 Tweeted: RT @blakeruane: According to Oscar Mercado, there was one Yankees fan in left field \"who was celebrating [Steven] Kwan getting hurt\"\n",
      "user_name: jessnerg Time: 2022-04-23 22:28:32+00:00 Tweeted: RT @FilmUpdates: Oscar Isaac attended a viewing party for the season finale of Rupaul’s Drag Race at a gay bar in Brooklyn. https://t.co/4e…\n",
      "user_name: Oscar_Flores13 Time: 2022-04-23 22:28:31+00:00 Tweeted: RT @Jared_Carrabis: Yankee fans are legit the biggest scumbags in pro sports. Even Judge and Stanton know it. https://t.co/FSAIauuHaA\n",
      "user_name: zanes_mom_ Time: 2022-04-23 22:28:28+00:00 Tweeted: RT @LisaDock84: Can you believe Johhny Depp has never won an oscar 😳😳 probably the most diverse Actor there is.. i guess its better to wond…\n",
      "user_name: Soty_08 Time: 2022-04-23 22:28:26+00:00 Tweeted: RT @TheChalya: My girl got married!!!! 🥰❤️ @kemiadetiba gorgeousness!!!! “My wife” Oscar said, as he took a mesmerized glance at his new br…\n",
      "user_name: adedapoben Time: 2022-04-23 22:28:22+00:00 Tweeted: RT @RayoKasali: In case you're wondering who Kemi Adetiba's prince charming is...\n",
      "\n",
      "He is Oscar Herman-Acker the genius music maestro \"Oscar…\n",
      "user_name: GozoM__ Time: 2022-04-23 22:28:21+00:00 Tweeted: @lfcoscar_ Good night oscar sleep well bro https://t.co/DRRyZ9HYtB\n",
      "user_name: MissAnneThrop1c Time: 2022-04-23 22:28:21+00:00 Tweeted: I miss my kitty Oscar. I would love to see some cat pics. Anyone want to oblige? 🥹🥰 #Caturday #CatsOfTwitter #cats #catsofinstagram\n",
      "user_name: darasimi_1 Time: 2022-04-23 22:28:18+00:00 Tweeted: I just played a proper iMessage darts player,nun of that noob shit, two games no win @Oscar_Mosh you good bruh👏🏿\n",
      "user_name: RachelSvetz Time: 2022-04-23 22:28:18+00:00 Tweeted: RT @ZackMeisel: Oscar Mercado, on Yankees fans throwing beer cans at players at the end of the game: https://t.co/gNC6yeaDer\n",
      "user_name: iagreegocavs31 Time: 2022-04-23 22:28:17+00:00 Tweeted: RT @alys216: Myles Straw and Oscar Mercado have my full defense being such great teammates backing up their ROOKIE teammate when he was hec…\n",
      "user_name: RightWronggs Time: 2022-04-23 22:28:13+00:00 Tweeted: @Oscar_Ohakwe @ChukwukaPrecio6 @bolla_bello Sir your head looks like a sacrificial item\n",
      "\n",
      "I will be glad to mine it\n",
      "user_name: bluetigerart Time: 2022-04-23 22:28:12+00:00 Tweeted: RT @dearbardyb: OSCAR ISAAC WAS AT A GAY BAR IN BROOKLYN WATCHING DRAG RACE WHILE I WAS IN QUEENS AT A GAY BAR WATCHING DRAG RACE IM FIIIII…\n",
      "user_name: Emylie Time: 2022-04-23 22:28:08+00:00 Tweeted: @mostlymartha You can never be overdressed or over educated. Listen to oscar 😉\n",
      "user_name: DeeSpeed716 Time: 2022-04-23 22:28:04+00:00 Tweeted: @Frieddodo @MichaelBensonn It’s not just because of this fight Whyte chin is not good enough. He’s been dropped by… https://t.co/kW2wspI1mh\n"
     ]
    },
    {
     "name": "stderr",
     "output_type": "stream",
     "text": [
      "Unexpected parameter: since\n"
     ]
    },
    {
     "name": "stdout",
     "output_type": "stream",
     "text": [
      "user_name: TanyaJoLeigh Time: 2022-04-23 22:27:57+00:00 Tweeted: RT @CDCgov: Tribal community members, leaders, and partners: Share new videos of Wes Studi, Cherokee elder, Oscar award recipient, and heal…\n",
      "user_name: JamesFluker Time: 2022-04-23 22:27:54+00:00 Tweeted: RT @adambvary: At long last, here is the video of #MoonKnight star Oscar Isaac singing \"gay gay gay gay gay gay gayyyyy\" — and saying that…\n",
      "user_name: dianefrost Time: 2022-04-23 22:27:52+00:00 Tweeted: RT @BallySportsCLE: Oscar Mercado describes what happened in the outfield at the end of the game and what caused the whole scene. \n",
      "\n",
      "#ForThe…\n",
      "user_name: oscar_luker123 Time: 2022-04-23 22:27:47+00:00 Tweeted: RT @cpfcpaddy: I swear he pushed him\n",
      "user_name: Zhohee Time: 2022-04-23 22:27:42+00:00 Tweeted: RT @OleleSalvador: BREAKING: Will Smith &amp; Jada might be getting a divorce after the Oscar slapping episode. The couple were already having…\n",
      "user_name: willdotterweich Time: 2022-04-23 22:27:33+00:00 Tweeted: RT @PopCrave: Oscar Isaac attended a viewing party for the season finale of RuPaul’s #DragRace at a gay bar in Brooklyn. https://t.co/8zjnb…\n",
      "user_name: pendy_45 Time: 2022-04-23 22:27:32+00:00 Tweeted: RT @fuzzyfromyt: Some good perspective from Oscar Mercado. https://t.co/UvR3XmnHWT\n",
      "user_name: sabowsky Time: 2022-04-23 22:27:27+00:00 Tweeted: @FrancoisLoughn1 @kevlarbieska @utagro @dmk1793 @robkhenderson or it's someone having fun, like Russell Brand who adores Oscar Wilde\n",
      "user_name: sls72off Time: 2022-04-23 22:27:26+00:00 Tweeted: RT @JLEWFifty: Incredibly proud of Myles Straw, Oscar Mercado and the rest of these #Guardians players for composing themselves in these po…\n",
      "user_name: DadaAyobami22 Time: 2022-04-23 22:27:23+00:00 Tweeted: RT @TheChalya: My girl got married!!!! 🥰❤️ @kemiadetiba gorgeousness!!!! “My wife” Oscar said, as he took a mesmerized glance at his new br…\n",
      "user_name: TheLuquini Time: 2022-04-23 22:27:22+00:00 Tweeted: @unkeelman87 @RobertB51707688 @MattPassantino I mean, there are 2 issues with his win: 1- he wasn’t even the best s… https://t.co/ISkSYgsnVZ\n",
      "user_name: BrownsTherapy Time: 2022-04-23 22:27:18+00:00 Tweeted: RT @camijustice: \"Don't be an a-hole about it and definitely don't bring violence into it.\"\n",
      "\n",
      "'That's classless': Guardians OF Oscar Mercado…\n",
      "user_name: rap_ulu Time: 2022-04-23 22:27:17+00:00 Tweeted: @Oscar_Mosh na my shine be that bro\n",
      "user_name: moiyayaya Time: 2022-04-23 22:27:14+00:00 Tweeted: i think everyone should redirect their attention from Viola Davis as Michelle Obama to Oscar Isaac’s british accent in Moon Knight\n",
      "user_name: yardbirdsuite84 Time: 2022-04-23 22:27:11+00:00 Tweeted: RT @JLEWFifty: Incredibly proud of Myles Straw, Oscar Mercado and the rest of these #Guardians players for composing themselves in these po…\n"
     ]
    },
    {
     "name": "stderr",
     "output_type": "stream",
     "text": [
      "Unexpected parameter: since\n"
     ]
    },
    {
     "name": "stdout",
     "output_type": "stream",
     "text": [
      "user_name: alinanoelis Time: 2022-04-23 22:27:09+00:00 Tweeted: RT @fuzzyfromyt: Some good perspective from Oscar Mercado. https://t.co/UvR3XmnHWT\n",
      "user_name: dearbardyb Time: 2022-04-23 22:27:06+00:00 Tweeted: OSCAR ISAAC WAS AT A GAY BAR IN BROOKLYN WATCHING DRAG RACE WHILE I WAS IN QUEENS AT A GAY BAR WATCHING DRAG RACE IM FIIIIINE\n",
      "user_name: WhatisReality65 Time: 2022-04-23 22:27:02+00:00 Tweeted: @oscar_mayer11 Just sold my home in Boston!  Looking at Nashville and the Boca Raton area in FLA!!  I can't take an… https://t.co/TfExNPQRFT\n",
      "user_name: nrosanadouglas Time: 2022-04-23 22:27:02+00:00 Tweeted: RT @BallySportsCLE: Oscar Mercado describes what happened in the outfield at the end of the game and what caused the whole scene. \n",
      "\n",
      "#ForThe…\n",
      "user_name: Cool_Beans20 Time: 2022-04-23 22:27:02+00:00 Tweeted: @muichirosenpaii That's Oscar Wilde. \n",
      "\n",
      "The original Irish \"mangaka\" lol and a great inspiration\n",
      "\n",
      "https://t.co/XqrdQV25ia\n",
      "user_name: YourHoldsnapper Time: 2022-04-23 22:26:59+00:00 Tweeted: RT @BallySportsCLE: Oscar Mercado describes what happened in the outfield at the end of the game and what caused the whole scene. \n",
      "\n",
      "#ForThe…\n",
      "user_name: adedapoben Time: 2022-04-23 22:26:57+00:00 Tweeted: RT @MobilePunch: Simi Serenades Newlyweds, Kemi Adetiba, Husband Oscar Heman-Ackah\n",
      "\n",
      "Singer, Simi, took to the stage to serenade newlyweds,…\n",
      "user_name: Wildraar Time: 2022-04-23 22:26:54+00:00 Tweeted: RT @FXMC1957: 23 April 2005. The popular British actor, John Mills, died (aged 97). He appeared in over 120 films including Ice Cold in Ale…\n",
      "user_name: GeoffreyNuttall Time: 2022-04-23 22:26:53+00:00 Tweeted: RT @SchwarzSpectrum: @TheNCSmaster @IGN Like seriously, what the duck is the CEO thinking when many of their Oscar nominations come from an…\n",
      "user_name: JazzNotUrs Time: 2022-04-23 22:26:52+00:00 Tweeted: RT @nightwaynes: The Batman deserves an Oscar for the makeup on Penguin ALONE because I’m still blown away that this is Colin Farrell https…\n",
      "user_name: GPSTEXASBASEBA1 Time: 2022-04-23 22:26:51+00:00 Tweeted: Awesome job Oscar!!! https://t.co/zqomBYHgO7\n",
      "user_name: kowusuboadi Time: 2022-04-23 22:26:48+00:00 Tweeted: Oscar (Inspector Bediako), the man is very deep.🔥\n",
      "user_name: biggles14 Time: 2022-04-23 22:26:45+00:00 Tweeted: RT @MLBONFOX: Guardians outfielder Oscar Mercado describes what happened when Yankees fans started throwing trash at him on the field &amp; wha…\n",
      "user_name: sligondude Time: 2022-04-23 22:26:43+00:00 Tweeted: #UFCVegas51 #UFC #ufc Mike Jackson’s eye miraculously opened up fine after ref ruled DQ. Guy should be given an Oscar.\n",
      "user_name: imblindmurdock Time: 2022-04-23 22:26:40+00:00 Tweeted: RT @FlSTOFKHONSHU: #moonknight spoilers ‼️\n",
      "-\n",
      "-\n",
      "-\n",
      "-\n",
      "oscar isaac has really been acting his ass off in this show like you can SO easily tell…\n"
     ]
    },
    {
     "name": "stderr",
     "output_type": "stream",
     "text": [
      "Unexpected parameter: since\n"
     ]
    },
    {
     "name": "stdout",
     "output_type": "stream",
     "text": [
      "user_name: XXXWassupVro Time: 2022-04-23 22:26:32+00:00 Tweeted: RT @BallySportsCLE: Oscar Mercado describes what happened in the outfield at the end of the game and what caused the whole scene. \n",
      "\n",
      "#ForThe…\n",
      "user_name: queenmkb Time: 2022-04-23 22:26:28+00:00 Tweeted: @PoliticalAnim13 @nytimes Seriously, ever hear of #RomanPolanski they gave him an Oscar 🤦🏾‍♀️ Also, review your his… https://t.co/osAUE9ckgC\n",
      "user_name: tjcowboyup Time: 2022-04-23 22:26:21+00:00 Tweeted: RT @BallySportsCLE: Oscar Mercado describes what happened in the outfield at the end of the game and what caused the whole scene. \n",
      "\n",
      "#ForThe…\n",
      "user_name: Jandr3978 Time: 2022-04-23 22:26:21+00:00 Tweeted: RT @JonathanKeQuan: It has been confirmed that all guests attending future Oscar ceremonies will be issued with one of my new and improved…\n",
      "user_name: sweesse Time: 2022-04-23 22:26:19+00:00 Tweeted: @Milady_Oscar @Grrrrroger Top dans \"I care a lot\"\n",
      "user_name: amgold3nboy Time: 2022-04-23 22:26:17+00:00 Tweeted: @Oscar_Mosh I don’t play games on iMessage anymore but I know you can’t defeat me 😩\n",
      "user_name: oscar_otherside Time: 2022-04-23 22:26:02+00:00 Tweeted: RT @PalBint: How come Israel dropping tear gas from drones onto the third most holiest site in Islam isn’t picked up by the MSM. https://t.…\n",
      "user_name: IanRobinson Time: 2022-04-23 22:25:58+00:00 Tweeted: RT @Writerbeez: Late to the party, I know, but just saw CODA and it was delightful. Real tears (twice). Such a moving and magical take on f…\n",
      "user_name: imblindmurdock Time: 2022-04-23 22:25:53+00:00 Tweeted: RT @RawbertBeef: Oscar Isaac, you are one hell of an actor. #MoonKnight https://t.co/bJnYuBbe1h\n",
      "user_name: bkabak Time: 2022-04-23 22:25:52+00:00 Tweeted: RT @BallySportsCLE: Oscar Mercado describes what happened in the outfield at the end of the game and what caused the whole scene. \n",
      "\n",
      "#ForThe…\n",
      "user_name: taylorlwinter17 Time: 2022-04-23 22:25:51+00:00 Tweeted: @oscar_guerra21 Well you can't feed it cat food!\n",
      "user_name: jason_worme Time: 2022-04-23 22:25:44+00:00 Tweeted: Have you checked out the @DinodawgKingdom solana?\n",
      "💎 Oscar award winning vx artist\n",
      "🔥2d and 3D art with loads of util… https://t.co/nWMQqTvzjt\n",
      "user_name: OnigemoTobi Time: 2022-04-23 22:25:43+00:00 Tweeted: @Oscar_Mosh Your books&lt;&lt;&lt;&lt;\n",
      "user_name: jsilv579 Time: 2022-04-23 22:25:41+00:00 Tweeted: ⁦@olympicaud⁩ 🥊 Remembering Oscar ‘Shotgun’ Albarado (1948-2021) | Boxing News, articles, videos, rankings and resu… https://t.co/ybMojDYlLh\n",
      "user_name: frenchdauphine Time: 2022-04-23 22:25:40+00:00 Tweeted: 3 time oscar winner daniel day lewis should come out of retirement just to to do some weird shit https://t.co/Zxf3T9zq3e\n"
     ]
    },
    {
     "name": "stderr",
     "output_type": "stream",
     "text": [
      "Unexpected parameter: since\n"
     ]
    },
    {
     "name": "stdout",
     "output_type": "stream",
     "text": [
      "user_name: PhoenixParadice Time: 2022-04-23 22:25:40+00:00 Tweeted: Smiling Will Smith is seen for the first time since the Oscar's 👋🏾 \n",
      " https://t.co/bkdUcXzVZ7\n",
      "user_name: MetaFrends Time: 2022-04-23 22:25:39+00:00 Tweeted: @Oscar_NFTs 🙊🦊 thanks 0xb071821E2687db6383aD04D5826033152e5212aC\n",
      "user_name: ChrisOlawale Time: 2022-04-23 22:25:35+00:00 Tweeted: RT @TheChalya: My girl got married!!!! 🥰❤️ @kemiadetiba gorgeousness!!!! “My wife” Oscar said, as he took a mesmerized glance at his new br…\n",
      "user_name: gteazi Time: 2022-04-23 22:25:32+00:00 Tweeted: @Oscar_Mosh I wan challenge you this night\n",
      "user_name: StrugDoyle Time: 2022-04-23 22:25:29+00:00 Tweeted: RT @LisaDock84: Can you believe Johhny Depp has never won an oscar 😳😳 probably the most diverse Actor there is.. i guess its better to wond…\n",
      "user_name: JGrayy_ Time: 2022-04-23 22:25:29+00:00 Tweeted: RT @fuzzyfromyt: Some good perspective from Oscar Mercado. https://t.co/UvR3XmnHWT\n",
      "user_name: Sarahleck5 Time: 2022-04-23 22:25:18+00:00 Tweeted: RT @AdoptionsUk: URGENT please retweet to help Oscar (Sausage) find a home #MANCHESTER #ENGLAND \n",
      "\n",
      "Aged 14!! Poor Oscar was a stray that no…\n",
      "user_name: ore_popoola Time: 2022-04-23 22:25:16+00:00 Tweeted: RT @BellaNaijaWed: It’s all About Kemi Adetiba &amp; Oscar Heman-Ackah’s #UndeniablyYours2022 Trad Today https://t.co/gQz9W6pZsl https://t.co/c…\n",
      "user_name: Burakiosaurus Time: 2022-04-23 22:25:16+00:00 Tweeted: @Sir_Writes_aLot @Razzerian At this point, you could spoil the whole thing and I wouldn’t care 😂\n",
      "\n",
      "I’ll still watch… https://t.co/HCx3TsYfdP\n",
      "user_name: MrMusta05135088 Time: 2022-04-23 22:25:12+00:00 Tweeted: @Veno202 Pirates would never shut anyone out because Ben Cherington is an awful GM that can’t evaluate talent espec… https://t.co/x04tCBOFAk\n",
      "user_name: ronniehowlett3 Time: 2022-04-23 22:25:08+00:00 Tweeted: RT @OscarRunnerUp: Happy Birthday to Academy Award nominee Judy Davis, who turns 67 today! The actress has earned two Oscar nominations in…\n",
      "user_name: Viking_Tower Time: 2022-04-23 22:25:04+00:00 Tweeted: @RonFilipkowski Uranus is in retrograde so the moon is made of milk chocolate. Once you understand that it's easy t… https://t.co/jIYD30MrRB\n",
      "user_name: Danny_21232 Time: 2022-04-23 22:25:04+00:00 Tweeted: RT @BallySportsCLE: Oscar Mercado describes what happened in the outfield at the end of the game and what caused the whole scene. \n",
      "\n",
      "#ForThe…\n",
      "user_name: rejectsuprstar Time: 2022-04-23 22:25:00+00:00 Tweeted: my FYP already feeling cursed. this “same man, different font” comment by what looks like a yt fan of #ofmd really… https://t.co/uM5PxRN0Nv\n",
      "user_name: Larry__Jordan Time: 2022-04-23 22:24:56+00:00 Tweeted: RT @KyleTucker_ATH: RETURNING\n",
      "Sahvir Wheeler\n",
      "CJ Fredrick (injured last year)\n",
      "Jacob Toppin\n",
      "Oscar Tshiebwe \n",
      "Daimion Collins\n",
      "Lance Ware\n",
      "(Keion…\n"
     ]
    },
    {
     "name": "stderr",
     "output_type": "stream",
     "text": [
      "Unexpected parameter: since\n"
     ]
    },
    {
     "name": "stdout",
     "output_type": "stream",
     "text": [
      "user_name: hmlyricsbot Time: 2022-04-23 22:24:54+00:00 Tweeted: i'll be acting through my tears i guess you'll never know that i should win an oscar for this scene i'm in\n",
      "user_name: AZIMIOCOALITI0N Time: 2022-04-23 22:24:51+00:00 Tweeted: RT @high__witness: Kikuyus have finally seen wamepangwa in kenya Kwanza. Before August only few kalenjin led by Oscar Sudi &amp; maybe wetangul…\n",
      "user_name: oscar_dabrowski Time: 2022-04-23 22:24:50+00:00 Tweeted: RT @BoredStackers: First sneak peek revealed. 👀\n",
      "\n",
      "Bored Stackers is a collection of 5,000 unique NFTs with incredible utility and are lookin…\n",
      "user_name: jettica65 Time: 2022-04-23 22:24:45+00:00 Tweeted: RT @SteveCooperEsq: Oscar Franklin Smith’s last-minute reprieve should move citizens to reconsider the #deathpenalty in Tennessee. I rememb…\n",
      "user_name: Tha_Oscar_Mic Time: 2022-04-23 22:24:44+00:00 Tweeted: @SivaTechFromXB Left for sure!\n",
      "user_name: MichaelEtim01 Time: 2022-04-23 22:24:40+00:00 Tweeted: RT @TheChalya: My girl got married!!!! 🥰❤️ @kemiadetiba gorgeousness!!!! “My wife” Oscar said, as he took a mesmerized glance at his new br…\n",
      "user_name: dollylama__ Time: 2022-04-23 22:24:34+00:00 Tweeted: RT @FilmUpdates: Oscar Isaac attended a viewing party for the season finale of Rupaul’s Drag Race at a gay bar in Brooklyn. https://t.co/4e…\n",
      "user_name: macwebb Time: 2022-04-23 22:24:34+00:00 Tweeted: @KendrickPerkins Where does he fit in? 10-15 sure, but top 10 no...And being a primarily one dimensional player, ju… https://t.co/NGZeWcDLT0\n",
      "user_name: clubclemoy Time: 2022-04-23 22:24:28+00:00 Tweeted: king richard a great movie!!! will smith deserved that oscar\n",
      "user_name: mikecokere Time: 2022-04-23 22:24:25+00:00 Tweeted: RT @RayoKasali: In case you're wondering who Kemi Adetiba's prince charming is...\n",
      "\n",
      "He is Oscar Herman-Acker the genius music maestro \"Oscar…\n",
      "user_name: AZIMIOCOALITI0N Time: 2022-04-23 22:24:24+00:00 Tweeted: RT @sabinachege01: Dear Kikuyus  open your eyes wide. Just look at the tribulations Alfred keter is going through, the dictator William Rut…\n",
      "user_name: OscarRunnerUp Time: 2022-04-23 22:24:21+00:00 Tweeted: Happy Birthday to Academy Award nominee Judy Davis, who turns 67 today! The actress has earned two Oscar nomination… https://t.co/kOYUIskfOc\n",
      "user_name: AZIMIOCOALITI0N Time: 2022-04-23 22:24:19+00:00 Tweeted: RT @IgathePollycarp: Alfred Keter tribulations in UDA should act as an eye opener to Kikuyus and other Kenyan tribes following William Ruto…\n",
      "user_name: Cornpop131 Time: 2022-04-23 22:24:16+00:00 Tweeted: RT @TheCatsPause247: Oscar Tshiebwe: “I’m not coming back to win national player of the year. I’m coming back to win a national championshi…\n",
      "user_name: FedExHelp Time: 2022-04-23 22:24:03+00:00 Tweeted: @SugarBooSy Hello, this is Oscar from U.S Social Media. Is there anything that I can help you with? May you DM me f… https://t.co/WdalYOrTyC\n"
     ]
    },
    {
     "name": "stderr",
     "output_type": "stream",
     "text": [
      "Unexpected parameter: since\n"
     ]
    },
    {
     "name": "stdout",
     "output_type": "stream",
     "text": [
      "user_name: Oscar_perezz9 Time: 2022-04-23 22:24:03+00:00 Tweeted: RT @theeternal: i’m picky n i picked u\n",
      "user_name: MasonMora Time: 2022-04-23 22:24:02+00:00 Tweeted: RT @PopCrave: Oscar Isaac attended a viewing party for the season finale of RuPaul’s #DragRace at a gay bar in Brooklyn. https://t.co/8zjnb…\n",
      "user_name: biggrenade Time: 2022-04-23 22:24:00+00:00 Tweeted: This man deserve an oscar 😂😂😂😂 https://t.co/Fb4tXP4Sib\n",
      "user_name: dashiellsilva Time: 2022-04-23 22:23:56+00:00 Tweeted: I have an eternal crush on Peter Ustinov. I made a fan cam it would be like:\n",
      "\n",
      "- The best Poirot.\n",
      "\n",
      "- Only Person to… https://t.co/oCoj1JRMhS\n",
      "user_name: ikramud25073440 Time: 2022-04-23 22:23:49+00:00 Tweeted: @CB1_TheFiend @drunkCATSfan Caleb, can he be a re-class for The current UK team with Oscar et al?\n",
      "user_name: adewoleade Time: 2022-04-23 22:23:42+00:00 Tweeted: RT @TheChalya: My girl got married!!!! 🥰❤️ @kemiadetiba gorgeousness!!!! “My wife” Oscar said, as he took a mesmerized glance at his new br…\n",
      "user_name: OscarJetson Time: 2022-04-23 22:23:40+00:00 Tweeted: West Highland Terrier / Cairn Print Abstract Dog Lover Gift for Her Him, Choice of size 8x10, A4 A3 Wall Art Decor… https://t.co/dBiyhpQFPY\n",
      "user_name: pytashleenicole Time: 2022-04-23 22:23:38+00:00 Tweeted: RT @EzuieQuotes: \"Be yourself; everyone else is taken.\" - Oscar Wilde\n",
      "user_name: Mazza6069 Time: 2022-04-23 22:23:36+00:00 Tweeted: @AmericanPolack @BumpstockBarbie Wilde: \"I wish I had said that!:\n",
      "\n",
      "Whistler: \"You will Oscar, you will!\"\n",
      "user_name: l_e_k_a_n__ Time: 2022-04-23 22:23:23+00:00 Tweeted: GIVE THAT MAN AN OSCAR! https://t.co/mAqUcm2pBH\n",
      "user_name: BillThatguy727 Time: 2022-04-23 22:23:23+00:00 Tweeted: RT @DanGraca: Guardians OF, Oscar Mercado said the beer cans being thrown at him were still full. Find those clowns and ban them from the s…\n",
      "user_name: MattVanFleet Time: 2022-04-23 22:23:22+00:00 Tweeted: Oscar Mercado told reporters that the fan was cheering happily about Steven Kwan getting hurt, which is why he said… https://t.co/mwaPumcS8t\n",
      "user_name: TheFashionRecy1 Time: 2022-04-23 22:23:18+00:00 Tweeted: RT @OscarJetson: Affenpinscher Gift Pastel Painting Print Dog Lover Gift for Her Him, Choice of size 8x10, A4 A3 Wall Art Décor Signed by O…\n",
      "user_name: AnonObx Time: 2022-04-23 22:23:16+00:00 Tweeted: #madelyncline #chasestokes “deuxmoi confirmed that an obx insider said that Madelyn DID get invited to the Vanity F… https://t.co/97SHnNK4rT\n",
      "user_name: Emma_laolu Time: 2022-04-23 22:23:16+00:00 Tweeted: Andrew Garfield is a brilliant actor, I love him so much.\n",
      "Hope he gets his deserved Oscar very soon.\n"
     ]
    },
    {
     "name": "stderr",
     "output_type": "stream",
     "text": [
      "Unexpected parameter: since\n"
     ]
    },
    {
     "name": "stdout",
     "output_type": "stream",
     "text": [
      "user_name: theswirlgirlie Time: 2022-04-23 22:23:11+00:00 Tweeted: RT @FXMC1957: 23 April 2005. The popular British actor, John Mills, died (aged 97). He appeared in over 120 films including Ice Cold in Ale…\n",
      "user_name: punkALieNNatioN Time: 2022-04-23 22:23:11+00:00 Tweeted: RT @lgbtgarfield: oscar isaac is a different kind of hot idk they don't make a lot of men like that\n",
      "user_name: solomon_tech Time: 2022-04-23 22:23:10+00:00 Tweeted: RT @LandesBrock: And the Oscar Award goes to… https://t.co/kxhyrNGYBM\n",
      "user_name: SuperficialPea Time: 2022-04-23 22:23:09+00:00 Tweeted: RT @bvckystjames: can we talk about how sick the guitar riffing in oscar isaac’s hippopotamus song is though because https://t.co/S25Ocgfk35\n",
      "user_name: HousingFirstIRE Time: 2022-04-23 22:23:07+00:00 Tweeted: RT @GoogleExpertUK: @recusant_raja @AndyBurnhamGM @handy_oscar @EndRapeCampaign @MinoguePat @ashall_julie @PeteJacksonGMP @Whistleblowerat…\n",
      "user_name: ajbill79 Time: 2022-04-23 22:22:59+00:00 Tweeted: RT @BallySportsCLE: Oscar Mercado describes what happened in the outfield at the end of the game and what caused the whole scene. \n",
      "\n",
      "#ForThe…\n",
      "user_name: TopPreps Time: 2022-04-23 22:22:58+00:00 Tweeted: RT @Chavezzzz1010: one of my hits from last nights game went 3-4 ‼️@T_DuckBSB @WhitecapBseball @SaintMaryBSB @UTSABSB @Oscar_OsorioIII @san…\n",
      "user_name: kunlelo Time: 2022-04-23 22:22:56+00:00 Tweeted: @freshboygilen @Oscar_Ohakwe @favourdumnoi @ChukwukaPrecio6 @bolla_bello Lool! Bros, you funny DIE!\n",
      "user_name: abmonsta Time: 2022-04-23 22:22:44+00:00 Tweeted: Call me Oscar Proud, because I'm home proud snack #oscarproud #proudfamily #proudsnacks\n",
      "user_name: Twinkle_Fists Time: 2022-04-23 22:22:41+00:00 Tweeted: ARE YOU TELLING ME THIS IS HOW LONG ITS BEEN SINCE BRIE WON HER OSCAR!? https://t.co/vCaeX2nc70\n",
      "user_name: oscar_ffc Time: 2022-04-23 22:22:41+00:00 Tweeted: don’t think he’s a great manager but don’t think hate the bloke https://t.co/O47P5a87tY\n",
      "user_name: oscar_stromback Time: 2022-04-23 22:22:40+00:00 Tweeted: @kandyrew only problem with The dropship one is that People can land on some pois much faster then other\n",
      "user_name: FrankenFert Time: 2022-04-23 22:22:39+00:00 Tweeted: RT @FilmUpdates: Oscar Isaac attended a viewing party for the season finale of Rupaul’s Drag Race at a gay bar in Brooklyn. https://t.co/4e…\n",
      "user_name: KevinInChains Time: 2022-04-23 22:22:38+00:00 Tweeted: RT @FilmUpdates: Oscar Isaac attended a viewing party for the season finale of Rupaul’s Drag Race at a gay bar in Brooklyn. https://t.co/4e…\n",
      "user_name: teenroyaltyx Time: 2022-04-23 22:22:38+00:00 Tweeted: RT @PopCrave: Oscar Isaac attended a viewing party for the season finale of RuPaul’s #DragRace at a gay bar in Brooklyn. https://t.co/8zjnb…\n"
     ]
    },
    {
     "name": "stderr",
     "output_type": "stream",
     "text": [
      "Unexpected parameter: since\n"
     ]
    },
    {
     "name": "stdout",
     "output_type": "stream",
     "text": [
      "user_name: olamidun3 Time: 2022-04-23 22:22:37+00:00 Tweeted: RT @TheChalya: My girl got married!!!! 🥰❤️ @kemiadetiba gorgeousness!!!! “My wife” Oscar said, as he took a mesmerized glance at his new br…\n",
      "user_name: Coach_Russell_K Time: 2022-04-23 22:22:37+00:00 Tweeted: Vancouver Community  2  (Batting: #7 Oscar Moy)\n",
      "Township Blue Sox  0  (Pitching: #7 Seo Jin Yoon)\n",
      "Top of 1st 1 Out,… https://t.co/jDKJcUIIJ4\n",
      "user_name: ShantyUg Time: 2022-04-23 22:22:33+00:00 Tweeted: RT @Naija_PR: Film director, Kemi Adetiba has married her lover, Oscar Heman-Ackah in a civil ceremony today https://t.co/pujhQmJ4DY\n",
      "user_name: zsharmakieumy Time: 2022-04-23 22:22:33+00:00 Tweeted: sometimes it’s simone ashley or andrew garfield or oscar isaac, yesterday it was mason gooding\n",
      "user_name: Quadibaba Time: 2022-04-23 22:22:29+00:00 Tweeted: RT @RitaOnwurah: Turned up for my good sis @kemiadetiba . Congratulations again!Wishing you &amp; Oscar a beautiful married life 🎉🥳❤️ https://t…\n",
      "user_name: lule_edward Time: 2022-04-23 22:22:29+00:00 Tweeted: RT @high__witness: Kikuyus have finally seen wamepangwa in kenya Kwanza. Before August only few kalenjin led by Oscar Sudi &amp; maybe wetangul…\n",
      "user_name: dcross0616 Time: 2022-04-23 22:22:28+00:00 Tweeted: Oscar Isaac’s hippopotamus song has no right to be that catchy https://t.co/R58J99WdZF\n",
      "user_name: IsJayOhKay Time: 2022-04-23 22:22:21+00:00 Tweeted: What’s an acting OSCAR snub/lose you thing that’s deserving of an nomination \n",
      "\n",
      "Mine: https://t.co/fZOqTgn5AF\n",
      "user_name: wellspring_the Time: 2022-04-23 22:22:20+00:00 Tweeted: Some cause happiness wherever they go others whenever they go. - Oscar Wilde #QotD #QuoteOfTheDay\n",
      "user_name: LeaundraRoss Time: 2022-04-23 22:22:03+00:00 Tweeted: RT @BallySportsCLE: Oscar Mercado describes what happened in the outfield at the end of the game and what caused the whole scene. \n",
      "\n",
      "#ForThe…\n",
      "user_name: DamilolaFagbola Time: 2022-04-23 22:22:03+00:00 Tweeted: RT @Glaziang: It’s a transformer dress! We’re blown away by @Zainab__Balogun’s outfit by LadyBeellionaire for Kemi Adetiba &amp; Oscar Heman Ac…\n",
      "user_name: KvngKortez_ Time: 2022-04-23 22:22:03+00:00 Tweeted: RT @TheChalya: My girl got married!!!! 🥰❤️ @kemiadetiba gorgeousness!!!! “My wife” Oscar said, as he took a mesmerized glance at his new br…\n",
      "user_name: jermlikespie Time: 2022-04-23 22:22:02+00:00 Tweeted: RT @vulture: Oscar Isaac has never been shy about his love for RuPaul's Drag Race https://t.co/yzqDYAS3GR\n",
      "user_name: lewieb99test Time: 2022-04-23 22:22:02+00:00 Tweeted: RT @OscarJetson: Horse Wall Art Print, Charcoal Black and White Horse Drawing Print, Horse Owner Gifts, Wall Art Print, Equestrian Artwork,…\n",
      "user_name: lorde_lia_stan Time: 2022-04-23 22:21:53+00:00 Tweeted: winning an oscar for the act i just delivered of pretending to care ab some app to get a free cookie\n"
     ]
    },
    {
     "name": "stderr",
     "output_type": "stream",
     "text": [
      "Unexpected parameter: since\n"
     ]
    },
    {
     "name": "stdout",
     "output_type": "stream",
     "text": [
      "user_name: ibrahim_klc11 Time: 2022-04-23 22:21:53+00:00 Tweeted: https://t.co/aoHCxjWpvj\n",
      "#NFT #NFTs #NFTCommmunity #NFTGiveaway #nftcollector #NFTdrop #NFTcollections #NFTartist… https://t.co/8ZbAiZzOSW\n",
      "user_name: charlibugs Time: 2022-04-23 22:21:50+00:00 Tweeted: RT @BritishGQ: Typically, you're either a beard man or you're not. That rule does not apply to Oscar Isaac. https://t.co/m5SVoDsQgX\n",
      "user_name: waanderluna Time: 2022-04-23 22:21:47+00:00 Tweeted: RT @FilmUpdates: Oscar Isaac attended a viewing party for the season finale of Rupaul’s Drag Race at a gay bar in Brooklyn. https://t.co/4e…\n",
      "user_name: abmonsta Time: 2022-04-23 22:21:46+00:00 Tweeted: Call me Oscar Proud because I am the snack master ;) #proudsnacks #proudfamily #oscarproud #snack\n",
      "user_name: OscarJetson Time: 2022-04-23 22:21:44+00:00 Tweeted: Horse Wall Art Print, Charcoal Black and White Horse Drawing Print, Horse Owner Gifts, Wall Art Print, Equestrian A… https://t.co/kbgOhayc81\n",
      "user_name: iswearimsmart Time: 2022-04-23 22:21:40+00:00 Tweeted: Oscar Isaac blow out my back challenge\n",
      "user_name: AlexPalombo Time: 2022-04-23 22:21:16+00:00 Tweeted: RT @vulture: Oscar Isaac has never been shy about his love for RuPaul's Drag Race https://t.co/yzqDYAS3GR\n",
      "user_name: BaumBoards Time: 2022-04-23 22:21:14+00:00 Tweeted: @ChipJNBA @Oscar__NBA His freshman year ended up giving me so much faith in his floor. We’ve seen him totally embra… https://t.co/vGVIyLQOfk\n",
      "user_name: AttorneyJmark Time: 2022-04-23 22:21:08+00:00 Tweeted: I am now an Oscar Mercado fan. https://t.co/yXzCfmAuXG\n",
      "user_name: piinnnkkyyy Time: 2022-04-23 22:21:02+00:00 Tweeted: I hate when Oscar calls me drunk\n",
      "user_name: saduwa_kelvin Time: 2022-04-23 22:20:58+00:00 Tweeted: RT @OleleSalvador: BREAKING: Will Smith &amp; Jada might be getting a divorce after the Oscar slapping episode. The couple were already having…\n",
      "user_name: mynx63 Time: 2022-04-23 22:20:46+00:00 Tweeted: @ThatPodcastGuy1 Good lord. They won't let this go. They want Will strung up it seems like. \"Oscar slapper Will Smith went grocery shopping\"\n",
      "user_name: ReinaMa85034132 Time: 2022-04-23 22:20:44+00:00 Tweeted: @Javi19704 @KarinaYumigm @carmonilla1974 @Wolf13Mike @oscar_imbernon @antoniooverx @CharlyGonsa @juanfranmar1971… https://t.co/t5l6m9OzSx\n",
      "user_name: ImDunes Time: 2022-04-23 22:20:40+00:00 Tweeted: @RealDLHughley Not at all because US would've slap tf out of Will back..Oscar stage or not sorry..My job won't ever supersede being a man..\n",
      "user_name: HolyCrow9 Time: 2022-04-23 22:20:36+00:00 Tweeted: RT @Schaffrillas: Got some amazing gifts from my PO Box, thanks so much to the fans who sent me these! I can't wait to stare at Oscar every…\n"
     ]
    },
    {
     "name": "stderr",
     "output_type": "stream",
     "text": [
      "Unexpected parameter: since\n"
     ]
    },
    {
     "name": "stdout",
     "output_type": "stream",
     "text": [
      "user_name: HoodLevv Time: 2022-04-23 22:20:35+00:00 Tweeted: Watch \"Wack 100 C0ltured For Extorting Oscar de la Hoya Over Sxx Tape #hassancampbell #wack100\" on YouTube https://t.co/qjxSSTh8pq\n",
      "user_name: chrispechinski Time: 2022-04-23 22:20:35+00:00 Tweeted: RT @fuzzyfromyt: Some good perspective from Oscar Mercado. https://t.co/UvR3XmnHWT\n",
      "user_name: macwebb Time: 2022-04-23 22:20:35+00:00 Tweeted: @FUKBLMantifa @BenStinar Who is he better than? Name one...\n",
      "\n",
      "MJ\n",
      "LeBron\n",
      "Kareem\n",
      "Magic\n",
      "Wilt\n",
      "Bill Russell\n",
      "Bird\n",
      "Tim Dunc… https://t.co/g4aToM1qfM\n",
      "user_name: GabbyTumminia Time: 2022-04-23 22:20:32+00:00 Tweeted: RT @FilmUpdates: Oscar Isaac attended a viewing party for the season finale of Rupaul’s Drag Race at a gay bar in Brooklyn. https://t.co/4e…\n",
      "user_name: mattmmurdoc Time: 2022-04-23 22:20:24+00:00 Tweeted: oscar isaac edits all over my tiktok fyp…lord have mercy we must stay focused brothers\n",
      "user_name: pookie2210 Time: 2022-04-23 22:20:18+00:00 Tweeted: @LiftingHumanity @ozthegoatguy Oscar is so beautiful\n",
      "user_name: oscar_morton Time: 2022-04-23 22:20:12+00:00 Tweeted: RT @AFP: VIDEO: After a two-year hiatus caused by the coronavirus pandemic, the sky over Berck-sur-Mer in France is once again filled with…\n",
      "user_name: timfigueiredo1 Time: 2022-04-23 22:20:02+00:00 Tweeted: RT @BallySportsCLE: Oscar Mercado describes what happened in the outfield at the end of the game and what caused the whole scene. \n",
      "\n",
      "#ForThe…\n",
      "user_name: thomas15kc Time: 2022-04-23 22:19:54+00:00 Tweeted: @normative Oscar in 30 years…. If we aren’t super super fascist by then. A big if!\n",
      "user_name: sophsar115 Time: 2022-04-23 22:19:49+00:00 Tweeted: RT @MindSanchez: @The_Cyrenian @Bender1Benda @SeanPenn Hey @SeanPenn...\n",
      "YOU promised to SMELT YOUR #OSCAR if your homeboy #Zelenskyy didn't…\n",
      "user_name: watta_ever Time: 2022-04-23 22:19:45+00:00 Tweeted: RT @xxchenxiaoxx: Love you Oscar! Please go support his solo career! 😘\n",
      "#chuang2021 #OscarWang https://t.co/5nauspjTUe\n",
      "user_name: bbygyalll_ Time: 2022-04-23 22:19:41+00:00 Tweeted: kevin is so bad at keeping oscar’s secret. 😭\n",
      "user_name: Ms__Pandoras Time: 2022-04-23 22:19:32+00:00 Tweeted: \"The only way to get rid of a temptation is to yield to it.\" - Oscar Wild\n",
      "user_name: vulture Time: 2022-04-23 22:19:31+00:00 Tweeted: Oscar Isaac has never been shy about his love for RuPaul's Drag Race https://t.co/yzqDYAS3GR\n",
      "user_name: RaymondBrown__ Time: 2022-04-23 22:19:30+00:00 Tweeted: A gentleman is one who never hurts anyone's feelings unintentionally. - Oscar Wilde #quote https://t.co/EZyx1fq7sG\n"
     ]
    },
    {
     "name": "stderr",
     "output_type": "stream",
     "text": [
      "Unexpected parameter: since\n"
     ]
    },
    {
     "name": "stdout",
     "output_type": "stream",
     "text": [
      "user_name: millerisaac104 Time: 2022-04-23 22:19:30+00:00 Tweeted: RT @BallySportsCLE: Oscar Mercado describes what happened in the outfield at the end of the game and what caused the whole scene. \n",
      "\n",
      "#ForThe…\n",
      "user_name: RisingBrains001 Time: 2022-04-23 22:19:29+00:00 Tweeted: RT @SeffSaid: \"The love in your heart wasn't put there to stay. Love isn't love 'til you give it away.\" - Oscar Hammerstein\n",
      "user_name: Devin_gain Time: 2022-04-23 22:19:28+00:00 Tweeted: RT @BallySportsCLE: Oscar Mercado describes what happened in the outfield at the end of the game and what caused the whole scene. \n",
      "\n",
      "#ForThe…\n",
      "user_name: seokmin_liker Time: 2022-04-23 22:19:22+00:00 Tweeted: RT @FilmUpdates: Oscar Isaac attended a viewing party for the season finale of Rupaul’s Drag Race at a gay bar in Brooklyn. https://t.co/4e…\n",
      "user_name: Anemone_Paris Time: 2022-04-23 22:19:21+00:00 Tweeted: RT @Variety: Jessica Chastain shares what her #Oscar win means to her, and reveals that she texted with Tammy Fae's children during the cer…\n",
      "user_name: JasperJenkins18 Time: 2022-04-23 22:19:20+00:00 Tweeted: @washingtonpost Pig should have been nominated for an Oscar. The cinematography was amazing.\n",
      "user_name: oscar_otherside Time: 2022-04-23 22:19:20+00:00 Tweeted: RT @olya_rudenko: \"These were the best 40 weeks ever. Our girl is 1 month old now. Daddy got her her first flowers. It's a whole new level…\n",
      "user_name: wordsbycurry Time: 2022-04-23 22:19:18+00:00 Tweeted: RT @TarletonPrez: Love it when our beloved #PurplePoo orient our incoming #Classof2026 Texans and Parents on the tradition of raising the s…\n",
      "user_name: nastydefault Time: 2022-04-23 22:19:16+00:00 Tweeted: GUYS GUYS GUYS @WESTSIDEWYLIE IS STARTING TO THINK OSCAR ISAAC IS HOT BC OF ME IM DOING MY JOB RIGHT\n",
      "user_name: TTMMRR95 Time: 2022-04-23 22:19:12+00:00 Tweeted: RT @PopCrave: Oscar Isaac attended a viewing party for the season finale of RuPaul’s #DragRace at a gay bar in Brooklyn. https://t.co/8zjnb…\n",
      "user_name: Jaeysun Time: 2022-04-23 22:19:10+00:00 Tweeted: @oscar_marco What are you doing up there? 🤠\n",
      "user_name: FamousFive1875 Time: 2022-04-23 22:18:57+00:00 Tweeted: @andydailly @OCSmusic Assai records in Grindley Street mate. Played 3 songs aswell. Had some techy issues so Oscar… https://t.co/FdiXHlBDig\n",
      "user_name: Sebasti32777526 Time: 2022-04-23 22:18:55+00:00 Tweeted: RT @Schaffrillas: Got some amazing gifts from my PO Box, thanks so much to the fans who sent me these! I can't wait to stare at Oscar every…\n",
      "user_name: AlainAgreda21 Time: 2022-04-23 22:18:53+00:00 Tweeted: RT @All4GlobalJust: WEBINAR: Alex Saab, a diplomat without immunity.\n",
      "\n",
      "Apr. 26th at 3pm ET / 12pm PT\n",
      "\n",
      "Oscar Lopez Rivera, Camilla Fabri Saab…\n",
      "user_name: jcooley112891 Time: 2022-04-23 22:18:51+00:00 Tweeted: RT @camijustice: \"Don't be an a-hole about it and definitely don't bring violence into it.\"\n",
      "\n",
      "'That's classless': Guardians OF Oscar Mercado…\n"
     ]
    },
    {
     "name": "stderr",
     "output_type": "stream",
     "text": [
      "Unexpected parameter: since\n"
     ]
    },
    {
     "name": "stdout",
     "output_type": "stream",
     "text": [
      "user_name: oscar_does Time: 2022-04-23 22:18:48+00:00 Tweeted: @MCU_Direct who could’ve guessed\n",
      "user_name: Michael55610166 Time: 2022-04-23 22:18:42+00:00 Tweeted: RT @helenprejean: Tennessee plans to execute Oscar Smith on April 21st. Among several other issues, three jurors from Oscar's trial signed…\n",
      "user_name: MVielhaber Time: 2022-04-23 22:18:39+00:00 Tweeted: RT @camijustice: \"Don't be an a-hole about it and definitely don't bring violence into it.\"\n",
      "\n",
      "'That's classless': Guardians OF Oscar Mercado…\n",
      "user_name: Kingof_Munster Time: 2022-04-23 22:18:36+00:00 Tweeted: @ELangfordMusic The trailers left me wary.. but this is good to hear, Oscar Isaac wouldn't do shite\n",
      "user_name: Oscar_Tequila Time: 2022-04-23 22:18:31+00:00 Tweeted: Me when the table next to me gets their food so I can see if that's what I want to order 👀 #TequilaShots… https://t.co/NAzS1EEGxV\n",
      "user_name: _notoriousBG Time: 2022-04-23 22:18:30+00:00 Tweeted: @TheAcademy y’all wrong for not giving Angela Basset her Oscar for Anna Mae… https://t.co/bm45dFLP5I\n",
      "user_name: m_mbito Time: 2022-04-23 22:18:26+00:00 Tweeted: RT @IgathePollycarp: Alfred Keter tribulations in UDA should act as an eye opener to Kikuyus and other Kenyan tribes following William Ruto…\n",
      "user_name: ore_popoola Time: 2022-04-23 22:18:17+00:00 Tweeted: RT @TheChalya: My girl got married!!!! 🥰❤️ @kemiadetiba gorgeousness!!!! “My wife” Oscar said, as he took a mesmerized glance at his new br…\n",
      "user_name: Nickied14 Time: 2022-04-23 22:18:15+00:00 Tweeted: RT @BallySportsCLE: Oscar Mercado describes what happened in the outfield at the end of the game and what caused the whole scene. \n",
      "\n",
      "#ForThe…\n",
      "user_name: marklxndr Time: 2022-04-23 22:18:12+00:00 Tweeted: @GrrNoise @Had_Oscar_Buzz @mellooyellow is diegetic synthwave a subtitle in a nick winding refn film\n",
      "user_name: Patri6 Time: 2022-04-23 22:18:11+00:00 Tweeted: RT @hereismonroe: Emily Brown and Regé-Jean Page attend the 2022 Vanity Fair Oscar Party hosted by Radhika Jones at Wallis Annenberg Center…\n",
      "user_name: nevermindcreep Time: 2022-04-23 22:18:09+00:00 Tweeted: RT @FilmUpdates: Oscar Isaac attended a viewing party for the season finale of Rupaul’s Drag Race at a gay bar in Brooklyn. https://t.co/4e…\n",
      "user_name: MrAbbey_ Time: 2022-04-23 22:17:58+00:00 Tweeted: RT @OleleSalvador: BREAKING: Will Smith &amp; Jada might be getting a divorce after the Oscar slapping episode. The couple were already having…\n",
      "user_name: rKnEidVhwBdpaRt Time: 2022-04-23 22:17:58+00:00 Tweeted: RT @coldplay: Biutyful arrived when I was playing with different vocal sounds.  We started working on it in the Everyday Life sessions, but…\n",
      "user_name: lule_edward Time: 2022-04-23 22:17:55+00:00 Tweeted: RT @sabinachege01: Dear Kikuyus  open your eyes wide. Just look at the tribulations Alfred keter is going through, the dictator William Rut…\n"
     ]
    },
    {
     "name": "stderr",
     "output_type": "stream",
     "text": [
      "Unexpected parameter: since\n"
     ]
    },
    {
     "name": "stdout",
     "output_type": "stream",
     "text": [
      "user_name: HousingFirstIRE Time: 2022-04-23 22:17:47+00:00 Tweeted: RT @GoogleExpertUK: @ThePeoplesHubUK @HousingFirstUK @AndyBurnhamGM @handy_oscar @EndRapeCampaign @MinoguePat @ashall_julie @PeteJacksonGMP…\n",
      "user_name: chrisdaudi2 Time: 2022-04-23 22:17:45+00:00 Tweeted: RT @itskipchumba_: 'D' in yUDA stands for DICTATORSHIP. Those fighting Alfred Keter are failures and primitive characters like Caleb Kosita…\n",
      "user_name: NeiaLongg Time: 2022-04-23 22:17:43+00:00 Tweeted: @farrfrmrookie Ima call him Oscar proud 🌚\n",
      "user_name: sykurmola Time: 2022-04-23 22:17:43+00:00 Tweeted: @jillllllllll LOL it's an Oscar nomination in a very strong year. \n",
      "\n",
      "Regardless, did you know what she did win? She… https://t.co/tIk77fd1A3\n",
      "user_name: 14Thekid Time: 2022-04-23 22:17:41+00:00 Tweeted: RT @JLEWFifty: Incredibly proud of Myles Straw, Oscar Mercado and the rest of these #Guardians players for composing themselves in these po…\n",
      "user_name: rap_ulu Time: 2022-04-23 22:17:40+00:00 Tweeted: @Oscar_Mosh this is me but in word hunt\n",
      "user_name: lule_edward Time: 2022-04-23 22:17:40+00:00 Tweeted: RT @IgathePollycarp: Alfred Keter tribulations in UDA should act as an eye opener to Kikuyus and other Kenyan tribes following William Ruto…\n",
      "user_name: QuicksandBuddy Time: 2022-04-23 22:17:38+00:00 Tweeted: RT @PopCrave: Oscar Isaac attended a viewing party for the season finale of RuPaul’s #DragRace at a gay bar in Brooklyn. https://t.co/8zjnb…\n",
      "user_name: rKnEidVhwBdpaRt Time: 2022-04-23 22:17:26+00:00 Tweeted: RT @coldplay: One of the things I love most about this record is who we got to make it with.  I loved working with Max - brilliantly suppor…\n",
      "user_name: RawGuz95 Time: 2022-04-23 22:17:25+00:00 Tweeted: RT @fuzzyfromyt: Some good perspective from Oscar Mercado. https://t.co/UvR3XmnHWT\n",
      "user_name: camijustice Time: 2022-04-23 22:17:24+00:00 Tweeted: \"Don't be an a-hole about it and definitely don't bring violence into it.\"\n",
      "\n",
      "'That's classless': Guardians OF Oscar… https://t.co/qUtY7fYalH\n",
      "user_name: effiwatt2cute Time: 2022-04-23 22:17:21+00:00 Tweeted: RT @TheChalya: My girl got married!!!! 🥰❤️ @kemiadetiba gorgeousness!!!! “My wife” Oscar said, as he took a mesmerized glance at his new br…\n",
      "user_name: XKateBishopX Time: 2022-04-23 22:17:15+00:00 Tweeted: @FilmUpdates Last I checked, Daniel Day-Lewis quit acting in 2017.\n",
      "\n",
      "https://t.co/RxZysaGetQ\n",
      "user_name: stressedvirghoe Time: 2022-04-23 22:17:13+00:00 Tweeted: i need beyoncé’s oscar performance injected into my blood stream it’s so beautiful\n",
      "user_name: kavinthecabin Time: 2022-04-23 22:17:08+00:00 Tweeted: @spectorarchive So you're say saying Oscar Isaac is a bad pick for the role?\n"
     ]
    },
    {
     "name": "stderr",
     "output_type": "stream",
     "text": [
      "Unexpected parameter: since\n"
     ]
    },
    {
     "name": "stdout",
     "output_type": "stream",
     "text": [
      "user_name: thehksingh Time: 2022-04-23 22:17:07+00:00 Tweeted: @forycurportrait oscar. just take the oscar now!!! 😍\n",
      "user_name: thehighsign Time: 2022-04-23 22:16:53+00:00 Tweeted: @theannestott Having seen Oscar Isaac in the Public Theater production of Hamlet where he played one scene in no pa… https://t.co/0C87r8Kefs\n",
      "user_name: xinvadersxx Time: 2022-04-23 22:16:51+00:00 Tweeted: RT @BallySportsCLE: Oscar Mercado describes what happened in the outfield at the end of the game and what caused the whole scene. \n",
      "\n",
      "#ForThe…\n",
      "user_name: BuckiNick7 Time: 2022-04-23 22:16:51+00:00 Tweeted: RT @ZackMeisel: The Yankees walk it off against the Guardians, and Yankees fans are showering Oscar Mercado with trash. He threw down his g…\n",
      "user_name: Bex_Oscar Time: 2022-04-23 22:16:44+00:00 Tweeted: RT @teddybearbutchh: little lesbian flag dungarees... https://t.co/OtbBnaS376\n",
      "user_name: Bex_Oscar Time: 2022-04-23 22:16:35+00:00 Tweeted: RT @klqrolines: absolutely terrifying.. people are literally treating this like its a fucking movie https://t.co/UCbhWbjCCY\n",
      "user_name: BlogToMe Time: 2022-04-23 22:16:33+00:00 Tweeted: Jada Pinkett Smith’s talk show briefly addresses Will Smith-Chris Rock Oscar controversy https://t.co/XL2OsOxAEl\n",
      "user_name: KathleenBestor Time: 2022-04-23 22:16:31+00:00 Tweeted: @oscar_danielhz @MLBONFOX @NBCSGiants Thanks!\n",
      "user_name: Oscar_Holguin01 Time: 2022-04-23 22:16:27+00:00 Tweeted: RT @Lionel10Team: MESSI WHAT A GOAL 🔥🔥🔥 https://t.co/j0kpG4V8aD\n",
      "user_name: donddon2 Time: 2022-04-23 22:16:25+00:00 Tweeted: RT @OleleSalvador: BREAKING: Will Smith &amp; Jada might be getting a divorce after the Oscar slapping episode. The couple were already having…\n",
      "user_name: fucking___no Time: 2022-04-23 22:16:20+00:00 Tweeted: RT @lyktheseason: @eurydicesfaith Johnny Depp: first actor to win an Oscar for comedic acting during a real life trial\n",
      "user_name: ChipJNBA Time: 2022-04-23 22:16:19+00:00 Tweeted: @Oscar__NBA His defense is like very very good. And he finds ways to be offensively useful as a role player despite… https://t.co/1aPGJE6L5l\n",
      "user_name: oscar_gbz Time: 2022-04-23 22:16:06+00:00 Tweeted: @LMAsaysno Crikey\n",
      "user_name: Basjot_ Time: 2022-04-23 22:15:59+00:00 Tweeted: RT @BellaNaijaWed: It’s all About Kemi Adetiba &amp; Oscar Heman-Ackah’s #UndeniablyYours2022 Trad Today https://t.co/gQz9W6pZsl https://t.co/c…\n",
      "user_name: toye125 Time: 2022-04-23 22:15:52+00:00 Tweeted: RT @TheChalya: My girl got married!!!! 🥰❤️ @kemiadetiba gorgeousness!!!! “My wife” Oscar said, as he took a mesmerized glance at his new br…\n"
     ]
    },
    {
     "name": "stderr",
     "output_type": "stream",
     "text": [
      "Unexpected parameter: since\n"
     ]
    },
    {
     "name": "stdout",
     "output_type": "stream",
     "text": [
      "user_name: Busola_chocoMys Time: 2022-04-23 22:15:44+00:00 Tweeted: RT @TheChalya: My girl got married!!!! 🥰❤️ @kemiadetiba gorgeousness!!!! “My wife” Oscar said, as he took a mesmerized glance at his new br…\n",
      "user_name: benweissONE Time: 2022-04-23 22:15:38+00:00 Tweeted: Can’t believe we’re so close to the end of Will Smith’s Oscar ban. I mean, that was at least 8.5 years ago\n",
      "user_name: ChandruLozer Time: 2022-04-23 22:15:37+00:00 Tweeted: RT @ulaganayagan1: Kamal sir don't deserve oscar .#Oscar deserves #KamalHaasan sir.💥God of indian cinema 🙏 waiting for #Vikram @ikamalhaasa…\n",
      "user_name: Loganort02 Time: 2022-04-23 22:15:33+00:00 Tweeted: RT @PopCrave: Oscar Isaac attended a viewing party for the season finale of RuPaul’s #DragRace at a gay bar in Brooklyn. https://t.co/8zjnb…\n",
      "user_name: justirare Time: 2022-04-23 22:15:33+00:00 Tweeted: RT @jhbmoments: justin and hailey bieber with oscar https://t.co/KnKS1GJ3CZ\n",
      "user_name: sarahmarie3422 Time: 2022-04-23 22:15:32+00:00 Tweeted: RT @fuzzyfromyt: Some good perspective from Oscar Mercado. https://t.co/UvR3XmnHWT\n",
      "user_name: Davorexy Time: 2022-04-23 22:15:31+00:00 Tweeted: RT @TheChalya: My girl got married!!!! 🥰❤️ @kemiadetiba gorgeousness!!!! “My wife” Oscar said, as he took a mesmerized glance at his new br…\n",
      "user_name: BeeDuoBread Time: 2022-04-23 22:15:26+00:00 Tweeted: RT @MetroUK: Heartstopper has finally landed on Netflix and the secret is out: Nick Nelson’s mother is played by actual Oscar-winner and al…\n",
      "user_name: ChemistRenegade Time: 2022-04-23 22:15:26+00:00 Tweeted: RT @ThatPodcastGuy1: The Oscar's were a month ago\n",
      "user_name: thetobe44 Time: 2022-04-23 22:15:21+00:00 Tweeted: @Oscar_Mosh Very clear 🐐\n",
      "user_name: MattVanFleet Time: 2022-04-23 22:15:21+00:00 Tweeted: RT @fuzzyfromyt: Some good perspective from Oscar Mercado. https://t.co/UvR3XmnHWT\n",
      "user_name: cruzzvictor2312 Time: 2022-04-23 22:15:20+00:00 Tweeted: RT @TexasCollegeBSB: OSCAR PONCE JUST UNLEASHED ON A BASEBALL \n",
      "\n",
      "@UTAMavsBSB \n",
      " https://t.co/X9EiSWVFQO\n",
      "user_name: JordanKrucek Time: 2022-04-23 22:15:17+00:00 Tweeted: RT @fuzzyfromyt: Some good perspective from Oscar Mercado. https://t.co/UvR3XmnHWT\n",
      "user_name: Adamnuh12 Time: 2022-04-23 22:15:04+00:00 Tweeted: RT @MLBONFOX: Guardians outfielder Oscar Mercado describes what happened when Yankees fans started throwing trash at him on the field &amp; wha…\n",
      "user_name: Oscar__NBA Time: 2022-04-23 22:14:59+00:00 Tweeted: @ChipJNBA gonna check it out btw\n"
     ]
    },
    {
     "name": "stderr",
     "output_type": "stream",
     "text": [
      "Unexpected parameter: since\n"
     ]
    },
    {
     "name": "stdout",
     "output_type": "stream",
     "text": [
      "user_name: hlsadmissions Time: 2022-04-23 22:14:54+00:00 Tweeted: RT @Harvard_Law: Congrats to Mussab Ali ’24, Laila Ujayli ’24, and Oscar De Los Santos ’25, Harvard Law recipients of the @PDSoros Fellowsh…\n",
      "user_name: rpalanji Time: 2022-04-23 22:14:52+00:00 Tweeted: @OscarTherapyDog That’s so special. You had a full day, Oscar. ❤️❤️\n",
      "user_name: MichaelPagani Time: 2022-04-23 22:14:52+00:00 Tweeted: RT @JoeTrezz: Guardians RF Oscar Mercado on today's fan incidents:\n",
      "\n",
      "\"You can celebrate your team walking off all you want, but don’t throw…\n",
      "user_name: _httpslail Time: 2022-04-23 22:14:48+00:00 Tweeted: RT @SeffSaid: \"The love in your heart wasn't put there to stay. Love isn't love 'til you give it away.\" - Oscar Hammerstein\n",
      "user_name: iamjack3d Time: 2022-04-23 22:14:45+00:00 Tweeted: RT @LisaDock84: Can you believe Johhny Depp has never won an oscar 😳😳 probably the most diverse Actor there is.. i guess its better to wond…\n",
      "user_name: Oscar__NBA Time: 2022-04-23 22:14:40+00:00 Tweeted: @ChipJNBA whys that\n",
      "user_name: Phamboola Time: 2022-04-23 22:14:37+00:00 Tweeted: RT @lecinema_: Oscar Isaac photographed by Guy Aroch for Esquire, 2022 https://t.co/1RP8BkLAHE\n",
      "user_name: jakkuxd Time: 2022-04-23 22:14:34+00:00 Tweeted: @SiimpIex Gene and Jude’s\n",
      "Portillo’s\n",
      "Oscar Meyer\n",
      "Costco\n",
      "Wrigley Field\n",
      "user_name: stevequaicoe Time: 2022-04-23 22:14:31+00:00 Tweeted: @Oscar_Ohakwe @favourdumnoi @ChukwukaPrecio6 @bolla_bello We still dey wait for receipts\n",
      "user_name: NeiaLongg Time: 2022-04-23 22:14:28+00:00 Tweeted: @farrfrmrookie Doing all this just to name the baby Oscar I cannot stand you\n",
      "user_name: TheBlackFish00 Time: 2022-04-23 22:14:27+00:00 Tweeted: @oscarakermo gm Oscar\n",
      "user_name: idkelisa_ Time: 2022-04-23 22:14:23+00:00 Tweeted: RT @FilmUpdates: Oscar Isaac attended a viewing party for the season finale of Rupaul’s Drag Race at a gay bar in Brooklyn. https://t.co/4e…\n",
      "user_name: FreeWalt3r Time: 2022-04-23 22:14:18+00:00 Tweeted: We gotta get @Mariska an Oscar for performance as Olivia Benson. I know we don’t do Oscars for TV but she deserves it. #LawAndOrderSVU\n",
      "user_name: celinacec Time: 2022-04-23 22:14:15+00:00 Tweeted: RT @biwhore_: YUMMY OSCAR https://t.co/xpwMeCK9s0\n",
      "user_name: ajanacollinsss Time: 2022-04-23 22:14:12+00:00 Tweeted: @Oscar_Mosh 😂okay,just saying tho\n"
     ]
    },
    {
     "name": "stderr",
     "output_type": "stream",
     "text": [
      "Unexpected parameter: since\n",
      "Rate limit reached. Sleeping for: 126\n"
     ]
    },
    {
     "name": "stdout",
     "output_type": "stream",
     "text": [
      "user_name: edwardfinley63f Time: 2022-04-23 22:14:10+00:00 Tweeted: @oscar_mayer11 Great I left, North Highlands CA. In 1996 for Miami Oklahoma. Never looked back.\n",
      "user_name: Danny_McDanster Time: 2022-04-23 22:14:06+00:00 Tweeted: RT @MLBONFOX: Guardians outfielder Oscar Mercado describes what happened when Yankees fans started throwing trash at him on the field &amp; wha…\n",
      "user_name: quemaguante2 Time: 2022-04-23 22:14:04+00:00 Tweeted: RT @MLBONFOX: Guardians outfielder Oscar Mercado describes what happened when Yankees fans started throwing trash at him on the field &amp; wha…\n",
      "user_name: Oscar_Tequila Time: 2022-04-23 22:13:59+00:00 Tweeted: Birds of a Leather flock together... Or somethin like that 🤷🏽‍♂️ #SelfPortrait #TequilaShots @ Los Angeles, Califor… https://t.co/Sg2zhfjd7A\n",
      "user_name: metabr0h Time: 2022-04-23 22:13:47+00:00 Tweeted: RT @__femb0t: &gt; 1969 plan to build a second, nuke-proof Manhattan below New York City Oscar Newman\n",
      "\n",
      "GeoFront in Neon Genesis Evangelion htt…\n",
      "user_name: oscar_ftls Time: 2022-04-23 22:13:46+00:00 Tweeted: RT @ScatterplotDog: Sitting next to you in the theater and he gives you this look, WYD? @RainCoug @thefuzzfactory https://t.co/2GsbMEngrT\n",
      "user_name: Oscar_rv20 Time: 2022-04-23 22:13:43+00:00 Tweeted: RT @DynamoSuperX: WHAT THE HELL IS HAPPENING??? https://t.co/uAVAxZGhxT\n",
      "user_name: aubry_pete Time: 2022-04-23 22:13:40+00:00 Tweeted: RT @BallySportsCLE: Oscar Mercado describes what happened in the outfield at the end of the game and what caused the whole scene. \n",
      "\n",
      "#ForThe…\n",
      "user_name: thenftcolony Time: 2022-04-23 22:13:33+00:00 Tweeted: Oscar Isaac - Moon Knight 🌛\n",
      "By (Instagram): gabriel.soareszz\n",
      "•\n",
      "#moonknight #oscarisaac #disneyplus #marvel #3dart https://t.co/KYl3UGFHwS\n",
      "user_name: Baitong83735448 Time: 2022-04-23 22:13:27+00:00 Tweeted: RT @oscartaika: when i say “i love men” i mean “i love oscar isaac and taika waititi only” https://t.co/mvJr4EeI1M\n",
      "user_name: naelnord Time: 2022-04-23 22:13:24+00:00 Tweeted: Moon Knight doing a bit about avatar with Oscar isaac’s innocent persona referencing the movie and then later clari… https://t.co/Uq4y6WxAC7\n",
      "user_name: Mr_Yinkuse Time: 2022-04-23 22:13:21+00:00 Tweeted: RT @TheChalya: My girl got married!!!! 🥰❤️ @kemiadetiba gorgeousness!!!! “My wife” Oscar said, as he took a mesmerized glance at his new br…\n",
      "user_name: SimonShiloane Time: 2022-04-23 22:13:19+00:00 Tweeted: RT @7hzExperience: Mondays belong to REAL House Music! ❤️🏡🎶\n",
      "\n",
      "God Listen - Oscar Mbo, LebtoniQ &amp; Mega BT 🔥🙌🏿 https://t.co/BUMfTJW4zw\n",
      "user_name: RobbieForde82 Time: 2022-04-23 22:13:12+00:00 Tweeted: @DamonMartin Get that man an Oscar!!\n",
      "user_name: T4_R6S Time: 2022-04-23 22:13:07+00:00 Tweeted: @rowland_oscar @afcbdani It’s gamesmanship can’t really blame players for doing so, definitely happened both games.… https://t.co/LS3jv4W1tI\n"
     ]
    },
    {
     "name": "stderr",
     "output_type": "stream",
     "text": [
      "Unexpected parameter: since\n"
     ]
    },
    {
     "name": "stdout",
     "output_type": "stream",
     "text": [
      "user_name: williams_philly Time: 2022-04-23 22:13:06+00:00 Tweeted: @chupacabraweed no oscar it was so good\n",
      "user_name: NotZachTerrell Time: 2022-04-23 22:13:05+00:00 Tweeted: @lilly_wachowski \"Next up, Lot 47, the Oscar that Joe Pantoliano should have won for Bound\"\n",
      "user_name: FigFlower7 Time: 2022-04-23 22:13:03+00:00 Tweeted: RT @goraya_: Pervaiz Ilahi wins an Oscar for best male actor. 🤴 https://t.co/jsnmc0ixMr\n",
      "user_name: _sauce_slut Time: 2022-04-23 22:12:59+00:00 Tweeted: RT @MediumSizeMeech: I want to see a film about this benefactor and his niece who plans to screw him over but it turns out not only is he b…\n",
      "user_name: Tha_Oscar_Mic Time: 2022-04-23 22:12:50+00:00 Tweeted: Sweet baby Bort 😻 https://t.co/MONKBNnbtd\n",
      "user_name: kjthejournalist Time: 2022-04-23 22:12:41+00:00 Tweeted: RT @high__witness: Kikuyus have finally seen wamepangwa in kenya Kwanza. Before August only few kalenjin led by Oscar Sudi &amp; maybe wetangul…\n",
      "user_name: CurlsNBakes Time: 2022-04-23 22:12:40+00:00 Tweeted: @CallMeKatFOX I miss Oscar and I hate Nick.\n",
      "user_name: WESTSTIGERS05 Time: 2022-04-23 22:12:36+00:00 Tweeted: RT @EzuieQuotes: \"Be yourself; everyone else is taken.\" - Oscar Wilde\n",
      "user_name: theannestott Time: 2022-04-23 22:12:30+00:00 Tweeted: @thehighsign Was so moved when I heard Jessica Chastain told the director of Marriage Story she was fine doing any… https://t.co/7iCZtzF8bg\n",
      "user_name: shanyia_west Time: 2022-04-23 22:12:28+00:00 Tweeted: RT @PopCrave: Oscar Isaac attended a viewing party for the season finale of RuPaul’s #DragRace at a gay bar in Brooklyn. https://t.co/8zjnb…\n",
      "user_name: itsdiesha Time: 2022-04-23 22:12:25+00:00 Tweeted: RT @EzuieQuotes: \"Be yourself; everyone else is taken.\" - Oscar Wilde\n",
      "user_name: Josie0620 Time: 2022-04-23 22:12:17+00:00 Tweeted: RT @BallySportsCLE: Oscar Mercado describes what happened in the outfield at the end of the game and what caused the whole scene. \n",
      "\n",
      "#ForThe…\n",
      "user_name: drummond_trade Time: 2022-04-23 22:12:14+00:00 Tweeted: Big brothers Myles and Oscar standing up for little brother Kwanfather. I love this team man 🥺💜 https://t.co/zNsRsq5PSg\n",
      "user_name: JoeTrezz Time: 2022-04-23 22:12:12+00:00 Tweeted: Guardians RF Oscar Mercado on today's fan incidents:\n",
      "\n",
      "\"You can celebrate your team walking off all you want, but do… https://t.co/gStwJfBROm\n",
      "user_name: RedDemon_Tennis Time: 2022-04-23 22:12:12+00:00 Tweeted: Red Demons 🥈🎾 as a Team at Garden City invitational Open Draw \n",
      "Oscar Alvarado Martinez 🥉\n",
      "Ignacio Bellido/Hayden Car… https://t.co/WZXWbFEdUk\n"
     ]
    },
    {
     "name": "stderr",
     "output_type": "stream",
     "text": [
      "Unexpected parameter: since\n"
     ]
    },
    {
     "name": "stdout",
     "output_type": "stream",
     "text": [
      "user_name: 5starchiic Time: 2022-04-23 22:11:52+00:00 Tweeted: @RealDLHughley I agree! Did us an injustice and everyone that came before him that won an Oscar!\n",
      "user_name: cisco_kid17 Time: 2022-04-23 22:11:50+00:00 Tweeted: RT @fuzzyfromyt: Some good perspective from Oscar Mercado. https://t.co/UvR3XmnHWT\n",
      "user_name: Homomayhem101 Time: 2022-04-23 22:11:41+00:00 Tweeted: RT @stevie_mat: I'm just telling y'all now, I run into Oscar Isaac at a gay bar, I'm sucking his dick on sight. Ain't even gotta hide in th…\n",
      "user_name: UsamimiKamenwa Time: 2022-04-23 22:11:39+00:00 Tweeted: RT @sentai_ebooks: Best Picture Award winner at the 94th Annual Academy Awards (Oscar’s) https://t.co/SICiOR0b3U\n",
      "user_name: omarviIIanueva Time: 2022-04-23 22:11:31+00:00 Tweeted: RT @LanaGallery: she should’ve been handed her grammy and oscar IMMEDIATELY\n",
      "user_name: ForceWitU2 Time: 2022-04-23 22:11:30+00:00 Tweeted: RT @blakeruane: According to Oscar Mercado, there was one Yankees fan in left field \"who was celebrating [Steven] Kwan getting hurt\"\n",
      "user_name: guapodelhomo Time: 2022-04-23 22:11:30+00:00 Tweeted: RT @MediumSizeMeech: I want to see a film about this benefactor and his niece who plans to screw him over but it turns out not only is he b…\n",
      "user_name: rowland_oscar Time: 2022-04-23 22:11:28+00:00 Tweeted: @T4_R6S @afcbdani Yh ref was very poor, kept giving very soft fouls that disrupted play. Got a few things wrong, ju… https://t.co/GE7DRxHP02\n",
      "user_name: Bex_Oscar Time: 2022-04-23 22:11:19+00:00 Tweeted: RT @cZENlTSU: nick nelson as golden retrievers (because somebody had to do it) : a thread https://t.co/gpdf9uGevi\n",
      "user_name: mgv23nyc Time: 2022-04-23 22:11:14+00:00 Tweeted: RT @JLEWFifty: Incredibly proud of Myles Straw, Oscar Mercado and the rest of these #Guardians players for composing themselves in these po…\n",
      "user_name: Scoshedan Time: 2022-04-23 22:11:14+00:00 Tweeted: RT @JLEWFifty: Incredibly proud of Myles Straw, Oscar Mercado and the rest of these #Guardians players for composing themselves in these po…\n",
      "user_name: Sir_Writes_aLot Time: 2022-04-23 22:11:05+00:00 Tweeted: @Maaaarvs @Burakiosaurus @Razzerian https://t.co/tvK7ayuiUV. You underestimate the man 🤣\n",
      "user_name: downtown7thave Time: 2022-04-23 22:11:04+00:00 Tweeted: RT @DanGraca: Guardians OF, Oscar Mercado said the beer cans being thrown at him were still full. Find those clowns and ban them from the s…\n",
      "user_name: ThatPodcastGuy1 Time: 2022-04-23 22:11:03+00:00 Tweeted: The Oscar's were a month ago https://t.co/Pfm3BGGF0J\n",
      "user_name: radio_klub Time: 2022-04-23 22:11:03+00:00 Tweeted: DMIX by Oscar L // Saturday : 9pm on https://t.co/5O3cNAhcYV https://t.co/PorUBsK83y\n"
     ]
    },
    {
     "name": "stderr",
     "output_type": "stream",
     "text": [
      "Unexpected parameter: since\n"
     ]
    },
    {
     "name": "stdout",
     "output_type": "stream",
     "text": [
      "user_name: Rubberducky6935 Time: 2022-04-23 22:11:02+00:00 Tweeted: RT @JLEWFifty: Incredibly proud of Myles Straw, Oscar Mercado and the rest of these #Guardians players for composing themselves in these po…\n",
      "user_name: GCDarrion Time: 2022-04-23 22:10:58+00:00 Tweeted: @mroselli13 @skimendoza @HaterMuse Okay Oscar I can see your reasoning but Jerry West over Curry I don’t know about that one 🤷🏽‍♂️\n",
      "user_name: TopherFrance Time: 2022-04-23 22:10:55+00:00 Tweeted: RT @FilmUpdates: Oscar Isaac attended a viewing party for the season finale of Rupaul’s Drag Race at a gay bar in Brooklyn. https://t.co/4e…\n",
      "user_name: HandsomeAlex111 Time: 2022-04-23 22:10:51+00:00 Tweeted: 🌹 “Be yourself; everyone else is already taken.”\n",
      "— Oscar Wilde\n",
      "\n",
      "👉 Check out this ALEXANDER 👇 on @opensea… https://t.co/Pr7wXoE26b\n",
      "user_name: Justdoit_AIex Time: 2022-04-23 22:10:47+00:00 Tweeted: RT @fuzzyfromyt: Some good perspective from Oscar Mercado. https://t.co/UvR3XmnHWT\n",
      "user_name: ajokeola__ Time: 2022-04-23 22:10:35+00:00 Tweeted: RT @RayoKasali: In case you're wondering who Kemi Adetiba's prince charming is...\n",
      "\n",
      "He is Oscar Herman-Acker the genius music maestro \"Oscar…\n",
      "user_name: thejumbles Time: 2022-04-23 22:10:32+00:00 Tweeted: My review of Moon Knight: Oscar Isaac is having fun being a goofy boy and that’s nice!\n",
      "user_name: Oscar_Gomez58 Time: 2022-04-23 22:10:29+00:00 Tweeted: RT @pollen196: Dababy and ezra miller running around terrorizing the US like green goblin and electro\n",
      "user_name: SmugKaiSupreme Time: 2022-04-23 22:10:26+00:00 Tweeted: RT @DevsMastani: Did you know that? Tyler Hoechlin's first DC role wasn't as Superman, in DC's \"Paradox\" label Road to Perdition in 2002, h…\n",
      "user_name: embut543 Time: 2022-04-23 22:10:21+00:00 Tweeted: @Atheist_Bot Oscar Wilde didn't live to see the 20th Century.  What a shame!\n",
      "user_name: mikedewol Time: 2022-04-23 22:10:21+00:00 Tweeted: RT @BellaNaijaWed: It’s all About Kemi Adetiba &amp; Oscar Heman-Ackah’s #UndeniablyYours2022 Trad Today https://t.co/gQz9W6pZsl https://t.co/c…\n",
      "user_name: Albertspanner Time: 2022-04-23 22:10:18+00:00 Tweeted: @RonjaTheSpaniel @SpringerSaint @Mountain_Pals @moonlightmegan1 @LabradorPeggy @Oscar_Spaniel Nanight sweetie xx\n",
      "user_name: YoBoyBuxaplenty Time: 2022-04-23 22:10:13+00:00 Tweeted: @DespotDarko Lmaaao!! 🤣 I completely understand. That just proves my point tho. It’s all subjective. The film commu… https://t.co/LQB81T7maf\n",
      "user_name: lordhenryIII Time: 2022-04-23 22:10:10+00:00 Tweeted: RT @OleleSalvador: BREAKING: Will Smith &amp; Jada might be getting a divorce after the Oscar slapping episode. The couple were already having…\n",
      "user_name: alitadiposho1 Time: 2022-04-23 22:10:08+00:00 Tweeted: RT @lgbtgarfield: oscar isaac is a different kind of hot idk they don't make a lot of men like that\n"
     ]
    },
    {
     "name": "stderr",
     "output_type": "stream",
     "text": [
      "Unexpected parameter: since\n"
     ]
    },
    {
     "name": "stdout",
     "output_type": "stream",
     "text": [
      "user_name: pebbleas Time: 2022-04-23 22:09:53+00:00 Tweeted: RT @blakeruane: According to Oscar Mercado, there was one Yankees fan in left field \"who was celebrating [Steven] Kwan getting hurt\"\n",
      "user_name: RonjaTheSpaniel Time: 2022-04-23 22:09:53+00:00 Tweeted: @Albertspanner @SpringerSaint @Mountain_Pals @moonlightmegan1 @LabradorPeggy @Oscar_Spaniel Night night 😴🐾🐶\n",
      "user_name: custardpi314159 Time: 2022-04-23 22:09:49+00:00 Tweeted: RT @BallySportsCLE: Oscar Mercado describes what happened in the outfield at the end of the game and what caused the whole scene. \n",
      "\n",
      "#ForThe…\n",
      "user_name: susannora32 Time: 2022-04-23 22:09:42+00:00 Tweeted: RT @BallySportsCLE: Oscar Mercado describes what happened in the outfield at the end of the game and what caused the whole scene. \n",
      "\n",
      "#ForThe…\n",
      "user_name: BermudaGirl4 Time: 2022-04-23 22:09:42+00:00 Tweeted: RT @BallySportsCLE: Oscar Mercado describes what happened in the outfield at the end of the game and what caused the whole scene. \n",
      "\n",
      "#ForThe…\n",
      "user_name: kwontent Time: 2022-04-23 22:09:39+00:00 Tweeted: RT @FilmUpdates: Oscar Isaac attended a viewing party for the season finale of Rupaul’s Drag Race at a gay bar in Brooklyn. https://t.co/4e…\n",
      "user_name: Omoyewamide Time: 2022-04-23 22:09:37+00:00 Tweeted: RT @EzuieQuotes: \"Be yourself; everyone else is taken.\" - Oscar Wilde\n",
      "user_name: GoldrickGwen Time: 2022-04-23 22:09:37+00:00 Tweeted: @deric_tv Taken this evening this is Oscar he’s 12 and I can’t figure out how his war stayed like that for 2 hours 😂 https://t.co/CAfanHYwqT\n",
      "user_name: sawe_wakili Time: 2022-04-23 22:09:35+00:00 Tweeted: RT @IgathePollycarp: Alfred Keter tribulations in UDA should act as an eye opener to Kikuyus and other Kenyan tribes following William Ruto…\n",
      "user_name: evaobeirnee Time: 2022-04-23 22:09:31+00:00 Tweeted: RT @PopCrave: Oscar Isaac attended a viewing party for the season finale of RuPaul’s #DragRace at a gay bar in Brooklyn. https://t.co/8zjnb…\n",
      "user_name: Mr_Yinkuse Time: 2022-04-23 22:09:25+00:00 Tweeted: RT @MobilePunch: Simi Serenades Newlyweds, Kemi Adetiba, Husband Oscar Heman-Ackah\n",
      "\n",
      "Singer, Simi, took to the stage to serenade newlyweds,…\n",
      "user_name: nkxnnia Time: 2022-04-23 22:09:22+00:00 Tweeted: RT @TheChalya: My girl got married!!!! 🥰❤️ @kemiadetiba gorgeousness!!!! “My wife” Oscar said, as he took a mesmerized glance at his new br…\n",
      "user_name: T4_R6S Time: 2022-04-23 22:09:22+00:00 Tweeted: @rowland_oscar @afcbdani Yeah, I think it’s a different ref than last time but the one today did seem to be strange… https://t.co/Ud0qthex82\n",
      "user_name: Maaaarvs Time: 2022-04-23 22:09:13+00:00 Tweeted: @Sir_Writes_aLot @Burakiosaurus @Razzerian I dunno, I think Oscar Isaac is making the same mistake a lot of America… https://t.co/uGLzeOHma0\n",
      "user_name: smonahan0129 Time: 2022-04-23 22:09:06+00:00 Tweeted: @CharlieRicker24 @Fitzmagic14 @MLBONFOX Straw climbed the fence to say something because when kwan got hurt they we… https://t.co/JHgiPxz911\n"
     ]
    },
    {
     "name": "stderr",
     "output_type": "stream",
     "text": [
      "Unexpected parameter: since\n"
     ]
    },
    {
     "name": "stdout",
     "output_type": "stream",
     "text": [
      "user_name: RonakShah Time: 2022-04-23 22:09:05+00:00 Tweeted: RT @EzuieQuotes: \"Be yourself; everyone else is taken.\" - Oscar Wilde\n",
      "user_name: Bex_Oscar Time: 2022-04-23 22:09:02+00:00 Tweeted: RT @RaptorBreath: this spot reserved for ppl that twerk at babies https://t.co/hOhZ2sK3Ak\n",
      "user_name: Omoyewamide Time: 2022-04-23 22:09:02+00:00 Tweeted: RT @SeffSaid: \"The love in your heart wasn't put there to stay. Love isn't love 'til you give it away.\" - Oscar Hammerstein\n",
      "user_name: _gboyega__ Time: 2022-04-23 22:09:02+00:00 Tweeted: @Oscar_Mosh Let’s see.\n",
      "user_name: boners Time: 2022-04-23 22:08:59+00:00 Tweeted: RT @FilmUpdates: Oscar Isaac attended a viewing party for the season finale of Rupaul’s Drag Race at a gay bar in Brooklyn. https://t.co/4e…\n",
      "user_name: dameey_ Time: 2022-04-23 22:08:55+00:00 Tweeted: RT @TheChalya: My girl got married!!!! 🥰❤️ @kemiadetiba gorgeousness!!!! “My wife” Oscar said, as he took a mesmerized glance at his new br…\n",
      "user_name: AshishA74053937 Time: 2022-04-23 22:08:55+00:00 Tweeted: @shahidkapoor what a performance sir. If it was upto me, this should be Oscar's entry for this year.… https://t.co/zvCl3BiaHQ\n",
      "user_name: kiiingIfedayo Time: 2022-04-23 22:08:53+00:00 Tweeted: RT @OleleSalvador: BREAKING: Will Smith &amp; Jada might be getting a divorce after the Oscar slapping episode. The couple were already having…\n",
      "user_name: Dhensel2233 Time: 2022-04-23 22:08:51+00:00 Tweeted: RT @JLEWFifty: Incredibly proud of Myles Straw, Oscar Mercado and the rest of these #Guardians players for composing themselves in these po…\n",
      "user_name: cdplayuh Time: 2022-04-23 22:08:49+00:00 Tweeted: Today my family is celebrating my grandmas 90’s birthday at this restaurant (it’s a surprise party) we like to go t… https://t.co/0okdvBgSBP\n",
      "user_name: JhimeBac Time: 2022-04-23 22:08:45+00:00 Tweeted: RT @idiotisinctrl: Oscar Isaac invited acting https://t.co/evNET6Z99e\n",
      "user_name: Echecrates Time: 2022-04-23 22:08:40+00:00 Tweeted: RT @TheChalya: My girl got married!!!! 🥰❤️ @kemiadetiba gorgeousness!!!! “My wife” Oscar said, as he took a mesmerized glance at his new br…\n",
      "user_name: Dewidink Time: 2022-04-23 22:08:37+00:00 Tweeted: David Haye look like Oscar off Shark Tale\n",
      "user_name: SeanPaulCBB Time: 2022-04-23 22:08:36+00:00 Tweeted: RT @Bracketologist3: A brand new podcast is out. In this episode @SeanPaulCBB and I discuss Jay Wright’s retirement and legacy. We also dis…\n",
      "user_name: epmeles Time: 2022-04-23 22:08:30+00:00 Tweeted: RT @BallySportsCLE: Oscar Mercado describes what happened in the outfield at the end of the game and what caused the whole scene. \n",
      "\n",
      "#ForThe…\n"
     ]
    },
    {
     "name": "stderr",
     "output_type": "stream",
     "text": [
      "Unexpected parameter: since\n"
     ]
    },
    {
     "name": "stdout",
     "output_type": "stream",
     "text": [
      "user_name: Galacticcloud Time: 2022-04-23 22:08:28+00:00 Tweeted: i want 2 hug Pedro pascal and Oscar Isaac they are everything 2 me\n",
      "user_name: _gboyega__ Time: 2022-04-23 22:08:24+00:00 Tweeted: @Oscar_Mosh Just darts?\n",
      "user_name: LemassonOrtiz25 Time: 2022-04-23 22:08:22+00:00 Tweeted: RT @mrbrianrowe: How did Requiem for a Dream receive only one Oscar nomination https://t.co/WbhNz7Kjd4\n",
      "user_name: oscar_gbz Time: 2022-04-23 22:08:17+00:00 Tweeted: RT @it_meirl_bot: meirl https://t.co/IKpEhY2DxM https://t.co/ExGr1DNMzU\n",
      "user_name: vikkylandar Time: 2022-04-23 22:08:10+00:00 Tweeted: RT @RayoKasali: In case you're wondering who Kemi Adetiba's prince charming is...\n",
      "\n",
      "He is Oscar Herman-Acker the genius music maestro \"Oscar…\n",
      "user_name: candyflakesz Time: 2022-04-23 22:08:07+00:00 Tweeted: RT @OleleSalvador: BREAKING: Will Smith &amp; Jada might be getting a divorce after the Oscar slapping episode. The couple were already having…\n",
      "user_name: i_warminghoney Time: 2022-04-23 22:08:07+00:00 Tweeted: RT @FilmUpdates: Oscar Isaac attended a viewing party for the season finale of Rupaul’s Drag Race at a gay bar in Brooklyn. https://t.co/4e…\n",
      "user_name: Pamela79884341 Time: 2022-04-23 22:08:01+00:00 Tweeted: RT @BallySportsCLE: Oscar Mercado describes what happened in the outfield at the end of the game and what caused the whole scene. \n",
      "\n",
      "#ForThe…\n",
      "user_name: rpalanji Time: 2022-04-23 22:07:57+00:00 Tweeted: @OscarTherapyDog That picture of you, Oscar, in front of the table is exceptional. You guys are amazing.\n",
      "user_name: FlashRPh Time: 2022-04-23 22:07:56+00:00 Tweeted: RT @JLEWFifty: Incredibly proud of Myles Straw, Oscar Mercado and the rest of these #Guardians players for composing themselves in these po…\n",
      "user_name: Hail_Backup Time: 2022-04-23 22:07:56+00:00 Tweeted: RT @PopCrave: Oscar Isaac attended a viewing party for the season finale of RuPaul’s #DragRace at a gay bar in Brooklyn. https://t.co/8zjnb…\n",
      "user_name: Bex_Oscar Time: 2022-04-23 22:07:55+00:00 Tweeted: RT @iamabayorr: 7 Influential Black Leaders Assassinated for Their Beliefs.\n",
      "\n",
      "THREAD https://t.co/AUY2HaVigI\n",
      "user_name: darksidemaxx Time: 2022-04-23 22:07:54+00:00 Tweeted: RT @PopCrave: Oscar Isaac attended a viewing party for the season finale of RuPaul’s #DragRace at a gay bar in Brooklyn. https://t.co/8zjnb…\n",
      "user_name: Idan_paraku Time: 2022-04-23 22:07:50+00:00 Tweeted: RT @OleleSalvador: BREAKING: Will Smith &amp; Jada might be getting a divorce after the Oscar slapping episode. The couple were already having…\n",
      "user_name: Albertspanner Time: 2022-04-23 22:07:48+00:00 Tweeted: @SpringerSaint @Mountain_Pals @moonlightmegan1 @LabradorPeggy @Oscar_Spaniel @RonjaTheSpaniel Night night all sweet… https://t.co/GdyPKiyq9E\n"
     ]
    },
    {
     "name": "stderr",
     "output_type": "stream",
     "text": [
      "Unexpected parameter: since\n"
     ]
    },
    {
     "name": "stdout",
     "output_type": "stream",
     "text": [
      "user_name: ganzatshabz Time: 2022-04-23 22:07:43+00:00 Tweeted: RT @OleleSalvador: BREAKING: Will Smith &amp; Jada might be getting a divorce after the Oscar slapping episode. The couple were already having…\n",
      "user_name: Bex_Oscar Time: 2022-04-23 22:07:42+00:00 Tweeted: RT @fatfatpankocat: Her head is very heavy because of all of her thoughts https://t.co/1rOLsKsRKA\n",
      "user_name: deep_bassi1 Time: 2022-04-23 22:07:41+00:00 Tweeted: @dcfcofficial I remember it well. We played amazing football that season. Frannie Lee was my favourite player...he… https://t.co/Ls3UYgjie9\n",
      "user_name: dawnsnidget Time: 2022-04-23 22:07:39+00:00 Tweeted: RT @FilmUpdates: Oscar Isaac attended a viewing party for the season finale of Rupaul’s Drag Race at a gay bar in Brooklyn. https://t.co/4e…\n",
      "user_name: Hermbassador Time: 2022-04-23 22:07:31+00:00 Tweeted: RT @OleleSalvador: BREAKING: Will Smith &amp; Jada might be getting a divorce after the Oscar slapping episode. The couple were already having…\n",
      "user_name: um2girlsmook24i Time: 2022-04-23 22:07:27+00:00 Tweeted: RT @MLBONFOX: Guardians outfielder Oscar Mercado describes what happened when Yankees fans started throwing trash at him on the field &amp; wha…\n",
      "user_name: laady__bird Time: 2022-04-23 22:07:25+00:00 Tweeted: RT @bestofchastains: jessica chastain and oscar isaac in venice (2021) https://t.co/DxJOjThA9p\n",
      "user_name: MUYiskoko Time: 2022-04-23 22:07:24+00:00 Tweeted: @nneh_o Looool.🤣\n",
      "Think of it this way.\n",
      "We're taking a mind trip in The mind of both Oscar&amp;Steven personalities.\n",
      "user_name: OSss08 Time: 2022-04-23 22:07:21+00:00 Tweeted: This is brilliant.. Whoever did this deserves an Oscar\n",
      "\n",
      "#MarchAgainstImportedGov\n",
      "#امپورٹڈ_حکومت_نامنظور https://t.co/glycZ4GNRQ\n",
      "user_name: vulcannae Time: 2022-04-23 22:07:18+00:00 Tweeted: RT @FilmUpdates: Oscar Isaac attended a viewing party for the season finale of Rupaul’s Drag Race at a gay bar in Brooklyn. https://t.co/4e…\n",
      "user_name: casmir_oscar Time: 2022-04-23 22:07:17+00:00 Tweeted: RT @Gidotti__: PSG didn’t win the league last season, they signed Messi and he has won them the league with his goal today.\n",
      "\n",
      "Man Utd finish…\n",
      "user_name: RealRickGlaser1 Time: 2022-04-23 22:07:16+00:00 Tweeted: @djay13461 Best in my time in #Boxing that didn't happen. \n",
      "Lennox-Bowe, #Tyson-Bowe, #Oscar-KostaTszyu, Oscar-Forre… https://t.co/KlbUQXe2sM\n",
      "user_name: yessicaa_g Time: 2022-04-23 22:07:08+00:00 Tweeted: RT @BallySportsCLE: Oscar Mercado describes what happened in the outfield at the end of the game and what caused the whole scene. \n",
      "\n",
      "#ForThe…\n",
      "user_name: Bex_Oscar Time: 2022-04-23 22:07:06+00:00 Tweeted: RT @zainabjiwa: So I made a Doctor Strange outfit and here’s how the images turned out. \n",
      "\n",
      "#MultiverseOfMadness #DoctorStrange https://t.co/…\n",
      "user_name: Real7Iyke Time: 2022-04-23 22:07:05+00:00 Tweeted: RT @OleleSalvador: BREAKING: Will Smith &amp; Jada might be getting a divorce after the Oscar slapping episode. The couple were already having…\n"
     ]
    },
    {
     "name": "stderr",
     "output_type": "stream",
     "text": [
      "Unexpected parameter: since\n"
     ]
    },
    {
     "name": "stdout",
     "output_type": "stream",
     "text": [
      "user_name: dhaessel0 Time: 2022-04-23 22:07:05+00:00 Tweeted: @UrTokenCorgi Sorry - I don't get the reference? What does an Oscar winning Al Gore climate change activist have to do w/ Sprott?\n",
      "user_name: DaReyes52 Time: 2022-04-23 22:06:58+00:00 Tweeted: RT @MLBONFOX: Guardians outfielder Oscar Mercado describes what happened when Yankees fans started throwing trash at him on the field &amp; wha…\n",
      "user_name: Rnunezgonzales Time: 2022-04-23 22:06:57+00:00 Tweeted: RT @AJdirectandlive: Anthony Joshua 🤝 Oscar Rivas 🤝 Alexander Povetkin 🤝 Tyson Fury\n",
      "\n",
      "I don’t even need to follow it up, do I? And neither d…\n",
      "user_name: tropicalontour Time: 2022-04-23 22:06:56+00:00 Tweeted: RT @RickLondonGreen: Don't love someone for their looks, or their clothes, or for their fancy car, but because they sing a song only you ca…\n",
      "user_name: LFarrons Time: 2022-04-23 22:06:55+00:00 Tweeted: RT @FilmUpdates: Oscar Isaac attended a viewing party for the season finale of Rupaul’s Drag Race at a gay bar in Brooklyn. https://t.co/4e…\n",
      "user_name: teemeeey Time: 2022-04-23 22:06:50+00:00 Tweeted: @Oscar_Mosh No way! ID?\n",
      "user_name: WheresTheHound Time: 2022-04-23 22:06:46+00:00 Tweeted: RT @LisaDock84: Can you believe Johhny Depp has never won an oscar 😳😳 probably the most diverse Actor there is.. i guess its better to wond…\n",
      "user_name: bsak03 Time: 2022-04-23 22:06:39+00:00 Tweeted: RT @Spenred: Tough scene here in New York, as Guardians RF Oscar Mercado’s vaccination card falls out of his back pocket and fans react in…\n",
      "user_name: BoxingJournaIs Time: 2022-04-23 22:06:23+00:00 Tweeted: RT @AJdirectandlive: Anthony Joshua 🤝 Oscar Rivas 🤝 Alexander Povetkin 🤝 Tyson Fury\n",
      "\n",
      "I don’t even need to follow it up, do I? And neither d…\n",
      "user_name: missjst Time: 2022-04-23 22:06:20+00:00 Tweeted: RT @tomiahonen: TEN !!!\n",
      "\n",
      "Oscar Wilde: \"To lose one General may be regarded as misfortune. To lose ten, looks like carelessness.\" \n",
      "\n",
      "#10Gener…\n",
      "user_name: EWOKSUPREMACY Time: 2022-04-23 22:06:19+00:00 Tweeted: RT @FilmUpdates: Oscar Isaac attended a viewing party for the season finale of Rupaul’s Drag Race at a gay bar in Brooklyn. https://t.co/4e…\n",
      "user_name: Oscar_Tequila Time: 2022-04-23 22:06:15+00:00 Tweeted: Space Cadet 👨🏽‍🚀🚀... #TequilaShots #SelfproclaimedAstronaut @ Los Angeles, California https://t.co/2HsorEpHrx\n",
      "user_name: rvtnbonez Time: 2022-04-23 22:06:12+00:00 Tweeted: is oscar isaac still playing solid snake?\n",
      "user_name: IssaChwi Time: 2022-04-23 22:06:11+00:00 Tweeted: RT @SeffSaid: \"The love in your heart wasn't put there to stay. Love isn't love 'til you give it away.\" - Oscar Hammerstein\n",
      "user_name: BassoHannah Time: 2022-04-23 22:06:11+00:00 Tweeted: RT @DanGraca: Guardians OF, Oscar Mercado said the beer cans being thrown at him were still full. Find those clowns and ban them from the s…\n"
     ]
    },
    {
     "name": "stderr",
     "output_type": "stream",
     "text": [
      "Unexpected parameter: since\n"
     ]
    },
    {
     "name": "stdout",
     "output_type": "stream",
     "text": [
      "user_name: Train_Pone Time: 2022-04-23 22:06:07+00:00 Tweeted: That's me done for a week...Time to foxtrot Oscar  out this hell hole\n",
      "user_name: bruins22jordan Time: 2022-04-23 22:06:04+00:00 Tweeted: RT @MLBONFOX: Guardians outfielder Oscar Mercado describes what happened when Yankees fans started throwing trash at him on the field &amp; wha…\n",
      "user_name: marcidarling Time: 2022-04-23 22:06:02+00:00 Tweeted: RT @MediumSizeMeech: I want to see a film about this benefactor and his niece who plans to screw him over but it turns out not only is he b…\n",
      "user_name: alan_agguilar Time: 2022-04-23 22:06:02+00:00 Tweeted: What we got next... \n",
      "April 30th:\n",
      "- Amanda Serrano vs Katie Taylor\n",
      "- Óscar Valdez vs Shakur Stevenson\n",
      "\n",
      "May 7th:\n",
      "- Ca… https://t.co/MsVOUyHHIt\n",
      "user_name: whytemartini Time: 2022-04-23 22:06:01+00:00 Tweeted: RT @TheChalya: My girl got married!!!! 🥰❤️ @kemiadetiba gorgeousness!!!! “My wife” Oscar said, as he took a mesmerized glance at his new br…\n",
      "user_name: Sumantbamfaa Time: 2022-04-23 22:05:53+00:00 Tweeted: Man this thing is dope. 3d coming on may 15th.\n",
      "We gonna do some OSCAR SHIT 1st time baby\n",
      "@sambit_beta @Rahulklyt… https://t.co/BdczVzZufz\n",
      "user_name: enbyhannigram Time: 2022-04-23 22:05:37+00:00 Tweeted: @justfor85838011 @hachetfish Es que people look for queer ships everywhere, especially now, and especially when Osc… https://t.co/6c7QCPRWLU\n",
      "user_name: nathanhallock23 Time: 2022-04-23 22:05:35+00:00 Tweeted: RT @fuzzyfromyt: Some good perspective from Oscar Mercado. https://t.co/UvR3XmnHWT\n",
      "user_name: 4lacOL Time: 2022-04-23 22:05:32+00:00 Tweeted: RT @LandesBrock: And the Oscar Award goes to… https://t.co/kxhyrNGYBM\n",
      "user_name: ChadSchimke Time: 2022-04-23 22:05:23+00:00 Tweeted: Kilted Oscar Wilde on my blog https://t.co/Quhe5LiO6f https://t.co/q8uOT5J7Dy\n",
      "user_name: goldikins1 Time: 2022-04-23 22:05:21+00:00 Tweeted: RT @biwhore_: oh my g— MY MOUTH IS OPEN OSCAR https://t.co/gSW8O1QHQf\n",
      "user_name: MichaelV11391 Time: 2022-04-23 22:05:21+00:00 Tweeted: It’s extremely disturbing that fans like this even exist. Freaking dirty &amp; disrespectful Yankee fans (not all of th… https://t.co/c1Qo4y2JXK\n",
      "user_name: Sees_theday Time: 2022-04-23 22:05:19+00:00 Tweeted: Media gonna label everything Will Smith does as “following Oscar’s slap” and I am begging them to shut the fuck up… https://t.co/gSrcQglVdV\n",
      "user_name: RedTribeOH Time: 2022-04-23 22:05:12+00:00 Tweeted: RT @blakeruane: According to Oscar Mercado, there was one Yankees fan in left field \"who was celebrating [Steven] Kwan getting hurt\"\n",
      "user_name: lgbtqwhores Time: 2022-04-23 22:05:11+00:00 Tweeted: RT @zennaranjo: y&amp;b is so good i love oscar isaac\n"
     ]
    },
    {
     "name": "stderr",
     "output_type": "stream",
     "text": [
      "Unexpected parameter: since\n"
     ]
    },
    {
     "name": "stdout",
     "output_type": "stream",
     "text": [
      "user_name: KevinPM12 Time: 2022-04-23 22:05:06+00:00 Tweeted: RT @MattPassantino: What’s an acting OSCAR win everyone hates that you love? \n",
      "\n",
      "Mine: https://t.co/I4e4K4PXF4\n",
      "user_name: erik_alva28 Time: 2022-04-23 22:05:06+00:00 Tweeted: RT @MLBONFOX: Guardians outfielder Oscar Mercado describes what happened when Yankees fans started throwing trash at him on the field &amp; wha…\n",
      "user_name: la_vench Time: 2022-04-23 22:05:05+00:00 Tweeted: RT @RayoKasali: In case you're wondering who Kemi Adetiba's prince charming is...\n",
      "\n",
      "He is Oscar Herman-Acker the genius music maestro \"Oscar…\n",
      "user_name: francestha_ Time: 2022-04-23 22:05:04+00:00 Tweeted: RT @mavericksmovies: Six time Oscar Nominated Production Designer Sarah Greenwood (Darkest Hour, Atonement, Sherlock Holmes, Anna Karenina)…\n",
      "user_name: iiifalcoiii Time: 2022-04-23 22:05:03+00:00 Tweeted: @reflected_oscar What game?\n",
      "user_name: PayneNigel Time: 2022-04-23 22:04:59+00:00 Tweeted: Well done @danielpayne01 Oscar &amp; Finn. The awards are very well deserved 👏👏👏 https://t.co/tDhrAAafO9\n",
      "user_name: Ashleyness1985 Time: 2022-04-23 22:04:57+00:00 Tweeted: @monalisaney81 Give this man an Oscar!!!\n",
      "user_name: DavidAkinyele4 Time: 2022-04-23 22:04:55+00:00 Tweeted: RT @SeffSaid: \"The love in your heart wasn't put there to stay. Love isn't love 'til you give it away.\" - Oscar Hammerstein\n",
      "user_name: Dat_Dude_AB Time: 2022-04-23 22:04:44+00:00 Tweeted: RT @BallySportsCLE: Oscar Mercado describes what happened in the outfield at the end of the game and what caused the whole scene. \n",
      "\n",
      "#ForThe…\n",
      "user_name: 91cuterry Time: 2022-04-23 22:04:41+00:00 Tweeted: RT @zennaranjo: y&amp;b is so good i love oscar isaac\n",
      "user_name: anthoneymoon Time: 2022-04-23 22:04:39+00:00 Tweeted: RT @LanaGallery: she should’ve been handed her grammy and oscar IMMEDIATELY\n",
      "user_name: DanHiner_Sports Time: 2022-04-23 22:04:35+00:00 Tweeted: RT @ZackMeisel: Oscar Mercado, on Yankees fans throwing beer cans at players at the end of the game: https://t.co/gNC6yeaDer\n",
      "user_name: w4ffl3s Time: 2022-04-23 22:04:34+00:00 Tweeted: RT @FilmUpdates: Oscar Isaac attended a viewing party for the season finale of Rupaul’s Drag Race at a gay bar in Brooklyn. https://t.co/4e…\n",
      "user_name: jcup24 Time: 2022-04-23 22:04:31+00:00 Tweeted: RT @MLBONFOX: Guardians outfielder Oscar Mercado describes what happened when Yankees fans started throwing trash at him on the field &amp; wha…\n",
      "user_name: Sheizblessed Time: 2022-04-23 22:04:24+00:00 Tweeted: RT @TheChalya: My girl got married!!!! 🥰❤️ @kemiadetiba gorgeousness!!!! “My wife” Oscar said, as he took a mesmerized glance at his new br…\n"
     ]
    },
    {
     "name": "stderr",
     "output_type": "stream",
     "text": [
      "Unexpected parameter: since\n"
     ]
    },
    {
     "name": "stdout",
     "output_type": "stream",
     "text": [
      "user_name: ola_tomiwaaa Time: 2022-04-23 22:04:24+00:00 Tweeted: @Oscar_Mosh You really are🤌🏽🤌🏽\n",
      "user_name: liv_rose16 Time: 2022-04-23 22:04:21+00:00 Tweeted: RT @ZackMeisel: Oscar Mercado, on Yankees fans throwing beer cans at players at the end of the game: https://t.co/gNC6yeaDer\n",
      "user_name: ATASings Time: 2022-04-23 22:04:18+00:00 Tweeted: I am one of thousands of people asking Oscar Isaac to explain this accent. Why? #MoonKnight\n",
      "user_name: JarvisUnchained Time: 2022-04-23 22:04:17+00:00 Tweeted: I saw someone say that X-Men Apocalypse is the worst movie that Oscar Isaac has been in. Oscar Isaac. That man's fi… https://t.co/SrKJLCV31E\n",
      "user_name: GaryG3000 Time: 2022-04-23 22:04:13+00:00 Tweeted: RT @AmExperiencePBS: Shirley Temple was born on April 23, 1928. By the time she turned seven, she had received an Oscar for her roles in \"L…\n",
      "user_name: badgalriri1011 Time: 2022-04-23 22:04:13+00:00 Tweeted: RT @FilmUpdates: Oscar Isaac attended a viewing party for the season finale of Rupaul’s Drag Race at a gay bar in Brooklyn. https://t.co/4e…\n",
      "user_name: reflected_oscar Time: 2022-04-23 22:04:06+00:00 Tweeted: I have a game today\n",
      "user_name: njugunaithefu Time: 2022-04-23 22:04:00+00:00 Tweeted: RT @sabinachege01: Dear Kikuyus  open your eyes wide. Just look at the tribulations Alfred keter is going through, the dictator William Rut…\n",
      "user_name: chadisnotrad363 Time: 2022-04-23 22:03:59+00:00 Tweeted: RT @ZackMeisel: Oscar Mercado said a semi-full beer can nearly struck him in the face, but he snagged it in time. Myles Straw said Trevor S…\n",
      "user_name: ClarenceDiggles Time: 2022-04-23 22:03:55+00:00 Tweeted: RT @BallySportsCLE: Oscar Mercado describes what happened in the outfield at the end of the game and what caused the whole scene. \n",
      "\n",
      "#ForThe…\n",
      "user_name: ThrowBack_CST Time: 2022-04-23 22:03:54+00:00 Tweeted: RT @BallySportsCLE: Oscar Mercado describes what happened in the outfield at the end of the game and what caused the whole scene. \n",
      "\n",
      "#ForThe…\n",
      "user_name: teemeeey Time: 2022-04-23 22:03:50+00:00 Tweeted: @Oscar_Mosh Let’s play\n",
      "user_name: elvinjestrada Time: 2022-04-23 22:03:49+00:00 Tweeted: Guardians' Oscar Mercado: Yankees Fans Must Be 'Held Accountable' After Throwing Cans\n",
      "https://t.co/cfY29bqF8W\n",
      "user_name: R3YD5N Time: 2022-04-23 22:03:46+00:00 Tweeted: RT @RaidRaidRaiders: “It is what you read when you don’t have to that determines what you will be when you can’t help it.” ― Oscar Wilde\n",
      "\n",
      "R…\n",
      "user_name: njugunaithefu Time: 2022-04-23 22:03:43+00:00 Tweeted: RT @IgathePollycarp: Alfred Keter tribulations in UDA should act as an eye opener to Kikuyus and other Kenyan tribes following William Ruto…\n"
     ]
    },
    {
     "name": "stderr",
     "output_type": "stream",
     "text": [
      "Unexpected parameter: since\n"
     ]
    },
    {
     "name": "stdout",
     "output_type": "stream",
     "text": [
      "user_name: R3YD5N Time: 2022-04-23 22:03:42+00:00 Tweeted: RT @RaidRaidRaiders: @RaiderToken “It is what you read when you don’t have to that determines what you will be when you can’t help it.” ― O…\n",
      "user_name: Margarita62 Time: 2022-04-23 22:03:39+00:00 Tweeted: RT @QuidVacuo_: Oscar Isaac, Ethan Hawke y May Calamaway haciendo Watch Party del episodio 4 de 'MOON KNIGHT' https://t.co/DqTDX8BTlJ\n",
      "user_name: R3YD5N Time: 2022-04-23 22:03:38+00:00 Tweeted: RT @RaidRaidRaiders: “It is what you read when you don’t have to that determines what you will be when you can’t help it.” ― Oscar Wilde\n",
      "\n",
      "R…\n",
      "user_name: velvetrevolv3r6 Time: 2022-04-23 22:03:33+00:00 Tweeted: RT @RenGeekness: The Face/Off remake should be Pedro Pascal and Oscar Isaac.\n",
      "\n",
      "That's the tweet\n",
      "user_name: islugg1000 Time: 2022-04-23 22:03:32+00:00 Tweeted: RT @JLEWFifty: Incredibly proud of Myles Straw, Oscar Mercado and the rest of these #Guardians players for composing themselves in these po…\n",
      "user_name: oscar_barroso Time: 2022-04-23 22:03:28+00:00 Tweeted: RT @Amanda_Pflugrad: Per Ime Udoka- Rob Williams is AVAILABLE for tonight\n",
      "user_name: DigitalSisyphus Time: 2022-04-23 22:03:28+00:00 Tweeted: @Space27843 @itsmukil Joker: small investment, massive profits, critical acclaim and an actual Oscar. Basically the… https://t.co/SvsKbSNez7\n",
      "user_name: soddenjackal Time: 2022-04-23 22:03:26+00:00 Tweeted: RT @IamMikeCannon: An oscar is pretty cool but have you ever given yourself a pat on the back?\n",
      "user_name: RemyBoyBubba679 Time: 2022-04-23 22:03:25+00:00 Tweeted: RT @ZackMeisel: Oscar Mercado, on Yankees fans throwing beer cans at players at the end of the game: https://t.co/gNC6yeaDer\n",
      "user_name: Jmg52cJ Time: 2022-04-23 22:03:24+00:00 Tweeted: RT @JLEWFifty: Incredibly proud of Myles Straw, Oscar Mercado and the rest of these #Guardians players for composing themselves in these po…\n",
      "user_name: RemyBoyBubba679 Time: 2022-04-23 22:03:18+00:00 Tweeted: RT @blakeruane: According to Oscar Mercado, there was one Yankees fan in left field \"who was celebrating [Steven] Kwan getting hurt\"\n",
      "user_name: kdantoinette Time: 2022-04-23 22:03:15+00:00 Tweeted: “stay up to watch the oscar’s” ME\n",
      "user_name: copied_usrname Time: 2022-04-23 22:03:09+00:00 Tweeted: @akheela_ashraf @RaviDevgam @iamharmeetK @narendramodi Oscar would be great\n",
      "user_name: DrOOelm Time: 2022-04-23 22:03:07+00:00 Tweeted: RT @EzuieQuotes: \"Be yourself; everyone else is taken.\" - Oscar Wilde\n",
      "user_name: oscar_otherside Time: 2022-04-23 22:03:03+00:00 Tweeted: RT @mrsorokaa: It’s Easter, a young Ukrainian family is killed by a Russian missile in Odesa.\n",
      "\n",
      "Zelensky is barely holding back tears, calli…\n"
     ]
    },
    {
     "name": "stderr",
     "output_type": "stream",
     "text": [
      "Unexpected parameter: since\n"
     ]
    },
    {
     "name": "stdout",
     "output_type": "stream",
     "text": [
      "user_name: groovepapi Time: 2022-04-23 22:03:03+00:00 Tweeted: @Oscar_Mosh I don’t think so\n",
      "user_name: Dee_Bebegirl Time: 2022-04-23 22:03:03+00:00 Tweeted: @Oscar_Mosh Hoekay\n",
      "user_name: oscar_el_muerto Time: 2022-04-23 22:02:55+00:00 Tweeted: Jigsaw falling into place. https://t.co/vmxANUXXot\n",
      "user_name: crashmusic7 Time: 2022-04-23 22:02:53+00:00 Tweeted: RT @MLBONFOX: Guardians outfielder Oscar Mercado describes what happened when Yankees fans started throwing trash at him on the field &amp; wha…\n",
      "user_name: __mujii Time: 2022-04-23 22:02:53+00:00 Tweeted: @Oscar_Mosh @Leelabari_ Sigh\n",
      "user_name: aoluwakemi17 Time: 2022-04-23 22:02:51+00:00 Tweeted: RT @TheChalya: My girl got married!!!! 🥰❤️ @kemiadetiba gorgeousness!!!! “My wife” Oscar said, as he took a mesmerized glance at his new br…\n",
      "user_name: CoreyClarkRadio Time: 2022-04-23 22:02:51+00:00 Tweeted: A section of Yankees fans are the worst, don’t make it out like we are all or even majority of all are awful. https://t.co/PBGTPa9nSU\n",
      "user_name: Bigbrourriza Time: 2022-04-23 22:02:49+00:00 Tweeted: RT @BrickheadzX: If I had a nickel for every time Oscar Issac played a Marvel character with ties to ancient Egypt, I'd have two nickels. W…\n",
      "user_name: cillianvinyl Time: 2022-04-23 22:02:46+00:00 Tweeted: oscar issac in moon knight hooooolyyyy shit\n",
      "user_name: shaqOatmeaal Time: 2022-04-23 22:02:46+00:00 Tweeted: RT @BallySportsCLE: Oscar Mercado describes what happened in the outfield at the end of the game and what caused the whole scene. \n",
      "\n",
      "#ForThe…\n",
      "user_name: NMmanwu Time: 2022-04-23 22:02:45+00:00 Tweeted: Happy Married life Oscar. https://t.co/XXwMOxwUmQ\n",
      "user_name: jp_oscar Time: 2022-04-23 22:02:41+00:00 Tweeted: RT @ChristopherJM: Launched cruise missiles on residential Odesa, killing 8 civilians including an infant. Then went to church.\n",
      "user_name: WorldRecordFilm Time: 2022-04-23 22:02:38+00:00 Tweeted: @KlashNYC @Gibboanxious @dvdinfatuation @Filmofilofilmu Oscar nominated makeup work for Rick Baker too. It's got a… https://t.co/2FfTAfj0OM\n",
      "user_name: FLATEARTHCENTER Time: 2022-04-23 22:02:36+00:00 Tweeted: As FOUR planets align with the moon in a rare celestial spectacular, OSCAR CAINER asks: What ... \n",
      "----------------… https://t.co/pHJuzsGtiR\n",
      "user_name: thisistwitrying Time: 2022-04-23 22:02:29+00:00 Tweeted: RT @zennaranjo: y&amp;b is so good i love oscar isaac\n"
     ]
    },
    {
     "name": "stderr",
     "output_type": "stream",
     "text": [
      "Unexpected parameter: since\n"
     ]
    },
    {
     "name": "stdout",
     "output_type": "stream",
     "text": [
      "user_name: Vanessa714 Time: 2022-04-23 22:02:26+00:00 Tweeted: RT @jhbmoments: justin and hailey bieber with oscar https://t.co/KnKS1GJ3CZ\n",
      "user_name: jeremypmurphy Time: 2022-04-23 22:02:23+00:00 Tweeted: Budapest is Sleeping by Oscar Garcia-Olalla\n",
      "\n",
      "https://t.co/StC3Ip21US https://t.co/Pavr9dY22a\n",
      "user_name: Oscar_O_Neill Time: 2022-04-23 22:02:17+00:00 Tweeted: @BlueIsColourCFC I’m a Chelsea fan. Just I have eyes too\n",
      "user_name: claraluizagui Time: 2022-04-23 22:02:17+00:00 Tweeted: RT @AdoptionsUk: URGENT please retweet to help Oscar (Sausage) find a home #MANCHESTER #ENGLAND \n",
      "\n",
      "Aged 14!! Poor Oscar was a stray that no…\n",
      "user_name: mayeesq Time: 2022-04-23 22:02:13+00:00 Tweeted: RT @OleleSalvador: BREAKING: Will Smith &amp; Jada might be getting a divorce after the Oscar slapping episode. The couple were already having…\n",
      "user_name: random927571 Time: 2022-04-23 22:02:11+00:00 Tweeted: RT @JLEWFifty: Incredibly proud of Myles Straw, Oscar Mercado and the rest of these #Guardians players for composing themselves in these po…\n",
      "user_name: tplexapp Time: 2022-04-23 22:02:06+00:00 Tweeted: @kgarz31 Moooonnn Knight! I met Oscar Isaac last year! The dude is absolutely fantastic!\n",
      "user_name: The_black_Otaku Time: 2022-04-23 22:02:00+00:00 Tweeted: RT @MLBONFOX: Guardians outfielder Oscar Mercado describes what happened when Yankees fans started throwing trash at him on the field &amp; wha…\n",
      "user_name: Jsops42709 Time: 2022-04-23 22:02:00+00:00 Tweeted: RT @ZackMeisel: Oscar Mercado said a semi-full beer can nearly struck him in the face, but he snagged it in time. Myles Straw said Trevor S…\n",
      "user_name: DarrenDebari Time: 2022-04-23 22:01:51+00:00 Tweeted: @acroce66 8-Not an easy film but one of Ford's best performances-Where was his Oscar nomination for this one? River… https://t.co/uetkqa78Oq\n",
      "user_name: urmytearxx Time: 2022-04-23 22:01:51+00:00 Tweeted: I really like oscar anton and i saw it five second ago: he collab with nilipek !!! 😍💕\n",
      "user_name: shopdollyshots Time: 2022-04-23 22:01:51+00:00 Tweeted: Moon Knight meets Thom Browne...\n",
      "\n",
      "Because Oscar Isaac is a fashion KING.\n",
      "\n",
      "Just a something something I'm having fun… https://t.co/OUjvQMy0c6\n",
      "user_name: A21Danz Time: 2022-04-23 22:01:50+00:00 Tweeted: RT @BallySportsCLE: Oscar Mercado describes what happened in the outfield at the end of the game and what caused the whole scene. \n",
      "\n",
      "#ForThe…\n",
      "user_name: ebube__okafor Time: 2022-04-23 22:01:47+00:00 Tweeted: RT @OleleSalvador: BREAKING: Will Smith &amp; Jada might be getting a divorce after the Oscar slapping episode. The couple were already having…\n",
      "user_name: Nickhodges24 Time: 2022-04-23 22:01:45+00:00 Tweeted: RT @fuzzyfromyt: Some good perspective from Oscar Mercado. https://t.co/UvR3XmnHWT\n"
     ]
    },
    {
     "name": "stderr",
     "output_type": "stream",
     "text": [
      "Unexpected parameter: since\n"
     ]
    },
    {
     "name": "stdout",
     "output_type": "stream",
     "text": [
      "user_name: BuyMore_Condoms Time: 2022-04-23 22:01:33+00:00 Tweeted: RT @getFANDOM: Happy Birthday Jack Nicholson — The most Oscar-nominated male actor in history 🏆\n",
      "\n",
      "What's your favorite performance of his? h…\n",
      "user_name: MarieLa95775377 Time: 2022-04-23 22:01:29+00:00 Tweeted: RT @SeffSaid: \"The love in your heart wasn't put there to stay. Love isn't love 'til you give it away.\" - Oscar Hammerstein\n",
      "user_name: Cyberjaeger Time: 2022-04-23 22:01:20+00:00 Tweeted: RT @DevsMastani: Did you know that? Tyler Hoechlin's first DC role wasn't as Superman, in DC's \"Paradox\" label Road to Perdition in 2002, h…\n",
      "user_name: Digestant9 Time: 2022-04-23 22:01:14+00:00 Tweeted: RT @JLEWFifty: Incredibly proud of Myles Straw, Oscar Mercado and the rest of these #Guardians players for composing themselves in these po…\n",
      "user_name: GallantSays Time: 2022-04-23 22:01:13+00:00 Tweeted: OMW to see Nic win another Oscar 😤 https://t.co/u9QBXs4JcF\n",
      "user_name: Dzizzle94 Time: 2022-04-23 22:01:10+00:00 Tweeted: RT @nsitto2: Cade Cunningham is one of the few rookies in NBA history to average at least 17 points/5 rebounds/5 assists. \n",
      "\n",
      "Some of those o…\n",
      "user_name: zennaranjo Time: 2022-04-23 22:01:03+00:00 Tweeted: y&amp;b is so good i love oscar isaac\n",
      "user_name: RickLondonGreen Time: 2022-04-23 22:01:01+00:00 Tweeted: Don't love someone for their looks, or their clothes, or for their fancy car, but because they sing a song only you can hear.\" � Oscar Wilde\n",
      "user_name: Jose_Oscar_ Time: 2022-04-23 22:00:56+00:00 Tweeted: RT @TheNCSmaster: Me buying Sonic Origins https://t.co/eXMyJ3gCXG\n",
      "user_name: chrisdaudi2 Time: 2022-04-23 22:00:54+00:00 Tweeted: RT @IgathePollycarp: Alfred Keter tribulations in UDA should act as an eye opener to Kikuyus and other Kenyan tribes following William Ruto…\n",
      "user_name: TheBrendanV Time: 2022-04-23 22:00:53+00:00 Tweeted: RT @PopCrave: Oscar Isaac attended a viewing party for the season finale of RuPaul’s #DragRace at a gay bar in Brooklyn. https://t.co/8zjnb…\n",
      "user_name: Orbiting_Isaac Time: 2022-04-23 22:00:45+00:00 Tweeted: @socioscarist Oscar heading home on his flight while Timmy be fighting the worms: https://t.co/ufNUOZhsN4\n",
      "user_name: Krazy_Dawg99 Time: 2022-04-23 22:00:40+00:00 Tweeted: RT @JLEWFifty: Incredibly proud of Myles Straw, Oscar Mercado and the rest of these #Guardians players for composing themselves in these po…\n",
      "user_name: bearilyn Time: 2022-04-23 22:00:39+00:00 Tweeted: RT @BallySportsCLE: Oscar Mercado describes what happened in the outfield at the end of the game and what caused the whole scene. \n",
      "\n",
      "#ForThe…\n",
      "user_name: Bex_Oscar Time: 2022-04-23 22:00:37+00:00 Tweeted: @AgathasSapphic I really need to watch fort Salem 😭\n"
     ]
    },
    {
     "name": "stderr",
     "output_type": "stream",
     "text": [
      "Unexpected parameter: since\n"
     ]
    },
    {
     "name": "stdout",
     "output_type": "stream",
     "text": [
      "user_name: Queenzwigs Time: 2022-04-23 22:00:36+00:00 Tweeted: RT @TheChalya: My girl got married!!!! 🥰❤️ @kemiadetiba gorgeousness!!!! “My wife” Oscar said, as he took a mesmerized glance at his new br…\n",
      "user_name: buck_mitchell Time: 2022-04-23 22:00:35+00:00 Tweeted: RT @fuzzyfromyt: Some good perspective from Oscar Mercado. https://t.co/UvR3XmnHWT\n",
      "user_name: oscar_sux Time: 2022-04-23 22:00:33+00:00 Tweeted: RT @TheKavernacle: Why couldn’t Turning Red be as historically accurate as The Incredibles ? https://t.co/G5MdO7cv5E\n",
      "user_name: FOLUKEMIHBK Time: 2022-04-23 22:00:24+00:00 Tweeted: RT @TheChalya: My girl got married!!!! 🥰❤️ @kemiadetiba gorgeousness!!!! “My wife” Oscar said, as he took a mesmerized glance at his new br…\n",
      "user_name: johnguk Time: 2022-04-23 22:00:22+00:00 Tweeted: RT @GoodmanHoops: College basketball is so lucky to get Oscar the player back. Even more fortunate to get Oscar the person/personality back…\n",
      "user_name: GayGayDLC92 Time: 2022-04-23 22:00:22+00:00 Tweeted: RT @PopCrave: Oscar Isaac attended a viewing party for the season finale of RuPaul’s #DragRace at a gay bar in Brooklyn. https://t.co/8zjnb…\n",
      "user_name: KELVIEWHITE Time: 2022-04-23 22:00:16+00:00 Tweeted: moon knight is so fucking good but now i want oscar isaac to skull fuck me even more than i did before\n",
      "user_name: SJLCommDev Time: 2022-04-23 22:00:14+00:00 Tweeted: The students at Albergue San Oscar Romero are excited to return to school after spring break! The shelter works tir… https://t.co/RfA17dqOho\n",
      "user_name: magnetolurgy Time: 2022-04-23 22:00:05+00:00 Tweeted: RT @SirStevenGrant: \"ass or boobs\" oscar isaac has both so im good https://t.co/d23MzTOhAP\n",
      "user_name: Jordan_Ueltschy Time: 2022-04-23 21:59:59+00:00 Tweeted: RT @JLEWFifty: Incredibly proud of Myles Straw, Oscar Mercado and the rest of these #Guardians players for composing themselves in these po…\n",
      "user_name: kristenbarba Time: 2022-04-23 21:59:56+00:00 Tweeted: RT @Chavezzzz1010: one of my hits from last nights game went 3-4 ‼️@T_DuckBSB @WhitecapBseball @SaintMaryBSB @UTSABSB @Oscar_OsorioIII @san…\n",
      "user_name: hey_toyin Time: 2022-04-23 21:59:51+00:00 Tweeted: I love all the people that got married today; from Kemi Adetiba and Mr Oscar to Tim Godfrey then Mr Macaroni....I p… https://t.co/60bzNTFieC\n",
      "user_name: lastlucas Time: 2022-04-23 21:59:51+00:00 Tweeted: RT @mrbrianrowe: How did Requiem for a Dream receive only one Oscar nomination https://t.co/WbhNz7Kjd4\n",
      "user_name: AlbertPerales5 Time: 2022-04-23 21:59:49+00:00 Tweeted: RT @MLBONFOX: Guardians outfielder Oscar Mercado describes what happened when Yankees fans started throwing trash at him on the field &amp; wha…\n",
      "user_name: steve_sherwood Time: 2022-04-23 21:59:46+00:00 Tweeted: RT @BallySportsCLE: Oscar Mercado describes what happened in the outfield at the end of the game and what caused the whole scene. \n",
      "\n",
      "#ForThe…\n"
     ]
    },
    {
     "name": "stderr",
     "output_type": "stream",
     "text": [
      "Unexpected parameter: since\n"
     ]
    },
    {
     "name": "stdout",
     "output_type": "stream",
     "text": [
      "user_name: Bex_Oscar Time: 2022-04-23 21:59:43+00:00 Tweeted: RT @Yahiamice: still in awe at grandpa's fucked up bed from stardew valley. can't fucking believe they got away with this https://t.co/kJlw…\n",
      "user_name: DavidUdale Time: 2022-04-23 21:59:40+00:00 Tweeted: RT @RealityTving: Pere on Groomamen duty for Kemi Adetiba and Oscar’s wedding\n",
      "#Undeniablyyours2022 #BBNaija https://t.co/JJ6AhAd3Pn\n",
      "user_name: MultiverseDrip Time: 2022-04-23 21:59:37+00:00 Tweeted: @AshleySmithersR @Oscar_NFTs these are just ways to get followers and then charge prople for promotions. if you see… https://t.co/bPAadNxeIY\n",
      "user_name: BaseballGabb Time: 2022-04-23 21:59:36+00:00 Tweeted: RT @DanGraca: Guardians OF, Oscar Mercado said the beer cans being thrown at him were still full. Find those clowns and ban them from the s…\n",
      "user_name: stateofOHIESR Time: 2022-04-23 21:59:22+00:00 Tweeted: RT @BallySportsCLE: Oscar Mercado describes what happened in the outfield at the end of the game and what caused the whole scene. \n",
      "\n",
      "#ForThe…\n",
      "user_name: curtfloodgates Time: 2022-04-23 21:59:21+00:00 Tweeted: RT @BallySportsCLE: Oscar Mercado describes what happened in the outfield at the end of the game and what caused the whole scene. \n",
      "\n",
      "#ForThe…\n",
      "user_name: Krazy_Dawg99 Time: 2022-04-23 21:59:20+00:00 Tweeted: RT @ZackMeisel: Oscar Mercado said a semi-full beer can nearly struck him in the face, but he snagged it in time. Myles Straw said Trevor S…\n",
      "user_name: rowland_oscar Time: 2022-04-23 21:59:15+00:00 Tweeted: @T4_R6S @afcbdani Ref we unbelievably harsh with time wasting, not saying we didn’t, just we only did it in the las… https://t.co/d0zBhZyfd0\n",
      "user_name: RandomlyAimless Time: 2022-04-23 21:59:14+00:00 Tweeted: RT @FINALLEVEL: When OSCAR WINNER @Questlove flips your boxes! The shit’s OFFICIAL! 👊🏽👊🏽👊🏽👊🏽👊🏽\n",
      "user_name: mullakadir Time: 2022-04-23 21:59:07+00:00 Tweeted: @narendramodi For what?\n",
      "\n",
      "Than i need oscar\n",
      "user_name: kayblankfilms Time: 2022-04-23 21:58:57+00:00 Tweeted: @keyon So, Tiffany got Pedro and Oscar?! Black women are pulling kings after common lmao!!!\n",
      "user_name: comemierda_sfl Time: 2022-04-23 21:58:55+00:00 Tweeted: RT @fuzzyfromyt: Some good perspective from Oscar Mercado. https://t.co/UvR3XmnHWT\n",
      "user_name: LucaLuongo9 Time: 2022-04-23 21:58:53+00:00 Tweeted: @icecube @DeGodsNFT Join the Kingdom, Oscar winning artist making the best 3D art on Solana @DinodawgKingdom #NR100 https://t.co/JPkPZLSan6\n",
      "user_name: oscar_barkis Time: 2022-04-23 21:58:52+00:00 Tweeted: @JohnHCrumpler The Sauce/Hamilton combo is beautiful for the Texans\n",
      "user_name: clesportsfan41 Time: 2022-04-23 21:58:52+00:00 Tweeted: @mdliny @SansoneLogan @AndrewSiciliano It just comes down to the fact that he got hurt Straw and Oscar said it both… https://t.co/wgv7hWGOAM\n"
     ]
    },
    {
     "name": "stderr",
     "output_type": "stream",
     "text": [
      "Unexpected parameter: since\n"
     ]
    },
    {
     "name": "stdout",
     "output_type": "stream",
     "text": [
      "user_name: XtremeLazyBum Time: 2022-04-23 21:58:51+00:00 Tweeted: Whoever does the camera work for Ari Aster. \n",
      "\n",
      "If its the same person.\n",
      "\n",
      "I guess it shouldnt matter.\n",
      "\n",
      "Maybe one day t… https://t.co/6jviBQdIfx\n",
      "user_name: katieatheart222 Time: 2022-04-23 21:58:48+00:00 Tweeted: Had to come back from the caravan as the power went so we decided we would have a decent takeaway and be kind to ou… https://t.co/03wbt1zcQZ\n",
      "user_name: AllBay_AllDay Time: 2022-04-23 21:58:37+00:00 Tweeted: RT @BallySportsCLE: Oscar Mercado describes what happened in the outfield at the end of the game and what caused the whole scene. \n",
      "\n",
      "#ForThe…\n",
      "user_name: LilKingPinn Time: 2022-04-23 21:58:35+00:00 Tweeted: RT @chrisjwhitcomb: TOLD YALL MANNNNNNN!!!! I DO THIS ACTING SHIT BRO FOR REAL!!!!! IMMA BE OSCAR NOMINATED ONE DAY JUST WATCH!!! 🎥😤✨ (they…\n",
      "user_name: CarolBenedict13 Time: 2022-04-23 21:58:34+00:00 Tweeted: RT @BallySportsCLE: Oscar Mercado describes what happened in the outfield at the end of the game and what caused the whole scene. \n",
      "\n",
      "#ForThe…\n",
      "user_name: mxnnyalo Time: 2022-04-23 21:58:26+00:00 Tweeted: @Oscar_Mosh Ouu someone's getting puss tonight 👍🏽\n",
      "user_name: Nickied14 Time: 2022-04-23 21:58:22+00:00 Tweeted: RT @JLEWFifty: Incredibly proud of Myles Straw, Oscar Mercado and the rest of these #Guardians players for composing themselves in these po…\n",
      "user_name: princesgambit Time: 2022-04-23 21:58:21+00:00 Tweeted: RT @FilmUpdates: Oscar Isaac attended a viewing party for the season finale of Rupaul’s Drag Race at a gay bar in Brooklyn. https://t.co/4e…\n",
      "user_name: suzettesmith Time: 2022-04-23 21:58:18+00:00 Tweeted: RT @MediumSizeMeech: I want to see a film about this benefactor and his niece who plans to screw him over but it turns out not only is he b…\n",
      "user_name: ProfofEvil Time: 2022-04-23 21:58:18+00:00 Tweeted: RT @DevsMastani: Did you know that? Tyler Hoechlin's first DC role wasn't as Superman, in DC's \"Paradox\" label Road to Perdition in 2002, h…\n",
      "user_name: chewingstars Time: 2022-04-23 21:58:18+00:00 Tweeted: oscar is truly lovely like the most supportive father figure ever he tried his BEST when it came to me growing up a… https://t.co/8LJ5FmyYyh\n",
      "user_name: chewingstars Time: 2022-04-23 21:58:15+00:00 Tweeted: i was basically raised muggle but i was already showing signs of accidental magic when my parents died so like We K… https://t.co/QeuDMxIEPr\n",
      "user_name: Komounila Time: 2022-04-23 21:58:12+00:00 Tweeted: @atsipras …and the bullshit Oscar goes to…\n",
      "user_name: ERoosevelt9 Time: 2022-04-23 21:58:07+00:00 Tweeted: RT @The_Hot_Sheet: Billboard Hot 100 : 23 April 1994\n",
      "Bruce @springsteen's 21st chart entry and 12th top 10, Streets of Philadelphia, peaked…\n",
      "user_name: JusAire Time: 2022-04-23 21:58:01+00:00 Tweeted: RT @NYDailyNews: Third time wasn’t the charm for Sean Penn.\n",
      "\n",
      "The Oscar winner’s divorce from Leila George, 32 years his junior, was finaliz…\n"
     ]
    },
    {
     "name": "stderr",
     "output_type": "stream",
     "text": [
      "Unexpected parameter: since\n"
     ]
    },
    {
     "name": "stdout",
     "output_type": "stream",
     "text": [
      "user_name: ajanacollinsss Time: 2022-04-23 21:57:54+00:00 Tweeted: @Oscar_Mosh play me first lmao\n",
      "user_name: unklerupert Time: 2022-04-23 21:57:52+00:00 Tweeted: Oscar Isaac nailed his British accent in #MoonKnight when he pronounced toilet as “toilit”\n",
      "user_name: CyberVillainess Time: 2022-04-23 21:57:46+00:00 Tweeted: so far all I have is Aramis and Lady Oscar but they are both me https://t.co/oMTRRIz8xL https://t.co/C41agJqUbd\n",
      "user_name: Slugerianbreed Time: 2022-04-23 21:57:44+00:00 Tweeted: RT @OleleSalvador: BREAKING: Will Smith &amp; Jada might be getting a divorce after the Oscar slapping episode. The couple were already having…\n",
      "user_name: guyry22 Time: 2022-04-23 21:57:32+00:00 Tweeted: RT @fuzzyfromyt: Some good perspective from Oscar Mercado. https://t.co/UvR3XmnHWT\n",
      "user_name: zola_the_gorgon Time: 2022-04-23 21:57:28+00:00 Tweeted: RT @TheFigen: Dog deserves Oscar for his acting performance. ❤️😂😂\n",
      "https://t.co/5hB9zcZSAg\n",
      "user_name: hsmithdrinks Time: 2022-04-23 21:57:27+00:00 Tweeted: RT @FilmUpdates: Oscar Isaac attended a viewing party for the season finale of Rupaul’s Drag Race at a gay bar in Brooklyn. https://t.co/4e…\n",
      "user_name: alisha_combs Time: 2022-04-23 21:57:25+00:00 Tweeted: RT @PopCrave: Oscar Isaac attended a viewing party for the season finale of RuPaul’s #DragRace at a gay bar in Brooklyn. https://t.co/8zjnb…\n",
      "user_name: Pvelkovsky Time: 2022-04-23 21:57:25+00:00 Tweeted: @buttholemuseum (uses her irl Oscar red carpet footage and everything)\n",
      "user_name: HeroBrenn Time: 2022-04-23 21:57:19+00:00 Tweeted: RT @Schaffrillas: Got some amazing gifts from my PO Box, thanks so much to the fans who sent me these! I can't wait to stare at Oscar every…\n",
      "user_name: atomicpyt Time: 2022-04-23 21:57:18+00:00 Tweeted: RT @FilmUpdates: Oscar Isaac attended a viewing party for the season finale of Rupaul’s Drag Race at a gay bar in Brooklyn. https://t.co/4e…\n",
      "user_name: Nicokrause Time: 2022-04-23 21:57:16+00:00 Tweeted: #JustWatched #Heartstopper #Season1 😍😍😍 honestly how did the casting director get Miss Oscar Winner Olivia Colman t… https://t.co/cvpvO7RXw1\n",
      "user_name: MichyBrey Time: 2022-04-23 21:57:13+00:00 Tweeted: RT @ZackMeisel: The Yankees walk it off against the Guardians, and Yankees fans are showering Oscar Mercado with trash. He threw down his g…\n",
      "user_name: Krissy_Kurtsie Time: 2022-04-23 21:57:03+00:00 Tweeted: RT @MetroUK: Heartstopper has finally landed on Netflix and the secret is out: Nick Nelson’s mother is played by actual Oscar-winner and al…\n",
      "user_name: __Relle__ Time: 2022-04-23 21:57:01+00:00 Tweeted: RT @BallySportsCLE: Oscar Mercado describes what happened in the outfield at the end of the game and what caused the whole scene. \n",
      "\n",
      "#ForThe…\n"
     ]
    },
    {
     "name": "stderr",
     "output_type": "stream",
     "text": [
      "Unexpected parameter: since\n"
     ]
    },
    {
     "name": "stdout",
     "output_type": "stream",
     "text": [
      "user_name: Ashraf_sani_ Time: 2022-04-23 21:57:01+00:00 Tweeted: RT @OleleSalvador: BREAKING: Will Smith &amp; Jada might be getting a divorce after the Oscar slapping episode. The couple were already having…\n",
      "user_name: sameh48114685 Time: 2022-04-23 21:56:54+00:00 Tweeted: Their reaction when Rami Malek Oscar https://t.co/PdUq952MD8 via @YouTube\n",
      "user_name: oscar_sux Time: 2022-04-23 21:56:54+00:00 Tweeted: RT @cctv_idiots: I love these absolute legends 💙💙💙 https://t.co/YDLDXiotVu\n",
      "user_name: Twinnerwinner15 Time: 2022-04-23 21:56:52+00:00 Tweeted: RT @BallySportsCLE: Oscar Mercado describes what happened in the outfield at the end of the game and what caused the whole scene. \n",
      "\n",
      "#ForThe…\n",
      "user_name: GOPwillPAY Time: 2022-04-23 21:56:48+00:00 Tweeted: RT @BallySportsCLE: Oscar Mercado describes what happened in the outfield at the end of the game and what caused the whole scene. \n",
      "\n",
      "#ForThe…\n",
      "user_name: Oscar__bellido Time: 2022-04-23 21:56:37+00:00 Tweeted: RT @AllThingsBatRap: “We shoot all day, reality show..\n",
      "You live in a fantasy world..\n",
      "Because you pen just work for the screen, but not for…\n",
      "user_name: AllBay_AllDay Time: 2022-04-23 21:56:27+00:00 Tweeted: RT @BenVerlander: Guardians outfielder Oscar Mercado speaks about the postgame beer throwing. \n",
      "\n",
      "“It’s ridiculous. Say whatever you wanna sa…\n",
      "user_name: UomoeleganteIt Time: 2022-04-23 21:56:26+00:00 Tweeted: Oscar Isaac's Moon Knight Stunt Double? Oh, Just His Real Brother.\n",
      "\n",
      "read on https://t.co/yqbYGiB8LB… https://t.co/S1JKZzeY0a\n",
      "user_name: BelowAverageOPS Time: 2022-04-23 21:56:23+00:00 Tweeted: RT @MLBONFOX: Guardians outfielder Oscar Mercado describes what happened when Yankees fans started throwing trash at him on the field &amp; wha…\n",
      "user_name: hekkfjell Time: 2022-04-23 21:56:22+00:00 Tweeted: @reddogsusie Pledge 13. He is a copy of my dead dog Oscar.\n",
      "user_name: KEVlNBL00 Time: 2022-04-23 21:56:19+00:00 Tweeted: Bad acting??? It’s not even bad 😭not oscar worthy but not bad https://t.co/DYDrtX9s10\n",
      "user_name: lord_morganne Time: 2022-04-23 21:56:14+00:00 Tweeted: RT @MediumSizeMeech: I want to see a film about this benefactor and his niece who plans to screw him over but it turns out not only is he b…\n",
      "user_name: BoxingBrillant Time: 2022-04-23 21:56:13+00:00 Tweeted: Oscar Valdez sparring Canelo FULL round | esnews boxeo  (via @SportfusionApps #Boxing #News) https://t.co/z2qKkn28VX\n",
      "user_name: doris_edemekong Time: 2022-04-23 21:56:12+00:00 Tweeted: RT @TheChalya: My girl got married!!!! 🥰❤️ @kemiadetiba gorgeousness!!!! “My wife” Oscar said, as he took a mesmerized glance at his new br…\n",
      "user_name: Howard_23rd Time: 2022-04-23 21:56:10+00:00 Tweeted: RT @Captain_Champu: We are 9-5 people Oscar read the room\n"
     ]
    },
    {
     "name": "stderr",
     "output_type": "stream",
     "text": [
      "Unexpected parameter: since\n"
     ]
    },
    {
     "name": "stdout",
     "output_type": "stream",
     "text": [
      "user_name: IBK_199 Time: 2022-04-23 21:56:05+00:00 Tweeted: RT @TheChalya: My girl got married!!!! 🥰❤️ @kemiadetiba gorgeousness!!!! “My wife” Oscar said, as he took a mesmerized glance at his new br…\n",
      "user_name: iiixrx Time: 2022-04-23 21:56:05+00:00 Tweeted: My sis said Oscar Isaac is ugly bitch you like temote chalame\n",
      "user_name: miIfman Time: 2022-04-23 21:56:00+00:00 Tweeted: RT @FilmUpdates: Oscar Isaac attended a viewing party for the season finale of Rupaul’s Drag Race at a gay bar in Brooklyn. https://t.co/4e…\n",
      "user_name: TrashJack Time: 2022-04-23 21:55:59+00:00 Tweeted: RT @InspectorTip: We are pleased to announce that Inspector White Tip aka Oscar is back home safe and well, looking trimmer and slimmer aft…\n",
      "user_name: notsosurre Time: 2022-04-23 21:55:53+00:00 Tweeted: how do i mute videos n pictures of oscar isaac help an oomf out\n",
      "user_name: Jaylouss1 Time: 2022-04-23 21:55:53+00:00 Tweeted: @Oscar_NFTs Claimed it!! 😊\n",
      "0x9b5388fa352929d4579a5f11b1012954117c64eb\n",
      "user_name: fwips_ Time: 2022-04-23 21:55:51+00:00 Tweeted: RT @FilmUpdates: Oscar Isaac attended a viewing party for the season finale of Rupaul’s Drag Race at a gay bar in Brooklyn. https://t.co/4e…\n",
      "user_name: oscar_hilyard Time: 2022-04-23 21:55:50+00:00 Tweeted: @BleacherReport @BRWalkoff @BallySportsCLE Stay classy Yankee fans but not surprised.\n",
      "user_name: raulgom86066610 Time: 2022-04-23 21:55:46+00:00 Tweeted: @spectorarchive I believe they said that Marc is Still Jewish here. And hey, maybe Oscar Isaac Is Actually Jewish h… https://t.co/2YQuYVDGID\n",
      "user_name: brianspeaksnow Time: 2022-04-23 21:55:45+00:00 Tweeted: RT @fuzzyfromyt: Some good perspective from Oscar Mercado. https://t.co/UvR3XmnHWT\n",
      "user_name: TheDodoLover Time: 2022-04-23 21:55:43+00:00 Tweeted: RT @OleleSalvador: BREAKING: Will Smith &amp; Jada might be getting a divorce after the Oscar slapping episode. The couple were already having…\n",
      "user_name: Em_mallyy Time: 2022-04-23 21:55:36+00:00 Tweeted: @Oscar_Mosh Unmatched performance tbh\n",
      "user_name: MasterofMeta1 Time: 2022-04-23 21:55:35+00:00 Tweeted: @Hamit31NFT @hadiiravani9898 @Oscar_NFTs NOBODY CAN STOP US! #radkidsfaction #collidercraftworks\n",
      "user_name: Wiz_Justize Time: 2022-04-23 21:55:30+00:00 Tweeted: RT @LandesBrock: And the Oscar Award goes to… https://t.co/kxhyrNGYBM\n",
      "user_name: NicoRafa54 Time: 2022-04-23 21:55:29+00:00 Tweeted: RT @MLBONFOX: Guardians outfielder Oscar Mercado describes what happened when Yankees fans started throwing trash at him on the field &amp; wha…\n"
     ]
    },
    {
     "name": "stderr",
     "output_type": "stream",
     "text": [
      "Unexpected parameter: since\n"
     ]
    },
    {
     "name": "stdout",
     "output_type": "stream",
     "text": [
      "user_name: ZombieMindEaten Time: 2022-04-23 21:55:28+00:00 Tweeted: RT @dmansworld474: My respect for Myles and Oscar is through the roof. @CleGuardians\n",
      "user_name: racecarrdriver Time: 2022-04-23 21:55:19+00:00 Tweeted: RT @FilmUpdates: Oscar Isaac attended a viewing party for the season finale of Rupaul’s Drag Race at a gay bar in Brooklyn. https://t.co/4e…\n",
      "user_name: merlumina773 Time: 2022-04-23 21:55:19+00:00 Tweeted: RT @EzuieQuotes: \"Be yourself; everyone else is taken.\" - Oscar Wilde\n",
      "user_name: carlosgonzo16 Time: 2022-04-23 21:55:18+00:00 Tweeted: RT @MLBONFOX: Guardians outfielder Oscar Mercado describes what happened when Yankees fans started throwing trash at him on the field &amp; wha…\n",
      "user_name: MediumSizeMeech Time: 2022-04-23 21:55:09+00:00 Tweeted: I want to see a film about this benefactor and his niece who plans to screw him over but it turns out not only is h… https://t.co/7dUiQuD8Te\n",
      "user_name: T4_R6S Time: 2022-04-23 21:55:08+00:00 Tweeted: @rowland_oscar @afcbdani 26 fouls, 4 yellows for time wasting 🤭🤭\n",
      "user_name: LilyandMolly1 Time: 2022-04-23 21:55:08+00:00 Tweeted: @ddoggiesmommy @and_beagles Oscar used to like between the pillows and lily spooning with mum and at least there wa… https://t.co/D4hDpAw2NN\n",
      "user_name: 45KR_Jr Time: 2022-04-23 21:54:52+00:00 Tweeted: Although he was wrong yall going a bit too far with this Oscar’s slap lol like it ain’t that deep bro move on and mind your business\n",
      "user_name: Hmaglio90 Time: 2022-04-23 21:54:46+00:00 Tweeted: RT @BenVerlander: Guardians outfielder Oscar Mercado speaks about the postgame beer throwing. \n",
      "\n",
      "“It’s ridiculous. Say whatever you wanna sa…\n",
      "user_name: prippaiva Time: 2022-04-23 21:54:45+00:00 Tweeted: RT @jhbmoments: justin and hailey bieber with oscar https://t.co/KnKS1GJ3CZ\n",
      "user_name: wazzupAD Time: 2022-04-23 21:54:43+00:00 Tweeted: RT @BallySportsCLE: Oscar Mercado describes what happened in the outfield at the end of the game and what caused the whole scene. \n",
      "\n",
      "#ForThe…\n",
      "user_name: quaaiinterlude Time: 2022-04-23 21:54:42+00:00 Tweeted: RT @FilmUpdates: Oscar Isaac attended a viewing party for the season finale of Rupaul’s Drag Race at a gay bar in Brooklyn. https://t.co/4e…\n",
      "user_name: mohsinofficial Time: 2022-04-23 21:54:41+00:00 Tweeted: @Arielwhite171 Aaaaah! The fan girls pills and Oscar winner. Snyder cult at its best\n",
      "user_name: TroutBeckham Time: 2022-04-23 21:54:38+00:00 Tweeted: RT @GoldenSportsEnt: Myles Straw &amp; Oscar Mercado interviewed after Yankees fans throw objects on the field + Highlights https://t.co/YRKiIu…\n",
      "user_name: seetrips Time: 2022-04-23 21:54:36+00:00 Tweeted: RT @TheChalya: My girl got married!!!! 🥰❤️ @kemiadetiba gorgeousness!!!! “My wife” Oscar said, as he took a mesmerized glance at his new br…\n"
     ]
    },
    {
     "name": "stderr",
     "output_type": "stream",
     "text": [
      "Unexpected parameter: since\n"
     ]
    },
    {
     "name": "stdout",
     "output_type": "stream",
     "text": [
      "user_name: Danyzillions Time: 2022-04-23 21:54:33+00:00 Tweeted: RT @OleleSalvador: BREAKING: Will Smith &amp; Jada might be getting a divorce after the Oscar slapping episode. The couple were already having…\n",
      "user_name: yezC_ Time: 2022-04-23 21:54:32+00:00 Tweeted: RT @MLBONFOX: Guardians outfielder Oscar Mercado describes what happened when Yankees fans started throwing trash at him on the field &amp; wha…\n",
      "user_name: zopletta_ Time: 2022-04-23 21:54:28+00:00 Tweeted: RT @OleleSalvador: BREAKING: Will Smith &amp; Jada might be getting a divorce after the Oscar slapping episode. The couple were already having…\n",
      "user_name: izabelladora Time: 2022-04-23 21:54:27+00:00 Tweeted: RT @DrBenjaminJones: @Peter_Fitz As Oscar Wilde put it (sort of), to offend one Australian of the Year may be regarded as a misfortune, to…\n",
      "user_name: reflected_oscar Time: 2022-04-23 21:54:26+00:00 Tweeted: RT @Cessa_sama: its a very hot day today, and that mean, WET BIKINI TIME!!! XD https://t.co/fWLAs3pm6r\n",
      "user_name: mz__shade Time: 2022-04-23 21:54:22+00:00 Tweeted: RT @TheChalya: My girl got married!!!! 🥰❤️ @kemiadetiba gorgeousness!!!! “My wife” Oscar said, as he took a mesmerized glance at his new br…\n",
      "user_name: officialmmade Time: 2022-04-23 21:54:20+00:00 Tweeted: RT @TheChalya: My girl got married!!!! 🥰❤️ @kemiadetiba gorgeousness!!!! “My wife” Oscar said, as he took a mesmerized glance at his new br…\n",
      "user_name: namelesskittin Time: 2022-04-23 21:54:17+00:00 Tweeted: God help me, because it's so incredibly difficult not to hate all of you, just the same way that he does.\n",
      "\n",
      "Lady Gag… https://t.co/K40Y7nJkP1\n",
      "user_name: JnoBS86 Time: 2022-04-23 21:54:14+00:00 Tweeted: Sean Penns divorce is final\n",
      "\n",
      "my only question is, who gets the smelted Oscar?\n",
      "\n",
      "bahahahaha\n",
      "user_name: rmendez1 Time: 2022-04-23 21:54:11+00:00 Tweeted: RT @NYDailyNews: Third time wasn’t the charm for Sean Penn.\n",
      "\n",
      "The Oscar winner’s divorce from Leila George, 32 years his junior, was finaliz…\n",
      "user_name: NickAllStarBot Time: 2022-04-23 21:54:10+00:00 Tweeted: I heard that Oscar and Cranky Kong are going to be added! https://t.co/fez4gm3YoV\n",
      "user_name: demeterscaptain Time: 2022-04-23 21:54:08+00:00 Tweeted: @OfficialJuuls oscar was in dune w zendaya who was in spiderman which is a marvel film\n",
      "user_name: NYDailyNews Time: 2022-04-23 21:54:02+00:00 Tweeted: Third time wasn’t the charm for Sean Penn.\n",
      "\n",
      "The Oscar winner’s divorce from Leila George, 32 years his junior, was… https://t.co/gOTzjipyds\n",
      "user_name: velvet_heretic Time: 2022-04-23 21:54:01+00:00 Tweeted: RT @SirStevenGrant: \"ass or boobs\" oscar isaac has both so im good https://t.co/d23MzTOhAP\n",
      "user_name: DBBandits Time: 2022-04-23 21:53:58+00:00 Tweeted: For that price, Oscar Isaac better deliver them in person. https://t.co/QctaHBP9Qv\n"
     ]
    },
    {
     "name": "stderr",
     "output_type": "stream",
     "text": [
      "Unexpected parameter: since\n"
     ]
    },
    {
     "name": "stdout",
     "output_type": "stream",
     "text": [
      "user_name: KyleTaylorLucas Time: 2022-04-23 21:53:57+00:00 Tweeted: RT @CDCgov: Tribal community members, leaders, and partners: Share new videos of Wes Studi, Cherokee elder, Oscar award recipient, and heal…\n",
      "user_name: rowland_oscar Time: 2022-04-23 21:53:49+00:00 Tweeted: @Scrumpydave66 @WhiteNoise1879 Where did you hear it from\n",
      "user_name: noahboucher23 Time: 2022-04-23 21:53:44+00:00 Tweeted: RT @ZackMeisel: Oscar Mercado, on Yankees fans throwing beer cans at players at the end of the game: https://t.co/gNC6yeaDer\n",
      "user_name: JaceStandley Time: 2022-04-23 21:53:37+00:00 Tweeted: RT @BallySportsCLE: Oscar Mercado describes what happened in the outfield at the end of the game and what caused the whole scene. \n",
      "\n",
      "#ForThe…\n",
      "user_name: Fieryreddragon Time: 2022-04-23 21:53:33+00:00 Tweeted: RT @BallySportsCLE: Oscar Mercado describes what happened in the outfield at the end of the game and what caused the whole scene. \n",
      "\n",
      "#ForThe…\n",
      "user_name: anand108 Time: 2022-04-23 21:53:33+00:00 Tweeted: With LA being too noisy for Will Smith right now, I wonder if he might team up w/ a sponsor in Bollywood (maybe SRK… https://t.co/pPl6pQCWgs\n",
      "user_name: thebestestbat Time: 2022-04-23 21:53:32+00:00 Tweeted: @feudallord92 ITS SO GOOD and it has a cat. oscar isaac's straight face is the pinnacle of acting genuinely\n",
      "user_name: racerx6212 Time: 2022-04-23 21:53:25+00:00 Tweeted: RT @InsideTheMagic: Oscar Isaac Opens Up About His Difficult Time Filming MCU Series -- https://t.co/1cu2SNLxFc\n",
      "\n",
      "#MarvelStudios #MoonKnight…\n",
      "user_name: Jsops42709 Time: 2022-04-23 21:53:25+00:00 Tweeted: RT @JLEWFifty: Incredibly proud of Myles Straw, Oscar Mercado and the rest of these #Guardians players for composing themselves in these po…\n",
      "user_name: kranepool Time: 2022-04-23 21:53:24+00:00 Tweeted: RT @BallySportsCLE: Oscar Mercado describes what happened in the outfield at the end of the game and what caused the whole scene. \n",
      "\n",
      "#ForThe…\n",
      "user_name: scantland09 Time: 2022-04-23 21:53:23+00:00 Tweeted: RT @MattSakBBN: UPDATED\n",
      "\n",
      "Returning:\n",
      "Oscar Tshiebwe\n",
      "Sahvir Wheeler\n",
      "Jacob Toppin\n",
      "CJ Fredrick\n",
      "Daimion Collins\n",
      "Lance Ware\n",
      "\n",
      "Testing Waters:\n",
      "Shae…\n",
      "user_name: kristinspurs Time: 2022-04-23 21:53:21+00:00 Tweeted: A third outfit change, fuck me it’s like Oscar hosts.\n",
      "user_name: sillybugs55 Time: 2022-04-23 21:53:21+00:00 Tweeted: RT @RussInCheshire: Hitting adult men = bad\n",
      "Hitting adult women = bad\n",
      "Hitting dogs = bad\n",
      "Hitting Oscar hosts = bad\n",
      "\n",
      "Hitting children = good…\n",
      "user_name: JMazie14 Time: 2022-04-23 21:53:20+00:00 Tweeted: RT @JLEWFifty: Incredibly proud of Myles Straw, Oscar Mercado and the rest of these #Guardians players for composing themselves in these po…\n",
      "user_name: DougHaidet19 Time: 2022-04-23 21:53:15+00:00 Tweeted: RT @JLEWFifty: Incredibly proud of Myles Straw, Oscar Mercado and the rest of these #Guardians players for composing themselves in these po…\n"
     ]
    },
    {
     "name": "stderr",
     "output_type": "stream",
     "text": [
      "Unexpected parameter: since\n"
     ]
    },
    {
     "name": "stdout",
     "output_type": "stream",
     "text": [
      "user_name: ApTheMiddleman Time: 2022-04-23 21:53:13+00:00 Tweeted: RT @FilmUpdates: Oscar Isaac attended a viewing party for the season finale of Rupaul’s Drag Race at a gay bar in Brooklyn. https://t.co/4e…\n",
      "user_name: Mat1740 Time: 2022-04-23 21:53:09+00:00 Tweeted: RT @InsideTheMagic: Oscar Isaac Opens Up About His Difficult Time Filming MCU Series -- https://t.co/1cu2SNLxFc\n",
      "\n",
      "#MarvelStudios #MoonKnight…\n",
      "user_name: tvavs15 Time: 2022-04-23 21:53:09+00:00 Tweeted: RT @DanGraca: Guardians OF, Oscar Mercado said the beer cans being thrown at him were still full. Find those clowns and ban them from the s…\n",
      "user_name: Brodieteke Time: 2022-04-23 21:53:02+00:00 Tweeted: RT @KyleTucker_ATH: RETURNING\n",
      "Sahvir Wheeler\n",
      "CJ Fredrick (injured last year)\n",
      "Jacob Toppin\n",
      "Oscar Tshiebwe \n",
      "Daimion Collins\n",
      "Lance Ware\n",
      "(Keion…\n",
      "user_name: grvr_ Time: 2022-04-23 21:52:57+00:00 Tweeted: RT @FilmUpdates: Oscar Isaac attended a viewing party for the season finale of Rupaul’s Drag Race at a gay bar in Brooklyn. https://t.co/4e…\n",
      "user_name: michaeIispunk Time: 2022-04-23 21:52:56+00:00 Tweeted: Ive had Oscar Isaacs hippopotamus song in my head all day and it’s driving me insane\n",
      "user_name: ElderRhode Time: 2022-04-23 21:52:47+00:00 Tweeted: @rpgmakerai I thought this was Oscar the Grouch but broken...Still not sure what to make of this one lmao\n",
      "that's good\n",
      "user_name: lokinfinite Time: 2022-04-23 21:52:42+00:00 Tweeted: RT @SirStevenGrant: \"ass or boobs\" oscar isaac has both so im good https://t.co/d23MzTOhAP\n",
      "user_name: CKozimer Time: 2022-04-23 21:52:32+00:00 Tweeted: RT @TDGuardiansKU: I will back Miles Straw and Oscar Mercado to the end for this today. They weren’t having it. Mad respect to both. #ForTh…\n",
      "user_name: yuzzi Time: 2022-04-23 21:52:31+00:00 Tweeted: RT @FilmUpdates: Oscar Isaac attended a viewing party for the season finale of Rupaul’s Drag Race at a gay bar in Brooklyn. https://t.co/4e…\n",
      "user_name: NelsonC86329041 Time: 2022-04-23 21:52:25+00:00 Tweeted: RT @gabrielelas_: Show me four of your personal Best Actress winners that weren't Oscar nominated: Kidman Edition. https://t.co/63I9Bv4UWB\n",
      "user_name: jekrueger11 Time: 2022-04-23 21:52:16+00:00 Tweeted: RT @MLBONFOX: Guardians outfielder Oscar Mercado describes what happened when Yankees fans started throwing trash at him on the field &amp; wha…\n",
      "user_name: CollectorSelect Time: 2022-04-23 21:52:15+00:00 Tweeted: RT @CollectorSelect: Scooby Doo Plush Oscar Mayer Lunchables Cartoon Network Bean Bag 7\" Vintage 1998\n",
      "FOR SALE ON EBAY FOR $12.87 + $4.99 S…\n",
      "user_name: Gundolorian Time: 2022-04-23 21:52:15+00:00 Tweeted: @Patrickchito @MCFCDaps We have at least 4 that can be sold - Oscar bob, mbete lavia Delap Esbrand\n",
      "user_name: WFNYCLE Time: 2022-04-23 21:52:13+00:00 Tweeted: RT @ZackMeisel: Oscar Mercado said a semi-full beer can nearly struck him in the face, but he snagged it in time. Myles Straw said Trevor S…\n"
     ]
    },
    {
     "name": "stderr",
     "output_type": "stream",
     "text": [
      "Unexpected parameter: since\n"
     ]
    },
    {
     "name": "stdout",
     "output_type": "stream",
     "text": [
      "user_name: Seb24837619 Time: 2022-04-23 21:52:11+00:00 Tweeted: RT @art__electra: Gm 📸🚀\n",
      "\"The strength of women comes from the fact that psychology cannot explain us. Men can be analyzed, women ... merely…\n",
      "user_name: feudallord92 Time: 2022-04-23 21:52:10+00:00 Tweeted: @thebestestbat Btw this is not cringe can you imagine being a person who thinks inside Llewyn davis is cringe! This… https://t.co/dEW8mS4rBz\n",
      "user_name: KathyGoss2 Time: 2022-04-23 21:52:09+00:00 Tweeted: RT @fuzzyfromyt: Some good perspective from Oscar Mercado. https://t.co/UvR3XmnHWT\n",
      "user_name: TyshonHouston5 Time: 2022-04-23 21:52:05+00:00 Tweeted: RT @TheFlareScreen: oh aight if we just cherry picking stats then only rookies to average 12/7/6:\n",
      "\n",
      "Ben Simmons\n",
      "Magic Johnson\n",
      "Oscar Robertso…\n",
      "user_name: IamAliking Time: 2022-04-23 21:52:04+00:00 Tweeted: And finally Oscar wins Leonardo DiCaprio https://t.co/YFoN0XYwlf\n",
      "user_name: kossiemichelle Time: 2022-04-23 21:52:03+00:00 Tweeted: RT @TheChalya: My girl got married!!!! 🥰❤️ @kemiadetiba gorgeousness!!!! “My wife” Oscar said, as he took a mesmerized glance at his new br…\n",
      "user_name: Finding_Web Time: 2022-04-23 21:52:03+00:00 Tweeted: @ESPNFC People deserve the fricking Oscar for pretending psg won the league cos of messi\n",
      "user_name: Shauneillesmith Time: 2022-04-23 21:52:03+00:00 Tweeted: RT @EzuieQuotes: \"Be yourself; everyone else is taken.\" - Oscar Wilde\n",
      "user_name: onabanjo_G Time: 2022-04-23 21:51:55+00:00 Tweeted: RT @TheChalya: My girl got married!!!! 🥰❤️ @kemiadetiba gorgeousness!!!! “My wife” Oscar said, as he took a mesmerized glance at his new br…\n",
      "user_name: stefanswife1864 Time: 2022-04-23 21:51:53+00:00 Tweeted: Still kinda of disappointed that dylan o'brien hasn’t  won an Oscar yet omg him and void stiles omg he needs one\n",
      "user_name: BoxingTweets3 Time: 2022-04-23 21:51:52+00:00 Tweeted: RT @AJdirectandlive: Anthony Joshua 🤝 Oscar Rivas 🤝 Alexander Povetkin 🤝 Tyson Fury\n",
      "\n",
      "I don’t even need to follow it up, do I? And neither d…\n",
      "user_name: GoldenSportsEnt Time: 2022-04-23 21:51:48+00:00 Tweeted: Myles Straw &amp; Oscar Mercado interviewed after Yankees fans throw objects on the field + Highlights… https://t.co/JqH9P3FnKZ\n",
      "user_name: WFNYCLE Time: 2022-04-23 21:51:48+00:00 Tweeted: RT @TDGuardiansKU: I will back Miles Straw and Oscar Mercado to the end for this today. They weren’t having it. Mad respect to both. #ForTh…\n",
      "user_name: pearl__Heart Time: 2022-04-23 21:51:47+00:00 Tweeted: RT @TheChalya: My girl got married!!!! 🥰❤️ @kemiadetiba gorgeousness!!!! “My wife” Oscar said, as he took a mesmerized glance at his new br…\n",
      "user_name: givenchique_ Time: 2022-04-23 21:51:45+00:00 Tweeted: RT @LanaGallery: she should’ve been handed her grammy and oscar IMMEDIATELY\n"
     ]
    },
    {
     "name": "stderr",
     "output_type": "stream",
     "text": [
      "Unexpected parameter: since\n"
     ]
    },
    {
     "name": "stdout",
     "output_type": "stream",
     "text": [
      "user_name: AllHailOvechkin Time: 2022-04-23 21:51:42+00:00 Tweeted: RT @MLBONFOX: Guardians outfielder Oscar Mercado describes what happened when Yankees fans started throwing trash at him on the field &amp; wha…\n",
      "user_name: Oscar_OsorioIII Time: 2022-04-23 21:51:39+00:00 Tweeted: RT @ybtoren: no comic book show or movie will ever be able to touch daredevil. https://t.co/g4YYqFOYZh\n",
      "user_name: kiko_tacooo Time: 2022-04-23 21:51:38+00:00 Tweeted: @CassanovaHefner @flakesofthesoul Oscar’s slap wasn’t even allat they just famous\n",
      "user_name: CremersCindy Time: 2022-04-23 21:51:34+00:00 Tweeted: RT @IndyPerro: “Everything in the world is about sex except sex. Sex is about power.” \n",
      "― Oscar Wilde\n",
      "#power https://t.co/oLlSsRrbxy\n",
      "user_name: danisfluid Time: 2022-04-23 21:51:33+00:00 Tweeted: Had a dream where I became best friends with Nic Cage and Oscar Isaac....take me back to sleep...please...\n",
      "user_name: thfcmm Time: 2022-04-23 21:51:32+00:00 Tweeted: RT @ESPNStatsInfo: Through 6 pts Friday, Trae Young has 500 career postseason pts becoming the fastest &amp; youngest in Hawks postseason histo…\n",
      "user_name: GoonSquad1988 Time: 2022-04-23 21:51:31+00:00 Tweeted: RT @MLBONFOX: Guardians outfielder Oscar Mercado describes what happened when Yankees fans started throwing trash at him on the field &amp; wha…\n",
      "user_name: EmemXavierAtat Time: 2022-04-23 21:51:29+00:00 Tweeted: RT @OleleSalvador: BREAKING: Will Smith &amp; Jada might be getting a divorce after the Oscar slapping episode. The couple were already having…\n",
      "user_name: RyanGruber7 Time: 2022-04-23 21:51:29+00:00 Tweeted: RT @fuzzyfromyt: Some good perspective from Oscar Mercado. https://t.co/UvR3XmnHWT\n",
      "user_name: malick9090 Time: 2022-04-23 21:51:28+00:00 Tweeted: RT @WatchinMadness: Interesting headline….does this mean we can tell Radcliffe to shut-up as well?!   Isn’t he doing the very thing he’s co…\n",
      "user_name: xwingxing Time: 2022-04-23 21:51:27+00:00 Tweeted: @StarWarsTake This scene should have won an Oscar for sound editing. Everything sounds so perfect, crisp, deep, the… https://t.co/UfXyJd6RfH\n",
      "user_name: sweaksha_ Time: 2022-04-23 21:51:27+00:00 Tweeted: RT @in_the_cosmos00: Oscar Isaac at the premiere of Marvel Studios’ Moon Knight (March 22, 2022) https://t.co/tOhrr0sW8x\n",
      "user_name: megachombker Time: 2022-04-23 21:51:18+00:00 Tweeted: besides my rants, I still very much enjoy mk!! Its been a while since I have something to look forward to every wee… https://t.co/iQ7uddA6qc\n",
      "user_name: JurassicJames1 Time: 2022-04-23 21:51:05+00:00 Tweeted: Just watched the first two episodes of MoonKnight. I'm assuming Oscar Isaac was chosen because he didn't have a clu… https://t.co/BMA4KICtCJ\n",
      "user_name: socioscarist Time: 2022-04-23 21:51:04+00:00 Tweeted: i just started fasting but that oscar full frontal scene came to my mind when i closed my eyes help 😭\n",
      "user_name: darasimi_1 Time: 2022-04-23 21:51:03+00:00 Tweeted: @Oscar_Mosh Yo let’s play.\n",
      "user_name: msjudyholiday Time: 2022-04-23 21:50:50+00:00 Tweeted: Mother Nature should win an Oscar for wardrobe  design. Incredible camouflage worn by this screech owl. I probably… https://t.co/pQtchwooYA\n",
      "user_name: deepvard Time: 2022-04-23 21:50:48+00:00 Tweeted: RT @BallySportsCLE: Oscar Mercado describes what happened in the outfield at the end of the game and what caused the whole scene. \n",
      "\n",
      "#ForThe…\n",
      "user_name: anjan_ramesh Time: 2022-04-23 21:50:46+00:00 Tweeted: RT @fuzzyfromyt: Some good perspective from Oscar Mercado. https://t.co/UvR3XmnHWT\n",
      "user_name: FirehorseP Time: 2022-04-23 21:50:40+00:00 Tweeted: @edmundmlawrence Me too especially Moon Knight aka Oscar Isaac😉\n"
     ]
    }
   ],
   "source": [
    "import csv\n",
    "import tweepy\n",
    "import re\n",
    "import io\n",
    " # Initializing Tweepy API\n",
    "api = tweepy.API(auth, wait_on_rate_limit=True)\n",
    "\n",
    "# Open/create a file to append data to\n",
    "csvFile = open(\"result.csv\",'a')\n",
    "\n",
    "#Use csv writer\n",
    "csvWriter = csv.writer(csvFile)\n",
    "csvWriter.writerow(['username','time', 'tweet_text'])\n",
    "\n",
    "for tweet in tweepy.Cursor(api.search_tweets,\n",
    "                           q = \"Oscar\",\n",
    "                           since = \"2022-03-24\",\n",
    "                           until = \"2022-04-24\",\n",
    "                           lang = \"en\").items(2000):\n",
    "        # Write a row to the CSV file. I use encode UTF-8\n",
    "        csvWriter.writerow([tweet.user.screen_name,tweet.created_at, tweet.text.encode('utf-8')])\n",
    "        print (\"user_name:\",tweet.user.screen_name,\n",
    "          \"Time:\",tweet.created_at,\"Tweeted:\",tweet.text)\n",
    "csvFile.close()"
   ]
  }
 ],
 "metadata": {
  "kernelspec": {
   "display_name": "Python 3",
   "language": "python",
   "name": "python3"
  },
  "language_info": {
   "codemirror_mode": {
    "name": "ipython",
    "version": 3
   },
   "file_extension": ".py",
   "mimetype": "text/x-python",
   "name": "python",
   "nbconvert_exporter": "python",
   "pygments_lexer": "ipython3",
   "version": "3.8.8"
  }
 },
 "nbformat": 4,
 "nbformat_minor": 5
}
